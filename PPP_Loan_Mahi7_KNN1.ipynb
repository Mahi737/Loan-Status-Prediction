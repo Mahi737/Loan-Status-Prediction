{
 "cells": [
  {
   "cell_type": "markdown",
   "id": "0314c33a",
   "metadata": {},
   "source": [
    "# D22027_Loan Status Prediction"
   ]
  },
  {
   "cell_type": "markdown",
   "id": "cebe8010",
   "metadata": {},
   "source": [
    "Submitted by\n",
    "\n",
    "**D22002-Agasthyakrishna Viswanathan Panicker**\n",
    "\n",
    "**D22027-N.Maheshkumar**"
   ]
  },
  {
   "cell_type": "markdown",
   "id": "480b5764",
   "metadata": {},
   "source": [
    "**Problem Statement:** This is a classification problem in which we need to classify whether the loan will be approved or not.This is a Binary Classification problem in which we need to predict our Target label which is “Loan Status”."
   ]
  },
  {
   "cell_type": "markdown",
   "id": "df83f620",
   "metadata": {},
   "source": [
    "# PPP - Loan Data"
   ]
  },
  {
   "cell_type": "code",
   "execution_count": 1,
   "id": "f535ebfc",
   "metadata": {},
   "outputs": [],
   "source": [
    "# Import Required Libraries \n",
    "import pandas as pd\n",
    "import numpy as np\n",
    "import seaborn as sns\n",
    "import matplotlib.pyplot as plt\n",
    "\n",
    "import warnings\n",
    "warnings.filterwarnings(\"ignore\") "
   ]
  },
  {
   "cell_type": "code",
   "execution_count": 2,
   "id": "ba08a435",
   "metadata": {},
   "outputs": [
    {
     "ename": "FileNotFoundError",
     "evalue": "[Errno 2] No such file or directory: 'Loans_Training_Set.csv'",
     "output_type": "error",
     "traceback": [
      "\u001b[1;31m---------------------------------------------------------------------------\u001b[0m",
      "\u001b[1;31mFileNotFoundError\u001b[0m                         Traceback (most recent call last)",
      "Input \u001b[1;32mIn [2]\u001b[0m, in \u001b[0;36m<cell line: 1>\u001b[1;34m()\u001b[0m\n\u001b[1;32m----> 1\u001b[0m df \u001b[38;5;241m=\u001b[39m \u001b[43mpd\u001b[49m\u001b[38;5;241;43m.\u001b[39;49m\u001b[43mread_csv\u001b[49m\u001b[43m(\u001b[49m\u001b[38;5;124;43m\"\u001b[39;49m\u001b[38;5;124;43mLoans_Training_Set.csv\u001b[39;49m\u001b[38;5;124;43m\"\u001b[39;49m\u001b[43m)\u001b[49m\n",
      "File \u001b[1;32m~\\anaconda3\\lib\\site-packages\\pandas\\util\\_decorators.py:311\u001b[0m, in \u001b[0;36mdeprecate_nonkeyword_arguments.<locals>.decorate.<locals>.wrapper\u001b[1;34m(*args, **kwargs)\u001b[0m\n\u001b[0;32m    305\u001b[0m \u001b[38;5;28;01mif\u001b[39;00m \u001b[38;5;28mlen\u001b[39m(args) \u001b[38;5;241m>\u001b[39m num_allow_args:\n\u001b[0;32m    306\u001b[0m     warnings\u001b[38;5;241m.\u001b[39mwarn(\n\u001b[0;32m    307\u001b[0m         msg\u001b[38;5;241m.\u001b[39mformat(arguments\u001b[38;5;241m=\u001b[39marguments),\n\u001b[0;32m    308\u001b[0m         \u001b[38;5;167;01mFutureWarning\u001b[39;00m,\n\u001b[0;32m    309\u001b[0m         stacklevel\u001b[38;5;241m=\u001b[39mstacklevel,\n\u001b[0;32m    310\u001b[0m     )\n\u001b[1;32m--> 311\u001b[0m \u001b[38;5;28;01mreturn\u001b[39;00m func(\u001b[38;5;241m*\u001b[39margs, \u001b[38;5;241m*\u001b[39m\u001b[38;5;241m*\u001b[39mkwargs)\n",
      "File \u001b[1;32m~\\anaconda3\\lib\\site-packages\\pandas\\io\\parsers\\readers.py:680\u001b[0m, in \u001b[0;36mread_csv\u001b[1;34m(filepath_or_buffer, sep, delimiter, header, names, index_col, usecols, squeeze, prefix, mangle_dupe_cols, dtype, engine, converters, true_values, false_values, skipinitialspace, skiprows, skipfooter, nrows, na_values, keep_default_na, na_filter, verbose, skip_blank_lines, parse_dates, infer_datetime_format, keep_date_col, date_parser, dayfirst, cache_dates, iterator, chunksize, compression, thousands, decimal, lineterminator, quotechar, quoting, doublequote, escapechar, comment, encoding, encoding_errors, dialect, error_bad_lines, warn_bad_lines, on_bad_lines, delim_whitespace, low_memory, memory_map, float_precision, storage_options)\u001b[0m\n\u001b[0;32m    665\u001b[0m kwds_defaults \u001b[38;5;241m=\u001b[39m _refine_defaults_read(\n\u001b[0;32m    666\u001b[0m     dialect,\n\u001b[0;32m    667\u001b[0m     delimiter,\n\u001b[1;32m   (...)\u001b[0m\n\u001b[0;32m    676\u001b[0m     defaults\u001b[38;5;241m=\u001b[39m{\u001b[38;5;124m\"\u001b[39m\u001b[38;5;124mdelimiter\u001b[39m\u001b[38;5;124m\"\u001b[39m: \u001b[38;5;124m\"\u001b[39m\u001b[38;5;124m,\u001b[39m\u001b[38;5;124m\"\u001b[39m},\n\u001b[0;32m    677\u001b[0m )\n\u001b[0;32m    678\u001b[0m kwds\u001b[38;5;241m.\u001b[39mupdate(kwds_defaults)\n\u001b[1;32m--> 680\u001b[0m \u001b[38;5;28;01mreturn\u001b[39;00m \u001b[43m_read\u001b[49m\u001b[43m(\u001b[49m\u001b[43mfilepath_or_buffer\u001b[49m\u001b[43m,\u001b[49m\u001b[43m \u001b[49m\u001b[43mkwds\u001b[49m\u001b[43m)\u001b[49m\n",
      "File \u001b[1;32m~\\anaconda3\\lib\\site-packages\\pandas\\io\\parsers\\readers.py:575\u001b[0m, in \u001b[0;36m_read\u001b[1;34m(filepath_or_buffer, kwds)\u001b[0m\n\u001b[0;32m    572\u001b[0m _validate_names(kwds\u001b[38;5;241m.\u001b[39mget(\u001b[38;5;124m\"\u001b[39m\u001b[38;5;124mnames\u001b[39m\u001b[38;5;124m\"\u001b[39m, \u001b[38;5;28;01mNone\u001b[39;00m))\n\u001b[0;32m    574\u001b[0m \u001b[38;5;66;03m# Create the parser.\u001b[39;00m\n\u001b[1;32m--> 575\u001b[0m parser \u001b[38;5;241m=\u001b[39m TextFileReader(filepath_or_buffer, \u001b[38;5;241m*\u001b[39m\u001b[38;5;241m*\u001b[39mkwds)\n\u001b[0;32m    577\u001b[0m \u001b[38;5;28;01mif\u001b[39;00m chunksize \u001b[38;5;129;01mor\u001b[39;00m iterator:\n\u001b[0;32m    578\u001b[0m     \u001b[38;5;28;01mreturn\u001b[39;00m parser\n",
      "File \u001b[1;32m~\\anaconda3\\lib\\site-packages\\pandas\\io\\parsers\\readers.py:933\u001b[0m, in \u001b[0;36mTextFileReader.__init__\u001b[1;34m(self, f, engine, **kwds)\u001b[0m\n\u001b[0;32m    930\u001b[0m     \u001b[38;5;28mself\u001b[39m\u001b[38;5;241m.\u001b[39moptions[\u001b[38;5;124m\"\u001b[39m\u001b[38;5;124mhas_index_names\u001b[39m\u001b[38;5;124m\"\u001b[39m] \u001b[38;5;241m=\u001b[39m kwds[\u001b[38;5;124m\"\u001b[39m\u001b[38;5;124mhas_index_names\u001b[39m\u001b[38;5;124m\"\u001b[39m]\n\u001b[0;32m    932\u001b[0m \u001b[38;5;28mself\u001b[39m\u001b[38;5;241m.\u001b[39mhandles: IOHandles \u001b[38;5;241m|\u001b[39m \u001b[38;5;28;01mNone\u001b[39;00m \u001b[38;5;241m=\u001b[39m \u001b[38;5;28;01mNone\u001b[39;00m\n\u001b[1;32m--> 933\u001b[0m \u001b[38;5;28mself\u001b[39m\u001b[38;5;241m.\u001b[39m_engine \u001b[38;5;241m=\u001b[39m \u001b[38;5;28;43mself\u001b[39;49m\u001b[38;5;241;43m.\u001b[39;49m\u001b[43m_make_engine\u001b[49m\u001b[43m(\u001b[49m\u001b[43mf\u001b[49m\u001b[43m,\u001b[49m\u001b[43m \u001b[49m\u001b[38;5;28;43mself\u001b[39;49m\u001b[38;5;241;43m.\u001b[39;49m\u001b[43mengine\u001b[49m\u001b[43m)\u001b[49m\n",
      "File \u001b[1;32m~\\anaconda3\\lib\\site-packages\\pandas\\io\\parsers\\readers.py:1217\u001b[0m, in \u001b[0;36mTextFileReader._make_engine\u001b[1;34m(self, f, engine)\u001b[0m\n\u001b[0;32m   1213\u001b[0m     mode \u001b[38;5;241m=\u001b[39m \u001b[38;5;124m\"\u001b[39m\u001b[38;5;124mrb\u001b[39m\u001b[38;5;124m\"\u001b[39m\n\u001b[0;32m   1214\u001b[0m \u001b[38;5;66;03m# error: No overload variant of \"get_handle\" matches argument types\u001b[39;00m\n\u001b[0;32m   1215\u001b[0m \u001b[38;5;66;03m# \"Union[str, PathLike[str], ReadCsvBuffer[bytes], ReadCsvBuffer[str]]\"\u001b[39;00m\n\u001b[0;32m   1216\u001b[0m \u001b[38;5;66;03m# , \"str\", \"bool\", \"Any\", \"Any\", \"Any\", \"Any\", \"Any\"\u001b[39;00m\n\u001b[1;32m-> 1217\u001b[0m \u001b[38;5;28mself\u001b[39m\u001b[38;5;241m.\u001b[39mhandles \u001b[38;5;241m=\u001b[39m \u001b[43mget_handle\u001b[49m\u001b[43m(\u001b[49m\u001b[43m  \u001b[49m\u001b[38;5;66;43;03m# type: ignore[call-overload]\u001b[39;49;00m\n\u001b[0;32m   1218\u001b[0m \u001b[43m    \u001b[49m\u001b[43mf\u001b[49m\u001b[43m,\u001b[49m\n\u001b[0;32m   1219\u001b[0m \u001b[43m    \u001b[49m\u001b[43mmode\u001b[49m\u001b[43m,\u001b[49m\n\u001b[0;32m   1220\u001b[0m \u001b[43m    \u001b[49m\u001b[43mencoding\u001b[49m\u001b[38;5;241;43m=\u001b[39;49m\u001b[38;5;28;43mself\u001b[39;49m\u001b[38;5;241;43m.\u001b[39;49m\u001b[43moptions\u001b[49m\u001b[38;5;241;43m.\u001b[39;49m\u001b[43mget\u001b[49m\u001b[43m(\u001b[49m\u001b[38;5;124;43m\"\u001b[39;49m\u001b[38;5;124;43mencoding\u001b[39;49m\u001b[38;5;124;43m\"\u001b[39;49m\u001b[43m,\u001b[49m\u001b[43m \u001b[49m\u001b[38;5;28;43;01mNone\u001b[39;49;00m\u001b[43m)\u001b[49m\u001b[43m,\u001b[49m\n\u001b[0;32m   1221\u001b[0m \u001b[43m    \u001b[49m\u001b[43mcompression\u001b[49m\u001b[38;5;241;43m=\u001b[39;49m\u001b[38;5;28;43mself\u001b[39;49m\u001b[38;5;241;43m.\u001b[39;49m\u001b[43moptions\u001b[49m\u001b[38;5;241;43m.\u001b[39;49m\u001b[43mget\u001b[49m\u001b[43m(\u001b[49m\u001b[38;5;124;43m\"\u001b[39;49m\u001b[38;5;124;43mcompression\u001b[39;49m\u001b[38;5;124;43m\"\u001b[39;49m\u001b[43m,\u001b[49m\u001b[43m \u001b[49m\u001b[38;5;28;43;01mNone\u001b[39;49;00m\u001b[43m)\u001b[49m\u001b[43m,\u001b[49m\n\u001b[0;32m   1222\u001b[0m \u001b[43m    \u001b[49m\u001b[43mmemory_map\u001b[49m\u001b[38;5;241;43m=\u001b[39;49m\u001b[38;5;28;43mself\u001b[39;49m\u001b[38;5;241;43m.\u001b[39;49m\u001b[43moptions\u001b[49m\u001b[38;5;241;43m.\u001b[39;49m\u001b[43mget\u001b[49m\u001b[43m(\u001b[49m\u001b[38;5;124;43m\"\u001b[39;49m\u001b[38;5;124;43mmemory_map\u001b[39;49m\u001b[38;5;124;43m\"\u001b[39;49m\u001b[43m,\u001b[49m\u001b[43m \u001b[49m\u001b[38;5;28;43;01mFalse\u001b[39;49;00m\u001b[43m)\u001b[49m\u001b[43m,\u001b[49m\n\u001b[0;32m   1223\u001b[0m \u001b[43m    \u001b[49m\u001b[43mis_text\u001b[49m\u001b[38;5;241;43m=\u001b[39;49m\u001b[43mis_text\u001b[49m\u001b[43m,\u001b[49m\n\u001b[0;32m   1224\u001b[0m \u001b[43m    \u001b[49m\u001b[43merrors\u001b[49m\u001b[38;5;241;43m=\u001b[39;49m\u001b[38;5;28;43mself\u001b[39;49m\u001b[38;5;241;43m.\u001b[39;49m\u001b[43moptions\u001b[49m\u001b[38;5;241;43m.\u001b[39;49m\u001b[43mget\u001b[49m\u001b[43m(\u001b[49m\u001b[38;5;124;43m\"\u001b[39;49m\u001b[38;5;124;43mencoding_errors\u001b[39;49m\u001b[38;5;124;43m\"\u001b[39;49m\u001b[43m,\u001b[49m\u001b[43m \u001b[49m\u001b[38;5;124;43m\"\u001b[39;49m\u001b[38;5;124;43mstrict\u001b[39;49m\u001b[38;5;124;43m\"\u001b[39;49m\u001b[43m)\u001b[49m\u001b[43m,\u001b[49m\n\u001b[0;32m   1225\u001b[0m \u001b[43m    \u001b[49m\u001b[43mstorage_options\u001b[49m\u001b[38;5;241;43m=\u001b[39;49m\u001b[38;5;28;43mself\u001b[39;49m\u001b[38;5;241;43m.\u001b[39;49m\u001b[43moptions\u001b[49m\u001b[38;5;241;43m.\u001b[39;49m\u001b[43mget\u001b[49m\u001b[43m(\u001b[49m\u001b[38;5;124;43m\"\u001b[39;49m\u001b[38;5;124;43mstorage_options\u001b[39;49m\u001b[38;5;124;43m\"\u001b[39;49m\u001b[43m,\u001b[49m\u001b[43m \u001b[49m\u001b[38;5;28;43;01mNone\u001b[39;49;00m\u001b[43m)\u001b[49m\u001b[43m,\u001b[49m\n\u001b[0;32m   1226\u001b[0m \u001b[43m\u001b[49m\u001b[43m)\u001b[49m\n\u001b[0;32m   1227\u001b[0m \u001b[38;5;28;01massert\u001b[39;00m \u001b[38;5;28mself\u001b[39m\u001b[38;5;241m.\u001b[39mhandles \u001b[38;5;129;01mis\u001b[39;00m \u001b[38;5;129;01mnot\u001b[39;00m \u001b[38;5;28;01mNone\u001b[39;00m\n\u001b[0;32m   1228\u001b[0m f \u001b[38;5;241m=\u001b[39m \u001b[38;5;28mself\u001b[39m\u001b[38;5;241m.\u001b[39mhandles\u001b[38;5;241m.\u001b[39mhandle\n",
      "File \u001b[1;32m~\\anaconda3\\lib\\site-packages\\pandas\\io\\common.py:789\u001b[0m, in \u001b[0;36mget_handle\u001b[1;34m(path_or_buf, mode, encoding, compression, memory_map, is_text, errors, storage_options)\u001b[0m\n\u001b[0;32m    784\u001b[0m \u001b[38;5;28;01melif\u001b[39;00m \u001b[38;5;28misinstance\u001b[39m(handle, \u001b[38;5;28mstr\u001b[39m):\n\u001b[0;32m    785\u001b[0m     \u001b[38;5;66;03m# Check whether the filename is to be opened in binary mode.\u001b[39;00m\n\u001b[0;32m    786\u001b[0m     \u001b[38;5;66;03m# Binary mode does not support 'encoding' and 'newline'.\u001b[39;00m\n\u001b[0;32m    787\u001b[0m     \u001b[38;5;28;01mif\u001b[39;00m ioargs\u001b[38;5;241m.\u001b[39mencoding \u001b[38;5;129;01mand\u001b[39;00m \u001b[38;5;124m\"\u001b[39m\u001b[38;5;124mb\u001b[39m\u001b[38;5;124m\"\u001b[39m \u001b[38;5;129;01mnot\u001b[39;00m \u001b[38;5;129;01min\u001b[39;00m ioargs\u001b[38;5;241m.\u001b[39mmode:\n\u001b[0;32m    788\u001b[0m         \u001b[38;5;66;03m# Encoding\u001b[39;00m\n\u001b[1;32m--> 789\u001b[0m         handle \u001b[38;5;241m=\u001b[39m \u001b[38;5;28;43mopen\u001b[39;49m\u001b[43m(\u001b[49m\n\u001b[0;32m    790\u001b[0m \u001b[43m            \u001b[49m\u001b[43mhandle\u001b[49m\u001b[43m,\u001b[49m\n\u001b[0;32m    791\u001b[0m \u001b[43m            \u001b[49m\u001b[43mioargs\u001b[49m\u001b[38;5;241;43m.\u001b[39;49m\u001b[43mmode\u001b[49m\u001b[43m,\u001b[49m\n\u001b[0;32m    792\u001b[0m \u001b[43m            \u001b[49m\u001b[43mencoding\u001b[49m\u001b[38;5;241;43m=\u001b[39;49m\u001b[43mioargs\u001b[49m\u001b[38;5;241;43m.\u001b[39;49m\u001b[43mencoding\u001b[49m\u001b[43m,\u001b[49m\n\u001b[0;32m    793\u001b[0m \u001b[43m            \u001b[49m\u001b[43merrors\u001b[49m\u001b[38;5;241;43m=\u001b[39;49m\u001b[43merrors\u001b[49m\u001b[43m,\u001b[49m\n\u001b[0;32m    794\u001b[0m \u001b[43m            \u001b[49m\u001b[43mnewline\u001b[49m\u001b[38;5;241;43m=\u001b[39;49m\u001b[38;5;124;43m\"\u001b[39;49m\u001b[38;5;124;43m\"\u001b[39;49m\u001b[43m,\u001b[49m\n\u001b[0;32m    795\u001b[0m \u001b[43m        \u001b[49m\u001b[43m)\u001b[49m\n\u001b[0;32m    796\u001b[0m     \u001b[38;5;28;01melse\u001b[39;00m:\n\u001b[0;32m    797\u001b[0m         \u001b[38;5;66;03m# Binary mode\u001b[39;00m\n\u001b[0;32m    798\u001b[0m         handle \u001b[38;5;241m=\u001b[39m \u001b[38;5;28mopen\u001b[39m(handle, ioargs\u001b[38;5;241m.\u001b[39mmode)\n",
      "\u001b[1;31mFileNotFoundError\u001b[0m: [Errno 2] No such file or directory: 'Loans_Training_Set.csv'"
     ]
    }
   ],
   "source": [
    "df = pd.read_csv(\"Loans_Training_Set.csv\")"
   ]
  },
  {
   "cell_type": "code",
   "execution_count": null,
   "id": "50d46179",
   "metadata": {},
   "outputs": [],
   "source": [
    "data = df.copy()"
   ]
  },
  {
   "cell_type": "code",
   "execution_count": null,
   "id": "f2645560",
   "metadata": {},
   "outputs": [],
   "source": [
    "#no of rows and columns\n",
    "data.shape"
   ]
  },
  {
   "cell_type": "code",
   "execution_count": null,
   "id": "fcd4f4b2",
   "metadata": {},
   "outputs": [],
   "source": [
    "#Checking the datatypes\n",
    "data.dtypes"
   ]
  },
  {
   "cell_type": "code",
   "execution_count": null,
   "id": "7f7d3420",
   "metadata": {},
   "outputs": [],
   "source": [
    "#Check For duplicates\n",
    "data[data.duplicated('Customer ID')]"
   ]
  },
  {
   "cell_type": "code",
   "execution_count": null,
   "id": "1c34dee1",
   "metadata": {},
   "outputs": [],
   "source": [
    "# dropping ALL duplicate values\n",
    "data.drop_duplicates(subset=\"Customer ID\",inplace=True)"
   ]
  },
  {
   "cell_type": "code",
   "execution_count": null,
   "id": "99006f68",
   "metadata": {},
   "outputs": [],
   "source": [
    "len(data)"
   ]
  },
  {
   "cell_type": "code",
   "execution_count": null,
   "id": "4de0b8d2",
   "metadata": {},
   "outputs": [],
   "source": [
    "# count duplicate values in courses column\n",
    "df2 = len(data['Loan ID'])-len(data['Loan ID'].drop_duplicates())\n",
    "print(df2)"
   ]
  },
  {
   "cell_type": "code",
   "execution_count": null,
   "id": "7b468f79",
   "metadata": {},
   "outputs": [],
   "source": [
    "# Checking No of Null values in each feature\n",
    "data.isnull().sum()"
   ]
  },
  {
   "cell_type": "code",
   "execution_count": null,
   "id": "861a74f3",
   "metadata": {},
   "outputs": [],
   "source": [
    "#Dropping the unnecessary Columns\n",
    "data=data.drop([\"Loan ID\",\"Customer ID\"],axis=1)"
   ]
  },
  {
   "cell_type": "code",
   "execution_count": null,
   "id": "fcef0007",
   "metadata": {},
   "outputs": [],
   "source": [
    "data"
   ]
  },
  {
   "cell_type": "code",
   "execution_count": null,
   "id": "298ed2b2",
   "metadata": {},
   "outputs": [],
   "source": [
    "data.describe()"
   ]
  },
  {
   "cell_type": "code",
   "execution_count": null,
   "id": "2389a0ba",
   "metadata": {},
   "outputs": [],
   "source": [
    "# Getting the proportion of null values in each column\n",
    "(data.isnull().sum()*100)/len(data)"
   ]
  },
  {
   "cell_type": "code",
   "execution_count": null,
   "id": "3541df78",
   "metadata": {},
   "outputs": [],
   "source": [
    "def missing_values_table(df):\n",
    "        # Total missing values\n",
    "        mis_val = df.isnull().sum()\n",
    "        \n",
    "        # Percentage of missing values\n",
    "        mis_val_percent = 100 * df.isnull().sum() / len(df)\n",
    "        \n",
    "        # Make a table with the results\n",
    "        mis_val_table = pd.concat([mis_val, mis_val_percent], axis=1)\n",
    "        \n",
    "        # Rename the columns\n",
    "        mis_val_table_ren_columns = mis_val_table.rename(\n",
    "        columns = {0 : 'Missing Values', 1 : '% of Total Values'})\n",
    "        \n",
    "        # Sort the table by percentage of missing descending\n",
    "        mis_val_table_ren_columns = mis_val_table_ren_columns[\n",
    "            mis_val_table_ren_columns.iloc[:,1] != 0].sort_values(\n",
    "        '% of Total Values', ascending=False).round(1)\n",
    "        \n",
    "        # Print some summary information\n",
    "        print (\"Your selected dataframe has \" + str(df.shape[1]) + \" columns.\\n\"      \n",
    "            \"There are \" + str(mis_val_table_ren_columns.shape[0]) +\n",
    "              \" columns that have missing values.\")\n",
    "        \n",
    "        # Return the dataframe with missing information\n",
    "        return mis_val_table_ren_columns"
   ]
  },
  {
   "cell_type": "code",
   "execution_count": null,
   "id": "fbf75754",
   "metadata": {},
   "outputs": [],
   "source": [
    "#Finding Missing Value Percentage\n",
    "missing_values_table(data)"
   ]
  },
  {
   "cell_type": "code",
   "execution_count": null,
   "id": "bf125692",
   "metadata": {},
   "outputs": [],
   "source": [
    "data.shape #Shape of the data"
   ]
  },
  {
   "cell_type": "markdown",
   "id": "f3a87689",
   "metadata": {},
   "source": [
    "# Data Cleaning & Pre-Processing"
   ]
  },
  {
   "cell_type": "markdown",
   "id": "c905e066",
   "metadata": {},
   "source": [
    "**1. Loan Status** - A categorical variable indicating if the loan was paid back or defaulted."
   ]
  },
  {
   "cell_type": "code",
   "execution_count": null,
   "id": "87bbc3a4",
   "metadata": {},
   "outputs": [],
   "source": [
    "plt.pie(data[['Loan Status']].value_counts(),labels =['Fully Paid', 'Charged Off'],explode = (0.2,0))\n",
    "plt.show()"
   ]
  },
  {
   "cell_type": "code",
   "execution_count": null,
   "id": "1f22ac25",
   "metadata": {},
   "outputs": [],
   "source": [
    "# Frequency Distribution\n",
    "table = pd.crosstab(data[\"Loan Status\"],columns=\"Loan Status\")\n",
    "table[\"Percentage\"] = pd.crosstab(data[\"Loan Status\"],columns=\"Term\",normalize=True)*100\n",
    "table\n",
    "# Observation : Nearly 72% of the observations belongs to target class 'Fully Paid' whereas nearly 28% belongs to 'Charged Off'"
   ]
  },
  {
   "cell_type": "markdown",
   "id": "159c4364",
   "metadata": {},
   "source": [
    "--------------------------------------------------------------------------------------------------------------------------------"
   ]
  },
  {
   "cell_type": "markdown",
   "id": "66132ff7",
   "metadata": {},
   "source": [
    "**2. Current Loan Amount** - This is the loan amount that was either completely paid off, or the amount that was defaulted."
   ]
  },
  {
   "cell_type": "code",
   "execution_count": null,
   "id": "305452ee",
   "metadata": {},
   "outputs": [],
   "source": [
    "data[\"Current Loan Amount\"].value_counts"
   ]
  },
  {
   "cell_type": "code",
   "execution_count": null,
   "id": "5b087c29",
   "metadata": {},
   "outputs": [],
   "source": [
    "#data[data[\"Current Loan Amount\"] == 99999999]"
   ]
  },
  {
   "cell_type": "code",
   "execution_count": null,
   "id": "e5cf2dbd",
   "metadata": {},
   "outputs": [],
   "source": [
    "# # Replacing every instance of 'HaveMortgage' with 'Home Mortgage'\n",
    "# data['Current Loan Amount'] = data['Current Loan Amount'].apply(lambda x: np.nan if x== 99999999 else x)"
   ]
  },
  {
   "cell_type": "code",
   "execution_count": null,
   "id": "b6743b4c",
   "metadata": {},
   "outputs": [],
   "source": [
    "# data['Current Loan Amount'].isnull().sum()"
   ]
  },
  {
   "cell_type": "code",
   "execution_count": null,
   "id": "42ff2d34",
   "metadata": {},
   "outputs": [],
   "source": [
    "#The Null values will be imputed with k-NN imputer later"
   ]
  },
  {
   "cell_type": "markdown",
   "id": "5aa491e0",
   "metadata": {},
   "source": [
    "--------------------------------------------------------------------------------------------------------------------------------"
   ]
  },
  {
   "cell_type": "markdown",
   "id": "712d9041",
   "metadata": {},
   "source": [
    "**3. Term** - A categorical variable indicating if it is a short term or long term loan."
   ]
  },
  {
   "cell_type": "code",
   "execution_count": null,
   "id": "bc464def",
   "metadata": {},
   "outputs": [],
   "source": [
    "# Frequency Distribution\n",
    "table = pd.crosstab(data[\"Term\"],columns=\"Term\")\n",
    "table[\"Percentage\"] = pd.crosstab(data[\"Term\"],columns=\"Term\",normalize=True)*100\n",
    "table"
   ]
  },
  {
   "cell_type": "code",
   "execution_count": null,
   "id": "21e3478f",
   "metadata": {},
   "outputs": [],
   "source": [
    "# #Mapping 1 to long term and 0 to short term\n",
    "data['Term'] = data['Term'].map({'Long Term':1,'Short Term':0})"
   ]
  },
  {
   "cell_type": "code",
   "execution_count": null,
   "id": "3b54518e",
   "metadata": {},
   "outputs": [],
   "source": [
    "data['Term'].value_counts()"
   ]
  },
  {
   "cell_type": "markdown",
   "id": "3f0a1e3a",
   "metadata": {},
   "source": [
    "--------------------------------------------------------------------------------------------------------------------------------"
   ]
  },
  {
   "cell_type": "markdown",
   "id": "a4a36c41",
   "metadata": {},
   "source": [
    "**4. Credit Score** - A value between 0 and 800 indicating the riskiness of the borrowers credit history."
   ]
  },
  {
   "cell_type": "code",
   "execution_count": null,
   "id": "5ca5f2b1",
   "metadata": {},
   "outputs": [],
   "source": [
    "data[\"Credit Score\"].value_counts"
   ]
  },
  {
   "cell_type": "code",
   "execution_count": null,
   "id": "a4762e73",
   "metadata": {},
   "outputs": [],
   "source": [
    "# The credit score as specified in the data dictionary are in the range of 0 to 800. but some of the values are in range of 7000\n",
    "data['Credit Score'] = data['Credit Score'].apply(lambda x: x/10 if x>800 else x)"
   ]
  },
  {
   "cell_type": "code",
   "execution_count": null,
   "id": "17f428e0",
   "metadata": {},
   "outputs": [],
   "source": [
    "data[\"Credit Score\"].value_counts"
   ]
  },
  {
   "cell_type": "markdown",
   "id": "106c67c9",
   "metadata": {},
   "source": [
    "--------------------------------------------------------------------------------------------------------------------------------"
   ]
  },
  {
   "cell_type": "markdown",
   "id": "5dd4633b",
   "metadata": {},
   "source": [
    "**5.Years in current job** - A categorical variable indicating how many years the customer has been in their current job."
   ]
  },
  {
   "cell_type": "code",
   "execution_count": null,
   "id": "2a3c6000",
   "metadata": {},
   "outputs": [],
   "source": [
    "# Frequency Distribution\n",
    "table = pd.crosstab(data[\"Years in current job\"],columns=\"Years in current job\")\n",
    "table[\"Percentage\"] = pd.crosstab(data[\"Years in current job\"],columns=\"Years in current job\",normalize=True)*100\n",
    "table"
   ]
  },
  {
   "cell_type": "code",
   "execution_count": null,
   "id": "5c99a1b2",
   "metadata": {},
   "outputs": [],
   "source": [
    "data[\"Years in current job\"].isnull().sum()"
   ]
  },
  {
   "cell_type": "code",
   "execution_count": null,
   "id": "27bca999",
   "metadata": {},
   "outputs": [],
   "source": [
    "# Determining the conditional mode for Years in current job column\n",
    "print(data[data['Loan Status']=='Fully Paid']['Years in current job'].mode())\n",
    "print(data[data['Loan Status']=='Charged Off']['Years in current job'].mode())"
   ]
  },
  {
   "cell_type": "code",
   "execution_count": null,
   "id": "ff3c77f3",
   "metadata": {},
   "outputs": [],
   "source": [
    "# Filling the missing values with the mode since it's a categorical column\n",
    "data['Years in current job'].fillna(value='10+ years',inplace=True)"
   ]
  },
  {
   "cell_type": "code",
   "execution_count": null,
   "id": "eafe7aae",
   "metadata": {},
   "outputs": [],
   "source": [
    "data[\"Years in current job\"].isnull().sum()"
   ]
  },
  {
   "cell_type": "code",
   "execution_count": null,
   "id": "3802cda8",
   "metadata": {},
   "outputs": [],
   "source": [
    "#Label encoding \n",
    "data[\"Years in current job\"]= data[\"Years in current job\"].replace({\"< 1 year\":0,\"1 year\":1,\"2 years\":2,\"3 years\":3,\n",
    "                                                                      \"4 years\":4,\"5 years\":5,\"6 years\":6,\"7 years\":7,\n",
    "                                                                      \"8 years\":8,\"9 years\":9,\"10+ years\":10})"
   ]
  },
  {
   "cell_type": "code",
   "execution_count": null,
   "id": "3b6a0716",
   "metadata": {},
   "outputs": [],
   "source": [
    "data[\"Years in current job\"]"
   ]
  },
  {
   "cell_type": "markdown",
   "id": "b890e7ef",
   "metadata": {},
   "source": [
    "--------------------------------------------------------------------------------------------------------------------------------"
   ]
  },
  {
   "cell_type": "markdown",
   "id": "a86d5da2",
   "metadata": {},
   "source": [
    "**6. Home Ownership** - Categorical variable indicating home ownership. Values are \"Rent\", \"Home Mortgage\",and \"Own\". If the value is OWN, then the customer is a home owner with no mortgage"
   ]
  },
  {
   "cell_type": "code",
   "execution_count": null,
   "id": "df3cd38d",
   "metadata": {},
   "outputs": [],
   "source": [
    "# Frequency Distribution\n",
    "table = pd.crosstab(data[\"Home Ownership\"],columns=\"Home Ownership\")\n",
    "table[\"Percentage\"] = pd.crosstab(data[\"Home Ownership\"],columns=\"Home Ownership\",normalize=True)*100\n",
    "table"
   ]
  },
  {
   "cell_type": "code",
   "execution_count": null,
   "id": "39f06aa7",
   "metadata": {},
   "outputs": [],
   "source": [
    "# If You Notice above, there is a Category called 'HaveMortgage' which is not available as per Description, so it must be\n",
    "# Home Mortgage instead of HaveMortgage"
   ]
  },
  {
   "cell_type": "code",
   "execution_count": null,
   "id": "afe6667b",
   "metadata": {},
   "outputs": [],
   "source": [
    "# Replacing every instance of 'HaveMortgage' with 'Home Mortgage'\n",
    "data['Home Ownership'] = data['Home Ownership'].apply(lambda x: 'Home Mortgage' if x=='HaveMortgage' else x)"
   ]
  },
  {
   "cell_type": "code",
   "execution_count": null,
   "id": "c2f23a70",
   "metadata": {},
   "outputs": [],
   "source": [
    "# Checking for the number of unique values in the Home Ownership series\n",
    "data['Home Ownership'].unique()"
   ]
  },
  {
   "cell_type": "code",
   "execution_count": null,
   "id": "7ccf72e1",
   "metadata": {},
   "outputs": [],
   "source": [
    "data['Home Ownership'].isnull().sum()"
   ]
  },
  {
   "cell_type": "markdown",
   "id": "59dc67f3",
   "metadata": {},
   "source": [
    "------------------------------------------------------------------------------------------------------------------------------"
   ]
  },
  {
   "cell_type": "markdown",
   "id": "19fa83e8",
   "metadata": {},
   "source": [
    "**7. Annual Income** - The customer's annual income"
   ]
  },
  {
   "cell_type": "code",
   "execution_count": null,
   "id": "1399fddb",
   "metadata": {},
   "outputs": [],
   "source": [
    "data[\"Annual Income\"].value_counts"
   ]
  },
  {
   "cell_type": "code",
   "execution_count": null,
   "id": "a03acde0",
   "metadata": {},
   "outputs": [],
   "source": [
    "data[\"Annual Income\"].isnull().sum()"
   ]
  },
  {
   "cell_type": "code",
   "execution_count": 3,
   "id": "904ef0f1",
   "metadata": {},
   "outputs": [],
   "source": [
    "#The Null values will be imputed with k-NN imputer later"
   ]
  },
  {
   "cell_type": "markdown",
   "id": "e6b06565",
   "metadata": {},
   "source": [
    "------------------------------------------------------------------------------------------------------------------------------"
   ]
  },
  {
   "cell_type": "markdown",
   "id": "cad43bcd",
   "metadata": {},
   "source": [
    "**8. Purpose** - A description of the purpose of the loan."
   ]
  },
  {
   "cell_type": "code",
   "execution_count": 4,
   "id": "4425963c",
   "metadata": {},
   "outputs": [
    {
     "ename": "NameError",
     "evalue": "name 'data' is not defined",
     "output_type": "error",
     "traceback": [
      "\u001b[1;31m---------------------------------------------------------------------------\u001b[0m",
      "\u001b[1;31mNameError\u001b[0m                                 Traceback (most recent call last)",
      "Input \u001b[1;32mIn [4]\u001b[0m, in \u001b[0;36m<cell line: 2>\u001b[1;34m()\u001b[0m\n\u001b[0;32m      1\u001b[0m \u001b[38;5;66;03m# Frequency Distribution\u001b[39;00m\n\u001b[1;32m----> 2\u001b[0m table \u001b[38;5;241m=\u001b[39m pd\u001b[38;5;241m.\u001b[39mcrosstab(\u001b[43mdata\u001b[49m[\u001b[38;5;124m\"\u001b[39m\u001b[38;5;124mPurpose\u001b[39m\u001b[38;5;124m\"\u001b[39m],columns\u001b[38;5;241m=\u001b[39m\u001b[38;5;124m\"\u001b[39m\u001b[38;5;124mPurpose\u001b[39m\u001b[38;5;124m\"\u001b[39m)\n\u001b[0;32m      3\u001b[0m table[\u001b[38;5;124m\"\u001b[39m\u001b[38;5;124mPercentage\u001b[39m\u001b[38;5;124m\"\u001b[39m] \u001b[38;5;241m=\u001b[39m pd\u001b[38;5;241m.\u001b[39mcrosstab(data[\u001b[38;5;124m\"\u001b[39m\u001b[38;5;124mPurpose\u001b[39m\u001b[38;5;124m\"\u001b[39m],columns\u001b[38;5;241m=\u001b[39m\u001b[38;5;124m\"\u001b[39m\u001b[38;5;124mPurpose\u001b[39m\u001b[38;5;124m\"\u001b[39m,normalize\u001b[38;5;241m=\u001b[39m\u001b[38;5;28;01mTrue\u001b[39;00m)\u001b[38;5;241m*\u001b[39m\u001b[38;5;241m100\u001b[39m\n\u001b[0;32m      4\u001b[0m table\n",
      "\u001b[1;31mNameError\u001b[0m: name 'data' is not defined"
     ]
    }
   ],
   "source": [
    "# Frequency Distribution\n",
    "table = pd.crosstab(data[\"Purpose\"],columns=\"Purpose\")\n",
    "table[\"Percentage\"] = pd.crosstab(data[\"Purpose\"],columns=\"Purpose\",normalize=True)*100\n",
    "table"
   ]
  },
  {
   "cell_type": "code",
   "execution_count": 5,
   "id": "204b8987",
   "metadata": {},
   "outputs": [
    {
     "ename": "NameError",
     "evalue": "name 'data' is not defined",
     "output_type": "error",
     "traceback": [
      "\u001b[1;31m---------------------------------------------------------------------------\u001b[0m",
      "\u001b[1;31mNameError\u001b[0m                                 Traceback (most recent call last)",
      "Input \u001b[1;32mIn [5]\u001b[0m, in \u001b[0;36m<cell line: 1>\u001b[1;34m()\u001b[0m\n\u001b[1;32m----> 1\u001b[0m \u001b[43mdata\u001b[49m[\u001b[38;5;124m'\u001b[39m\u001b[38;5;124mPurpose\u001b[39m\u001b[38;5;124m'\u001b[39m]\u001b[38;5;241m.\u001b[39mnunique()\n",
      "\u001b[1;31mNameError\u001b[0m: name 'data' is not defined"
     ]
    }
   ],
   "source": [
    "data['Purpose'].nunique()"
   ]
  },
  {
   "cell_type": "code",
   "execution_count": 6,
   "id": "64699a37",
   "metadata": {},
   "outputs": [
    {
     "ename": "NameError",
     "evalue": "name 'data' is not defined",
     "output_type": "error",
     "traceback": [
      "\u001b[1;31m---------------------------------------------------------------------------\u001b[0m",
      "\u001b[1;31mNameError\u001b[0m                                 Traceback (most recent call last)",
      "Input \u001b[1;32mIn [6]\u001b[0m, in \u001b[0;36m<cell line: 2>\u001b[1;34m()\u001b[0m\n\u001b[0;32m      1\u001b[0m \u001b[38;5;66;03m# replacing the instances of 'Other' with 'other'\u001b[39;00m\n\u001b[1;32m----> 2\u001b[0m \u001b[43mdata\u001b[49m[\u001b[38;5;124m'\u001b[39m\u001b[38;5;124mPurpose\u001b[39m\u001b[38;5;124m'\u001b[39m]\u001b[38;5;241m.\u001b[39mreplace({\u001b[38;5;124m'\u001b[39m\u001b[38;5;124mOther\u001b[39m\u001b[38;5;124m'\u001b[39m:\u001b[38;5;124m'\u001b[39m\u001b[38;5;124mother\u001b[39m\u001b[38;5;124m'\u001b[39m},inplace\u001b[38;5;241m=\u001b[39m\u001b[38;5;28;01mTrue\u001b[39;00m)\n",
      "\u001b[1;31mNameError\u001b[0m: name 'data' is not defined"
     ]
    }
   ],
   "source": [
    "# replacing the instances of 'Other' with 'other'\n",
    "data['Purpose'].replace({'Other':'other'},inplace=True)"
   ]
  },
  {
   "cell_type": "code",
   "execution_count": 7,
   "id": "cf6541c3",
   "metadata": {},
   "outputs": [
    {
     "ename": "NameError",
     "evalue": "name 'data' is not defined",
     "output_type": "error",
     "traceback": [
      "\u001b[1;31m---------------------------------------------------------------------------\u001b[0m",
      "\u001b[1;31mNameError\u001b[0m                                 Traceback (most recent call last)",
      "Input \u001b[1;32mIn [7]\u001b[0m, in \u001b[0;36m<cell line: 1>\u001b[1;34m()\u001b[0m\n\u001b[1;32m----> 1\u001b[0m \u001b[43mdata\u001b[49m[\u001b[38;5;124m'\u001b[39m\u001b[38;5;124mPurpose\u001b[39m\u001b[38;5;124m'\u001b[39m]\u001b[38;5;241m.\u001b[39mnunique()\n",
      "\u001b[1;31mNameError\u001b[0m: name 'data' is not defined"
     ]
    }
   ],
   "source": [
    "data['Purpose'].nunique()"
   ]
  },
  {
   "cell_type": "markdown",
   "id": "144ed98b",
   "metadata": {},
   "source": [
    "------------------------------------------------------------------------------------------------------------------------------"
   ]
  },
  {
   "cell_type": "markdown",
   "id": "5a2fc3dc",
   "metadata": {},
   "source": [
    "**9. Monthly Debt** - The customer's monthly payment for their existing loans"
   ]
  },
  {
   "cell_type": "code",
   "execution_count": 8,
   "id": "a3eaf82a",
   "metadata": {},
   "outputs": [
    {
     "ename": "NameError",
     "evalue": "name 'data' is not defined",
     "output_type": "error",
     "traceback": [
      "\u001b[1;31m---------------------------------------------------------------------------\u001b[0m",
      "\u001b[1;31mNameError\u001b[0m                                 Traceback (most recent call last)",
      "Input \u001b[1;32mIn [8]\u001b[0m, in \u001b[0;36m<cell line: 1>\u001b[1;34m()\u001b[0m\n\u001b[1;32m----> 1\u001b[0m \u001b[43mdata\u001b[49m[\u001b[38;5;124m\"\u001b[39m\u001b[38;5;124mMonthly Debt\u001b[39m\u001b[38;5;124m\"\u001b[39m]\u001b[38;5;241m.\u001b[39mvalue_counts\n",
      "\u001b[1;31mNameError\u001b[0m: name 'data' is not defined"
     ]
    }
   ],
   "source": [
    "data[\"Monthly Debt\"].value_counts"
   ]
  },
  {
   "cell_type": "code",
   "execution_count": 9,
   "id": "2119f118",
   "metadata": {},
   "outputs": [],
   "source": [
    "# The monthly debt column had values of object type. \n",
    "# But when we tried to convert into 'float' type we encounterd an error due to the presence of '\\\\$' symbol. \n",
    "# Hence we are removing every instance containing the '$' symbol with a blank character to enable type conversion into integer."
   ]
  },
  {
   "cell_type": "code",
   "execution_count": 10,
   "id": "68e181fd",
   "metadata": {},
   "outputs": [
    {
     "ename": "NameError",
     "evalue": "name 'data' is not defined",
     "output_type": "error",
     "traceback": [
      "\u001b[1;31m---------------------------------------------------------------------------\u001b[0m",
      "\u001b[1;31mNameError\u001b[0m                                 Traceback (most recent call last)",
      "Input \u001b[1;32mIn [10]\u001b[0m, in \u001b[0;36m<cell line: 6>\u001b[1;34m()\u001b[0m\n\u001b[0;32m      1\u001b[0m \u001b[38;5;66;03m#Removing $ sign\u001b[39;00m\n\u001b[0;32m      2\u001b[0m \u001b[38;5;66;03m#data[\"Monthly Debt\"]= data[\"Monthly Debt\"].str.replace(\"$\",\"\") #replacing $ with empty\u001b[39;00m\n\u001b[0;32m      3\u001b[0m \n\u001b[0;32m      4\u001b[0m \u001b[38;5;66;03m# or use \u001b[39;00m\n\u001b[0;32m      5\u001b[0m \u001b[38;5;66;03m# Type conversion into integer\u001b[39;00m\n\u001b[1;32m----> 6\u001b[0m \u001b[43mdata\u001b[49m[\u001b[38;5;124m'\u001b[39m\u001b[38;5;124mMonthly Debt\u001b[39m\u001b[38;5;124m'\u001b[39m]\u001b[38;5;241m.\u001b[39mreplace({\u001b[38;5;124m'\u001b[39m\u001b[38;5;124m\\\u001b[39m\u001b[38;5;124m$\u001b[39m\u001b[38;5;124m'\u001b[39m:\u001b[38;5;124m'\u001b[39m\u001b[38;5;124m'\u001b[39m},regex\u001b[38;5;241m=\u001b[39m\u001b[38;5;28;01mTrue\u001b[39;00m,inplace\u001b[38;5;241m=\u001b[39m\u001b[38;5;28;01mTrue\u001b[39;00m)\n",
      "\u001b[1;31mNameError\u001b[0m: name 'data' is not defined"
     ]
    }
   ],
   "source": [
    "#Removing $ sign\n",
    "#data[\"Monthly Debt\"]= data[\"Monthly Debt\"].str.replace(\"$\",\"\") #replacing $ with empty\n",
    "\n",
    "# or use \n",
    "# Type conversion into integer\n",
    "data['Monthly Debt'].replace({'\\$':''},regex=True,inplace=True)"
   ]
  },
  {
   "cell_type": "code",
   "execution_count": 11,
   "id": "988e1b98",
   "metadata": {},
   "outputs": [
    {
     "ename": "NameError",
     "evalue": "name 'data' is not defined",
     "output_type": "error",
     "traceback": [
      "\u001b[1;31m---------------------------------------------------------------------------\u001b[0m",
      "\u001b[1;31mNameError\u001b[0m                                 Traceback (most recent call last)",
      "Input \u001b[1;32mIn [11]\u001b[0m, in \u001b[0;36m<cell line: 1>\u001b[1;34m()\u001b[0m\n\u001b[1;32m----> 1\u001b[0m \u001b[43mdata\u001b[49m[\u001b[38;5;124m\"\u001b[39m\u001b[38;5;124mMonthly Debt\u001b[39m\u001b[38;5;124m\"\u001b[39m][\u001b[38;5;241m10\u001b[39m]\n",
      "\u001b[1;31mNameError\u001b[0m: name 'data' is not defined"
     ]
    }
   ],
   "source": [
    "data[\"Monthly Debt\"][10] # Dollar Sign Removed"
   ]
  },
  {
   "cell_type": "code",
   "execution_count": null,
   "id": "caf4d57b",
   "metadata": {},
   "outputs": [],
   "source": [
    "data[\"Monthly Debt\"] = pd.to_numeric(data[\"Monthly Debt\"]) #Converting Object to Numeric\n",
    "data[\"Monthly Debt\"].dtypes"
   ]
  },
  {
   "cell_type": "markdown",
   "id": "ff9863a5",
   "metadata": {},
   "source": [
    "------------------------------------------------------------------------------------------------------------------------------"
   ]
  },
  {
   "cell_type": "markdown",
   "id": "5d0b8e5c",
   "metadata": {},
   "source": [
    "**10. Years of Credit History**- The years since the first entry in the customers credit history"
   ]
  },
  {
   "cell_type": "code",
   "execution_count": 12,
   "id": "74f38382",
   "metadata": {},
   "outputs": [
    {
     "ename": "NameError",
     "evalue": "name 'data' is not defined",
     "output_type": "error",
     "traceback": [
      "\u001b[1;31m---------------------------------------------------------------------------\u001b[0m",
      "\u001b[1;31mNameError\u001b[0m                                 Traceback (most recent call last)",
      "Input \u001b[1;32mIn [12]\u001b[0m, in \u001b[0;36m<cell line: 1>\u001b[1;34m()\u001b[0m\n\u001b[1;32m----> 1\u001b[0m \u001b[43mdata\u001b[49m[\u001b[38;5;124m\"\u001b[39m\u001b[38;5;124mYears of Credit History\u001b[39m\u001b[38;5;124m\"\u001b[39m]\u001b[38;5;241m.\u001b[39mdescribe()\n",
      "\u001b[1;31mNameError\u001b[0m: name 'data' is not defined"
     ]
    }
   ],
   "source": [
    "data[\"Years of Credit History\"].describe()"
   ]
  },
  {
   "cell_type": "code",
   "execution_count": 13,
   "id": "9e7e316a",
   "metadata": {},
   "outputs": [
    {
     "ename": "NameError",
     "evalue": "name 'data' is not defined",
     "output_type": "error",
     "traceback": [
      "\u001b[1;31m---------------------------------------------------------------------------\u001b[0m",
      "\u001b[1;31mNameError\u001b[0m                                 Traceback (most recent call last)",
      "Input \u001b[1;32mIn [13]\u001b[0m, in \u001b[0;36m<cell line: 2>\u001b[1;34m()\u001b[0m\n\u001b[0;32m      1\u001b[0m \u001b[38;5;66;03m# Note : There are customers with around 70 years of credit history\u001b[39;00m\n\u001b[1;32m----> 2\u001b[0m \u001b[43mdata\u001b[49m[\u001b[38;5;124m'\u001b[39m\u001b[38;5;124mYears of Credit History\u001b[39m\u001b[38;5;124m'\u001b[39m]\u001b[38;5;241m.\u001b[39mvalue_counts()\u001b[38;5;241m.\u001b[39msort_index(ascending\u001b[38;5;241m=\u001b[39m\u001b[38;5;28;01mFalse\u001b[39;00m)\n",
      "\u001b[1;31mNameError\u001b[0m: name 'data' is not defined"
     ]
    }
   ],
   "source": [
    "# Note : There are customers with around 70 years of credit history\n",
    "data['Years of Credit History'].value_counts().sort_index(ascending=False)"
   ]
  },
  {
   "cell_type": "markdown",
   "id": "c1629f07",
   "metadata": {},
   "source": [
    "------------------------------------------------------------------------------------------------------------------------------"
   ]
  },
  {
   "cell_type": "markdown",
   "id": "c14d3184",
   "metadata": {},
   "source": [
    "**11. Months since last delinquent** - Months since the last loan delinquent payment"
   ]
  },
  {
   "cell_type": "code",
   "execution_count": 14,
   "id": "7296f42b",
   "metadata": {},
   "outputs": [
    {
     "ename": "NameError",
     "evalue": "name 'data' is not defined",
     "output_type": "error",
     "traceback": [
      "\u001b[1;31m---------------------------------------------------------------------------\u001b[0m",
      "\u001b[1;31mNameError\u001b[0m                                 Traceback (most recent call last)",
      "Input \u001b[1;32mIn [14]\u001b[0m, in \u001b[0;36m<cell line: 1>\u001b[1;34m()\u001b[0m\n\u001b[1;32m----> 1\u001b[0m \u001b[43mdata\u001b[49m[\u001b[38;5;124m'\u001b[39m\u001b[38;5;124mMonths since last delinquent\u001b[39m\u001b[38;5;124m'\u001b[39m]\u001b[38;5;241m.\u001b[39mvalue_counts()\n",
      "\u001b[1;31mNameError\u001b[0m: name 'data' is not defined"
     ]
    }
   ],
   "source": [
    "data['Months since last delinquent'].value_counts()"
   ]
  },
  {
   "cell_type": "markdown",
   "id": "1ebf5fad",
   "metadata": {},
   "source": [
    "------------------------------------------------------------------------------------------------------------------------------"
   ]
  },
  {
   "cell_type": "markdown",
   "id": "a4e2f604",
   "metadata": {},
   "source": [
    "**12. Number of Open Accounts**- The total number of open credit cards"
   ]
  },
  {
   "cell_type": "code",
   "execution_count": 15,
   "id": "69caf37d",
   "metadata": {},
   "outputs": [
    {
     "ename": "NameError",
     "evalue": "name 'data' is not defined",
     "output_type": "error",
     "traceback": [
      "\u001b[1;31m---------------------------------------------------------------------------\u001b[0m",
      "\u001b[1;31mNameError\u001b[0m                                 Traceback (most recent call last)",
      "Input \u001b[1;32mIn [15]\u001b[0m, in \u001b[0;36m<cell line: 1>\u001b[1;34m()\u001b[0m\n\u001b[1;32m----> 1\u001b[0m \u001b[43mdata\u001b[49m[\u001b[38;5;124m'\u001b[39m\u001b[38;5;124mNumber of Open Accounts\u001b[39m\u001b[38;5;124m'\u001b[39m]\u001b[38;5;241m.\u001b[39mvalue_counts()\u001b[38;5;241m.\u001b[39msort_index(ascending\u001b[38;5;241m=\u001b[39m\u001b[38;5;28;01mTrue\u001b[39;00m)\n",
      "\u001b[1;31mNameError\u001b[0m: name 'data' is not defined"
     ]
    }
   ],
   "source": [
    "data['Number of Open Accounts'].value_counts().sort_index(ascending=True)"
   ]
  },
  {
   "cell_type": "markdown",
   "id": "72ea078c",
   "metadata": {},
   "source": [
    "------------------------------------------------------------------------------------------------------------------------------"
   ]
  },
  {
   "cell_type": "markdown",
   "id": "0adffd32",
   "metadata": {},
   "source": [
    "**13. Number of Credit Problems**-The number of credit problems in the customer records."
   ]
  },
  {
   "cell_type": "code",
   "execution_count": 16,
   "id": "521e7701",
   "metadata": {},
   "outputs": [
    {
     "ename": "NameError",
     "evalue": "name 'data' is not defined",
     "output_type": "error",
     "traceback": [
      "\u001b[1;31m---------------------------------------------------------------------------\u001b[0m",
      "\u001b[1;31mNameError\u001b[0m                                 Traceback (most recent call last)",
      "Input \u001b[1;32mIn [16]\u001b[0m, in \u001b[0;36m<cell line: 1>\u001b[1;34m()\u001b[0m\n\u001b[1;32m----> 1\u001b[0m \u001b[43mdata\u001b[49m[\u001b[38;5;124m'\u001b[39m\u001b[38;5;124mNumber of Credit Problems\u001b[39m\u001b[38;5;124m'\u001b[39m]\u001b[38;5;241m.\u001b[39mvalue_counts()\n",
      "\u001b[1;31mNameError\u001b[0m: name 'data' is not defined"
     ]
    }
   ],
   "source": [
    "data['Number of Credit Problems'].value_counts()"
   ]
  },
  {
   "cell_type": "markdown",
   "id": "227929bd",
   "metadata": {},
   "source": [
    "------------------------------------------------------------------------------------------------------------------------------"
   ]
  },
  {
   "cell_type": "markdown",
   "id": "566c70b7",
   "metadata": {},
   "source": [
    "**14. Maximum Open Credit** - The maximum credit limit for all credit sources."
   ]
  },
  {
   "cell_type": "code",
   "execution_count": 17,
   "id": "8336559a",
   "metadata": {
    "scrolled": false
   },
   "outputs": [
    {
     "ename": "NameError",
     "evalue": "name 'data' is not defined",
     "output_type": "error",
     "traceback": [
      "\u001b[1;31m---------------------------------------------------------------------------\u001b[0m",
      "\u001b[1;31mNameError\u001b[0m                                 Traceback (most recent call last)",
      "Input \u001b[1;32mIn [17]\u001b[0m, in \u001b[0;36m<cell line: 1>\u001b[1;34m()\u001b[0m\n\u001b[1;32m----> 1\u001b[0m entry \u001b[38;5;241m=\u001b[39m \u001b[43mdata\u001b[49m\u001b[38;5;241m.\u001b[39mloc[data[\u001b[38;5;124m'\u001b[39m\u001b[38;5;124mMaximum Open Credit\u001b[39m\u001b[38;5;124m'\u001b[39m] \u001b[38;5;241m==\u001b[39m \u001b[38;5;124m'\u001b[39m\u001b[38;5;124m#VALUE!\u001b[39m\u001b[38;5;124m'\u001b[39m]  \u001b[38;5;66;03m#the rows which are having abnormal Values\u001b[39;00m\n\u001b[0;32m      2\u001b[0m entry\u001b[38;5;241m.\u001b[39mhead()\n",
      "\u001b[1;31mNameError\u001b[0m: name 'data' is not defined"
     ]
    }
   ],
   "source": [
    "entry = data.loc[data['Maximum Open Credit'] == '#VALUE!']  #the rows which are having abnormal Values\n",
    "entry.head()"
   ]
  },
  {
   "cell_type": "code",
   "execution_count": 18,
   "id": "30d44e02",
   "metadata": {},
   "outputs": [],
   "source": [
    "#data = data.drop([4930,37357])   #Dropping the rows with #VALUE! (Better fill with Mean,Median,Mode)"
   ]
  },
  {
   "cell_type": "code",
   "execution_count": 19,
   "id": "3b0f8789",
   "metadata": {},
   "outputs": [
    {
     "ename": "NameError",
     "evalue": "name 'data' is not defined",
     "output_type": "error",
     "traceback": [
      "\u001b[1;31m---------------------------------------------------------------------------\u001b[0m",
      "\u001b[1;31mNameError\u001b[0m                                 Traceback (most recent call last)",
      "Input \u001b[1;32mIn [19]\u001b[0m, in \u001b[0;36m<cell line: 1>\u001b[1;34m()\u001b[0m\n\u001b[1;32m----> 1\u001b[0m data[\u001b[38;5;124m\"\u001b[39m\u001b[38;5;124mMaximum Open Credit\u001b[39m\u001b[38;5;124m\"\u001b[39m]\u001b[38;5;241m=\u001b[39m pd\u001b[38;5;241m.\u001b[39mto_numeric(\u001b[43mdata\u001b[49m[\u001b[38;5;124m\"\u001b[39m\u001b[38;5;124mMaximum Open Credit\u001b[39m\u001b[38;5;124m\"\u001b[39m],errors \u001b[38;5;241m=\u001b[39m \u001b[38;5;124m'\u001b[39m\u001b[38;5;124mcoerce\u001b[39m\u001b[38;5;124m'\u001b[39m) \u001b[38;5;66;03m#Converting Object to numeric\u001b[39;00m\n\u001b[0;32m      2\u001b[0m data[\u001b[38;5;124m\"\u001b[39m\u001b[38;5;124mMaximum Open Credit\u001b[39m\u001b[38;5;124m\"\u001b[39m]\u001b[38;5;241m.\u001b[39mdtypes\n",
      "\u001b[1;31mNameError\u001b[0m: name 'data' is not defined"
     ]
    }
   ],
   "source": [
    "data[\"Maximum Open Credit\"]= pd.to_numeric(data[\"Maximum Open Credit\"],errors = 'coerce') #Converting Object to numeric\n",
    "data[\"Maximum Open Credit\"].dtypes"
   ]
  },
  {
   "cell_type": "code",
   "execution_count": 20,
   "id": "415170a4",
   "metadata": {},
   "outputs": [
    {
     "ename": "NameError",
     "evalue": "name 'data' is not defined",
     "output_type": "error",
     "traceback": [
      "\u001b[1;31m---------------------------------------------------------------------------\u001b[0m",
      "\u001b[1;31mNameError\u001b[0m                                 Traceback (most recent call last)",
      "Input \u001b[1;32mIn [20]\u001b[0m, in \u001b[0;36m<cell line: 1>\u001b[1;34m()\u001b[0m\n\u001b[1;32m----> 1\u001b[0m \u001b[43mdata\u001b[49m[\u001b[38;5;124m'\u001b[39m\u001b[38;5;124mMaximum Open Credit\u001b[39m\u001b[38;5;124m'\u001b[39m][\u001b[38;5;241m4930\u001b[39m]\n",
      "\u001b[1;31mNameError\u001b[0m: name 'data' is not defined"
     ]
    }
   ],
   "source": [
    "data['Maximum Open Credit'][4930] #errors = coerce automatically removes #VALUE!"
   ]
  },
  {
   "cell_type": "code",
   "execution_count": 21,
   "id": "38684904",
   "metadata": {},
   "outputs": [
    {
     "ename": "NameError",
     "evalue": "name 'data' is not defined",
     "output_type": "error",
     "traceback": [
      "\u001b[1;31m---------------------------------------------------------------------------\u001b[0m",
      "\u001b[1;31mNameError\u001b[0m                                 Traceback (most recent call last)",
      "Input \u001b[1;32mIn [21]\u001b[0m, in \u001b[0;36m<cell line: 1>\u001b[1;34m()\u001b[0m\n\u001b[1;32m----> 1\u001b[0m \u001b[43mdata\u001b[49m[\u001b[38;5;124m'\u001b[39m\u001b[38;5;124mMaximum Open Credit\u001b[39m\u001b[38;5;124m'\u001b[39m][\u001b[38;5;241m37357\u001b[39m]\n",
      "\u001b[1;31mNameError\u001b[0m: name 'data' is not defined"
     ]
    }
   ],
   "source": [
    "data['Maximum Open Credit'][37357] #errors = coerce automatically removes #VALUE!"
   ]
  },
  {
   "cell_type": "code",
   "execution_count": 22,
   "id": "c16d8581",
   "metadata": {},
   "outputs": [],
   "source": [
    "# #Imputing with Conditional Mean\n",
    "\n",
    "# # Determining the conditional mode for Tax Liens column\n",
    "# print(data[data['Loan Status']=='Fully Paid']['Maximum Open Credit'].median())\n",
    "# print(data[data['Loan Status']=='Charged Off']['Maximum Open Credit'].median())"
   ]
  },
  {
   "cell_type": "code",
   "execution_count": 23,
   "id": "ce1ad5b4",
   "metadata": {},
   "outputs": [],
   "source": [
    "#The Null values will be imputed with k-NN imputer later"
   ]
  },
  {
   "cell_type": "markdown",
   "id": "d18e24d4",
   "metadata": {},
   "source": [
    "------------------------------------------------------------------------------------------------------------------------------"
   ]
  },
  {
   "cell_type": "markdown",
   "id": "68444311",
   "metadata": {},
   "source": [
    "**15. Bankruptcies** - The number of bankruptcies"
   ]
  },
  {
   "cell_type": "code",
   "execution_count": 558,
   "id": "99d31b3f",
   "metadata": {},
   "outputs": [
    {
     "data": {
      "text/plain": [
       "0.0    79323\n",
       "1.0     8936\n",
       "2.0      353\n",
       "3.0       80\n",
       "4.0       19\n",
       "5.0        5\n",
       "7.0        1\n",
       "6.0        1\n",
       "Name: Bankruptcies, dtype: int64"
      ]
     },
     "execution_count": 558,
     "metadata": {},
     "output_type": "execute_result"
    }
   ],
   "source": [
    "data[\"Bankruptcies\"].value_counts()"
   ]
  },
  {
   "cell_type": "code",
   "execution_count": 559,
   "id": "121a9dcc",
   "metadata": {},
   "outputs": [
    {
     "name": "stdout",
     "output_type": "stream",
     "text": [
      "0    0.0\n",
      "Name: Bankruptcies, dtype: float64\n",
      "0    0.0\n",
      "Name: Bankruptcies, dtype: float64\n"
     ]
    }
   ],
   "source": [
    "# Determining the conditional mode for Bankruptcies column\n",
    "print(data[data['Loan Status']=='Fully Paid']['Bankruptcies'].mode())\n",
    "print(data[data['Loan Status']=='Charged Off']['Bankruptcies'].mode())"
   ]
  },
  {
   "cell_type": "code",
   "execution_count": 560,
   "id": "bb93cc35",
   "metadata": {},
   "outputs": [],
   "source": [
    "# Filling the missing values with the mode since it's a categorical column\n",
    "data['Bankruptcies'].fillna(value=0.0,inplace=True)"
   ]
  },
  {
   "cell_type": "markdown",
   "id": "c5216a9a",
   "metadata": {},
   "source": [
    "------------------------------------------------------------------------------------------------------------------------------"
   ]
  },
  {
   "cell_type": "markdown",
   "id": "77cfb323",
   "metadata": {},
   "source": [
    "**16.Tax Liens** - The number of tax liens."
   ]
  },
  {
   "cell_type": "code",
   "execution_count": 561,
   "id": "05c5742a",
   "metadata": {
    "scrolled": true
   },
   "outputs": [
    {
     "data": {
      "text/plain": [
       "0.0     87274\n",
       "1.0      1132\n",
       "2.0       305\n",
       "3.0        99\n",
       "4.0        52\n",
       "5.0        17\n",
       "6.0         9\n",
       "7.0         5\n",
       "9.0         4\n",
       "8.0         2\n",
       "15.0        1\n",
       "10.0        1\n",
       "11.0        1\n",
       "Name: Tax Liens, dtype: int64"
      ]
     },
     "execution_count": 561,
     "metadata": {},
     "output_type": "execute_result"
    }
   ],
   "source": [
    "data['Tax Liens'].value_counts()"
   ]
  },
  {
   "cell_type": "code",
   "execution_count": 562,
   "id": "94c8f01f",
   "metadata": {},
   "outputs": [
    {
     "data": {
      "text/plain": [
       "8"
      ]
     },
     "execution_count": 562,
     "metadata": {},
     "output_type": "execute_result"
    }
   ],
   "source": [
    "data['Tax Liens'].isnull().sum()"
   ]
  },
  {
   "cell_type": "code",
   "execution_count": 563,
   "id": "98a158f9",
   "metadata": {},
   "outputs": [
    {
     "name": "stdout",
     "output_type": "stream",
     "text": [
      "0    0.0\n",
      "Name: Tax Liens, dtype: float64\n",
      "0    0.0\n",
      "Name: Tax Liens, dtype: float64\n"
     ]
    }
   ],
   "source": [
    "# Determining the conditional mode for Tax Liens column\n",
    "print(data[data['Loan Status']=='Fully Paid']['Tax Liens'].mode())\n",
    "print(data[data['Loan Status']=='Charged Off']['Tax Liens'].mode())"
   ]
  },
  {
   "cell_type": "code",
   "execution_count": 564,
   "id": "a0323e1b",
   "metadata": {},
   "outputs": [],
   "source": [
    "# Filling the missing values with the mode since it's a categorical column\n",
    "data['Tax Liens'].fillna(value=0.0,inplace=True)"
   ]
  },
  {
   "cell_type": "code",
   "execution_count": 565,
   "id": "044fe599",
   "metadata": {},
   "outputs": [
    {
     "data": {
      "text/plain": [
       "0"
      ]
     },
     "execution_count": 565,
     "metadata": {},
     "output_type": "execute_result"
    }
   ],
   "source": [
    "data['Tax Liens'].isnull().sum()"
   ]
  },
  {
   "cell_type": "markdown",
   "id": "525258a9",
   "metadata": {},
   "source": [
    "------------------------------------------------------------------------------------------------------------------------------"
   ]
  },
  {
   "cell_type": "markdown",
   "id": "6ca25670",
   "metadata": {},
   "source": [
    "## KNN Imputer to Fill Missing Values of Numeric Variable"
   ]
  },
  {
   "cell_type": "code",
   "execution_count": 566,
   "id": "9a5adc3f",
   "metadata": {},
   "outputs": [
    {
     "data": {
      "text/plain": [
       "Loan Status                      object\n",
       "Current Loan Amount               int64\n",
       "Term                              int64\n",
       "Credit Score                    float64\n",
       "Years in current job              int64\n",
       "Home Ownership                   object\n",
       "Annual Income                   float64\n",
       "Purpose                          object\n",
       "Monthly Debt                    float64\n",
       "Years of Credit History         float64\n",
       "Months since last delinquent    float64\n",
       "Number of Open Accounts           int64\n",
       "Number of Credit Problems         int64\n",
       "Current Credit Balance            int64\n",
       "Maximum Open Credit             float64\n",
       "Bankruptcies                    float64\n",
       "Tax Liens                       float64\n",
       "dtype: object"
      ]
     },
     "execution_count": 566,
     "metadata": {},
     "output_type": "execute_result"
    }
   ],
   "source": [
    "data.dtypes"
   ]
  },
  {
   "cell_type": "code",
   "execution_count": 567,
   "id": "56876cb6",
   "metadata": {},
   "outputs": [
    {
     "data": {
      "text/plain": [
       "Current Loan Amount               int64\n",
       "Term                              int64\n",
       "Credit Score                    float64\n",
       "Years in current job              int64\n",
       "Annual Income                   float64\n",
       "Monthly Debt                    float64\n",
       "Years of Credit History         float64\n",
       "Months since last delinquent    float64\n",
       "Number of Open Accounts           int64\n",
       "Number of Credit Problems         int64\n",
       "Current Credit Balance            int64\n",
       "Maximum Open Credit             float64\n",
       "Bankruptcies                    float64\n",
       "Tax Liens                       float64\n",
       "dtype: object"
      ]
     },
     "execution_count": 567,
     "metadata": {},
     "output_type": "execute_result"
    }
   ],
   "source": [
    "#Excluding the Categorical Variable\n",
    "num1 = data.select_dtypes(exclude=['object'])\n",
    "num1.dtypes"
   ]
  },
  {
   "cell_type": "code",
   "execution_count": 568,
   "id": "f93a01a7",
   "metadata": {},
   "outputs": [
    {
     "data": {
      "text/html": [
       "<div>\n",
       "<style scoped>\n",
       "    .dataframe tbody tr th:only-of-type {\n",
       "        vertical-align: middle;\n",
       "    }\n",
       "\n",
       "    .dataframe tbody tr th {\n",
       "        vertical-align: top;\n",
       "    }\n",
       "\n",
       "    .dataframe thead th {\n",
       "        text-align: right;\n",
       "    }\n",
       "</style>\n",
       "<table border=\"1\" class=\"dataframe\">\n",
       "  <thead>\n",
       "    <tr style=\"text-align: right;\">\n",
       "      <th></th>\n",
       "      <th>Current Loan Amount</th>\n",
       "      <th>Term</th>\n",
       "      <th>Credit Score</th>\n",
       "      <th>Years in current job</th>\n",
       "      <th>Annual Income</th>\n",
       "      <th>Monthly Debt</th>\n",
       "      <th>Years of Credit History</th>\n",
       "      <th>Months since last delinquent</th>\n",
       "      <th>Number of Open Accounts</th>\n",
       "      <th>Number of Credit Problems</th>\n",
       "      <th>Current Credit Balance</th>\n",
       "      <th>Maximum Open Credit</th>\n",
       "      <th>Bankruptcies</th>\n",
       "      <th>Tax Liens</th>\n",
       "    </tr>\n",
       "  </thead>\n",
       "  <tbody>\n",
       "    <tr>\n",
       "      <th>0</th>\n",
       "      <td>12232</td>\n",
       "      <td>0</td>\n",
       "      <td>728.0</td>\n",
       "      <td>0</td>\n",
       "      <td>46643.0</td>\n",
       "      <td>777.39</td>\n",
       "      <td>18.0</td>\n",
       "      <td>10.0</td>\n",
       "      <td>12</td>\n",
       "      <td>0</td>\n",
       "      <td>6762</td>\n",
       "      <td>7946.0</td>\n",
       "      <td>0.0</td>\n",
       "      <td>0.0</td>\n",
       "    </tr>\n",
       "    <tr>\n",
       "      <th>1</th>\n",
       "      <td>25014</td>\n",
       "      <td>1</td>\n",
       "      <td>733.0</td>\n",
       "      <td>10</td>\n",
       "      <td>81099.0</td>\n",
       "      <td>892.09</td>\n",
       "      <td>26.7</td>\n",
       "      <td>NaN</td>\n",
       "      <td>14</td>\n",
       "      <td>0</td>\n",
       "      <td>35706</td>\n",
       "      <td>77961.0</td>\n",
       "      <td>0.0</td>\n",
       "      <td>0.0</td>\n",
       "    </tr>\n",
       "    <tr>\n",
       "      <th>2</th>\n",
       "      <td>16117</td>\n",
       "      <td>0</td>\n",
       "      <td>724.0</td>\n",
       "      <td>9</td>\n",
       "      <td>60438.0</td>\n",
       "      <td>1244.02</td>\n",
       "      <td>16.7</td>\n",
       "      <td>32.0</td>\n",
       "      <td>11</td>\n",
       "      <td>1</td>\n",
       "      <td>11275</td>\n",
       "      <td>14815.0</td>\n",
       "      <td>1.0</td>\n",
       "      <td>0.0</td>\n",
       "    </tr>\n",
       "    <tr>\n",
       "      <th>3</th>\n",
       "      <td>11716</td>\n",
       "      <td>0</td>\n",
       "      <td>740.0</td>\n",
       "      <td>3</td>\n",
       "      <td>34171.0</td>\n",
       "      <td>990.94</td>\n",
       "      <td>10.0</td>\n",
       "      <td>NaN</td>\n",
       "      <td>21</td>\n",
       "      <td>0</td>\n",
       "      <td>7009</td>\n",
       "      <td>43533.0</td>\n",
       "      <td>0.0</td>\n",
       "      <td>0.0</td>\n",
       "    </tr>\n",
       "    <tr>\n",
       "      <th>4</th>\n",
       "      <td>9789</td>\n",
       "      <td>1</td>\n",
       "      <td>686.0</td>\n",
       "      <td>10</td>\n",
       "      <td>47003.0</td>\n",
       "      <td>503.71</td>\n",
       "      <td>16.7</td>\n",
       "      <td>25.0</td>\n",
       "      <td>13</td>\n",
       "      <td>1</td>\n",
       "      <td>16913</td>\n",
       "      <td>19553.0</td>\n",
       "      <td>1.0</td>\n",
       "      <td>0.0</td>\n",
       "    </tr>\n",
       "    <tr>\n",
       "      <th>...</th>\n",
       "      <td>...</td>\n",
       "      <td>...</td>\n",
       "      <td>...</td>\n",
       "      <td>...</td>\n",
       "      <td>...</td>\n",
       "      <td>...</td>\n",
       "      <td>...</td>\n",
       "      <td>...</td>\n",
       "      <td>...</td>\n",
       "      <td>...</td>\n",
       "      <td>...</td>\n",
       "      <td>...</td>\n",
       "      <td>...</td>\n",
       "      <td>...</td>\n",
       "    </tr>\n",
       "    <tr>\n",
       "      <th>88905</th>\n",
       "      <td>10136</td>\n",
       "      <td>0</td>\n",
       "      <td>728.0</td>\n",
       "      <td>10</td>\n",
       "      <td>35476.0</td>\n",
       "      <td>567.62</td>\n",
       "      <td>21.2</td>\n",
       "      <td>14.0</td>\n",
       "      <td>14</td>\n",
       "      <td>0</td>\n",
       "      <td>15914</td>\n",
       "      <td>28265.0</td>\n",
       "      <td>0.0</td>\n",
       "      <td>0.0</td>\n",
       "    </tr>\n",
       "    <tr>\n",
       "      <th>88906</th>\n",
       "      <td>29610</td>\n",
       "      <td>0</td>\n",
       "      <td>710.0</td>\n",
       "      <td>10</td>\n",
       "      <td>123375.0</td>\n",
       "      <td>2508.63</td>\n",
       "      <td>15.0</td>\n",
       "      <td>16.0</td>\n",
       "      <td>11</td>\n",
       "      <td>0</td>\n",
       "      <td>17727</td>\n",
       "      <td>32766.0</td>\n",
       "      <td>0.0</td>\n",
       "      <td>0.0</td>\n",
       "    </tr>\n",
       "    <tr>\n",
       "      <th>88907</th>\n",
       "      <td>24394</td>\n",
       "      <td>0</td>\n",
       "      <td>746.0</td>\n",
       "      <td>10</td>\n",
       "      <td>71148.0</td>\n",
       "      <td>818.20</td>\n",
       "      <td>36.4</td>\n",
       "      <td>9.0</td>\n",
       "      <td>8</td>\n",
       "      <td>0</td>\n",
       "      <td>44728</td>\n",
       "      <td>53374.0</td>\n",
       "      <td>0.0</td>\n",
       "      <td>0.0</td>\n",
       "    </tr>\n",
       "    <tr>\n",
       "      <th>88908</th>\n",
       "      <td>5030</td>\n",
       "      <td>0</td>\n",
       "      <td>722.0</td>\n",
       "      <td>10</td>\n",
       "      <td>25424.0</td>\n",
       "      <td>360.17</td>\n",
       "      <td>19.0</td>\n",
       "      <td>7.0</td>\n",
       "      <td>12</td>\n",
       "      <td>0</td>\n",
       "      <td>6374</td>\n",
       "      <td>18422.0</td>\n",
       "      <td>0.0</td>\n",
       "      <td>0.0</td>\n",
       "    </tr>\n",
       "    <tr>\n",
       "      <th>88909</th>\n",
       "      <td>18446</td>\n",
       "      <td>0</td>\n",
       "      <td>718.0</td>\n",
       "      <td>6</td>\n",
       "      <td>44066.0</td>\n",
       "      <td>749.13</td>\n",
       "      <td>10.7</td>\n",
       "      <td>NaN</td>\n",
       "      <td>18</td>\n",
       "      <td>1</td>\n",
       "      <td>6718</td>\n",
       "      <td>21124.0</td>\n",
       "      <td>0.0</td>\n",
       "      <td>1.0</td>\n",
       "    </tr>\n",
       "  </tbody>\n",
       "</table>\n",
       "<p>88910 rows × 14 columns</p>\n",
       "</div>"
      ],
      "text/plain": [
       "       Current Loan Amount  Term  Credit Score  Years in current job  \\\n",
       "0                    12232     0         728.0                     0   \n",
       "1                    25014     1         733.0                    10   \n",
       "2                    16117     0         724.0                     9   \n",
       "3                    11716     0         740.0                     3   \n",
       "4                     9789     1         686.0                    10   \n",
       "...                    ...   ...           ...                   ...   \n",
       "88905                10136     0         728.0                    10   \n",
       "88906                29610     0         710.0                    10   \n",
       "88907                24394     0         746.0                    10   \n",
       "88908                 5030     0         722.0                    10   \n",
       "88909                18446     0         718.0                     6   \n",
       "\n",
       "       Annual Income  Monthly Debt  Years of Credit History  \\\n",
       "0            46643.0        777.39                     18.0   \n",
       "1            81099.0        892.09                     26.7   \n",
       "2            60438.0       1244.02                     16.7   \n",
       "3            34171.0        990.94                     10.0   \n",
       "4            47003.0        503.71                     16.7   \n",
       "...              ...           ...                      ...   \n",
       "88905        35476.0        567.62                     21.2   \n",
       "88906       123375.0       2508.63                     15.0   \n",
       "88907        71148.0        818.20                     36.4   \n",
       "88908        25424.0        360.17                     19.0   \n",
       "88909        44066.0        749.13                     10.7   \n",
       "\n",
       "       Months since last delinquent  Number of Open Accounts  \\\n",
       "0                              10.0                       12   \n",
       "1                               NaN                       14   \n",
       "2                              32.0                       11   \n",
       "3                               NaN                       21   \n",
       "4                              25.0                       13   \n",
       "...                             ...                      ...   \n",
       "88905                          14.0                       14   \n",
       "88906                          16.0                       11   \n",
       "88907                           9.0                        8   \n",
       "88908                           7.0                       12   \n",
       "88909                           NaN                       18   \n",
       "\n",
       "       Number of Credit Problems  Current Credit Balance  Maximum Open Credit  \\\n",
       "0                              0                    6762               7946.0   \n",
       "1                              0                   35706              77961.0   \n",
       "2                              1                   11275              14815.0   \n",
       "3                              0                    7009              43533.0   \n",
       "4                              1                   16913              19553.0   \n",
       "...                          ...                     ...                  ...   \n",
       "88905                          0                   15914              28265.0   \n",
       "88906                          0                   17727              32766.0   \n",
       "88907                          0                   44728              53374.0   \n",
       "88908                          0                    6374              18422.0   \n",
       "88909                          1                    6718              21124.0   \n",
       "\n",
       "       Bankruptcies  Tax Liens  \n",
       "0               0.0        0.0  \n",
       "1               0.0        0.0  \n",
       "2               1.0        0.0  \n",
       "3               0.0        0.0  \n",
       "4               1.0        0.0  \n",
       "...             ...        ...  \n",
       "88905           0.0        0.0  \n",
       "88906           0.0        0.0  \n",
       "88907           0.0        0.0  \n",
       "88908           0.0        0.0  \n",
       "88909           0.0        1.0  \n",
       "\n",
       "[88910 rows x 14 columns]"
      ]
     },
     "execution_count": 568,
     "metadata": {},
     "output_type": "execute_result"
    }
   ],
   "source": [
    "num1"
   ]
  },
  {
   "cell_type": "code",
   "execution_count": 569,
   "id": "68609cbd",
   "metadata": {},
   "outputs": [
    {
     "data": {
      "text/html": [
       "<div>\n",
       "<style scoped>\n",
       "    .dataframe tbody tr th:only-of-type {\n",
       "        vertical-align: middle;\n",
       "    }\n",
       "\n",
       "    .dataframe tbody tr th {\n",
       "        vertical-align: top;\n",
       "    }\n",
       "\n",
       "    .dataframe thead th {\n",
       "        text-align: right;\n",
       "    }\n",
       "</style>\n",
       "<table border=\"1\" class=\"dataframe\">\n",
       "  <thead>\n",
       "    <tr style=\"text-align: right;\">\n",
       "      <th></th>\n",
       "      <th>Loan Status_Charged Off</th>\n",
       "      <th>Loan Status_Fully Paid</th>\n",
       "      <th>Home Ownership_Home Mortgage</th>\n",
       "      <th>Home Ownership_Own Home</th>\n",
       "      <th>Home Ownership_Rent</th>\n",
       "      <th>Purpose_Business Loan</th>\n",
       "      <th>Purpose_Buy House</th>\n",
       "      <th>Purpose_Buy a Car</th>\n",
       "      <th>Purpose_Debt Consolidation</th>\n",
       "      <th>Purpose_Educational Expenses</th>\n",
       "      <th>Purpose_Home Improvements</th>\n",
       "      <th>Purpose_Medical Bills</th>\n",
       "      <th>Purpose_Take a Trip</th>\n",
       "      <th>Purpose_major_purchase</th>\n",
       "      <th>Purpose_moving</th>\n",
       "      <th>Purpose_other</th>\n",
       "      <th>Purpose_renewable_energy</th>\n",
       "      <th>Purpose_small_business</th>\n",
       "      <th>Purpose_vacation</th>\n",
       "      <th>Purpose_wedding</th>\n",
       "    </tr>\n",
       "  </thead>\n",
       "  <tbody>\n",
       "    <tr>\n",
       "      <th>0</th>\n",
       "      <td>1</td>\n",
       "      <td>0</td>\n",
       "      <td>0</td>\n",
       "      <td>0</td>\n",
       "      <td>1</td>\n",
       "      <td>0</td>\n",
       "      <td>0</td>\n",
       "      <td>0</td>\n",
       "      <td>1</td>\n",
       "      <td>0</td>\n",
       "      <td>0</td>\n",
       "      <td>0</td>\n",
       "      <td>0</td>\n",
       "      <td>0</td>\n",
       "      <td>0</td>\n",
       "      <td>0</td>\n",
       "      <td>0</td>\n",
       "      <td>0</td>\n",
       "      <td>0</td>\n",
       "      <td>0</td>\n",
       "    </tr>\n",
       "    <tr>\n",
       "      <th>1</th>\n",
       "      <td>1</td>\n",
       "      <td>0</td>\n",
       "      <td>1</td>\n",
       "      <td>0</td>\n",
       "      <td>0</td>\n",
       "      <td>0</td>\n",
       "      <td>0</td>\n",
       "      <td>0</td>\n",
       "      <td>1</td>\n",
       "      <td>0</td>\n",
       "      <td>0</td>\n",
       "      <td>0</td>\n",
       "      <td>0</td>\n",
       "      <td>0</td>\n",
       "      <td>0</td>\n",
       "      <td>0</td>\n",
       "      <td>0</td>\n",
       "      <td>0</td>\n",
       "      <td>0</td>\n",
       "      <td>0</td>\n",
       "    </tr>\n",
       "    <tr>\n",
       "      <th>2</th>\n",
       "      <td>1</td>\n",
       "      <td>0</td>\n",
       "      <td>1</td>\n",
       "      <td>0</td>\n",
       "      <td>0</td>\n",
       "      <td>0</td>\n",
       "      <td>0</td>\n",
       "      <td>0</td>\n",
       "      <td>0</td>\n",
       "      <td>0</td>\n",
       "      <td>1</td>\n",
       "      <td>0</td>\n",
       "      <td>0</td>\n",
       "      <td>0</td>\n",
       "      <td>0</td>\n",
       "      <td>0</td>\n",
       "      <td>0</td>\n",
       "      <td>0</td>\n",
       "      <td>0</td>\n",
       "      <td>0</td>\n",
       "    </tr>\n",
       "    <tr>\n",
       "      <th>3</th>\n",
       "      <td>1</td>\n",
       "      <td>0</td>\n",
       "      <td>0</td>\n",
       "      <td>0</td>\n",
       "      <td>1</td>\n",
       "      <td>0</td>\n",
       "      <td>0</td>\n",
       "      <td>0</td>\n",
       "      <td>1</td>\n",
       "      <td>0</td>\n",
       "      <td>0</td>\n",
       "      <td>0</td>\n",
       "      <td>0</td>\n",
       "      <td>0</td>\n",
       "      <td>0</td>\n",
       "      <td>0</td>\n",
       "      <td>0</td>\n",
       "      <td>0</td>\n",
       "      <td>0</td>\n",
       "      <td>0</td>\n",
       "    </tr>\n",
       "    <tr>\n",
       "      <th>4</th>\n",
       "      <td>1</td>\n",
       "      <td>0</td>\n",
       "      <td>1</td>\n",
       "      <td>0</td>\n",
       "      <td>0</td>\n",
       "      <td>0</td>\n",
       "      <td>0</td>\n",
       "      <td>0</td>\n",
       "      <td>0</td>\n",
       "      <td>0</td>\n",
       "      <td>1</td>\n",
       "      <td>0</td>\n",
       "      <td>0</td>\n",
       "      <td>0</td>\n",
       "      <td>0</td>\n",
       "      <td>0</td>\n",
       "      <td>0</td>\n",
       "      <td>0</td>\n",
       "      <td>0</td>\n",
       "      <td>0</td>\n",
       "    </tr>\n",
       "    <tr>\n",
       "      <th>...</th>\n",
       "      <td>...</td>\n",
       "      <td>...</td>\n",
       "      <td>...</td>\n",
       "      <td>...</td>\n",
       "      <td>...</td>\n",
       "      <td>...</td>\n",
       "      <td>...</td>\n",
       "      <td>...</td>\n",
       "      <td>...</td>\n",
       "      <td>...</td>\n",
       "      <td>...</td>\n",
       "      <td>...</td>\n",
       "      <td>...</td>\n",
       "      <td>...</td>\n",
       "      <td>...</td>\n",
       "      <td>...</td>\n",
       "      <td>...</td>\n",
       "      <td>...</td>\n",
       "      <td>...</td>\n",
       "      <td>...</td>\n",
       "    </tr>\n",
       "    <tr>\n",
       "      <th>88905</th>\n",
       "      <td>0</td>\n",
       "      <td>1</td>\n",
       "      <td>0</td>\n",
       "      <td>0</td>\n",
       "      <td>1</td>\n",
       "      <td>0</td>\n",
       "      <td>0</td>\n",
       "      <td>0</td>\n",
       "      <td>1</td>\n",
       "      <td>0</td>\n",
       "      <td>0</td>\n",
       "      <td>0</td>\n",
       "      <td>0</td>\n",
       "      <td>0</td>\n",
       "      <td>0</td>\n",
       "      <td>0</td>\n",
       "      <td>0</td>\n",
       "      <td>0</td>\n",
       "      <td>0</td>\n",
       "      <td>0</td>\n",
       "    </tr>\n",
       "    <tr>\n",
       "      <th>88906</th>\n",
       "      <td>0</td>\n",
       "      <td>1</td>\n",
       "      <td>1</td>\n",
       "      <td>0</td>\n",
       "      <td>0</td>\n",
       "      <td>0</td>\n",
       "      <td>0</td>\n",
       "      <td>0</td>\n",
       "      <td>1</td>\n",
       "      <td>0</td>\n",
       "      <td>0</td>\n",
       "      <td>0</td>\n",
       "      <td>0</td>\n",
       "      <td>0</td>\n",
       "      <td>0</td>\n",
       "      <td>0</td>\n",
       "      <td>0</td>\n",
       "      <td>0</td>\n",
       "      <td>0</td>\n",
       "      <td>0</td>\n",
       "    </tr>\n",
       "    <tr>\n",
       "      <th>88907</th>\n",
       "      <td>0</td>\n",
       "      <td>1</td>\n",
       "      <td>1</td>\n",
       "      <td>0</td>\n",
       "      <td>0</td>\n",
       "      <td>0</td>\n",
       "      <td>0</td>\n",
       "      <td>0</td>\n",
       "      <td>1</td>\n",
       "      <td>0</td>\n",
       "      <td>0</td>\n",
       "      <td>0</td>\n",
       "      <td>0</td>\n",
       "      <td>0</td>\n",
       "      <td>0</td>\n",
       "      <td>0</td>\n",
       "      <td>0</td>\n",
       "      <td>0</td>\n",
       "      <td>0</td>\n",
       "      <td>0</td>\n",
       "    </tr>\n",
       "    <tr>\n",
       "      <th>88908</th>\n",
       "      <td>1</td>\n",
       "      <td>0</td>\n",
       "      <td>0</td>\n",
       "      <td>0</td>\n",
       "      <td>1</td>\n",
       "      <td>0</td>\n",
       "      <td>0</td>\n",
       "      <td>0</td>\n",
       "      <td>1</td>\n",
       "      <td>0</td>\n",
       "      <td>0</td>\n",
       "      <td>0</td>\n",
       "      <td>0</td>\n",
       "      <td>0</td>\n",
       "      <td>0</td>\n",
       "      <td>0</td>\n",
       "      <td>0</td>\n",
       "      <td>0</td>\n",
       "      <td>0</td>\n",
       "      <td>0</td>\n",
       "    </tr>\n",
       "    <tr>\n",
       "      <th>88909</th>\n",
       "      <td>0</td>\n",
       "      <td>1</td>\n",
       "      <td>0</td>\n",
       "      <td>0</td>\n",
       "      <td>1</td>\n",
       "      <td>0</td>\n",
       "      <td>0</td>\n",
       "      <td>0</td>\n",
       "      <td>1</td>\n",
       "      <td>0</td>\n",
       "      <td>0</td>\n",
       "      <td>0</td>\n",
       "      <td>0</td>\n",
       "      <td>0</td>\n",
       "      <td>0</td>\n",
       "      <td>0</td>\n",
       "      <td>0</td>\n",
       "      <td>0</td>\n",
       "      <td>0</td>\n",
       "      <td>0</td>\n",
       "    </tr>\n",
       "  </tbody>\n",
       "</table>\n",
       "<p>88910 rows × 20 columns</p>\n",
       "</div>"
      ],
      "text/plain": [
       "       Loan Status_Charged Off  Loan Status_Fully Paid  \\\n",
       "0                            1                       0   \n",
       "1                            1                       0   \n",
       "2                            1                       0   \n",
       "3                            1                       0   \n",
       "4                            1                       0   \n",
       "...                        ...                     ...   \n",
       "88905                        0                       1   \n",
       "88906                        0                       1   \n",
       "88907                        0                       1   \n",
       "88908                        1                       0   \n",
       "88909                        0                       1   \n",
       "\n",
       "       Home Ownership_Home Mortgage  Home Ownership_Own Home  \\\n",
       "0                                 0                        0   \n",
       "1                                 1                        0   \n",
       "2                                 1                        0   \n",
       "3                                 0                        0   \n",
       "4                                 1                        0   \n",
       "...                             ...                      ...   \n",
       "88905                             0                        0   \n",
       "88906                             1                        0   \n",
       "88907                             1                        0   \n",
       "88908                             0                        0   \n",
       "88909                             0                        0   \n",
       "\n",
       "       Home Ownership_Rent  Purpose_Business Loan  Purpose_Buy House  \\\n",
       "0                        1                      0                  0   \n",
       "1                        0                      0                  0   \n",
       "2                        0                      0                  0   \n",
       "3                        1                      0                  0   \n",
       "4                        0                      0                  0   \n",
       "...                    ...                    ...                ...   \n",
       "88905                    1                      0                  0   \n",
       "88906                    0                      0                  0   \n",
       "88907                    0                      0                  0   \n",
       "88908                    1                      0                  0   \n",
       "88909                    1                      0                  0   \n",
       "\n",
       "       Purpose_Buy a Car  Purpose_Debt Consolidation  \\\n",
       "0                      0                           1   \n",
       "1                      0                           1   \n",
       "2                      0                           0   \n",
       "3                      0                           1   \n",
       "4                      0                           0   \n",
       "...                  ...                         ...   \n",
       "88905                  0                           1   \n",
       "88906                  0                           1   \n",
       "88907                  0                           1   \n",
       "88908                  0                           1   \n",
       "88909                  0                           1   \n",
       "\n",
       "       Purpose_Educational Expenses  Purpose_Home Improvements  \\\n",
       "0                                 0                          0   \n",
       "1                                 0                          0   \n",
       "2                                 0                          1   \n",
       "3                                 0                          0   \n",
       "4                                 0                          1   \n",
       "...                             ...                        ...   \n",
       "88905                             0                          0   \n",
       "88906                             0                          0   \n",
       "88907                             0                          0   \n",
       "88908                             0                          0   \n",
       "88909                             0                          0   \n",
       "\n",
       "       Purpose_Medical Bills  Purpose_Take a Trip  Purpose_major_purchase  \\\n",
       "0                          0                    0                       0   \n",
       "1                          0                    0                       0   \n",
       "2                          0                    0                       0   \n",
       "3                          0                    0                       0   \n",
       "4                          0                    0                       0   \n",
       "...                      ...                  ...                     ...   \n",
       "88905                      0                    0                       0   \n",
       "88906                      0                    0                       0   \n",
       "88907                      0                    0                       0   \n",
       "88908                      0                    0                       0   \n",
       "88909                      0                    0                       0   \n",
       "\n",
       "       Purpose_moving  Purpose_other  Purpose_renewable_energy  \\\n",
       "0                   0              0                         0   \n",
       "1                   0              0                         0   \n",
       "2                   0              0                         0   \n",
       "3                   0              0                         0   \n",
       "4                   0              0                         0   \n",
       "...               ...            ...                       ...   \n",
       "88905               0              0                         0   \n",
       "88906               0              0                         0   \n",
       "88907               0              0                         0   \n",
       "88908               0              0                         0   \n",
       "88909               0              0                         0   \n",
       "\n",
       "       Purpose_small_business  Purpose_vacation  Purpose_wedding  \n",
       "0                           0                 0                0  \n",
       "1                           0                 0                0  \n",
       "2                           0                 0                0  \n",
       "3                           0                 0                0  \n",
       "4                           0                 0                0  \n",
       "...                       ...               ...              ...  \n",
       "88905                       0                 0                0  \n",
       "88906                       0                 0                0  \n",
       "88907                       0                 0                0  \n",
       "88908                       0                 0                0  \n",
       "88909                       0                 0                0  \n",
       "\n",
       "[88910 rows x 20 columns]"
      ]
     },
     "execution_count": 569,
     "metadata": {},
     "output_type": "execute_result"
    }
   ],
   "source": [
    "cat1 = pd.get_dummies(data[['Loan Status','Home Ownership','Purpose']],prefix=['Loan Status','Home Ownership','Purpose']) \n",
    "cat1"
   ]
  },
  {
   "cell_type": "code",
   "execution_count": 570,
   "id": "d7e48c05",
   "metadata": {},
   "outputs": [
    {
     "data": {
      "text/plain": [
       "Index(['Current Loan Amount', 'Term', 'Credit Score', 'Years in current job',\n",
       "       'Annual Income', 'Monthly Debt', 'Years of Credit History',\n",
       "       'Months since last delinquent', 'Number of Open Accounts',\n",
       "       'Number of Credit Problems', 'Current Credit Balance',\n",
       "       'Maximum Open Credit', 'Bankruptcies', 'Tax Liens',\n",
       "       'Loan Status_Charged Off', 'Loan Status_Fully Paid',\n",
       "       'Home Ownership_Home Mortgage', 'Home Ownership_Own Home',\n",
       "       'Home Ownership_Rent', 'Purpose_Business Loan', 'Purpose_Buy House',\n",
       "       'Purpose_Buy a Car', 'Purpose_Debt Consolidation',\n",
       "       'Purpose_Educational Expenses', 'Purpose_Home Improvements',\n",
       "       'Purpose_Medical Bills', 'Purpose_Take a Trip',\n",
       "       'Purpose_major_purchase', 'Purpose_moving', 'Purpose_other',\n",
       "       'Purpose_renewable_energy', 'Purpose_small_business',\n",
       "       'Purpose_vacation', 'Purpose_wedding'],\n",
       "      dtype='object')"
      ]
     },
     "execution_count": 570,
     "metadata": {},
     "output_type": "execute_result"
    }
   ],
   "source": [
    "join1= [num1,cat1] \n",
    "data_before_knn = pd.concat(join1,axis=1,join='inner')  #combing the one hot encoded categorical variable to rest of the predictors\n",
    "data_before_knn.columns"
   ]
  },
  {
   "cell_type": "code",
   "execution_count": 571,
   "id": "f8538046",
   "metadata": {},
   "outputs": [
    {
     "data": {
      "text/html": [
       "<div>\n",
       "<style scoped>\n",
       "    .dataframe tbody tr th:only-of-type {\n",
       "        vertical-align: middle;\n",
       "    }\n",
       "\n",
       "    .dataframe tbody tr th {\n",
       "        vertical-align: top;\n",
       "    }\n",
       "\n",
       "    .dataframe thead th {\n",
       "        text-align: right;\n",
       "    }\n",
       "</style>\n",
       "<table border=\"1\" class=\"dataframe\">\n",
       "  <thead>\n",
       "    <tr style=\"text-align: right;\">\n",
       "      <th></th>\n",
       "      <th>Current Loan Amount</th>\n",
       "      <th>Term</th>\n",
       "      <th>Credit Score</th>\n",
       "      <th>Years in current job</th>\n",
       "      <th>Annual Income</th>\n",
       "      <th>Monthly Debt</th>\n",
       "      <th>Years of Credit History</th>\n",
       "      <th>Months since last delinquent</th>\n",
       "      <th>Number of Open Accounts</th>\n",
       "      <th>Number of Credit Problems</th>\n",
       "      <th>...</th>\n",
       "      <th>Purpose_Home Improvements</th>\n",
       "      <th>Purpose_Medical Bills</th>\n",
       "      <th>Purpose_Take a Trip</th>\n",
       "      <th>Purpose_major_purchase</th>\n",
       "      <th>Purpose_moving</th>\n",
       "      <th>Purpose_other</th>\n",
       "      <th>Purpose_renewable_energy</th>\n",
       "      <th>Purpose_small_business</th>\n",
       "      <th>Purpose_vacation</th>\n",
       "      <th>Purpose_wedding</th>\n",
       "    </tr>\n",
       "  </thead>\n",
       "  <tbody>\n",
       "    <tr>\n",
       "      <th>0</th>\n",
       "      <td>0.000117</td>\n",
       "      <td>0.0</td>\n",
       "      <td>0.861446</td>\n",
       "      <td>0.0</td>\n",
       "      <td>0.004892</td>\n",
       "      <td>0.033889</td>\n",
       "      <td>0.215247</td>\n",
       "      <td>0.056818</td>\n",
       "      <td>0.157895</td>\n",
       "      <td>0.000000</td>\n",
       "      <td>...</td>\n",
       "      <td>0.0</td>\n",
       "      <td>0.0</td>\n",
       "      <td>0.0</td>\n",
       "      <td>0.0</td>\n",
       "      <td>0.0</td>\n",
       "      <td>0.0</td>\n",
       "      <td>0.0</td>\n",
       "      <td>0.0</td>\n",
       "      <td>0.0</td>\n",
       "      <td>0.0</td>\n",
       "    </tr>\n",
       "    <tr>\n",
       "      <th>1</th>\n",
       "      <td>0.000245</td>\n",
       "      <td>1.0</td>\n",
       "      <td>0.891566</td>\n",
       "      <td>1.0</td>\n",
       "      <td>0.008848</td>\n",
       "      <td>0.038889</td>\n",
       "      <td>0.345291</td>\n",
       "      <td>NaN</td>\n",
       "      <td>0.184211</td>\n",
       "      <td>0.000000</td>\n",
       "      <td>...</td>\n",
       "      <td>0.0</td>\n",
       "      <td>0.0</td>\n",
       "      <td>0.0</td>\n",
       "      <td>0.0</td>\n",
       "      <td>0.0</td>\n",
       "      <td>0.0</td>\n",
       "      <td>0.0</td>\n",
       "      <td>0.0</td>\n",
       "      <td>0.0</td>\n",
       "      <td>0.0</td>\n",
       "    </tr>\n",
       "    <tr>\n",
       "      <th>2</th>\n",
       "      <td>0.000156</td>\n",
       "      <td>0.0</td>\n",
       "      <td>0.837349</td>\n",
       "      <td>0.9</td>\n",
       "      <td>0.006476</td>\n",
       "      <td>0.054231</td>\n",
       "      <td>0.195815</td>\n",
       "      <td>0.181818</td>\n",
       "      <td>0.144737</td>\n",
       "      <td>0.066667</td>\n",
       "      <td>...</td>\n",
       "      <td>1.0</td>\n",
       "      <td>0.0</td>\n",
       "      <td>0.0</td>\n",
       "      <td>0.0</td>\n",
       "      <td>0.0</td>\n",
       "      <td>0.0</td>\n",
       "      <td>0.0</td>\n",
       "      <td>0.0</td>\n",
       "      <td>0.0</td>\n",
       "      <td>0.0</td>\n",
       "    </tr>\n",
       "    <tr>\n",
       "      <th>3</th>\n",
       "      <td>0.000112</td>\n",
       "      <td>0.0</td>\n",
       "      <td>0.933735</td>\n",
       "      <td>0.3</td>\n",
       "      <td>0.003460</td>\n",
       "      <td>0.043199</td>\n",
       "      <td>0.095665</td>\n",
       "      <td>NaN</td>\n",
       "      <td>0.276316</td>\n",
       "      <td>0.000000</td>\n",
       "      <td>...</td>\n",
       "      <td>0.0</td>\n",
       "      <td>0.0</td>\n",
       "      <td>0.0</td>\n",
       "      <td>0.0</td>\n",
       "      <td>0.0</td>\n",
       "      <td>0.0</td>\n",
       "      <td>0.0</td>\n",
       "      <td>0.0</td>\n",
       "      <td>0.0</td>\n",
       "      <td>0.0</td>\n",
       "    </tr>\n",
       "    <tr>\n",
       "      <th>4</th>\n",
       "      <td>0.000093</td>\n",
       "      <td>1.0</td>\n",
       "      <td>0.608434</td>\n",
       "      <td>1.0</td>\n",
       "      <td>0.004934</td>\n",
       "      <td>0.021959</td>\n",
       "      <td>0.195815</td>\n",
       "      <td>0.142045</td>\n",
       "      <td>0.171053</td>\n",
       "      <td>0.066667</td>\n",
       "      <td>...</td>\n",
       "      <td>1.0</td>\n",
       "      <td>0.0</td>\n",
       "      <td>0.0</td>\n",
       "      <td>0.0</td>\n",
       "      <td>0.0</td>\n",
       "      <td>0.0</td>\n",
       "      <td>0.0</td>\n",
       "      <td>0.0</td>\n",
       "      <td>0.0</td>\n",
       "      <td>0.0</td>\n",
       "    </tr>\n",
       "    <tr>\n",
       "      <th>...</th>\n",
       "      <td>...</td>\n",
       "      <td>...</td>\n",
       "      <td>...</td>\n",
       "      <td>...</td>\n",
       "      <td>...</td>\n",
       "      <td>...</td>\n",
       "      <td>...</td>\n",
       "      <td>...</td>\n",
       "      <td>...</td>\n",
       "      <td>...</td>\n",
       "      <td>...</td>\n",
       "      <td>...</td>\n",
       "      <td>...</td>\n",
       "      <td>...</td>\n",
       "      <td>...</td>\n",
       "      <td>...</td>\n",
       "      <td>...</td>\n",
       "      <td>...</td>\n",
       "      <td>...</td>\n",
       "      <td>...</td>\n",
       "      <td>...</td>\n",
       "    </tr>\n",
       "    <tr>\n",
       "      <th>88905</th>\n",
       "      <td>0.000096</td>\n",
       "      <td>0.0</td>\n",
       "      <td>0.861446</td>\n",
       "      <td>1.0</td>\n",
       "      <td>0.003610</td>\n",
       "      <td>0.024745</td>\n",
       "      <td>0.263079</td>\n",
       "      <td>0.079545</td>\n",
       "      <td>0.184211</td>\n",
       "      <td>0.000000</td>\n",
       "      <td>...</td>\n",
       "      <td>0.0</td>\n",
       "      <td>0.0</td>\n",
       "      <td>0.0</td>\n",
       "      <td>0.0</td>\n",
       "      <td>0.0</td>\n",
       "      <td>0.0</td>\n",
       "      <td>0.0</td>\n",
       "      <td>0.0</td>\n",
       "      <td>0.0</td>\n",
       "      <td>0.0</td>\n",
       "    </tr>\n",
       "    <tr>\n",
       "      <th>88906</th>\n",
       "      <td>0.000291</td>\n",
       "      <td>0.0</td>\n",
       "      <td>0.753012</td>\n",
       "      <td>1.0</td>\n",
       "      <td>0.013702</td>\n",
       "      <td>0.109360</td>\n",
       "      <td>0.170404</td>\n",
       "      <td>0.090909</td>\n",
       "      <td>0.144737</td>\n",
       "      <td>0.000000</td>\n",
       "      <td>...</td>\n",
       "      <td>0.0</td>\n",
       "      <td>0.0</td>\n",
       "      <td>0.0</td>\n",
       "      <td>0.0</td>\n",
       "      <td>0.0</td>\n",
       "      <td>0.0</td>\n",
       "      <td>0.0</td>\n",
       "      <td>0.0</td>\n",
       "      <td>0.0</td>\n",
       "      <td>0.0</td>\n",
       "    </tr>\n",
       "    <tr>\n",
       "      <th>88907</th>\n",
       "      <td>0.000239</td>\n",
       "      <td>0.0</td>\n",
       "      <td>0.969880</td>\n",
       "      <td>1.0</td>\n",
       "      <td>0.007706</td>\n",
       "      <td>0.035668</td>\n",
       "      <td>0.490284</td>\n",
       "      <td>0.051136</td>\n",
       "      <td>0.105263</td>\n",
       "      <td>0.000000</td>\n",
       "      <td>...</td>\n",
       "      <td>0.0</td>\n",
       "      <td>0.0</td>\n",
       "      <td>0.0</td>\n",
       "      <td>0.0</td>\n",
       "      <td>0.0</td>\n",
       "      <td>0.0</td>\n",
       "      <td>0.0</td>\n",
       "      <td>0.0</td>\n",
       "      <td>0.0</td>\n",
       "      <td>0.0</td>\n",
       "    </tr>\n",
       "    <tr>\n",
       "      <th>88908</th>\n",
       "      <td>0.000045</td>\n",
       "      <td>0.0</td>\n",
       "      <td>0.825301</td>\n",
       "      <td>1.0</td>\n",
       "      <td>0.002456</td>\n",
       "      <td>0.015701</td>\n",
       "      <td>0.230194</td>\n",
       "      <td>0.039773</td>\n",
       "      <td>0.157895</td>\n",
       "      <td>0.000000</td>\n",
       "      <td>...</td>\n",
       "      <td>0.0</td>\n",
       "      <td>0.0</td>\n",
       "      <td>0.0</td>\n",
       "      <td>0.0</td>\n",
       "      <td>0.0</td>\n",
       "      <td>0.0</td>\n",
       "      <td>0.0</td>\n",
       "      <td>0.0</td>\n",
       "      <td>0.0</td>\n",
       "      <td>0.0</td>\n",
       "    </tr>\n",
       "    <tr>\n",
       "      <th>88909</th>\n",
       "      <td>0.000180</td>\n",
       "      <td>0.0</td>\n",
       "      <td>0.801205</td>\n",
       "      <td>0.6</td>\n",
       "      <td>0.004596</td>\n",
       "      <td>0.032657</td>\n",
       "      <td>0.106129</td>\n",
       "      <td>NaN</td>\n",
       "      <td>0.236842</td>\n",
       "      <td>0.066667</td>\n",
       "      <td>...</td>\n",
       "      <td>0.0</td>\n",
       "      <td>0.0</td>\n",
       "      <td>0.0</td>\n",
       "      <td>0.0</td>\n",
       "      <td>0.0</td>\n",
       "      <td>0.0</td>\n",
       "      <td>0.0</td>\n",
       "      <td>0.0</td>\n",
       "      <td>0.0</td>\n",
       "      <td>0.0</td>\n",
       "    </tr>\n",
       "  </tbody>\n",
       "</table>\n",
       "<p>88910 rows × 34 columns</p>\n",
       "</div>"
      ],
      "text/plain": [
       "       Current Loan Amount  Term  Credit Score  Years in current job  \\\n",
       "0                 0.000117   0.0      0.861446                   0.0   \n",
       "1                 0.000245   1.0      0.891566                   1.0   \n",
       "2                 0.000156   0.0      0.837349                   0.9   \n",
       "3                 0.000112   0.0      0.933735                   0.3   \n",
       "4                 0.000093   1.0      0.608434                   1.0   \n",
       "...                    ...   ...           ...                   ...   \n",
       "88905             0.000096   0.0      0.861446                   1.0   \n",
       "88906             0.000291   0.0      0.753012                   1.0   \n",
       "88907             0.000239   0.0      0.969880                   1.0   \n",
       "88908             0.000045   0.0      0.825301                   1.0   \n",
       "88909             0.000180   0.0      0.801205                   0.6   \n",
       "\n",
       "       Annual Income  Monthly Debt  Years of Credit History  \\\n",
       "0           0.004892      0.033889                 0.215247   \n",
       "1           0.008848      0.038889                 0.345291   \n",
       "2           0.006476      0.054231                 0.195815   \n",
       "3           0.003460      0.043199                 0.095665   \n",
       "4           0.004934      0.021959                 0.195815   \n",
       "...              ...           ...                      ...   \n",
       "88905       0.003610      0.024745                 0.263079   \n",
       "88906       0.013702      0.109360                 0.170404   \n",
       "88907       0.007706      0.035668                 0.490284   \n",
       "88908       0.002456      0.015701                 0.230194   \n",
       "88909       0.004596      0.032657                 0.106129   \n",
       "\n",
       "       Months since last delinquent  Number of Open Accounts  \\\n",
       "0                          0.056818                 0.157895   \n",
       "1                               NaN                 0.184211   \n",
       "2                          0.181818                 0.144737   \n",
       "3                               NaN                 0.276316   \n",
       "4                          0.142045                 0.171053   \n",
       "...                             ...                      ...   \n",
       "88905                      0.079545                 0.184211   \n",
       "88906                      0.090909                 0.144737   \n",
       "88907                      0.051136                 0.105263   \n",
       "88908                      0.039773                 0.157895   \n",
       "88909                           NaN                 0.236842   \n",
       "\n",
       "       Number of Credit Problems  ...  Purpose_Home Improvements  \\\n",
       "0                       0.000000  ...                        0.0   \n",
       "1                       0.000000  ...                        0.0   \n",
       "2                       0.066667  ...                        1.0   \n",
       "3                       0.000000  ...                        0.0   \n",
       "4                       0.066667  ...                        1.0   \n",
       "...                          ...  ...                        ...   \n",
       "88905                   0.000000  ...                        0.0   \n",
       "88906                   0.000000  ...                        0.0   \n",
       "88907                   0.000000  ...                        0.0   \n",
       "88908                   0.000000  ...                        0.0   \n",
       "88909                   0.066667  ...                        0.0   \n",
       "\n",
       "       Purpose_Medical Bills  Purpose_Take a Trip  Purpose_major_purchase  \\\n",
       "0                        0.0                  0.0                     0.0   \n",
       "1                        0.0                  0.0                     0.0   \n",
       "2                        0.0                  0.0                     0.0   \n",
       "3                        0.0                  0.0                     0.0   \n",
       "4                        0.0                  0.0                     0.0   \n",
       "...                      ...                  ...                     ...   \n",
       "88905                    0.0                  0.0                     0.0   \n",
       "88906                    0.0                  0.0                     0.0   \n",
       "88907                    0.0                  0.0                     0.0   \n",
       "88908                    0.0                  0.0                     0.0   \n",
       "88909                    0.0                  0.0                     0.0   \n",
       "\n",
       "       Purpose_moving  Purpose_other  Purpose_renewable_energy  \\\n",
       "0                 0.0            0.0                       0.0   \n",
       "1                 0.0            0.0                       0.0   \n",
       "2                 0.0            0.0                       0.0   \n",
       "3                 0.0            0.0                       0.0   \n",
       "4                 0.0            0.0                       0.0   \n",
       "...               ...            ...                       ...   \n",
       "88905             0.0            0.0                       0.0   \n",
       "88906             0.0            0.0                       0.0   \n",
       "88907             0.0            0.0                       0.0   \n",
       "88908             0.0            0.0                       0.0   \n",
       "88909             0.0            0.0                       0.0   \n",
       "\n",
       "       Purpose_small_business  Purpose_vacation  Purpose_wedding  \n",
       "0                         0.0               0.0              0.0  \n",
       "1                         0.0               0.0              0.0  \n",
       "2                         0.0               0.0              0.0  \n",
       "3                         0.0               0.0              0.0  \n",
       "4                         0.0               0.0              0.0  \n",
       "...                       ...               ...              ...  \n",
       "88905                     0.0               0.0              0.0  \n",
       "88906                     0.0               0.0              0.0  \n",
       "88907                     0.0               0.0              0.0  \n",
       "88908                     0.0               0.0              0.0  \n",
       "88909                     0.0               0.0              0.0  \n",
       "\n",
       "[88910 rows x 34 columns]"
      ]
     },
     "execution_count": 571,
     "metadata": {},
     "output_type": "execute_result"
    }
   ],
   "source": [
    "#Standardizing the data using minMax scalar so that KNN cant be biased\n",
    "# import module\n",
    "from sklearn.preprocessing import MinMaxScaler\n",
    "\n",
    "# scale features\n",
    "scaler = MinMaxScaler()\n",
    "model=scaler.fit(data_before_knn)\n",
    "scaled_data=model.transform(data_before_knn)\n",
    " \n",
    "# creating a data frame to put into KNN imputer\n",
    "scaled_before_knn=pd.DataFrame(scaled_data,columns=data_before_knn.columns)\n",
    "scaled_before_knn"
   ]
  },
  {
   "cell_type": "code",
   "execution_count": 572,
   "id": "62baf960",
   "metadata": {},
   "outputs": [],
   "source": [
    "# import the KNNimputer class\n",
    "#from sklearn.impute import KNNImputer"
   ]
  },
  {
   "cell_type": "code",
   "execution_count": 573,
   "id": "55f9fd4e",
   "metadata": {},
   "outputs": [],
   "source": [
    "# # # create an object for KNNImputer\n",
    "# imputer = KNNImputer(n_neighbors=1)\n",
    "# data_after_imputation = imputer.fit_transform(scaled_before_knn)"
   ]
  },
  {
   "cell_type": "code",
   "execution_count": 574,
   "id": "6969a22e",
   "metadata": {},
   "outputs": [],
   "source": [
    "#Inverse transform of Knn Imputed File\n",
    "#knn_imputed_data=pd.DataFrame(scaler.inverse_transform(data_after_imputation),columns=data_before_knn.columns)"
   ]
  },
  {
   "cell_type": "code",
   "execution_count": 575,
   "id": "71865d33",
   "metadata": {},
   "outputs": [],
   "source": [
    "# data_after_imputation1  = pd.DataFrame(knn_imputed_data)\n",
    "# data_after_imputation1"
   ]
  },
  {
   "cell_type": "code",
   "execution_count": 576,
   "id": "87145756",
   "metadata": {},
   "outputs": [],
   "source": [
    "#data_after_imputation1 .isnull().sum()"
   ]
  },
  {
   "cell_type": "code",
   "execution_count": 577,
   "id": "9393331b",
   "metadata": {},
   "outputs": [],
   "source": [
    "#knn_imputed_data.columns"
   ]
  },
  {
   "cell_type": "code",
   "execution_count": 578,
   "id": "e6af795b",
   "metadata": {},
   "outputs": [],
   "source": [
    "# knn_imputed_data = knn_imputed_data.drop(['Loan Status_Charged Off', 'Loan Status_Fully Paid',\n",
    "#        'Home Ownership_Home Mortgage', 'Home Ownership_Own Home',\n",
    "#        'Home Ownership_Rent', 'Purpose_Business Loan', 'Purpose_Buy House',\n",
    "#        'Purpose_Buy a Car', 'Purpose_Debt Consolidation',\n",
    "#        'Purpose_Educational Expenses', 'Purpose_Home Improvements',\n",
    "#        'Purpose_Medical Bills', 'Purpose_Take a Trip',\n",
    "#        'Purpose_major_purchase', 'Purpose_moving', 'Purpose_other',\n",
    "#        'Purpose_renewable_energy', 'Purpose_small_business',\n",
    "#        'Purpose_vacation', 'Purpose_wedding'],axis=1)"
   ]
  },
  {
   "cell_type": "code",
   "execution_count": 579,
   "id": "cb45606c",
   "metadata": {},
   "outputs": [],
   "source": [
    "# #saving the dataframe\n",
    "# knn_imputed_data.to_csv('knn_imputed_data.csv')"
   ]
  },
  {
   "cell_type": "code",
   "execution_count": 580,
   "id": "636b1d3e",
   "metadata": {},
   "outputs": [],
   "source": [
    "# cat = data.select_dtypes(include='object')\n",
    "# cat"
   ]
  },
  {
   "cell_type": "code",
   "execution_count": 581,
   "id": "d6e300c2",
   "metadata": {},
   "outputs": [],
   "source": [
    "# final_imputed_loanData =pd.concat([cat, knn_imputed_data], axis=1)\n",
    "# final_imputed_loanData"
   ]
  },
  {
   "cell_type": "code",
   "execution_count": 582,
   "id": "b5ba2fe6",
   "metadata": {},
   "outputs": [],
   "source": [
    "# #saving the dataframe\n",
    "# final_imputed_loanData.to_csv('final_imputed_loanData.csv')"
   ]
  },
  {
   "cell_type": "code",
   "execution_count": 583,
   "id": "ae125817",
   "metadata": {},
   "outputs": [],
   "source": [
    "#final_imputed_loanData"
   ]
  },
  {
   "cell_type": "code",
   "execution_count": 584,
   "id": "f9487f8e",
   "metadata": {},
   "outputs": [
    {
     "data": {
      "text/plain": [
       "Index(['Unnamed: 0', 'Loan Status', 'Home Ownership', 'Purpose',\n",
       "       'Current Loan Amount', 'Term', 'Credit Score', 'Years in current job',\n",
       "       'Annual Income', 'Monthly Debt', 'Years of Credit History',\n",
       "       'Months since last delinquent', 'Number of Open Accounts',\n",
       "       'Number of Credit Problems', 'Current Credit Balance',\n",
       "       'Maximum Open Credit', 'Bankruptcies', 'Tax Liens'],\n",
       "      dtype='object')"
      ]
     },
     "execution_count": 584,
     "metadata": {},
     "output_type": "execute_result"
    }
   ],
   "source": [
    "final_imputed_loanData = pd.read_csv(\"final_imputed_loanData.csv\")\n",
    "final_imputed_loanData.columns"
   ]
  },
  {
   "cell_type": "code",
   "execution_count": 585,
   "id": "6122d810",
   "metadata": {},
   "outputs": [],
   "source": [
    "final_imputed_loanData = final_imputed_loanData.drop([\"Unnamed: 0\"],axis=1)"
   ]
  },
  {
   "cell_type": "markdown",
   "id": "2fbf7dc8",
   "metadata": {},
   "source": [
    "# Exploratory Data Analysis"
   ]
  },
  {
   "cell_type": "markdown",
   "id": "3a2ad512",
   "metadata": {},
   "source": [
    "- Uni-variate Analysis of Numerical Variable"
   ]
  },
  {
   "cell_type": "code",
   "execution_count": 586,
   "id": "a26cc66d",
   "metadata": {},
   "outputs": [],
   "source": [
    "num = final_imputed_loanData.select_dtypes(exclude='object')"
   ]
  },
  {
   "cell_type": "code",
   "execution_count": 587,
   "id": "009a2316",
   "metadata": {
    "scrolled": false
   },
   "outputs": [
    {
     "data": {
      "image/png": "[encoded data removed]",
      "text/plain": [
       "<Figure size 720x360 with 1 Axes>"
      ]
     },
     "metadata": {
      "needs_background": "light"
     },
     "output_type": "display_data"
    },
    {
     "data": {
      "image/png": "[encoded data removed]",
      "text/plain": [
       "<Figure size 360x288 with 1 Axes>"
      ]
     },
     "metadata": {
      "needs_background": "light"
     },
     "output_type": "display_data"
    },
    {
     "data": {
      "image/png": "[encoded data removed]",
      "text/plain": [
       "<Figure size 720x360 with 1 Axes>"
      ]
     },
     "metadata": {
      "needs_background": "light"
     },
     "output_type": "display_data"
    },
    {
     "data": {
      "image/png": "[encoded data removed]",
      "text/plain": [
       "<Figure size 360x288 with 1 Axes>"
      ]
     },
     "metadata": {
      "needs_background": "light"
     },
     "output_type": "display_data"
    },
    {
     "data": {
      "image/png": "[encoded data removed]",
      "text/plain": [
       "<Figure size 720x360 with 1 Axes>"
      ]
     },
     "metadata": {
      "needs_background": "light"
     },
     "output_type": "display_data"
    },
    {
     "data": {
      "image/png": "[encoded data removed]",
      "text/plain": [
       "<Figure size 360x288 with 1 Axes>"
      ]
     },
     "metadata": {
      "needs_background": "light"
     },
     "output_type": "display_data"
    },
    {
     "data": {
      "image/png": "[encoded data removed]",
      "text/plain": [
       "<Figure size 720x360 with 1 Axes>"
      ]
     },
     "metadata": {
      "needs_background": "light"
     },
     "output_type": "display_data"
    },
    {
     "data": {
      "image/png": "[encoded data removed]",
      "text/plain": [
       "<Figure size 360x288 with 1 Axes>"
      ]
     },
     "metadata": {
      "needs_background": "light"
     },
     "output_type": "display_data"
    },
    {
     "data": {
      "image/png": "[encoded data removed]",
      "text/plain": [
       "<Figure size 720x360 with 1 Axes>"
      ]
     },
     "metadata": {
      "needs_background": "light"
     },
     "output_type": "display_data"
    },
    {
     "data": {
      "image/png": "[encoded data removed]",
      "text/plain": [
       "<Figure size 360x288 with 1 Axes>"
      ]
     },
     "metadata": {
      "needs_background": "light"
     },
     "output_type": "display_data"
    },
    {
     "data": {
      "image/png": "[encoded data removed]",
      "text/plain": [
       "<Figure size 720x360 with 1 Axes>"
      ]
     },
     "metadata": {
      "needs_background": "light"
     },
     "output_type": "display_data"
    },
    {
     "data": {
      "image/png": "[encoded data removed]",
      "text/plain": [
       "<Figure size 360x288 with 1 Axes>"
      ]
     },
     "metadata": {
      "needs_background": "light"
     },
     "output_type": "display_data"
    },
    {
     "data": {
      "image/png": "[encoded data removed]",
      "text/plain": [
       "<Figure size 720x360 with 1 Axes>"
      ]
     },
     "metadata": {
      "needs_background": "light"
     },
     "output_type": "display_data"
    },
    {
     "data": {
      "image/png": "[encoded data removed]",
      "text/plain": [
       "<Figure size 360x288 with 1 Axes>"
      ]
     },
     "metadata": {
      "needs_background": "light"
     },
     "output_type": "display_data"
    },
    {
     "data": {
      "image/png": "[encoded data removed]",
      "text/plain": [
       "<Figure size 720x360 with 1 Axes>"
      ]
     },
     "metadata": {
      "needs_background": "light"
     },
     "output_type": "display_data"
    },
    {
     "data": {
      "image/png": "[encoded data removed]",
      "text/plain": [
       "<Figure size 360x288 with 1 Axes>"
      ]
     },
     "metadata": {
      "needs_background": "light"
     },
     "output_type": "display_data"
    },
    {
     "data": {
      "image/png": "[encoded data removed]",
      "text/plain": [
       "<Figure size 720x360 with 1 Axes>"
      ]
     },
     "metadata": {
      "needs_background": "light"
     },
     "output_type": "display_data"
    },
    {
     "data": {
      "image/png": "[encoded data removed]",
      "text/plain": [
       "<Figure size 360x288 with 1 Axes>"
      ]
     },
     "metadata": {
      "needs_background": "light"
     },
     "output_type": "display_data"
    },
    {
     "data": {
      "image/png": "[encoded data removed]",
      "text/plain": [
       "<Figure size 720x360 with 1 Axes>"
      ]
     },
     "metadata": {
      "needs_background": "light"
     },
     "output_type": "display_data"
    },
    {
     "data": {
      "image/png": "[encoded data removed]",
      "text/plain": [
       "<Figure size 360x288 with 1 Axes>"
      ]
     },
     "metadata": {
      "needs_background": "light"
     },
     "output_type": "display_data"
    },
    {
     "data": {
      "image/png": "[encoded data removed]",
      "text/plain": [
       "<Figure size 720x360 with 1 Axes>"
      ]
     },
     "metadata": {
      "needs_background": "light"
     },
     "output_type": "display_data"
    },
    {
     "data": {
      "image/png": "[encoded data removed]",
      "text/plain": [
       "<Figure size 360x288 with 1 Axes>"
      ]
     },
     "metadata": {
      "needs_background": "light"
     },
     "output_type": "display_data"
    },
    {
     "data": {
      "image/png": "[encoded data removed]",
      "text/plain": [
       "<Figure size 720x360 with 1 Axes>"
      ]
     },
     "metadata": {
      "needs_background": "light"
     },
     "output_type": "display_data"
    },
    {
     "data": {
      "image/png": "[encoded data removed]",
      "text/plain": [
       "<Figure size 360x288 with 1 Axes>"
      ]
     },
     "metadata": {
      "needs_background": "light"
     },
     "output_type": "display_data"
    },
    {
     "data": {
      "image/png": "[encoded data removed]",
      "text/plain": [
       "<Figure size 720x360 with 1 Axes>"
      ]
     },
     "metadata": {
      "needs_background": "light"
     },
     "output_type": "display_data"
    },
    {
     "data": {
      "image/png": "[encoded data removed]",
      "text/plain": [
       "<Figure size 360x288 with 1 Axes>"
      ]
     },
     "metadata": {
      "needs_background": "light"
     },
     "output_type": "display_data"
    },
    {
     "data": {
      "image/png": "[encoded data removed]",
      "text/plain": [
       "<Figure size 720x360 with 1 Axes>"
      ]
     },
     "metadata": {
      "needs_background": "light"
     },
     "output_type": "display_data"
    },
    {
     "data": {
      "image/png": "[encoded data removed]",
      "text/plain": [
       "<Figure size 360x288 with 1 Axes>"
      ]
     },
     "metadata": {
      "needs_background": "light"
     },
     "output_type": "display_data"
    }
   ],
   "source": [
    "for col in num.columns:\n",
    "    \n",
    "    #histogram\n",
    "    num.hist(column = col,\n",
    "\n",
    "              grid=False,        #Do not include the grid\n",
    "              figsize=(10,5),\n",
    "             color=\"blue\",\n",
    "             edgecolor=\"White\",\n",
    "             bins=20)     #(Length,Height) of the plot in inches\n",
    "\n",
    "    plt.show()\n",
    "\n",
    "    #boxplot\n",
    "    num.boxplot(column= col,\n",
    "                grid= False,\n",
    "                figsize=(5,4),\n",
    "                notch=True)\n",
    "\n",
    "    plt.show()"
   ]
  },
  {
   "cell_type": "markdown",
   "id": "93d9ee38",
   "metadata": {},
   "source": [
    "- Uni-variate Analysis of Categorical Variable"
   ]
  },
  {
   "cell_type": "code",
   "execution_count": 588,
   "id": "a08e8438",
   "metadata": {},
   "outputs": [],
   "source": [
    "cate = final_imputed_loanData.select_dtypes(include='object')"
   ]
  },
  {
   "cell_type": "code",
   "execution_count": 589,
   "id": "e739d47c",
   "metadata": {},
   "outputs": [
    {
     "data": {
      "image/png": "[encoded data removed]",
      "text/plain": [
       "<Figure size 432x288 with 1 Axes>"
      ]
     },
     "metadata": {
      "needs_background": "light"
     },
     "output_type": "display_data"
    },
    {
     "data": {
      "image/png": "[encoded data removed]",
      "text/plain": [
       "<Figure size 432x288 with 1 Axes>"
      ]
     },
     "metadata": {
      "needs_background": "light"
     },
     "output_type": "display_data"
    },
    {
     "data": {
      "image/png": "[encoded data removed]",
      "text/plain": [
       "<Figure size 432x288 with 1 Axes>"
      ]
     },
     "metadata": {
      "needs_background": "light"
     },
     "output_type": "display_data"
    }
   ],
   "source": [
    "for col in cate.columns:\n",
    "    #bar_plot\n",
    "    data[col].value_counts().plot( kind='bar', xlabel=col, ylabel='frequency', color=['Grey','Orange','Green'])\n",
    "    plt.show()"
   ]
  },
  {
   "cell_type": "markdown",
   "id": "9742385c",
   "metadata": {},
   "source": [
    "# Encoding of Categorical Variables"
   ]
  },
  {
   "cell_type": "code",
   "execution_count": 590,
   "id": "53a1663f",
   "metadata": {},
   "outputs": [
    {
     "data": {
      "text/html": [
       "<div>\n",
       "<style scoped>\n",
       "    .dataframe tbody tr th:only-of-type {\n",
       "        vertical-align: middle;\n",
       "    }\n",
       "\n",
       "    .dataframe tbody tr th {\n",
       "        vertical-align: top;\n",
       "    }\n",
       "\n",
       "    .dataframe thead th {\n",
       "        text-align: right;\n",
       "    }\n",
       "</style>\n",
       "<table border=\"1\" class=\"dataframe\">\n",
       "  <thead>\n",
       "    <tr style=\"text-align: right;\">\n",
       "      <th></th>\n",
       "      <th>Loan Status</th>\n",
       "      <th>Home Ownership</th>\n",
       "      <th>Purpose</th>\n",
       "      <th>Current Loan Amount</th>\n",
       "      <th>Term</th>\n",
       "      <th>Credit Score</th>\n",
       "      <th>Years in current job</th>\n",
       "      <th>Annual Income</th>\n",
       "      <th>Monthly Debt</th>\n",
       "      <th>Years of Credit History</th>\n",
       "      <th>Months since last delinquent</th>\n",
       "      <th>Number of Open Accounts</th>\n",
       "      <th>Number of Credit Problems</th>\n",
       "      <th>Current Credit Balance</th>\n",
       "      <th>Maximum Open Credit</th>\n",
       "      <th>Bankruptcies</th>\n",
       "      <th>Tax Liens</th>\n",
       "    </tr>\n",
       "  </thead>\n",
       "  <tbody>\n",
       "    <tr>\n",
       "      <th>0</th>\n",
       "      <td>Charged Off</td>\n",
       "      <td>Rent</td>\n",
       "      <td>Debt Consolidation</td>\n",
       "      <td>12232.0</td>\n",
       "      <td>0.0</td>\n",
       "      <td>728.0</td>\n",
       "      <td>0.0</td>\n",
       "      <td>46643.0</td>\n",
       "      <td>777.39</td>\n",
       "      <td>18.0</td>\n",
       "      <td>10.0</td>\n",
       "      <td>12.0</td>\n",
       "      <td>0.0</td>\n",
       "      <td>6762.0</td>\n",
       "      <td>7946.0</td>\n",
       "      <td>0.0</td>\n",
       "      <td>0.0</td>\n",
       "    </tr>\n",
       "    <tr>\n",
       "      <th>1</th>\n",
       "      <td>Charged Off</td>\n",
       "      <td>Home Mortgage</td>\n",
       "      <td>Debt Consolidation</td>\n",
       "      <td>25014.0</td>\n",
       "      <td>1.0</td>\n",
       "      <td>733.0</td>\n",
       "      <td>10.0</td>\n",
       "      <td>81099.0</td>\n",
       "      <td>892.09</td>\n",
       "      <td>26.7</td>\n",
       "      <td>3.0</td>\n",
       "      <td>14.0</td>\n",
       "      <td>0.0</td>\n",
       "      <td>35706.0</td>\n",
       "      <td>77961.0</td>\n",
       "      <td>0.0</td>\n",
       "      <td>0.0</td>\n",
       "    </tr>\n",
       "    <tr>\n",
       "      <th>2</th>\n",
       "      <td>Charged Off</td>\n",
       "      <td>Home Mortgage</td>\n",
       "      <td>Home Improvements</td>\n",
       "      <td>16117.0</td>\n",
       "      <td>0.0</td>\n",
       "      <td>724.0</td>\n",
       "      <td>9.0</td>\n",
       "      <td>60438.0</td>\n",
       "      <td>1244.02</td>\n",
       "      <td>16.7</td>\n",
       "      <td>32.0</td>\n",
       "      <td>11.0</td>\n",
       "      <td>1.0</td>\n",
       "      <td>11275.0</td>\n",
       "      <td>14815.0</td>\n",
       "      <td>1.0</td>\n",
       "      <td>0.0</td>\n",
       "    </tr>\n",
       "    <tr>\n",
       "      <th>3</th>\n",
       "      <td>Charged Off</td>\n",
       "      <td>Rent</td>\n",
       "      <td>Debt Consolidation</td>\n",
       "      <td>11716.0</td>\n",
       "      <td>0.0</td>\n",
       "      <td>740.0</td>\n",
       "      <td>3.0</td>\n",
       "      <td>34171.0</td>\n",
       "      <td>990.94</td>\n",
       "      <td>10.0</td>\n",
       "      <td>22.0</td>\n",
       "      <td>21.0</td>\n",
       "      <td>0.0</td>\n",
       "      <td>7009.0</td>\n",
       "      <td>43533.0</td>\n",
       "      <td>0.0</td>\n",
       "      <td>0.0</td>\n",
       "    </tr>\n",
       "    <tr>\n",
       "      <th>4</th>\n",
       "      <td>Charged Off</td>\n",
       "      <td>Home Mortgage</td>\n",
       "      <td>Home Improvements</td>\n",
       "      <td>9789.0</td>\n",
       "      <td>1.0</td>\n",
       "      <td>686.0</td>\n",
       "      <td>10.0</td>\n",
       "      <td>47003.0</td>\n",
       "      <td>503.71</td>\n",
       "      <td>16.7</td>\n",
       "      <td>25.0</td>\n",
       "      <td>13.0</td>\n",
       "      <td>1.0</td>\n",
       "      <td>16913.0</td>\n",
       "      <td>19553.0</td>\n",
       "      <td>1.0</td>\n",
       "      <td>0.0</td>\n",
       "    </tr>\n",
       "    <tr>\n",
       "      <th>...</th>\n",
       "      <td>...</td>\n",
       "      <td>...</td>\n",
       "      <td>...</td>\n",
       "      <td>...</td>\n",
       "      <td>...</td>\n",
       "      <td>...</td>\n",
       "      <td>...</td>\n",
       "      <td>...</td>\n",
       "      <td>...</td>\n",
       "      <td>...</td>\n",
       "      <td>...</td>\n",
       "      <td>...</td>\n",
       "      <td>...</td>\n",
       "      <td>...</td>\n",
       "      <td>...</td>\n",
       "      <td>...</td>\n",
       "      <td>...</td>\n",
       "    </tr>\n",
       "    <tr>\n",
       "      <th>88905</th>\n",
       "      <td>Fully Paid</td>\n",
       "      <td>Rent</td>\n",
       "      <td>Debt Consolidation</td>\n",
       "      <td>10136.0</td>\n",
       "      <td>0.0</td>\n",
       "      <td>728.0</td>\n",
       "      <td>10.0</td>\n",
       "      <td>35476.0</td>\n",
       "      <td>567.62</td>\n",
       "      <td>21.2</td>\n",
       "      <td>14.0</td>\n",
       "      <td>14.0</td>\n",
       "      <td>0.0</td>\n",
       "      <td>15914.0</td>\n",
       "      <td>28265.0</td>\n",
       "      <td>0.0</td>\n",
       "      <td>0.0</td>\n",
       "    </tr>\n",
       "    <tr>\n",
       "      <th>88906</th>\n",
       "      <td>Fully Paid</td>\n",
       "      <td>Home Mortgage</td>\n",
       "      <td>Debt Consolidation</td>\n",
       "      <td>29610.0</td>\n",
       "      <td>0.0</td>\n",
       "      <td>710.0</td>\n",
       "      <td>10.0</td>\n",
       "      <td>123375.0</td>\n",
       "      <td>2508.63</td>\n",
       "      <td>15.0</td>\n",
       "      <td>16.0</td>\n",
       "      <td>11.0</td>\n",
       "      <td>0.0</td>\n",
       "      <td>17727.0</td>\n",
       "      <td>32766.0</td>\n",
       "      <td>0.0</td>\n",
       "      <td>0.0</td>\n",
       "    </tr>\n",
       "    <tr>\n",
       "      <th>88907</th>\n",
       "      <td>Fully Paid</td>\n",
       "      <td>Home Mortgage</td>\n",
       "      <td>Debt Consolidation</td>\n",
       "      <td>24394.0</td>\n",
       "      <td>0.0</td>\n",
       "      <td>746.0</td>\n",
       "      <td>10.0</td>\n",
       "      <td>71148.0</td>\n",
       "      <td>818.20</td>\n",
       "      <td>36.4</td>\n",
       "      <td>9.0</td>\n",
       "      <td>8.0</td>\n",
       "      <td>0.0</td>\n",
       "      <td>44728.0</td>\n",
       "      <td>53374.0</td>\n",
       "      <td>0.0</td>\n",
       "      <td>0.0</td>\n",
       "    </tr>\n",
       "    <tr>\n",
       "      <th>88908</th>\n",
       "      <td>Charged Off</td>\n",
       "      <td>Rent</td>\n",
       "      <td>Debt Consolidation</td>\n",
       "      <td>5030.0</td>\n",
       "      <td>0.0</td>\n",
       "      <td>722.0</td>\n",
       "      <td>10.0</td>\n",
       "      <td>25424.0</td>\n",
       "      <td>360.17</td>\n",
       "      <td>19.0</td>\n",
       "      <td>7.0</td>\n",
       "      <td>12.0</td>\n",
       "      <td>0.0</td>\n",
       "      <td>6374.0</td>\n",
       "      <td>18422.0</td>\n",
       "      <td>0.0</td>\n",
       "      <td>0.0</td>\n",
       "    </tr>\n",
       "    <tr>\n",
       "      <th>88909</th>\n",
       "      <td>Fully Paid</td>\n",
       "      <td>Rent</td>\n",
       "      <td>Debt Consolidation</td>\n",
       "      <td>18446.0</td>\n",
       "      <td>0.0</td>\n",
       "      <td>718.0</td>\n",
       "      <td>6.0</td>\n",
       "      <td>44066.0</td>\n",
       "      <td>749.13</td>\n",
       "      <td>10.7</td>\n",
       "      <td>24.0</td>\n",
       "      <td>18.0</td>\n",
       "      <td>1.0</td>\n",
       "      <td>6718.0</td>\n",
       "      <td>21124.0</td>\n",
       "      <td>0.0</td>\n",
       "      <td>1.0</td>\n",
       "    </tr>\n",
       "  </tbody>\n",
       "</table>\n",
       "<p>88910 rows × 17 columns</p>\n",
       "</div>"
      ],
      "text/plain": [
       "       Loan Status Home Ownership             Purpose  Current Loan Amount  \\\n",
       "0      Charged Off           Rent  Debt Consolidation              12232.0   \n",
       "1      Charged Off  Home Mortgage  Debt Consolidation              25014.0   \n",
       "2      Charged Off  Home Mortgage   Home Improvements              16117.0   \n",
       "3      Charged Off           Rent  Debt Consolidation              11716.0   \n",
       "4      Charged Off  Home Mortgage   Home Improvements               9789.0   \n",
       "...            ...            ...                 ...                  ...   \n",
       "88905   Fully Paid           Rent  Debt Consolidation              10136.0   \n",
       "88906   Fully Paid  Home Mortgage  Debt Consolidation              29610.0   \n",
       "88907   Fully Paid  Home Mortgage  Debt Consolidation              24394.0   \n",
       "88908  Charged Off           Rent  Debt Consolidation               5030.0   \n",
       "88909   Fully Paid           Rent  Debt Consolidation              18446.0   \n",
       "\n",
       "       Term  Credit Score  Years in current job  Annual Income  Monthly Debt  \\\n",
       "0       0.0         728.0                   0.0        46643.0        777.39   \n",
       "1       1.0         733.0                  10.0        81099.0        892.09   \n",
       "2       0.0         724.0                   9.0        60438.0       1244.02   \n",
       "3       0.0         740.0                   3.0        34171.0        990.94   \n",
       "4       1.0         686.0                  10.0        47003.0        503.71   \n",
       "...     ...           ...                   ...            ...           ...   \n",
       "88905   0.0         728.0                  10.0        35476.0        567.62   \n",
       "88906   0.0         710.0                  10.0       123375.0       2508.63   \n",
       "88907   0.0         746.0                  10.0        71148.0        818.20   \n",
       "88908   0.0         722.0                  10.0        25424.0        360.17   \n",
       "88909   0.0         718.0                   6.0        44066.0        749.13   \n",
       "\n",
       "       Years of Credit History  Months since last delinquent  \\\n",
       "0                         18.0                          10.0   \n",
       "1                         26.7                           3.0   \n",
       "2                         16.7                          32.0   \n",
       "3                         10.0                          22.0   \n",
       "4                         16.7                          25.0   \n",
       "...                        ...                           ...   \n",
       "88905                     21.2                          14.0   \n",
       "88906                     15.0                          16.0   \n",
       "88907                     36.4                           9.0   \n",
       "88908                     19.0                           7.0   \n",
       "88909                     10.7                          24.0   \n",
       "\n",
       "       Number of Open Accounts  Number of Credit Problems  \\\n",
       "0                         12.0                        0.0   \n",
       "1                         14.0                        0.0   \n",
       "2                         11.0                        1.0   \n",
       "3                         21.0                        0.0   \n",
       "4                         13.0                        1.0   \n",
       "...                        ...                        ...   \n",
       "88905                     14.0                        0.0   \n",
       "88906                     11.0                        0.0   \n",
       "88907                      8.0                        0.0   \n",
       "88908                     12.0                        0.0   \n",
       "88909                     18.0                        1.0   \n",
       "\n",
       "       Current Credit Balance  Maximum Open Credit  Bankruptcies  Tax Liens  \n",
       "0                      6762.0               7946.0           0.0        0.0  \n",
       "1                     35706.0              77961.0           0.0        0.0  \n",
       "2                     11275.0              14815.0           1.0        0.0  \n",
       "3                      7009.0              43533.0           0.0        0.0  \n",
       "4                     16913.0              19553.0           1.0        0.0  \n",
       "...                       ...                  ...           ...        ...  \n",
       "88905                 15914.0              28265.0           0.0        0.0  \n",
       "88906                 17727.0              32766.0           0.0        0.0  \n",
       "88907                 44728.0              53374.0           0.0        0.0  \n",
       "88908                  6374.0              18422.0           0.0        0.0  \n",
       "88909                  6718.0              21124.0           0.0        1.0  \n",
       "\n",
       "[88910 rows x 17 columns]"
      ]
     },
     "execution_count": 590,
     "metadata": {},
     "output_type": "execute_result"
    }
   ],
   "source": [
    "df = final_imputed_loanData.copy()\n",
    "df"
   ]
  },
  {
   "cell_type": "code",
   "execution_count": 591,
   "id": "7cc202c1",
   "metadata": {},
   "outputs": [
    {
     "data": {
      "text/html": [
       "<div>\n",
       "<style scoped>\n",
       "    .dataframe tbody tr th:only-of-type {\n",
       "        vertical-align: middle;\n",
       "    }\n",
       "\n",
       "    .dataframe tbody tr th {\n",
       "        vertical-align: top;\n",
       "    }\n",
       "\n",
       "    .dataframe thead th {\n",
       "        text-align: right;\n",
       "    }\n",
       "</style>\n",
       "<table border=\"1\" class=\"dataframe\">\n",
       "  <thead>\n",
       "    <tr style=\"text-align: right;\">\n",
       "      <th></th>\n",
       "      <th>Loan Status</th>\n",
       "      <th>Home Ownership</th>\n",
       "      <th>Purpose</th>\n",
       "      <th>Current Loan Amount</th>\n",
       "      <th>Term</th>\n",
       "      <th>Credit Score</th>\n",
       "      <th>Years in current job</th>\n",
       "      <th>Annual Income</th>\n",
       "      <th>Monthly Debt</th>\n",
       "      <th>Years of Credit History</th>\n",
       "      <th>Months since last delinquent</th>\n",
       "      <th>Number of Open Accounts</th>\n",
       "      <th>Number of Credit Problems</th>\n",
       "      <th>Current Credit Balance</th>\n",
       "      <th>Maximum Open Credit</th>\n",
       "      <th>Bankruptcies</th>\n",
       "      <th>Tax Liens</th>\n",
       "    </tr>\n",
       "  </thead>\n",
       "  <tbody>\n",
       "    <tr>\n",
       "      <th>0</th>\n",
       "      <td>Charged Off</td>\n",
       "      <td>Rent</td>\n",
       "      <td>Debt Consolidation</td>\n",
       "      <td>12232.0</td>\n",
       "      <td>0.0</td>\n",
       "      <td>728.0</td>\n",
       "      <td>0.0</td>\n",
       "      <td>46643.0</td>\n",
       "      <td>777.39</td>\n",
       "      <td>18.0</td>\n",
       "      <td>10.0</td>\n",
       "      <td>12.0</td>\n",
       "      <td>0.0</td>\n",
       "      <td>6762.0</td>\n",
       "      <td>7946.0</td>\n",
       "      <td>0.0</td>\n",
       "      <td>0.0</td>\n",
       "    </tr>\n",
       "    <tr>\n",
       "      <th>1</th>\n",
       "      <td>Charged Off</td>\n",
       "      <td>Home Mortgage</td>\n",
       "      <td>Debt Consolidation</td>\n",
       "      <td>25014.0</td>\n",
       "      <td>1.0</td>\n",
       "      <td>733.0</td>\n",
       "      <td>10.0</td>\n",
       "      <td>81099.0</td>\n",
       "      <td>892.09</td>\n",
       "      <td>26.7</td>\n",
       "      <td>3.0</td>\n",
       "      <td>14.0</td>\n",
       "      <td>0.0</td>\n",
       "      <td>35706.0</td>\n",
       "      <td>77961.0</td>\n",
       "      <td>0.0</td>\n",
       "      <td>0.0</td>\n",
       "    </tr>\n",
       "    <tr>\n",
       "      <th>2</th>\n",
       "      <td>Charged Off</td>\n",
       "      <td>Home Mortgage</td>\n",
       "      <td>Home Improvements</td>\n",
       "      <td>16117.0</td>\n",
       "      <td>0.0</td>\n",
       "      <td>724.0</td>\n",
       "      <td>9.0</td>\n",
       "      <td>60438.0</td>\n",
       "      <td>1244.02</td>\n",
       "      <td>16.7</td>\n",
       "      <td>32.0</td>\n",
       "      <td>11.0</td>\n",
       "      <td>1.0</td>\n",
       "      <td>11275.0</td>\n",
       "      <td>14815.0</td>\n",
       "      <td>1.0</td>\n",
       "      <td>0.0</td>\n",
       "    </tr>\n",
       "    <tr>\n",
       "      <th>3</th>\n",
       "      <td>Charged Off</td>\n",
       "      <td>Rent</td>\n",
       "      <td>Debt Consolidation</td>\n",
       "      <td>11716.0</td>\n",
       "      <td>0.0</td>\n",
       "      <td>740.0</td>\n",
       "      <td>3.0</td>\n",
       "      <td>34171.0</td>\n",
       "      <td>990.94</td>\n",
       "      <td>10.0</td>\n",
       "      <td>22.0</td>\n",
       "      <td>21.0</td>\n",
       "      <td>0.0</td>\n",
       "      <td>7009.0</td>\n",
       "      <td>43533.0</td>\n",
       "      <td>0.0</td>\n",
       "      <td>0.0</td>\n",
       "    </tr>\n",
       "    <tr>\n",
       "      <th>4</th>\n",
       "      <td>Charged Off</td>\n",
       "      <td>Home Mortgage</td>\n",
       "      <td>Home Improvements</td>\n",
       "      <td>9789.0</td>\n",
       "      <td>1.0</td>\n",
       "      <td>686.0</td>\n",
       "      <td>10.0</td>\n",
       "      <td>47003.0</td>\n",
       "      <td>503.71</td>\n",
       "      <td>16.7</td>\n",
       "      <td>25.0</td>\n",
       "      <td>13.0</td>\n",
       "      <td>1.0</td>\n",
       "      <td>16913.0</td>\n",
       "      <td>19553.0</td>\n",
       "      <td>1.0</td>\n",
       "      <td>0.0</td>\n",
       "    </tr>\n",
       "  </tbody>\n",
       "</table>\n",
       "</div>"
      ],
      "text/plain": [
       "   Loan Status Home Ownership             Purpose  Current Loan Amount  Term  \\\n",
       "0  Charged Off           Rent  Debt Consolidation              12232.0   0.0   \n",
       "1  Charged Off  Home Mortgage  Debt Consolidation              25014.0   1.0   \n",
       "2  Charged Off  Home Mortgage   Home Improvements              16117.0   0.0   \n",
       "3  Charged Off           Rent  Debt Consolidation              11716.0   0.0   \n",
       "4  Charged Off  Home Mortgage   Home Improvements               9789.0   1.0   \n",
       "\n",
       "   Credit Score  Years in current job  Annual Income  Monthly Debt  \\\n",
       "0         728.0                   0.0        46643.0        777.39   \n",
       "1         733.0                  10.0        81099.0        892.09   \n",
       "2         724.0                   9.0        60438.0       1244.02   \n",
       "3         740.0                   3.0        34171.0        990.94   \n",
       "4         686.0                  10.0        47003.0        503.71   \n",
       "\n",
       "   Years of Credit History  Months since last delinquent  \\\n",
       "0                     18.0                          10.0   \n",
       "1                     26.7                           3.0   \n",
       "2                     16.7                          32.0   \n",
       "3                     10.0                          22.0   \n",
       "4                     16.7                          25.0   \n",
       "\n",
       "   Number of Open Accounts  Number of Credit Problems  Current Credit Balance  \\\n",
       "0                     12.0                        0.0                  6762.0   \n",
       "1                     14.0                        0.0                 35706.0   \n",
       "2                     11.0                        1.0                 11275.0   \n",
       "3                     21.0                        0.0                  7009.0   \n",
       "4                     13.0                        1.0                 16913.0   \n",
       "\n",
       "   Maximum Open Credit  Bankruptcies  Tax Liens  \n",
       "0               7946.0           0.0        0.0  \n",
       "1              77961.0           0.0        0.0  \n",
       "2              14815.0           1.0        0.0  \n",
       "3              43533.0           0.0        0.0  \n",
       "4              19553.0           1.0        0.0  "
      ]
     },
     "execution_count": 591,
     "metadata": {},
     "output_type": "execute_result"
    }
   ],
   "source": [
    "df.head()"
   ]
  },
  {
   "cell_type": "code",
   "execution_count": 592,
   "id": "48f752d2",
   "metadata": {},
   "outputs": [],
   "source": [
    "#Mapping 1 to charged Off and 0 to Fully paid\n",
    "df['Loan Status'] = df['Loan Status'].map({'Charged Off':1,'Fully Paid':0})"
   ]
  },
  {
   "cell_type": "code",
   "execution_count": 593,
   "id": "5ce8bad7",
   "metadata": {},
   "outputs": [
    {
     "data": {
      "text/plain": [
       "0    63737\n",
       "1    25173\n",
       "Name: Loan Status, dtype: int64"
      ]
     },
     "execution_count": 593,
     "metadata": {},
     "output_type": "execute_result"
    }
   ],
   "source": [
    "df['Loan Status'].value_counts()"
   ]
  },
  {
   "cell_type": "code",
   "execution_count": 594,
   "id": "b5e7011e",
   "metadata": {},
   "outputs": [
    {
     "data": {
      "text/html": [
       "<div>\n",
       "<style scoped>\n",
       "    .dataframe tbody tr th:only-of-type {\n",
       "        vertical-align: middle;\n",
       "    }\n",
       "\n",
       "    .dataframe tbody tr th {\n",
       "        vertical-align: top;\n",
       "    }\n",
       "\n",
       "    .dataframe thead th {\n",
       "        text-align: right;\n",
       "    }\n",
       "</style>\n",
       "<table border=\"1\" class=\"dataframe\">\n",
       "  <thead>\n",
       "    <tr style=\"text-align: right;\">\n",
       "      <th></th>\n",
       "      <th>Loan Status</th>\n",
       "      <th>Home Ownership</th>\n",
       "      <th>Purpose</th>\n",
       "      <th>Current Loan Amount</th>\n",
       "      <th>Term</th>\n",
       "      <th>Credit Score</th>\n",
       "      <th>Years in current job</th>\n",
       "      <th>Annual Income</th>\n",
       "      <th>Monthly Debt</th>\n",
       "      <th>Years of Credit History</th>\n",
       "      <th>Months since last delinquent</th>\n",
       "      <th>Number of Open Accounts</th>\n",
       "      <th>Number of Credit Problems</th>\n",
       "      <th>Current Credit Balance</th>\n",
       "      <th>Maximum Open Credit</th>\n",
       "      <th>Bankruptcies</th>\n",
       "      <th>Tax Liens</th>\n",
       "    </tr>\n",
       "  </thead>\n",
       "  <tbody>\n",
       "    <tr>\n",
       "      <th>0</th>\n",
       "      <td>1</td>\n",
       "      <td>Rent</td>\n",
       "      <td>Debt Consolidation</td>\n",
       "      <td>12232.0</td>\n",
       "      <td>0.0</td>\n",
       "      <td>728.0</td>\n",
       "      <td>0.0</td>\n",
       "      <td>46643.0</td>\n",
       "      <td>777.39</td>\n",
       "      <td>18.0</td>\n",
       "      <td>10.0</td>\n",
       "      <td>12.0</td>\n",
       "      <td>0.0</td>\n",
       "      <td>6762.0</td>\n",
       "      <td>7946.0</td>\n",
       "      <td>0.0</td>\n",
       "      <td>0.0</td>\n",
       "    </tr>\n",
       "    <tr>\n",
       "      <th>1</th>\n",
       "      <td>1</td>\n",
       "      <td>Home Mortgage</td>\n",
       "      <td>Debt Consolidation</td>\n",
       "      <td>25014.0</td>\n",
       "      <td>1.0</td>\n",
       "      <td>733.0</td>\n",
       "      <td>10.0</td>\n",
       "      <td>81099.0</td>\n",
       "      <td>892.09</td>\n",
       "      <td>26.7</td>\n",
       "      <td>3.0</td>\n",
       "      <td>14.0</td>\n",
       "      <td>0.0</td>\n",
       "      <td>35706.0</td>\n",
       "      <td>77961.0</td>\n",
       "      <td>0.0</td>\n",
       "      <td>0.0</td>\n",
       "    </tr>\n",
       "    <tr>\n",
       "      <th>2</th>\n",
       "      <td>1</td>\n",
       "      <td>Home Mortgage</td>\n",
       "      <td>Home Improvements</td>\n",
       "      <td>16117.0</td>\n",
       "      <td>0.0</td>\n",
       "      <td>724.0</td>\n",
       "      <td>9.0</td>\n",
       "      <td>60438.0</td>\n",
       "      <td>1244.02</td>\n",
       "      <td>16.7</td>\n",
       "      <td>32.0</td>\n",
       "      <td>11.0</td>\n",
       "      <td>1.0</td>\n",
       "      <td>11275.0</td>\n",
       "      <td>14815.0</td>\n",
       "      <td>1.0</td>\n",
       "      <td>0.0</td>\n",
       "    </tr>\n",
       "    <tr>\n",
       "      <th>3</th>\n",
       "      <td>1</td>\n",
       "      <td>Rent</td>\n",
       "      <td>Debt Consolidation</td>\n",
       "      <td>11716.0</td>\n",
       "      <td>0.0</td>\n",
       "      <td>740.0</td>\n",
       "      <td>3.0</td>\n",
       "      <td>34171.0</td>\n",
       "      <td>990.94</td>\n",
       "      <td>10.0</td>\n",
       "      <td>22.0</td>\n",
       "      <td>21.0</td>\n",
       "      <td>0.0</td>\n",
       "      <td>7009.0</td>\n",
       "      <td>43533.0</td>\n",
       "      <td>0.0</td>\n",
       "      <td>0.0</td>\n",
       "    </tr>\n",
       "    <tr>\n",
       "      <th>4</th>\n",
       "      <td>1</td>\n",
       "      <td>Home Mortgage</td>\n",
       "      <td>Home Improvements</td>\n",
       "      <td>9789.0</td>\n",
       "      <td>1.0</td>\n",
       "      <td>686.0</td>\n",
       "      <td>10.0</td>\n",
       "      <td>47003.0</td>\n",
       "      <td>503.71</td>\n",
       "      <td>16.7</td>\n",
       "      <td>25.0</td>\n",
       "      <td>13.0</td>\n",
       "      <td>1.0</td>\n",
       "      <td>16913.0</td>\n",
       "      <td>19553.0</td>\n",
       "      <td>1.0</td>\n",
       "      <td>0.0</td>\n",
       "    </tr>\n",
       "  </tbody>\n",
       "</table>\n",
       "</div>"
      ],
      "text/plain": [
       "   Loan Status Home Ownership             Purpose  Current Loan Amount  Term  \\\n",
       "0            1           Rent  Debt Consolidation              12232.0   0.0   \n",
       "1            1  Home Mortgage  Debt Consolidation              25014.0   1.0   \n",
       "2            1  Home Mortgage   Home Improvements              16117.0   0.0   \n",
       "3            1           Rent  Debt Consolidation              11716.0   0.0   \n",
       "4            1  Home Mortgage   Home Improvements               9789.0   1.0   \n",
       "\n",
       "   Credit Score  Years in current job  Annual Income  Monthly Debt  \\\n",
       "0         728.0                   0.0        46643.0        777.39   \n",
       "1         733.0                  10.0        81099.0        892.09   \n",
       "2         724.0                   9.0        60438.0       1244.02   \n",
       "3         740.0                   3.0        34171.0        990.94   \n",
       "4         686.0                  10.0        47003.0        503.71   \n",
       "\n",
       "   Years of Credit History  Months since last delinquent  \\\n",
       "0                     18.0                          10.0   \n",
       "1                     26.7                           3.0   \n",
       "2                     16.7                          32.0   \n",
       "3                     10.0                          22.0   \n",
       "4                     16.7                          25.0   \n",
       "\n",
       "   Number of Open Accounts  Number of Credit Problems  Current Credit Balance  \\\n",
       "0                     12.0                        0.0                  6762.0   \n",
       "1                     14.0                        0.0                 35706.0   \n",
       "2                     11.0                        1.0                 11275.0   \n",
       "3                     21.0                        0.0                  7009.0   \n",
       "4                     13.0                        1.0                 16913.0   \n",
       "\n",
       "   Maximum Open Credit  Bankruptcies  Tax Liens  \n",
       "0               7946.0           0.0        0.0  \n",
       "1              77961.0           0.0        0.0  \n",
       "2              14815.0           1.0        0.0  \n",
       "3              43533.0           0.0        0.0  \n",
       "4              19553.0           1.0        0.0  "
      ]
     },
     "execution_count": 594,
     "metadata": {},
     "output_type": "execute_result"
    }
   ],
   "source": [
    "df.head()"
   ]
  },
  {
   "cell_type": "code",
   "execution_count": 595,
   "id": "ebddaf83",
   "metadata": {},
   "outputs": [],
   "source": [
    "df_iv = df.copy()"
   ]
  },
  {
   "cell_type": "markdown",
   "id": "db9e5cd8",
   "metadata": {},
   "source": [
    "### One-Hot Encoding of Categorical Variables"
   ]
  },
  {
   "cell_type": "code",
   "execution_count": 596,
   "id": "98545443",
   "metadata": {},
   "outputs": [],
   "source": [
    "cat = pd.get_dummies(df[['Home Ownership','Purpose']],prefix=['Home Ownership','Purpose']) "
   ]
  },
  {
   "cell_type": "code",
   "execution_count": 597,
   "id": "2e3e4580",
   "metadata": {},
   "outputs": [
    {
     "data": {
      "text/html": [
       "<div>\n",
       "<style scoped>\n",
       "    .dataframe tbody tr th:only-of-type {\n",
       "        vertical-align: middle;\n",
       "    }\n",
       "\n",
       "    .dataframe tbody tr th {\n",
       "        vertical-align: top;\n",
       "    }\n",
       "\n",
       "    .dataframe thead th {\n",
       "        text-align: right;\n",
       "    }\n",
       "</style>\n",
       "<table border=\"1\" class=\"dataframe\">\n",
       "  <thead>\n",
       "    <tr style=\"text-align: right;\">\n",
       "      <th></th>\n",
       "      <th>Loan Status</th>\n",
       "      <th>Current Loan Amount</th>\n",
       "      <th>Term</th>\n",
       "      <th>Credit Score</th>\n",
       "      <th>Years in current job</th>\n",
       "      <th>Annual Income</th>\n",
       "      <th>Monthly Debt</th>\n",
       "      <th>Years of Credit History</th>\n",
       "      <th>Months since last delinquent</th>\n",
       "      <th>Number of Open Accounts</th>\n",
       "      <th>Number of Credit Problems</th>\n",
       "      <th>Current Credit Balance</th>\n",
       "      <th>Maximum Open Credit</th>\n",
       "      <th>Bankruptcies</th>\n",
       "      <th>Tax Liens</th>\n",
       "    </tr>\n",
       "  </thead>\n",
       "  <tbody>\n",
       "    <tr>\n",
       "      <th>0</th>\n",
       "      <td>1</td>\n",
       "      <td>12232.0</td>\n",
       "      <td>0.0</td>\n",
       "      <td>728.0</td>\n",
       "      <td>0.0</td>\n",
       "      <td>46643.0</td>\n",
       "      <td>777.39</td>\n",
       "      <td>18.0</td>\n",
       "      <td>10.0</td>\n",
       "      <td>12.0</td>\n",
       "      <td>0.0</td>\n",
       "      <td>6762.0</td>\n",
       "      <td>7946.0</td>\n",
       "      <td>0.0</td>\n",
       "      <td>0.0</td>\n",
       "    </tr>\n",
       "    <tr>\n",
       "      <th>1</th>\n",
       "      <td>1</td>\n",
       "      <td>25014.0</td>\n",
       "      <td>1.0</td>\n",
       "      <td>733.0</td>\n",
       "      <td>10.0</td>\n",
       "      <td>81099.0</td>\n",
       "      <td>892.09</td>\n",
       "      <td>26.7</td>\n",
       "      <td>3.0</td>\n",
       "      <td>14.0</td>\n",
       "      <td>0.0</td>\n",
       "      <td>35706.0</td>\n",
       "      <td>77961.0</td>\n",
       "      <td>0.0</td>\n",
       "      <td>0.0</td>\n",
       "    </tr>\n",
       "    <tr>\n",
       "      <th>2</th>\n",
       "      <td>1</td>\n",
       "      <td>16117.0</td>\n",
       "      <td>0.0</td>\n",
       "      <td>724.0</td>\n",
       "      <td>9.0</td>\n",
       "      <td>60438.0</td>\n",
       "      <td>1244.02</td>\n",
       "      <td>16.7</td>\n",
       "      <td>32.0</td>\n",
       "      <td>11.0</td>\n",
       "      <td>1.0</td>\n",
       "      <td>11275.0</td>\n",
       "      <td>14815.0</td>\n",
       "      <td>1.0</td>\n",
       "      <td>0.0</td>\n",
       "    </tr>\n",
       "    <tr>\n",
       "      <th>3</th>\n",
       "      <td>1</td>\n",
       "      <td>11716.0</td>\n",
       "      <td>0.0</td>\n",
       "      <td>740.0</td>\n",
       "      <td>3.0</td>\n",
       "      <td>34171.0</td>\n",
       "      <td>990.94</td>\n",
       "      <td>10.0</td>\n",
       "      <td>22.0</td>\n",
       "      <td>21.0</td>\n",
       "      <td>0.0</td>\n",
       "      <td>7009.0</td>\n",
       "      <td>43533.0</td>\n",
       "      <td>0.0</td>\n",
       "      <td>0.0</td>\n",
       "    </tr>\n",
       "    <tr>\n",
       "      <th>4</th>\n",
       "      <td>1</td>\n",
       "      <td>9789.0</td>\n",
       "      <td>1.0</td>\n",
       "      <td>686.0</td>\n",
       "      <td>10.0</td>\n",
       "      <td>47003.0</td>\n",
       "      <td>503.71</td>\n",
       "      <td>16.7</td>\n",
       "      <td>25.0</td>\n",
       "      <td>13.0</td>\n",
       "      <td>1.0</td>\n",
       "      <td>16913.0</td>\n",
       "      <td>19553.0</td>\n",
       "      <td>1.0</td>\n",
       "      <td>0.0</td>\n",
       "    </tr>\n",
       "    <tr>\n",
       "      <th>...</th>\n",
       "      <td>...</td>\n",
       "      <td>...</td>\n",
       "      <td>...</td>\n",
       "      <td>...</td>\n",
       "      <td>...</td>\n",
       "      <td>...</td>\n",
       "      <td>...</td>\n",
       "      <td>...</td>\n",
       "      <td>...</td>\n",
       "      <td>...</td>\n",
       "      <td>...</td>\n",
       "      <td>...</td>\n",
       "      <td>...</td>\n",
       "      <td>...</td>\n",
       "      <td>...</td>\n",
       "    </tr>\n",
       "    <tr>\n",
       "      <th>88905</th>\n",
       "      <td>0</td>\n",
       "      <td>10136.0</td>\n",
       "      <td>0.0</td>\n",
       "      <td>728.0</td>\n",
       "      <td>10.0</td>\n",
       "      <td>35476.0</td>\n",
       "      <td>567.62</td>\n",
       "      <td>21.2</td>\n",
       "      <td>14.0</td>\n",
       "      <td>14.0</td>\n",
       "      <td>0.0</td>\n",
       "      <td>15914.0</td>\n",
       "      <td>28265.0</td>\n",
       "      <td>0.0</td>\n",
       "      <td>0.0</td>\n",
       "    </tr>\n",
       "    <tr>\n",
       "      <th>88906</th>\n",
       "      <td>0</td>\n",
       "      <td>29610.0</td>\n",
       "      <td>0.0</td>\n",
       "      <td>710.0</td>\n",
       "      <td>10.0</td>\n",
       "      <td>123375.0</td>\n",
       "      <td>2508.63</td>\n",
       "      <td>15.0</td>\n",
       "      <td>16.0</td>\n",
       "      <td>11.0</td>\n",
       "      <td>0.0</td>\n",
       "      <td>17727.0</td>\n",
       "      <td>32766.0</td>\n",
       "      <td>0.0</td>\n",
       "      <td>0.0</td>\n",
       "    </tr>\n",
       "    <tr>\n",
       "      <th>88907</th>\n",
       "      <td>0</td>\n",
       "      <td>24394.0</td>\n",
       "      <td>0.0</td>\n",
       "      <td>746.0</td>\n",
       "      <td>10.0</td>\n",
       "      <td>71148.0</td>\n",
       "      <td>818.20</td>\n",
       "      <td>36.4</td>\n",
       "      <td>9.0</td>\n",
       "      <td>8.0</td>\n",
       "      <td>0.0</td>\n",
       "      <td>44728.0</td>\n",
       "      <td>53374.0</td>\n",
       "      <td>0.0</td>\n",
       "      <td>0.0</td>\n",
       "    </tr>\n",
       "    <tr>\n",
       "      <th>88908</th>\n",
       "      <td>1</td>\n",
       "      <td>5030.0</td>\n",
       "      <td>0.0</td>\n",
       "      <td>722.0</td>\n",
       "      <td>10.0</td>\n",
       "      <td>25424.0</td>\n",
       "      <td>360.17</td>\n",
       "      <td>19.0</td>\n",
       "      <td>7.0</td>\n",
       "      <td>12.0</td>\n",
       "      <td>0.0</td>\n",
       "      <td>6374.0</td>\n",
       "      <td>18422.0</td>\n",
       "      <td>0.0</td>\n",
       "      <td>0.0</td>\n",
       "    </tr>\n",
       "    <tr>\n",
       "      <th>88909</th>\n",
       "      <td>0</td>\n",
       "      <td>18446.0</td>\n",
       "      <td>0.0</td>\n",
       "      <td>718.0</td>\n",
       "      <td>6.0</td>\n",
       "      <td>44066.0</td>\n",
       "      <td>749.13</td>\n",
       "      <td>10.7</td>\n",
       "      <td>24.0</td>\n",
       "      <td>18.0</td>\n",
       "      <td>1.0</td>\n",
       "      <td>6718.0</td>\n",
       "      <td>21124.0</td>\n",
       "      <td>0.0</td>\n",
       "      <td>1.0</td>\n",
       "    </tr>\n",
       "  </tbody>\n",
       "</table>\n",
       "<p>88910 rows × 15 columns</p>\n",
       "</div>"
      ],
      "text/plain": [
       "       Loan Status  Current Loan Amount  Term  Credit Score  \\\n",
       "0                1              12232.0   0.0         728.0   \n",
       "1                1              25014.0   1.0         733.0   \n",
       "2                1              16117.0   0.0         724.0   \n",
       "3                1              11716.0   0.0         740.0   \n",
       "4                1               9789.0   1.0         686.0   \n",
       "...            ...                  ...   ...           ...   \n",
       "88905            0              10136.0   0.0         728.0   \n",
       "88906            0              29610.0   0.0         710.0   \n",
       "88907            0              24394.0   0.0         746.0   \n",
       "88908            1               5030.0   0.0         722.0   \n",
       "88909            0              18446.0   0.0         718.0   \n",
       "\n",
       "       Years in current job  Annual Income  Monthly Debt  \\\n",
       "0                       0.0        46643.0        777.39   \n",
       "1                      10.0        81099.0        892.09   \n",
       "2                       9.0        60438.0       1244.02   \n",
       "3                       3.0        34171.0        990.94   \n",
       "4                      10.0        47003.0        503.71   \n",
       "...                     ...            ...           ...   \n",
       "88905                  10.0        35476.0        567.62   \n",
       "88906                  10.0       123375.0       2508.63   \n",
       "88907                  10.0        71148.0        818.20   \n",
       "88908                  10.0        25424.0        360.17   \n",
       "88909                   6.0        44066.0        749.13   \n",
       "\n",
       "       Years of Credit History  Months since last delinquent  \\\n",
       "0                         18.0                          10.0   \n",
       "1                         26.7                           3.0   \n",
       "2                         16.7                          32.0   \n",
       "3                         10.0                          22.0   \n",
       "4                         16.7                          25.0   \n",
       "...                        ...                           ...   \n",
       "88905                     21.2                          14.0   \n",
       "88906                     15.0                          16.0   \n",
       "88907                     36.4                           9.0   \n",
       "88908                     19.0                           7.0   \n",
       "88909                     10.7                          24.0   \n",
       "\n",
       "       Number of Open Accounts  Number of Credit Problems  \\\n",
       "0                         12.0                        0.0   \n",
       "1                         14.0                        0.0   \n",
       "2                         11.0                        1.0   \n",
       "3                         21.0                        0.0   \n",
       "4                         13.0                        1.0   \n",
       "...                        ...                        ...   \n",
       "88905                     14.0                        0.0   \n",
       "88906                     11.0                        0.0   \n",
       "88907                      8.0                        0.0   \n",
       "88908                     12.0                        0.0   \n",
       "88909                     18.0                        1.0   \n",
       "\n",
       "       Current Credit Balance  Maximum Open Credit  Bankruptcies  Tax Liens  \n",
       "0                      6762.0               7946.0           0.0        0.0  \n",
       "1                     35706.0              77961.0           0.0        0.0  \n",
       "2                     11275.0              14815.0           1.0        0.0  \n",
       "3                      7009.0              43533.0           0.0        0.0  \n",
       "4                     16913.0              19553.0           1.0        0.0  \n",
       "...                       ...                  ...           ...        ...  \n",
       "88905                 15914.0              28265.0           0.0        0.0  \n",
       "88906                 17727.0              32766.0           0.0        0.0  \n",
       "88907                 44728.0              53374.0           0.0        0.0  \n",
       "88908                  6374.0              18422.0           0.0        0.0  \n",
       "88909                  6718.0              21124.0           0.0        1.0  \n",
       "\n",
       "[88910 rows x 15 columns]"
      ]
     },
     "execution_count": 597,
     "metadata": {},
     "output_type": "execute_result"
    }
   ],
   "source": [
    "num = df.select_dtypes(exclude='object') #exclude cat variables\n",
    "num"
   ]
  },
  {
   "cell_type": "code",
   "execution_count": 598,
   "id": "f958de7f",
   "metadata": {},
   "outputs": [
    {
     "data": {
      "text/plain": [
       "Index(['Loan Status', 'Current Loan Amount', 'Term', 'Credit Score',\n",
       "       'Years in current job', 'Annual Income', 'Monthly Debt',\n",
       "       'Years of Credit History', 'Months since last delinquent',\n",
       "       'Number of Open Accounts', 'Number of Credit Problems',\n",
       "       'Current Credit Balance', 'Maximum Open Credit', 'Bankruptcies',\n",
       "       'Tax Liens', 'Home Ownership_Home Mortgage', 'Home Ownership_Own Home',\n",
       "       'Home Ownership_Rent', 'Purpose_Business Loan', 'Purpose_Buy House',\n",
       "       'Purpose_Buy a Car', 'Purpose_Debt Consolidation',\n",
       "       'Purpose_Educational Expenses', 'Purpose_Home Improvements',\n",
       "       'Purpose_Medical Bills', 'Purpose_Take a Trip',\n",
       "       'Purpose_major_purchase', 'Purpose_moving', 'Purpose_other',\n",
       "       'Purpose_renewable_energy', 'Purpose_small_business',\n",
       "       'Purpose_vacation', 'Purpose_wedding'],\n",
       "      dtype='object')"
      ]
     },
     "execution_count": 598,
     "metadata": {},
     "output_type": "execute_result"
    }
   ],
   "source": [
    "join= [num,cat] \n",
    "df = pd.concat(join,axis=1,join='inner')  #combing the one hot encoded categorical variable to rest of the predictors\n",
    "df.columns"
   ]
  },
  {
   "cell_type": "code",
   "execution_count": 599,
   "id": "d35eccf3",
   "metadata": {},
   "outputs": [
    {
     "data": {
      "text/html": [
       "<div>\n",
       "<style scoped>\n",
       "    .dataframe tbody tr th:only-of-type {\n",
       "        vertical-align: middle;\n",
       "    }\n",
       "\n",
       "    .dataframe tbody tr th {\n",
       "        vertical-align: top;\n",
       "    }\n",
       "\n",
       "    .dataframe thead th {\n",
       "        text-align: right;\n",
       "    }\n",
       "</style>\n",
       "<table border=\"1\" class=\"dataframe\">\n",
       "  <thead>\n",
       "    <tr style=\"text-align: right;\">\n",
       "      <th></th>\n",
       "      <th>Current Loan Amount</th>\n",
       "      <th>Term</th>\n",
       "      <th>Credit Score</th>\n",
       "      <th>Years in current job</th>\n",
       "      <th>Annual Income</th>\n",
       "      <th>Monthly Debt</th>\n",
       "      <th>Years of Credit History</th>\n",
       "      <th>Months since last delinquent</th>\n",
       "      <th>Number of Open Accounts</th>\n",
       "      <th>Number of Credit Problems</th>\n",
       "      <th>...</th>\n",
       "      <th>Purpose_Home Improvements</th>\n",
       "      <th>Purpose_Medical Bills</th>\n",
       "      <th>Purpose_Take a Trip</th>\n",
       "      <th>Purpose_major_purchase</th>\n",
       "      <th>Purpose_moving</th>\n",
       "      <th>Purpose_other</th>\n",
       "      <th>Purpose_renewable_energy</th>\n",
       "      <th>Purpose_small_business</th>\n",
       "      <th>Purpose_vacation</th>\n",
       "      <th>Purpose_wedding</th>\n",
       "    </tr>\n",
       "  </thead>\n",
       "  <tbody>\n",
       "    <tr>\n",
       "      <th>0</th>\n",
       "      <td>12232.0</td>\n",
       "      <td>0.0</td>\n",
       "      <td>728.0</td>\n",
       "      <td>0.0</td>\n",
       "      <td>46643.0</td>\n",
       "      <td>777.39</td>\n",
       "      <td>18.0</td>\n",
       "      <td>10.0</td>\n",
       "      <td>12.0</td>\n",
       "      <td>0.0</td>\n",
       "      <td>...</td>\n",
       "      <td>0</td>\n",
       "      <td>0</td>\n",
       "      <td>0</td>\n",
       "      <td>0</td>\n",
       "      <td>0</td>\n",
       "      <td>0</td>\n",
       "      <td>0</td>\n",
       "      <td>0</td>\n",
       "      <td>0</td>\n",
       "      <td>0</td>\n",
       "    </tr>\n",
       "    <tr>\n",
       "      <th>1</th>\n",
       "      <td>25014.0</td>\n",
       "      <td>1.0</td>\n",
       "      <td>733.0</td>\n",
       "      <td>10.0</td>\n",
       "      <td>81099.0</td>\n",
       "      <td>892.09</td>\n",
       "      <td>26.7</td>\n",
       "      <td>3.0</td>\n",
       "      <td>14.0</td>\n",
       "      <td>0.0</td>\n",
       "      <td>...</td>\n",
       "      <td>0</td>\n",
       "      <td>0</td>\n",
       "      <td>0</td>\n",
       "      <td>0</td>\n",
       "      <td>0</td>\n",
       "      <td>0</td>\n",
       "      <td>0</td>\n",
       "      <td>0</td>\n",
       "      <td>0</td>\n",
       "      <td>0</td>\n",
       "    </tr>\n",
       "    <tr>\n",
       "      <th>2</th>\n",
       "      <td>16117.0</td>\n",
       "      <td>0.0</td>\n",
       "      <td>724.0</td>\n",
       "      <td>9.0</td>\n",
       "      <td>60438.0</td>\n",
       "      <td>1244.02</td>\n",
       "      <td>16.7</td>\n",
       "      <td>32.0</td>\n",
       "      <td>11.0</td>\n",
       "      <td>1.0</td>\n",
       "      <td>...</td>\n",
       "      <td>1</td>\n",
       "      <td>0</td>\n",
       "      <td>0</td>\n",
       "      <td>0</td>\n",
       "      <td>0</td>\n",
       "      <td>0</td>\n",
       "      <td>0</td>\n",
       "      <td>0</td>\n",
       "      <td>0</td>\n",
       "      <td>0</td>\n",
       "    </tr>\n",
       "    <tr>\n",
       "      <th>3</th>\n",
       "      <td>11716.0</td>\n",
       "      <td>0.0</td>\n",
       "      <td>740.0</td>\n",
       "      <td>3.0</td>\n",
       "      <td>34171.0</td>\n",
       "      <td>990.94</td>\n",
       "      <td>10.0</td>\n",
       "      <td>22.0</td>\n",
       "      <td>21.0</td>\n",
       "      <td>0.0</td>\n",
       "      <td>...</td>\n",
       "      <td>0</td>\n",
       "      <td>0</td>\n",
       "      <td>0</td>\n",
       "      <td>0</td>\n",
       "      <td>0</td>\n",
       "      <td>0</td>\n",
       "      <td>0</td>\n",
       "      <td>0</td>\n",
       "      <td>0</td>\n",
       "      <td>0</td>\n",
       "    </tr>\n",
       "    <tr>\n",
       "      <th>4</th>\n",
       "      <td>9789.0</td>\n",
       "      <td>1.0</td>\n",
       "      <td>686.0</td>\n",
       "      <td>10.0</td>\n",
       "      <td>47003.0</td>\n",
       "      <td>503.71</td>\n",
       "      <td>16.7</td>\n",
       "      <td>25.0</td>\n",
       "      <td>13.0</td>\n",
       "      <td>1.0</td>\n",
       "      <td>...</td>\n",
       "      <td>1</td>\n",
       "      <td>0</td>\n",
       "      <td>0</td>\n",
       "      <td>0</td>\n",
       "      <td>0</td>\n",
       "      <td>0</td>\n",
       "      <td>0</td>\n",
       "      <td>0</td>\n",
       "      <td>0</td>\n",
       "      <td>0</td>\n",
       "    </tr>\n",
       "  </tbody>\n",
       "</table>\n",
       "<p>5 rows × 32 columns</p>\n",
       "</div>"
      ],
      "text/plain": [
       "   Current Loan Amount  Term  Credit Score  Years in current job  \\\n",
       "0              12232.0   0.0         728.0                   0.0   \n",
       "1              25014.0   1.0         733.0                  10.0   \n",
       "2              16117.0   0.0         724.0                   9.0   \n",
       "3              11716.0   0.0         740.0                   3.0   \n",
       "4               9789.0   1.0         686.0                  10.0   \n",
       "\n",
       "   Annual Income  Monthly Debt  Years of Credit History  \\\n",
       "0        46643.0        777.39                     18.0   \n",
       "1        81099.0        892.09                     26.7   \n",
       "2        60438.0       1244.02                     16.7   \n",
       "3        34171.0        990.94                     10.0   \n",
       "4        47003.0        503.71                     16.7   \n",
       "\n",
       "   Months since last delinquent  Number of Open Accounts  \\\n",
       "0                          10.0                     12.0   \n",
       "1                           3.0                     14.0   \n",
       "2                          32.0                     11.0   \n",
       "3                          22.0                     21.0   \n",
       "4                          25.0                     13.0   \n",
       "\n",
       "   Number of Credit Problems  ...  Purpose_Home Improvements  \\\n",
       "0                        0.0  ...                          0   \n",
       "1                        0.0  ...                          0   \n",
       "2                        1.0  ...                          1   \n",
       "3                        0.0  ...                          0   \n",
       "4                        1.0  ...                          1   \n",
       "\n",
       "   Purpose_Medical Bills  Purpose_Take a Trip  Purpose_major_purchase  \\\n",
       "0                      0                    0                       0   \n",
       "1                      0                    0                       0   \n",
       "2                      0                    0                       0   \n",
       "3                      0                    0                       0   \n",
       "4                      0                    0                       0   \n",
       "\n",
       "   Purpose_moving  Purpose_other  Purpose_renewable_energy  \\\n",
       "0               0              0                         0   \n",
       "1               0              0                         0   \n",
       "2               0              0                         0   \n",
       "3               0              0                         0   \n",
       "4               0              0                         0   \n",
       "\n",
       "   Purpose_small_business  Purpose_vacation  Purpose_wedding  \n",
       "0                       0                 0                0  \n",
       "1                       0                 0                0  \n",
       "2                       0                 0                0  \n",
       "3                       0                 0                0  \n",
       "4                       0                 0                0  \n",
       "\n",
       "[5 rows x 32 columns]"
      ]
     },
     "execution_count": 599,
     "metadata": {},
     "output_type": "execute_result"
    }
   ],
   "source": [
    "X = df.drop([\"Loan Status\"],axis=1)  #predictors, dropping house column (Target) to drop column axis=1\n",
    "y = df[\"Loan Status\"]\n",
    "X.head()"
   ]
  },
  {
   "cell_type": "markdown",
   "id": "f6ec20af",
   "metadata": {},
   "source": [
    "# Train-Validation-Test Split"
   ]
  },
  {
   "cell_type": "code",
   "execution_count": 600,
   "id": "12c86274",
   "metadata": {},
   "outputs": [],
   "source": [
    "#For train-test split\n",
    "from sklearn.model_selection import train_test_split   #import train_test_split function\n",
    "\n",
    "X_train, X_test, y_train, y_test = train_test_split(X, y, test_size = 0.10)  # X-predictors, y-target\n",
    "\n",
    "#Train-Validation Split\n",
    "X_train, X_valid, y_train, y_valid = train_test_split(X_train, y_train, test_size = 0.20)"
   ]
  },
  {
   "cell_type": "code",
   "execution_count": 601,
   "id": "699f16a7",
   "metadata": {},
   "outputs": [],
   "source": [
    "X_valid_rf = X_valid.copy()\n",
    "X_valid_iv = X_valid.copy()"
   ]
  },
  {
   "cell_type": "markdown",
   "id": "34db5509",
   "metadata": {},
   "source": [
    "# Import Libraraies"
   ]
  },
  {
   "cell_type": "code",
   "execution_count": 602,
   "id": "fdb3af55",
   "metadata": {},
   "outputs": [],
   "source": [
    "#import LogisticRegression from Sklearn\n",
    "from sklearn.linear_model import LogisticRegression\n",
    "import sklearn.ensemble as ensemble #import ensemble for bagging\n",
    "from sklearn.ensemble import RandomForestClassifier #import randomforest Classifier\n",
    "from sklearn.ensemble import AdaBoostClassifier #import adaboostclassifer\n",
    "from sklearn.tree import DecisionTreeClassifier #import Decision tree\n",
    "#Area under ROC curve\n",
    "from sklearn.metrics import roc_auc_score\n",
    "from sklearn.metrics import accuracy_score,recall_score,f1_score,classification_report #import Scoring metric"
   ]
  },
  {
   "cell_type": "markdown",
   "id": "94b056f0",
   "metadata": {},
   "source": [
    "## MODEL1: BaseLine Model - using all variables on class imbalanced data"
   ]
  },
  {
   "cell_type": "markdown",
   "id": "a7546449",
   "metadata": {},
   "source": [
    "> **a) Logistic Regression**"
   ]
  },
  {
   "cell_type": "code",
   "execution_count": 603,
   "id": "28336fa5",
   "metadata": {},
   "outputs": [
    {
     "name": "stdout",
     "output_type": "stream",
     "text": [
      "              precision    recall  f1-score   support\n",
      "\n",
      "           0       0.71      1.00      0.83     11400\n",
      "           1       0.45      0.00      0.00      4604\n",
      "\n",
      "    accuracy                           0.71     16004\n",
      "   macro avg       0.58      0.50      0.42     16004\n",
      "weighted avg       0.64      0.71      0.59     16004\n",
      "\n"
     ]
    },
    {
     "data": {
      "text/html": [
       "<div>\n",
       "<style scoped>\n",
       "    .dataframe tbody tr th:only-of-type {\n",
       "        vertical-align: middle;\n",
       "    }\n",
       "\n",
       "    .dataframe tbody tr th {\n",
       "        vertical-align: top;\n",
       "    }\n",
       "\n",
       "    .dataframe thead th {\n",
       "        text-align: right;\n",
       "    }\n",
       "</style>\n",
       "<table border=\"1\" class=\"dataframe\">\n",
       "  <thead>\n",
       "    <tr style=\"text-align: right;\">\n",
       "      <th></th>\n",
       "      <th>Logistic_Model_1</th>\n",
       "    </tr>\n",
       "  </thead>\n",
       "  <tbody>\n",
       "    <tr>\n",
       "      <th>Accuracy</th>\n",
       "      <td>0.712197</td>\n",
       "    </tr>\n",
       "    <tr>\n",
       "      <th>F1_score</th>\n",
       "      <td>0.004323</td>\n",
       "    </tr>\n",
       "    <tr>\n",
       "      <th>Recall</th>\n",
       "      <td>0.002172</td>\n",
       "    </tr>\n",
       "    <tr>\n",
       "      <th>AUROC</th>\n",
       "      <td>0.500560</td>\n",
       "    </tr>\n",
       "  </tbody>\n",
       "</table>\n",
       "</div>"
      ],
      "text/plain": [
       "          Logistic_Model_1\n",
       "Accuracy          0.712197\n",
       "F1_score          0.004323\n",
       "Recall            0.002172\n",
       "AUROC             0.500560"
      ]
     },
     "execution_count": 603,
     "metadata": {},
     "output_type": "execute_result"
    }
   ],
   "source": [
    "#Fitting Logistic Regression Model\n",
    "lr = LogisticRegression()\n",
    "lr.fit(X_train,y_train)\n",
    "\n",
    "#predictions on validation data\n",
    "pred_valid = lr.predict(X_valid)   \n",
    "pred_valid\n",
    "\n",
    "#Metrics\n",
    "Accuracy = accuracy_score(y_valid, pred_valid)\n",
    "F1_score = f1_score(y_valid, pred_valid)\n",
    "Recall_score = recall_score(y_valid, pred_valid)\n",
    "AUROC = roc_auc_score(y_valid, pred_valid)\n",
    "\n",
    "lm1 = pd.DataFrame({'Logistic_Model_1': [Accuracy,F1_score,Recall_score,AUROC]}, \n",
    "                                index=['Accuracy','F1_score','Recall','AUROC'])\n",
    "\n",
    "print(classification_report(y_valid,pred_valid))\n",
    "lm1"
   ]
  },
  {
   "cell_type": "code",
   "execution_count": 604,
   "id": "5aaef1e3",
   "metadata": {},
   "outputs": [
    {
     "data": {
      "text/plain": [
       "0    11400\n",
       "1     4604\n",
       "Name: Loan Status, dtype: int64"
      ]
     },
     "execution_count": 604,
     "metadata": {},
     "output_type": "execute_result"
    }
   ],
   "source": [
    "y_valid.value_counts()"
   ]
  },
  {
   "cell_type": "code",
   "execution_count": 605,
   "id": "d02b7376",
   "metadata": {},
   "outputs": [
    {
     "data": {
      "text/plain": [
       "0    15982\n",
       "1       22\n",
       "dtype: int64"
      ]
     },
     "execution_count": 605,
     "metadata": {},
     "output_type": "execute_result"
    }
   ],
   "source": [
    "pd.DataFrame(pred_valid).value_counts()"
   ]
  },
  {
   "cell_type": "markdown",
   "id": "93691a1e",
   "metadata": {},
   "source": [
    "> **b) Decision Tree**"
   ]
  },
  {
   "cell_type": "code",
   "execution_count": 606,
   "id": "76e5f138",
   "metadata": {},
   "outputs": [
    {
     "name": "stdout",
     "output_type": "stream",
     "text": [
      "              precision    recall  f1-score   support\n",
      "\n",
      "           0       0.75      0.93      0.83     11400\n",
      "           1       0.59      0.23      0.33      4604\n",
      "\n",
      "    accuracy                           0.73     16004\n",
      "   macro avg       0.67      0.58      0.58     16004\n",
      "weighted avg       0.70      0.73      0.69     16004\n",
      "\n"
     ]
    },
    {
     "data": {
      "text/html": [
       "<div>\n",
       "<style scoped>\n",
       "    .dataframe tbody tr th:only-of-type {\n",
       "        vertical-align: middle;\n",
       "    }\n",
       "\n",
       "    .dataframe tbody tr th {\n",
       "        vertical-align: top;\n",
       "    }\n",
       "\n",
       "    .dataframe thead th {\n",
       "        text-align: right;\n",
       "    }\n",
       "</style>\n",
       "<table border=\"1\" class=\"dataframe\">\n",
       "  <thead>\n",
       "    <tr style=\"text-align: right;\">\n",
       "      <th></th>\n",
       "      <th>Decision_Tree_1</th>\n",
       "    </tr>\n",
       "  </thead>\n",
       "  <tbody>\n",
       "    <tr>\n",
       "      <th>Accuracy</th>\n",
       "      <td>0.732754</td>\n",
       "    </tr>\n",
       "    <tr>\n",
       "      <th>F1_score</th>\n",
       "      <td>0.334319</td>\n",
       "    </tr>\n",
       "    <tr>\n",
       "      <th>Recall</th>\n",
       "      <td>0.233275</td>\n",
       "    </tr>\n",
       "    <tr>\n",
       "      <th>AUROC</th>\n",
       "      <td>0.583875</td>\n",
       "    </tr>\n",
       "  </tbody>\n",
       "</table>\n",
       "</div>"
      ],
      "text/plain": [
       "          Decision_Tree_1\n",
       "Accuracy         0.732754\n",
       "F1_score         0.334319\n",
       "Recall           0.233275\n",
       "AUROC            0.583875"
      ]
     },
     "execution_count": 606,
     "metadata": {},
     "output_type": "execute_result"
    }
   ],
   "source": [
    "#Fitting Decision tree Model\n",
    "dt = DecisionTreeClassifier(max_depth=6)\n",
    "dt.fit(X_train,y_train)\n",
    "pred = dt.predict(X_valid)\n",
    "\n",
    "#predictions on validation data\n",
    "pred_valid = dt.predict(X_valid)   \n",
    "pred_valid\n",
    "\n",
    "#Metrics\n",
    "Accuracy = accuracy_score(y_valid, pred_valid)\n",
    "F1_score = f1_score(y_valid, pred_valid)\n",
    "Recall_score = recall_score(y_valid, pred_valid)\n",
    "AUROC = roc_auc_score(y_valid, pred_valid)\n",
    "\n",
    "dt1 = pd.DataFrame({'Decision_Tree_1': [Accuracy,F1_score,Recall_score,AUROC]}, \n",
    "                                index=['Accuracy','F1_score','Recall','AUROC'])\n",
    "\n",
    "print(classification_report(y_valid,pred_valid))\n",
    "dt1"
   ]
  },
  {
   "cell_type": "markdown",
   "id": "a7885d82",
   "metadata": {},
   "source": [
    "> **c) Pruned Decision Tree**"
   ]
  },
  {
   "cell_type": "code",
   "execution_count": 607,
   "id": "57e2c8c5",
   "metadata": {},
   "outputs": [],
   "source": [
    "# #pruning-Finding alpha\n",
    "# path = dt.cost_complexity_pruning_path(X_train, y_train)\n",
    "# ccp_alphas = path.ccp_alphas\n",
    "# ccp_alphas\n",
    "\n",
    "# train_accuracy = {}         #Dictionary to store alpha and mae\n",
    "# validation_accuracy = {}\n",
    "\n",
    "# for i in ccp_alphas:\n",
    "#     dt = DecisionTreeClassifier(ccp_alpha=i)\n",
    "#     dt.fit(X_train,y_train)\n",
    "#     pred_valid = dt.predict(X_valid)\n",
    "#     pred_train = dt.predict(X_train)\n",
    "\n",
    "#     train_accuracy[i] = accuracy_score(y_train,pred_train)\n",
    "#     validation_accuracy[i] = accuracy_score(y_valid,pred_valid)\n",
    "\n",
    "# opt_ccp = max(validation_accuracy,key = validation_accuracy.get) #Optimum Cost Complexity Parameter\n",
    "# opt_ccp #optimal CCP_alphas "
   ]
  },
  {
   "cell_type": "code",
   "execution_count": 608,
   "id": "0551cd20",
   "metadata": {},
   "outputs": [],
   "source": [
    "# #Fitting pruned decision tree model using optimum alpha\n",
    "# prun_dt = DecisionTreeClassifier(ccp_alpha=opt_ccp) \n",
    "\n",
    "# prun_dt.fit(X_train,y_train)\n",
    "# pred = prun_dt.predict(X_valid)\n",
    "\n",
    "# #predictions on validation data\n",
    "# pred_valid = prun_dt.predict(X_valid)   \n",
    "# pred_valid\n",
    "\n",
    "# #Metrics\n",
    "# Accuracy = accuracy_score(y_valid, pred_valid)\n",
    "# F1_score = f1_score(y_valid, pred_valid)\n",
    "# Recall_score = recall_score(y_valid, pred_valid)\n",
    "# AUROC = roc_auc_score(y_valid, pred_valid)\n",
    "\n",
    "# pdt1 = pd.DataFrame({'Pruned_Decision_Tree_1': [Accuracy,F1_score,Recall_score,AUROC]}, \n",
    "#                                 index=['Accuracy','F1_score','Recall','AUROC'])\n",
    "\n",
    "# #print(classification_report(y_valid,pred_valid))\n",
    "# pdt1"
   ]
  },
  {
   "cell_type": "markdown",
   "id": "18d65290",
   "metadata": {},
   "source": [
    "> **d) Random Forest**"
   ]
  },
  {
   "cell_type": "code",
   "execution_count": 609,
   "id": "cb87e87d",
   "metadata": {},
   "outputs": [
    {
     "data": {
      "text/html": [
       "<div>\n",
       "<style scoped>\n",
       "    .dataframe tbody tr th:only-of-type {\n",
       "        vertical-align: middle;\n",
       "    }\n",
       "\n",
       "    .dataframe tbody tr th {\n",
       "        vertical-align: top;\n",
       "    }\n",
       "\n",
       "    .dataframe thead th {\n",
       "        text-align: right;\n",
       "    }\n",
       "</style>\n",
       "<table border=\"1\" class=\"dataframe\">\n",
       "  <thead>\n",
       "    <tr style=\"text-align: right;\">\n",
       "      <th></th>\n",
       "      <th>Random_Forest_1</th>\n",
       "    </tr>\n",
       "  </thead>\n",
       "  <tbody>\n",
       "    <tr>\n",
       "      <th>Accuracy</th>\n",
       "      <td>0.758185</td>\n",
       "    </tr>\n",
       "    <tr>\n",
       "      <th>F1_score</th>\n",
       "      <td>0.431384</td>\n",
       "    </tr>\n",
       "    <tr>\n",
       "      <th>Recall</th>\n",
       "      <td>0.318853</td>\n",
       "    </tr>\n",
       "    <tr>\n",
       "      <th>AUROC</th>\n",
       "      <td>0.627234</td>\n",
       "    </tr>\n",
       "  </tbody>\n",
       "</table>\n",
       "</div>"
      ],
      "text/plain": [
       "          Random_Forest_1\n",
       "Accuracy         0.758185\n",
       "F1_score         0.431384\n",
       "Recall           0.318853\n",
       "AUROC            0.627234"
      ]
     },
     "execution_count": 609,
     "metadata": {},
     "output_type": "execute_result"
    }
   ],
   "source": [
    "#Fitting Random Forest Model\n",
    "rf = RandomForestClassifier()\n",
    "rf.fit(X_train, y_train) \n",
    "pred = rf.predict(X_valid)\n",
    "\n",
    "#predictions on validation data\n",
    "pred_valid = rf.predict(X_valid)   \n",
    "pred_valid\n",
    "\n",
    "#Metrics\n",
    "Accuracy = accuracy_score(y_valid, pred_valid)\n",
    "F1_score = f1_score(y_valid, pred_valid)\n",
    "Recall_score = recall_score(y_valid, pred_valid)\n",
    "AUROC = roc_auc_score(y_valid, pred_valid)\n",
    "\n",
    "rf1 = pd.DataFrame({'Random_Forest_1': [Accuracy,F1_score,Recall_score,AUROC]}, \n",
    "                                index=['Accuracy','F1_score','Recall','AUROC'])\n",
    "\n",
    "#print(classification_report(y_valid,pred_valid))\n",
    "rf1"
   ]
  },
  {
   "cell_type": "markdown",
   "id": "dce3d218",
   "metadata": {},
   "source": [
    "> **e) Adaboost**"
   ]
  },
  {
   "cell_type": "code",
   "execution_count": 610,
   "id": "be7b8c2d",
   "metadata": {},
   "outputs": [
    {
     "data": {
      "text/html": [
       "<div>\n",
       "<style scoped>\n",
       "    .dataframe tbody tr th:only-of-type {\n",
       "        vertical-align: middle;\n",
       "    }\n",
       "\n",
       "    .dataframe tbody tr th {\n",
       "        vertical-align: top;\n",
       "    }\n",
       "\n",
       "    .dataframe thead th {\n",
       "        text-align: right;\n",
       "    }\n",
       "</style>\n",
       "<table border=\"1\" class=\"dataframe\">\n",
       "  <thead>\n",
       "    <tr style=\"text-align: right;\">\n",
       "      <th></th>\n",
       "      <th>Adaboost_1</th>\n",
       "    </tr>\n",
       "  </thead>\n",
       "  <tbody>\n",
       "    <tr>\n",
       "      <th>Accuracy</th>\n",
       "      <td>0.738440</td>\n",
       "    </tr>\n",
       "    <tr>\n",
       "      <th>F1_score</th>\n",
       "      <td>0.385316</td>\n",
       "    </tr>\n",
       "    <tr>\n",
       "      <th>Recall</th>\n",
       "      <td>0.284970</td>\n",
       "    </tr>\n",
       "    <tr>\n",
       "      <th>AUROC</th>\n",
       "      <td>0.603274</td>\n",
       "    </tr>\n",
       "  </tbody>\n",
       "</table>\n",
       "</div>"
      ],
      "text/plain": [
       "          Adaboost_1\n",
       "Accuracy    0.738440\n",
       "F1_score    0.385316\n",
       "Recall      0.284970\n",
       "AUROC       0.603274"
      ]
     },
     "execution_count": 610,
     "metadata": {},
     "output_type": "execute_result"
    }
   ],
   "source": [
    "#Fitting Adaboost Model\n",
    "ada_boost = AdaBoostClassifier()\n",
    "ada_boost.fit(X_train, y_train) \n",
    "pred = ada_boost.predict(X_valid)\n",
    "\n",
    "#predictions on validation data\n",
    "pred_valid = ada_boost.predict(X_valid)   \n",
    "pred_valid\n",
    "\n",
    "#Metrics\n",
    "Accuracy = accuracy_score(y_valid, pred_valid)\n",
    "F1_score = f1_score(y_valid, pred_valid)\n",
    "Recall_score = recall_score(y_valid, pred_valid)\n",
    "AUROC = roc_auc_score(y_valid, pred_valid)\n",
    "\n",
    "adb1 = pd.DataFrame({'Adaboost_1': [Accuracy,F1_score,Recall_score,AUROC]}, \n",
    "                                index=['Accuracy','F1_score','Recall','AUROC'])\n",
    "\n",
    "#print(classification_report(y_valid,pred_valid))\n",
    "adb1"
   ]
  },
  {
   "cell_type": "markdown",
   "id": "e88349d7",
   "metadata": {},
   "source": [
    "--------------------------------------------------------------------------------------------------------------------------------"
   ]
  },
  {
   "cell_type": "markdown",
   "id": "0e956698",
   "metadata": {},
   "source": [
    "## MODEL2: Model on Class-Balanced data using SMOTE"
   ]
  },
  {
   "cell_type": "code",
   "execution_count": 611,
   "id": "19e61f53",
   "metadata": {},
   "outputs": [],
   "source": [
    "#pip install imblearn"
   ]
  },
  {
   "cell_type": "code",
   "execution_count": 612,
   "id": "8710e84a",
   "metadata": {},
   "outputs": [],
   "source": [
    "#import SMOTE module from imblearn library\n",
    "#pip install imblearn #(if you don't have imblearn in your system)\n",
    "from imblearn.over_sampling import SMOTE\n",
    "sm = SMOTE(random_state = 2)\n",
    "X_train_res, y_train_res = sm.fit_resample(X_train, y_train.ravel())"
   ]
  },
  {
   "cell_type": "code",
   "execution_count": 613,
   "id": "2715a62c",
   "metadata": {},
   "outputs": [
    {
     "data": {
      "text/plain": [
       "0    45983\n",
       "1    18032\n",
       "Name: Loan Status, dtype: int64"
      ]
     },
     "execution_count": 613,
     "metadata": {},
     "output_type": "execute_result"
    }
   ],
   "source": [
    "y_train.value_counts() #Class imbalanced data"
   ]
  },
  {
   "cell_type": "code",
   "execution_count": 614,
   "id": "a6928637",
   "metadata": {},
   "outputs": [],
   "source": [
    "y_train = pd.DataFrame(y_train_res)\n",
    "X_train = pd.DataFrame(X_train_res)"
   ]
  },
  {
   "cell_type": "code",
   "execution_count": 615,
   "id": "5a47620a",
   "metadata": {},
   "outputs": [
    {
     "data": {
      "text/plain": [
       "0    45983\n",
       "1    45983\n",
       "dtype: int64"
      ]
     },
     "execution_count": 615,
     "metadata": {},
     "output_type": "execute_result"
    }
   ],
   "source": [
    "y_train.value_counts() #Oversampling using smote balanced the class"
   ]
  },
  {
   "cell_type": "code",
   "execution_count": 616,
   "id": "f0eca202",
   "metadata": {},
   "outputs": [],
   "source": [
    "X_train_iv = X_train.copy()\n",
    "y_train_iv = y_train.copy()"
   ]
  },
  {
   "cell_type": "code",
   "execution_count": 617,
   "id": "e921be2c",
   "metadata": {},
   "outputs": [],
   "source": [
    "X_train_rf = X_train.copy()\n",
    "y_train_rf = y_train.copy()"
   ]
  },
  {
   "cell_type": "markdown",
   "id": "85c618fe",
   "metadata": {},
   "source": [
    "> **a) Logistic Regression**"
   ]
  },
  {
   "cell_type": "code",
   "execution_count": 618,
   "id": "01e4dd2b",
   "metadata": {},
   "outputs": [
    {
     "name": "stdout",
     "output_type": "stream",
     "text": [
      "              precision    recall  f1-score   support\n",
      "\n",
      "           0       0.89      0.35      0.50     11400\n",
      "           1       0.36      0.89      0.51      4604\n",
      "\n",
      "    accuracy                           0.51     16004\n",
      "   macro avg       0.62      0.62      0.51     16004\n",
      "weighted avg       0.73      0.51      0.50     16004\n",
      "\n"
     ]
    },
    {
     "data": {
      "text/html": [
       "<div>\n",
       "<style scoped>\n",
       "    .dataframe tbody tr th:only-of-type {\n",
       "        vertical-align: middle;\n",
       "    }\n",
       "\n",
       "    .dataframe tbody tr th {\n",
       "        vertical-align: top;\n",
       "    }\n",
       "\n",
       "    .dataframe thead th {\n",
       "        text-align: right;\n",
       "    }\n",
       "</style>\n",
       "<table border=\"1\" class=\"dataframe\">\n",
       "  <thead>\n",
       "    <tr style=\"text-align: right;\">\n",
       "      <th></th>\n",
       "      <th>Logistic_Model_2</th>\n",
       "    </tr>\n",
       "  </thead>\n",
       "  <tbody>\n",
       "    <tr>\n",
       "      <th>Accuracy</th>\n",
       "      <td>0.505374</td>\n",
       "    </tr>\n",
       "    <tr>\n",
       "      <th>F1_score</th>\n",
       "      <td>0.507834</td>\n",
       "    </tr>\n",
       "    <tr>\n",
       "      <th>Recall</th>\n",
       "      <td>0.887055</td>\n",
       "    </tr>\n",
       "    <tr>\n",
       "      <th>AUROC</th>\n",
       "      <td>0.619141</td>\n",
       "    </tr>\n",
       "  </tbody>\n",
       "</table>\n",
       "</div>"
      ],
      "text/plain": [
       "          Logistic_Model_2\n",
       "Accuracy          0.505374\n",
       "F1_score          0.507834\n",
       "Recall            0.887055\n",
       "AUROC             0.619141"
      ]
     },
     "execution_count": 618,
     "metadata": {},
     "output_type": "execute_result"
    }
   ],
   "source": [
    "#Fitting Logistic Regression Model\n",
    "lr = LogisticRegression()\n",
    "lr.fit(X_train,y_train)\n",
    "\n",
    "#predictions on validation data\n",
    "pred_valid = lr.predict(X_valid)   \n",
    "pred_valid\n",
    "\n",
    "#Metrics\n",
    "Accuracy = accuracy_score(y_valid, pred_valid)\n",
    "F1_score = f1_score(y_valid, pred_valid)\n",
    "Recall_score = recall_score(y_valid, pred_valid)\n",
    "AUROC = roc_auc_score(y_valid, pred_valid)\n",
    "\n",
    "lm2 = pd.DataFrame({'Logistic_Model_2': [Accuracy,F1_score,Recall_score,AUROC]}, \n",
    "                                index=['Accuracy','F1_score','Recall','AUROC'])\n",
    "\n",
    "print(classification_report(y_valid,pred_valid))\n",
    "lm2"
   ]
  },
  {
   "cell_type": "markdown",
   "id": "21951c9b",
   "metadata": {},
   "source": [
    "> **b) Decision Tree**"
   ]
  },
  {
   "cell_type": "code",
   "execution_count": 619,
   "id": "5b481d66",
   "metadata": {},
   "outputs": [
    {
     "data": {
      "text/html": [
       "<div>\n",
       "<style scoped>\n",
       "    .dataframe tbody tr th:only-of-type {\n",
       "        vertical-align: middle;\n",
       "    }\n",
       "\n",
       "    .dataframe tbody tr th {\n",
       "        vertical-align: top;\n",
       "    }\n",
       "\n",
       "    .dataframe thead th {\n",
       "        text-align: right;\n",
       "    }\n",
       "</style>\n",
       "<table border=\"1\" class=\"dataframe\">\n",
       "  <thead>\n",
       "    <tr style=\"text-align: right;\">\n",
       "      <th></th>\n",
       "      <th>Decision_Tree_2</th>\n",
       "    </tr>\n",
       "  </thead>\n",
       "  <tbody>\n",
       "    <tr>\n",
       "      <th>Accuracy</th>\n",
       "      <td>0.707261</td>\n",
       "    </tr>\n",
       "    <tr>\n",
       "      <th>F1_score</th>\n",
       "      <td>0.490262</td>\n",
       "    </tr>\n",
       "    <tr>\n",
       "      <th>Recall</th>\n",
       "      <td>0.489357</td>\n",
       "    </tr>\n",
       "    <tr>\n",
       "      <th>AUROC</th>\n",
       "      <td>0.642310</td>\n",
       "    </tr>\n",
       "  </tbody>\n",
       "</table>\n",
       "</div>"
      ],
      "text/plain": [
       "          Decision_Tree_2\n",
       "Accuracy         0.707261\n",
       "F1_score         0.490262\n",
       "Recall           0.489357\n",
       "AUROC            0.642310"
      ]
     },
     "execution_count": 619,
     "metadata": {},
     "output_type": "execute_result"
    }
   ],
   "source": [
    "#Fitting Decision tree Model\n",
    "dt = DecisionTreeClassifier(max_depth=6)\n",
    "dt.fit(X_train,y_train)\n",
    "pred = dt.predict(X_valid)\n",
    "\n",
    "#predictions on validation data\n",
    "pred_valid = dt.predict(X_valid)   \n",
    "pred_valid\n",
    "\n",
    "#Metrics\n",
    "Accuracy = accuracy_score(y_valid, pred_valid)\n",
    "F1_score = f1_score(y_valid, pred_valid)\n",
    "Recall_score = recall_score(y_valid, pred_valid)\n",
    "AUROC = roc_auc_score(y_valid, pred_valid)\n",
    "\n",
    "dt2 = pd.DataFrame({'Decision_Tree_2': [Accuracy,F1_score,Recall_score,AUROC]}, \n",
    "                                index=['Accuracy','F1_score','Recall','AUROC'])\n",
    "\n",
    "#print(classification_report(y_valid,pred_valid))\n",
    "dt2"
   ]
  },
  {
   "cell_type": "markdown",
   "id": "8de1f1a1",
   "metadata": {},
   "source": [
    "> **c) Pruned Decision Tree**"
   ]
  },
  {
   "cell_type": "code",
   "execution_count": 620,
   "id": "54cbf7a1",
   "metadata": {},
   "outputs": [],
   "source": [
    "# #pruning-Finding alpha\n",
    "# path = dt.cost_complexity_pruning_path(X_train, y_train)\n",
    "# ccp_alphas = path.ccp_alphas\n",
    "# ccp_alphas\n",
    "\n",
    "# train_accuracy = {}         #Dictionary to store alpha and mae\n",
    "# validation_accuracy = {}\n",
    "\n",
    "# for i in ccp_alphas:\n",
    "#     dt = DecisionTreeClassifier(ccp_alpha=i)\n",
    "#     dt.fit(X_train,y_train)\n",
    "#     pred_valid = dt.predict(X_valid)\n",
    "#     pred_train = dt.predict(X_train)\n",
    "\n",
    "#     train_accuracy[i] = accuracy_score(y_train,pred_train)\n",
    "#     validation_accuracy[i] = accuracy_score(y_valid,pred_valid)\n",
    "\n",
    "# opt_ccp = max(validation_accuracy,key = validation_accuracy.get) #Optimum Cost Complexity Parameter\n",
    "# opt_ccp #optimal CCP_alphas "
   ]
  },
  {
   "cell_type": "code",
   "execution_count": 621,
   "id": "b87318a9",
   "metadata": {},
   "outputs": [],
   "source": [
    "# #Fitting pruned decision tree model using optimum alpha\n",
    "# prun_dt = DecisionTreeClassifier(ccp_alpha=opt_ccp) \n",
    "\n",
    "# prun_dt.fit(X_train,y_train)\n",
    "# pred = prun_dt.predict(X_valid)\n",
    "\n",
    "# #predictions on validation data\n",
    "# pred_valid = prun_dt.predict(X_valid)   \n",
    "# pred_valid\n",
    "\n",
    "# #Metrics\n",
    "# Accuracy = accuracy_score(y_valid, pred_valid)\n",
    "# F1_score = f1_score(y_valid, pred_valid)\n",
    "# Recall_score = recall_score(y_valid, pred_valid)\n",
    "# AUROC = roc_auc_score(y_valid, pred_valid)\n",
    "\n",
    "# pdt2 = pd.DataFrame({'Pruned_Decision_Tree_2': [Accuracy,F1_score,Recall_score,AUROC]}, \n",
    "#                                 index=['Accuracy','F1_score','Recall','AUROC'])\n",
    "\n",
    "# #print(classification_report(y_valid,pred_valid))\n",
    "# pdt2"
   ]
  },
  {
   "cell_type": "markdown",
   "id": "64249c21",
   "metadata": {},
   "source": [
    "> **d) Random Forest**"
   ]
  },
  {
   "cell_type": "code",
   "execution_count": 622,
   "id": "34de3c81",
   "metadata": {},
   "outputs": [
    {
     "data": {
      "text/html": [
       "<div>\n",
       "<style scoped>\n",
       "    .dataframe tbody tr th:only-of-type {\n",
       "        vertical-align: middle;\n",
       "    }\n",
       "\n",
       "    .dataframe tbody tr th {\n",
       "        vertical-align: top;\n",
       "    }\n",
       "\n",
       "    .dataframe thead th {\n",
       "        text-align: right;\n",
       "    }\n",
       "</style>\n",
       "<table border=\"1\" class=\"dataframe\">\n",
       "  <thead>\n",
       "    <tr style=\"text-align: right;\">\n",
       "      <th></th>\n",
       "      <th>Random_Forest_1</th>\n",
       "    </tr>\n",
       "  </thead>\n",
       "  <tbody>\n",
       "    <tr>\n",
       "      <th>Accuracy</th>\n",
       "      <td>0.762122</td>\n",
       "    </tr>\n",
       "    <tr>\n",
       "      <th>F1_score</th>\n",
       "      <td>0.516326</td>\n",
       "    </tr>\n",
       "    <tr>\n",
       "      <th>Recall</th>\n",
       "      <td>0.441355</td>\n",
       "    </tr>\n",
       "    <tr>\n",
       "      <th>AUROC</th>\n",
       "      <td>0.666511</td>\n",
       "    </tr>\n",
       "  </tbody>\n",
       "</table>\n",
       "</div>"
      ],
      "text/plain": [
       "          Random_Forest_1\n",
       "Accuracy         0.762122\n",
       "F1_score         0.516326\n",
       "Recall           0.441355\n",
       "AUROC            0.666511"
      ]
     },
     "execution_count": 622,
     "metadata": {},
     "output_type": "execute_result"
    }
   ],
   "source": [
    "#Fitting Random Forest Model\n",
    "rf = RandomForestClassifier()\n",
    "rf.fit(X_train, y_train) \n",
    "pred = rf.predict(X_valid)\n",
    "\n",
    "#predictions on validation data\n",
    "pred_valid = rf.predict(X_valid)   \n",
    "pred_valid\n",
    "\n",
    "#Metrics\n",
    "Accuracy = accuracy_score(y_valid, pred_valid)\n",
    "F1_score = f1_score(y_valid, pred_valid)\n",
    "Recall_score = recall_score(y_valid, pred_valid)\n",
    "AUROC = roc_auc_score(y_valid, pred_valid)\n",
    "\n",
    "rf2 = pd.DataFrame({'Random_Forest_1': [Accuracy,F1_score,Recall_score,AUROC]}, \n",
    "                                index=['Accuracy','F1_score','Recall','AUROC'])\n",
    "\n",
    "#print(classification_report(y_valid,pred_valid))\n",
    "rf2"
   ]
  },
  {
   "cell_type": "markdown",
   "id": "0ffe34ad",
   "metadata": {},
   "source": [
    "> **e) Adaboost**"
   ]
  },
  {
   "cell_type": "code",
   "execution_count": 623,
   "id": "bc952351",
   "metadata": {},
   "outputs": [
    {
     "data": {
      "text/html": [
       "<div>\n",
       "<style scoped>\n",
       "    .dataframe tbody tr th:only-of-type {\n",
       "        vertical-align: middle;\n",
       "    }\n",
       "\n",
       "    .dataframe tbody tr th {\n",
       "        vertical-align: top;\n",
       "    }\n",
       "\n",
       "    .dataframe thead th {\n",
       "        text-align: right;\n",
       "    }\n",
       "</style>\n",
       "<table border=\"1\" class=\"dataframe\">\n",
       "  <thead>\n",
       "    <tr style=\"text-align: right;\">\n",
       "      <th></th>\n",
       "      <th>Adaboost_1</th>\n",
       "    </tr>\n",
       "  </thead>\n",
       "  <tbody>\n",
       "    <tr>\n",
       "      <th>Accuracy</th>\n",
       "      <td>0.701512</td>\n",
       "    </tr>\n",
       "    <tr>\n",
       "      <th>F1_score</th>\n",
       "      <td>0.483400</td>\n",
       "    </tr>\n",
       "    <tr>\n",
       "      <th>Recall</th>\n",
       "      <td>0.485447</td>\n",
       "    </tr>\n",
       "    <tr>\n",
       "      <th>AUROC</th>\n",
       "      <td>0.637110</td>\n",
       "    </tr>\n",
       "  </tbody>\n",
       "</table>\n",
       "</div>"
      ],
      "text/plain": [
       "          Adaboost_1\n",
       "Accuracy    0.701512\n",
       "F1_score    0.483400\n",
       "Recall      0.485447\n",
       "AUROC       0.637110"
      ]
     },
     "execution_count": 623,
     "metadata": {},
     "output_type": "execute_result"
    }
   ],
   "source": [
    "#Fitting Adaboost Model\n",
    "ada_boost = AdaBoostClassifier()\n",
    "ada_boost.fit(X_train, y_train) \n",
    "pred = ada_boost.predict(X_valid)\n",
    "\n",
    "#predictions on validation data\n",
    "pred_valid = ada_boost.predict(X_valid)   \n",
    "pred_valid\n",
    "\n",
    "#Metrics\n",
    "Accuracy = accuracy_score(y_valid, pred_valid)\n",
    "F1_score = f1_score(y_valid, pred_valid)\n",
    "Recall_score = recall_score(y_valid, pred_valid)\n",
    "AUROC = roc_auc_score(y_valid, pred_valid)\n",
    "\n",
    "adb2 = pd.DataFrame({'Adaboost_1': [Accuracy,F1_score,Recall_score,AUROC]}, \n",
    "                                index=['Accuracy','F1_score','Recall','AUROC'])\n",
    "\n",
    "#print(classification_report(y_valid,pred_valid))\n",
    "adb2"
   ]
  },
  {
   "cell_type": "markdown",
   "id": "75b130da",
   "metadata": {},
   "source": [
    "## MODEL5: Feature Selection using Information Value "
   ]
  },
  {
   "cell_type": "markdown",
   "id": "b117bbed",
   "metadata": {},
   "source": [
    "\n",
    "\n",
    "- Fitting Logistic regression model using columns that have IV of 0.03 or higher"
   ]
  },
  {
   "cell_type": "markdown",
   "id": "c7452f1d",
   "metadata": {},
   "source": [
    "https://www.listendata.com/2015/03/weight-of-evidence-woe-and-information.html"
   ]
  },
  {
   "cell_type": "code",
   "execution_count": 624,
   "id": "5115931c",
   "metadata": {},
   "outputs": [],
   "source": [
    "def iv_woe(data, target, bins=10, show_woe=False):\n",
    "    \n",
    "    #Empty Dataframe\n",
    "    newDF,woeDF = pd.DataFrame(), pd.DataFrame()\n",
    "    \n",
    "    #Extract Column Names\n",
    "    cols = data.columns\n",
    "    \n",
    "    #Run WOE and IV on all the independent variables\n",
    "    for ivars in cols[~cols.isin([target])]:\n",
    "        if (data[ivars].dtype.kind in 'bifc') and (len(np.unique(data[ivars]))>10):\n",
    "            binned_x = pd.qcut(data[ivars], bins,  duplicates='drop')\n",
    "            d0 = pd.DataFrame({'x': binned_x, 'y': data[target]})\n",
    "        else:\n",
    "            d0 = pd.DataFrame({'x': data[ivars], 'y': data[target]})\n",
    "\n",
    "        \n",
    "        # Calculate the number of events in each group (bin)\n",
    "        d = d0.groupby(\"x\", as_index=False).agg({\"y\": [\"count\", \"sum\"]})\n",
    "        d.columns = ['Cutoff', 'N', 'Events']\n",
    "        \n",
    "        # Calculate % of events in each group.\n",
    "        d['% of Events'] = np.maximum(d['Events'], 0.5) / d['Events'].sum()\n",
    "\n",
    "        # Calculate the non events in each group.\n",
    "        d['Non-Events'] = d['N'] - d['Events']\n",
    "        # Calculate % of non events in each group.\n",
    "        d['% of Non-Events'] = np.maximum(d['Non-Events'], 0.5) / d['Non-Events'].sum()\n",
    "\n",
    "        # Calculate WOE by taking natural log of division of % of non-events and % of events\n",
    "        d['WoE'] = np.log(d['% of Events']/d['% of Non-Events'])\n",
    "        d['IV'] = d['WoE'] * (d['% of Events'] - d['% of Non-Events'])\n",
    "        d.insert(loc=0, column='Variable', value=ivars)\n",
    "        print(\"Information value of \" + ivars + \" is \" + str(round(d['IV'].sum(),6)))\n",
    "        temp =pd.DataFrame({\"Variable\" : [ivars], \"IV\" : [d['IV'].sum()]}, columns = [\"Variable\", \"IV\"])\n",
    "        newDF=pd.concat([newDF,temp], axis=0)\n",
    "        woeDF=pd.concat([woeDF,d], axis=0)\n",
    "\n",
    "        #Show WOE Table\n",
    "        if show_woe == True:\n",
    "            print(d)\n",
    "    return newDF, woeDF"
   ]
  },
  {
   "cell_type": "markdown",
   "id": "4d30c4ff",
   "metadata": {},
   "source": [
    "### IV "
   ]
  },
  {
   "cell_type": "code",
   "execution_count": 625,
   "id": "de1468e5",
   "metadata": {},
   "outputs": [],
   "source": [
    "df_iv = df.copy()"
   ]
  },
  {
   "cell_type": "code",
   "execution_count": 626,
   "id": "4c11e8c4",
   "metadata": {},
   "outputs": [
    {
     "name": "stdout",
     "output_type": "stream",
     "text": [
      "Information value of Current Loan Amount is 0.246993\n",
      "Information value of Term is 0.143059\n",
      "Information value of Credit Score is 0.395366\n",
      "Information value of Years in current job is 0.00088\n",
      "Information value of Annual Income is 0.055386\n",
      "Information value of Monthly Debt is 0.004171\n",
      "Information value of Years of Credit History is 0.012882\n",
      "Information value of Months since last delinquent is 0.005486\n",
      "Information value of Number of Open Accounts is 0.001901\n",
      "Information value of Number of Credit Problems is 0.000516\n",
      "Information value of Current Credit Balance is 0.003387\n",
      "Information value of Maximum Open Credit is 0.024512\n",
      "Information value of Bankruptcies is 6.4e-05\n",
      "Information value of Tax Liens is 0.0\n",
      "Information value of Home Ownership_Home Mortgage is 0.018728\n",
      "Information value of Home Ownership_Own Home is 9.5e-05\n",
      "Information value of Home Ownership_Rent is 0.017467\n",
      "Information value of Purpose_Business Loan is 0.004681\n",
      "Information value of Purpose_Buy House is 0.0\n",
      "Information value of Purpose_Buy a Car is 0.002844\n",
      "Information value of Purpose_Debt Consolidation is 1.4e-05\n",
      "Information value of Purpose_Educational Expenses is 8.1e-05\n",
      "Information value of Purpose_Home Improvements is 0.001832\n",
      "Information value of Purpose_Medical Bills is 0.000458\n",
      "Information value of Purpose_Take a Trip is 1.9e-05\n",
      "Information value of Purpose_major_purchase is 2e-06\n",
      "Information value of Purpose_moving is 0.000388\n",
      "Information value of Purpose_other is 6.1e-05\n",
      "Information value of Purpose_renewable_energy is 5.7e-05\n",
      "Information value of Purpose_small_business is 0.003521\n",
      "Information value of Purpose_vacation is 0.000143\n",
      "Information value of Purpose_wedding is 1.2e-05\n"
     ]
    }
   ],
   "source": [
    "iv = iv_woe(df_iv,\"Loan Status\",bins=10,show_woe=False)"
   ]
  },
  {
   "cell_type": "code",
   "execution_count": 627,
   "id": "cc20b5d9",
   "metadata": {},
   "outputs": [],
   "source": [
    "iv = iv[0]"
   ]
  },
  {
   "cell_type": "code",
   "execution_count": 628,
   "id": "6f570e74",
   "metadata": {},
   "outputs": [],
   "source": [
    "# Seggregating the variables based on IV value\n",
    "preffered=[]\n",
    "medium=[]\n",
    "rejected=[]\n",
    "\n",
    "for i in range(len(iv)):\n",
    "    if (iv.iloc[i,1])>0.1:\n",
    "        preffered.append(iv.iloc[i,0])\n",
    "        \n",
    "    if  (iv.iloc[i,1])<0.1 and  (iv.iloc[i,1])>0.03:\n",
    "        medium.append(iv.iloc[i,0])\n",
    "        \n",
    "    if (iv.iloc[i,1])<0.03:\n",
    "        rejected.append(iv.iloc[i,0])       "
   ]
  },
  {
   "cell_type": "code",
   "execution_count": 629,
   "id": "e245548b",
   "metadata": {},
   "outputs": [
    {
     "data": {
      "text/plain": [
       "['Current Loan Amount', 'Term', 'Credit Score']"
      ]
     },
     "execution_count": 629,
     "metadata": {},
     "output_type": "execute_result"
    }
   ],
   "source": [
    "preffered"
   ]
  },
  {
   "cell_type": "code",
   "execution_count": 630,
   "id": "c8c08993",
   "metadata": {},
   "outputs": [
    {
     "data": {
      "text/plain": [
       "['Annual Income']"
      ]
     },
     "execution_count": 630,
     "metadata": {},
     "output_type": "execute_result"
    }
   ],
   "source": [
    "medium"
   ]
  },
  {
   "cell_type": "code",
   "execution_count": 631,
   "id": "ebe44751",
   "metadata": {
    "scrolled": true
   },
   "outputs": [],
   "source": [
    "#rejected"
   ]
  },
  {
   "cell_type": "code",
   "execution_count": 632,
   "id": "b09bf37b",
   "metadata": {},
   "outputs": [
    {
     "data": {
      "text/plain": [
       "Index(['Current Loan Amount', 'Term', 'Credit Score', 'Years in current job',\n",
       "       'Annual Income', 'Monthly Debt', 'Years of Credit History',\n",
       "       'Months since last delinquent', 'Number of Open Accounts',\n",
       "       'Number of Credit Problems', 'Current Credit Balance',\n",
       "       'Maximum Open Credit', 'Bankruptcies', 'Tax Liens',\n",
       "       'Home Ownership_Home Mortgage', 'Home Ownership_Own Home',\n",
       "       'Home Ownership_Rent', 'Purpose_Business Loan', 'Purpose_Buy House',\n",
       "       'Purpose_Buy a Car', 'Purpose_Debt Consolidation',\n",
       "       'Purpose_Educational Expenses', 'Purpose_Home Improvements',\n",
       "       'Purpose_Medical Bills', 'Purpose_Take a Trip',\n",
       "       'Purpose_major_purchase', 'Purpose_moving', 'Purpose_other',\n",
       "       'Purpose_renewable_energy', 'Purpose_small_business',\n",
       "       'Purpose_vacation', 'Purpose_wedding'],\n",
       "      dtype='object')"
      ]
     },
     "execution_count": 632,
     "metadata": {},
     "output_type": "execute_result"
    }
   ],
   "source": [
    "X_train_iv.columns"
   ]
  },
  {
   "cell_type": "code",
   "execution_count": 633,
   "id": "a7c68bcd",
   "metadata": {},
   "outputs": [],
   "source": [
    "X_train_iv = X_train_iv[['Current Loan Amount','Term', 'Credit Score','Annual Income']]\n",
    "X_train = X_train_iv.copy()\n",
    "X_valid_iv = X_valid_iv[['Current Loan Amount','Term', 'Credit Score','Annual Income']]\n",
    "X_valid = X_valid_iv.copy()"
   ]
  },
  {
   "cell_type": "markdown",
   "id": "127bd54b",
   "metadata": {},
   "source": [
    "> **a) Logistic Regression**"
   ]
  },
  {
   "cell_type": "code",
   "execution_count": 634,
   "id": "9d8da309",
   "metadata": {},
   "outputs": [
    {
     "name": "stdout",
     "output_type": "stream",
     "text": [
      "              precision    recall  f1-score   support\n",
      "\n",
      "           0       0.92      0.27      0.41     11400\n",
      "           1       0.34      0.94      0.50      4604\n",
      "\n",
      "    accuracy                           0.46     16004\n",
      "   macro avg       0.63      0.60      0.46     16004\n",
      "weighted avg       0.75      0.46      0.44     16004\n",
      "\n"
     ]
    },
    {
     "data": {
      "text/html": [
       "<div>\n",
       "<style scoped>\n",
       "    .dataframe tbody tr th:only-of-type {\n",
       "        vertical-align: middle;\n",
       "    }\n",
       "\n",
       "    .dataframe tbody tr th {\n",
       "        vertical-align: top;\n",
       "    }\n",
       "\n",
       "    .dataframe thead th {\n",
       "        text-align: right;\n",
       "    }\n",
       "</style>\n",
       "<table border=\"1\" class=\"dataframe\">\n",
       "  <thead>\n",
       "    <tr style=\"text-align: right;\">\n",
       "      <th></th>\n",
       "      <th>Logistic_Model_l</th>\n",
       "    </tr>\n",
       "  </thead>\n",
       "  <tbody>\n",
       "    <tr>\n",
       "      <th>Accuracy</th>\n",
       "      <td>0.460072</td>\n",
       "    </tr>\n",
       "    <tr>\n",
       "      <th>F1_score</th>\n",
       "      <td>0.500665</td>\n",
       "    </tr>\n",
       "    <tr>\n",
       "      <th>Recall</th>\n",
       "      <td>0.940921</td>\n",
       "    </tr>\n",
       "    <tr>\n",
       "      <th>AUROC</th>\n",
       "      <td>0.603399</td>\n",
       "    </tr>\n",
       "  </tbody>\n",
       "</table>\n",
       "</div>"
      ],
      "text/plain": [
       "          Logistic_Model_l\n",
       "Accuracy          0.460072\n",
       "F1_score          0.500665\n",
       "Recall            0.940921\n",
       "AUROC             0.603399"
      ]
     },
     "execution_count": 634,
     "metadata": {},
     "output_type": "execute_result"
    }
   ],
   "source": [
    "#Fitting Logistic Regression Model\n",
    "lr = LogisticRegression()\n",
    "lr.fit(X_train,y_train)\n",
    "\n",
    "#predictions on validation data\n",
    "pred_valid = lr.predict(X_valid)   \n",
    "pred_valid\n",
    "\n",
    "#Metrics\n",
    "Accuracy = accuracy_score(y_valid, pred_valid)\n",
    "F1_score = f1_score(y_valid, pred_valid)\n",
    "Recall_score = recall_score(y_valid, pred_valid)\n",
    "AUROC = roc_auc_score(y_valid, pred_valid)\n",
    "\n",
    "lm1 = pd.DataFrame({'Logistic_Model_l': [Accuracy,F1_score,Recall_score,AUROC]}, \n",
    "                                index=['Accuracy','F1_score','Recall','AUROC'])\n",
    "\n",
    "print(classification_report(y_valid,pred_valid))\n",
    "lm1"
   ]
  },
  {
   "cell_type": "markdown",
   "id": "78778bee",
   "metadata": {},
   "source": [
    "> **b) Decision Tree**"
   ]
  },
  {
   "cell_type": "code",
   "execution_count": 635,
   "id": "ee679122",
   "metadata": {},
   "outputs": [
    {
     "data": {
      "text/html": [
       "<div>\n",
       "<style scoped>\n",
       "    .dataframe tbody tr th:only-of-type {\n",
       "        vertical-align: middle;\n",
       "    }\n",
       "\n",
       "    .dataframe tbody tr th {\n",
       "        vertical-align: top;\n",
       "    }\n",
       "\n",
       "    .dataframe thead th {\n",
       "        text-align: right;\n",
       "    }\n",
       "</style>\n",
       "<table border=\"1\" class=\"dataframe\">\n",
       "  <thead>\n",
       "    <tr style=\"text-align: right;\">\n",
       "      <th></th>\n",
       "      <th>Decision_Tree_1</th>\n",
       "    </tr>\n",
       "  </thead>\n",
       "  <tbody>\n",
       "    <tr>\n",
       "      <th>Accuracy</th>\n",
       "      <td>0.686641</td>\n",
       "    </tr>\n",
       "    <tr>\n",
       "      <th>F1_score</th>\n",
       "      <td>0.545125</td>\n",
       "    </tr>\n",
       "    <tr>\n",
       "      <th>Recall</th>\n",
       "      <td>0.652693</td>\n",
       "    </tr>\n",
       "    <tr>\n",
       "      <th>AUROC</th>\n",
       "      <td>0.676522</td>\n",
       "    </tr>\n",
       "  </tbody>\n",
       "</table>\n",
       "</div>"
      ],
      "text/plain": [
       "          Decision_Tree_1\n",
       "Accuracy         0.686641\n",
       "F1_score         0.545125\n",
       "Recall           0.652693\n",
       "AUROC            0.676522"
      ]
     },
     "execution_count": 635,
     "metadata": {},
     "output_type": "execute_result"
    }
   ],
   "source": [
    "#Fitting Decision tree Model\n",
    "dt = DecisionTreeClassifier(max_depth=6)\n",
    "dt.fit(X_train,y_train)\n",
    "\n",
    "\n",
    "#predictions on validation data\n",
    "pred_valid = dt.predict(X_valid)   \n",
    "pred_valid\n",
    "\n",
    "#Metrics\n",
    "Accuracy = accuracy_score(y_valid, pred_valid)\n",
    "F1_score = f1_score(y_valid, pred_valid)\n",
    "Recall_score = recall_score(y_valid, pred_valid)\n",
    "AUROC = roc_auc_score(y_valid, pred_valid)\n",
    "\n",
    "dt1 = pd.DataFrame({'Decision_Tree_1': [Accuracy,F1_score,Recall_score,AUROC]}, \n",
    "                                index=['Accuracy','F1_score','Recall','AUROC'])\n",
    "\n",
    "#print(classification_report(y_valid1,pred_valid))\n",
    "dt1"
   ]
  },
  {
   "cell_type": "markdown",
   "id": "c5663717",
   "metadata": {},
   "source": [
    "> **c) Pruned Decision Tree**"
   ]
  },
  {
   "cell_type": "code",
   "execution_count": 636,
   "id": "d5f81454",
   "metadata": {},
   "outputs": [],
   "source": [
    "# #pruning-Finding alpha\n",
    "# path = dt.cost_complexity_pruning_path(X_train1, y_train1)\n",
    "# ccp_alphas = path.ccp_alphas\n",
    "# ccp_alphas\n",
    "\n",
    "# train_accuracy = {}         #Dictionary to store alpha and mae\n",
    "# validation_accuracy = {}\n",
    "\n",
    "# for i in ccp_alphas:\n",
    "#     dt = DecisionTreeClassifier(ccp_alpha=i)\n",
    "#     dt.fit(X_train1,y_train1)\n",
    "#     pred_valid = dt.predict(X_valid1)\n",
    "#     pred_train = dt.predict(X_train1)\n",
    "\n",
    "#     train_accuracy[i] = accuracy_score(y_train1,pred_train)\n",
    "#     validation_accuracy[i] = accuracy_score(y_valid1,pred_valid)\n",
    "\n",
    "# opt_ccp = max(validation_accuracy,key = validation_accuracy.get) #Optimum Cost Complexity Parameter\n",
    "# opt_ccp #optimal CCP_alphas "
   ]
  },
  {
   "cell_type": "code",
   "execution_count": 637,
   "id": "fbd47f81",
   "metadata": {},
   "outputs": [],
   "source": [
    "# #Fitting pruned decision tree model using optimum alpha\n",
    "# prun_dt = DecisionTreeClassifier(ccp_alpha=opt_ccp) \n",
    "\n",
    "# prun_dt.fit(X_train1,y_train1)\n",
    "# pred = prun_dt.predict(X_valid1)\n",
    "\n",
    "# #predictions on validation data\n",
    "# pred_valid = prun_dt.predict(X_valid1)   \n",
    "# pred_valid\n",
    "\n",
    "# #Metrics\n",
    "# Accuracy = accuracy_score(y_valid1, pred_valid)\n",
    "# F1_score = f1_score(y_valid1, pred_valid)\n",
    "# Recall_score = recall_score(y_valid1, pred_valid)\n",
    "# AUROC = roc_auc_score(y_valid1, pred_valid)\n",
    "\n",
    "# pdt1 = pd.DataFrame({'Pruned_Decision_Tree_1': [Accuracy,F1_score,Recall_score,AUROC]}, \n",
    "#                                 index=['Accuracy','F1_score','Recall','AUROC'])\n",
    "\n",
    "# #print(classification_report(y_valid1,pred_valid))\n",
    "# pdt1"
   ]
  },
  {
   "cell_type": "markdown",
   "id": "80fc18c6",
   "metadata": {},
   "source": [
    "> **d) Random Forest**"
   ]
  },
  {
   "cell_type": "code",
   "execution_count": 638,
   "id": "c710578f",
   "metadata": {},
   "outputs": [
    {
     "data": {
      "text/html": [
       "<div>\n",
       "<style scoped>\n",
       "    .dataframe tbody tr th:only-of-type {\n",
       "        vertical-align: middle;\n",
       "    }\n",
       "\n",
       "    .dataframe tbody tr th {\n",
       "        vertical-align: top;\n",
       "    }\n",
       "\n",
       "    .dataframe thead th {\n",
       "        text-align: right;\n",
       "    }\n",
       "</style>\n",
       "<table border=\"1\" class=\"dataframe\">\n",
       "  <thead>\n",
       "    <tr style=\"text-align: right;\">\n",
       "      <th></th>\n",
       "      <th>Random_Forest_l</th>\n",
       "    </tr>\n",
       "  </thead>\n",
       "  <tbody>\n",
       "    <tr>\n",
       "      <th>Accuracy</th>\n",
       "      <td>0.713509</td>\n",
       "    </tr>\n",
       "    <tr>\n",
       "      <th>F1_score</th>\n",
       "      <td>0.518938</td>\n",
       "    </tr>\n",
       "    <tr>\n",
       "      <th>Recall</th>\n",
       "      <td>0.537142</td>\n",
       "    </tr>\n",
       "    <tr>\n",
       "      <th>AUROC</th>\n",
       "      <td>0.660939</td>\n",
       "    </tr>\n",
       "  </tbody>\n",
       "</table>\n",
       "</div>"
      ],
      "text/plain": [
       "          Random_Forest_l\n",
       "Accuracy         0.713509\n",
       "F1_score         0.518938\n",
       "Recall           0.537142\n",
       "AUROC            0.660939"
      ]
     },
     "execution_count": 638,
     "metadata": {},
     "output_type": "execute_result"
    }
   ],
   "source": [
    "#Fitting Random Forest Model\n",
    "rf = RandomForestClassifier()\n",
    "rf.fit(X_train, y_train) \n",
    "\n",
    "\n",
    "#predictions on validation data\n",
    "pred_valid = rf.predict(X_valid)   \n",
    "pred_valid\n",
    "\n",
    "#Metrics\n",
    "Accuracy = accuracy_score(y_valid, pred_valid)\n",
    "F1_score = f1_score(y_valid, pred_valid)\n",
    "Recall_score = recall_score(y_valid, pred_valid)\n",
    "AUROC = roc_auc_score(y_valid, pred_valid)\n",
    "\n",
    "rf1 = pd.DataFrame({'Random_Forest_l': [Accuracy,F1_score,Recall_score,AUROC]}, \n",
    "                                index=['Accuracy','F1_score','Recall','AUROC'])\n",
    "\n",
    "#print(classification_report(y_valid1,pred_valid))\n",
    "rf1"
   ]
  },
  {
   "cell_type": "markdown",
   "id": "adaa198d",
   "metadata": {},
   "source": [
    "> **e) Adaboost**"
   ]
  },
  {
   "cell_type": "code",
   "execution_count": 639,
   "id": "ef215c0d",
   "metadata": {},
   "outputs": [
    {
     "data": {
      "text/html": [
       "<div>\n",
       "<style scoped>\n",
       "    .dataframe tbody tr th:only-of-type {\n",
       "        vertical-align: middle;\n",
       "    }\n",
       "\n",
       "    .dataframe tbody tr th {\n",
       "        vertical-align: top;\n",
       "    }\n",
       "\n",
       "    .dataframe thead th {\n",
       "        text-align: right;\n",
       "    }\n",
       "</style>\n",
       "<table border=\"1\" class=\"dataframe\">\n",
       "  <thead>\n",
       "    <tr style=\"text-align: right;\">\n",
       "      <th></th>\n",
       "      <th>Adaboost_l</th>\n",
       "    </tr>\n",
       "  </thead>\n",
       "  <tbody>\n",
       "    <tr>\n",
       "      <th>Accuracy</th>\n",
       "      <td>0.686078</td>\n",
       "    </tr>\n",
       "    <tr>\n",
       "      <th>F1_score</th>\n",
       "      <td>0.551909</td>\n",
       "    </tr>\n",
       "    <tr>\n",
       "      <th>Recall</th>\n",
       "      <td>0.672024</td>\n",
       "    </tr>\n",
       "    <tr>\n",
       "      <th>AUROC</th>\n",
       "      <td>0.681889</td>\n",
       "    </tr>\n",
       "  </tbody>\n",
       "</table>\n",
       "</div>"
      ],
      "text/plain": [
       "          Adaboost_l\n",
       "Accuracy    0.686078\n",
       "F1_score    0.551909\n",
       "Recall      0.672024\n",
       "AUROC       0.681889"
      ]
     },
     "execution_count": 639,
     "metadata": {},
     "output_type": "execute_result"
    }
   ],
   "source": [
    "#Fitting Adaboost Model\n",
    "ada_boost = AdaBoostClassifier()\n",
    "ada_boost.fit(X_train, y_train) \n",
    "\n",
    "#predictions on validation data\n",
    "pred_valid = ada_boost.predict(X_valid)   \n",
    "pred_valid\n",
    "\n",
    "#Metrics\n",
    "Accuracy = accuracy_score(y_valid, pred_valid)\n",
    "F1_score = f1_score(y_valid, pred_valid)\n",
    "Recall_score = recall_score(y_valid, pred_valid)\n",
    "AUROC = roc_auc_score(y_valid, pred_valid)\n",
    "\n",
    "adb1 = pd.DataFrame({'Adaboost_l': [Accuracy,F1_score,Recall_score,AUROC]}, \n",
    "                                index=['Accuracy','F1_score','Recall','AUROC'])\n",
    "\n",
    "#print(classification_report(y_valid,pred_valid))\n",
    "adb1"
   ]
  },
  {
   "cell_type": "markdown",
   "id": "4edf8314",
   "metadata": {},
   "source": [
    "> **f) XG Boost**"
   ]
  },
  {
   "cell_type": "code",
   "execution_count": 640,
   "id": "655bd887",
   "metadata": {},
   "outputs": [
    {
     "data": {
      "text/html": [
       "<div>\n",
       "<style scoped>\n",
       "    .dataframe tbody tr th:only-of-type {\n",
       "        vertical-align: middle;\n",
       "    }\n",
       "\n",
       "    .dataframe tbody tr th {\n",
       "        vertical-align: top;\n",
       "    }\n",
       "\n",
       "    .dataframe thead th {\n",
       "        text-align: right;\n",
       "    }\n",
       "</style>\n",
       "<table border=\"1\" class=\"dataframe\">\n",
       "  <thead>\n",
       "    <tr style=\"text-align: right;\">\n",
       "      <th></th>\n",
       "      <th>Xgboost_l</th>\n",
       "    </tr>\n",
       "  </thead>\n",
       "  <tbody>\n",
       "    <tr>\n",
       "      <th>Accuracy</th>\n",
       "      <td>0.729693</td>\n",
       "    </tr>\n",
       "    <tr>\n",
       "      <th>F1_score</th>\n",
       "      <td>0.496977</td>\n",
       "    </tr>\n",
       "    <tr>\n",
       "      <th>Recall</th>\n",
       "      <td>0.464162</td>\n",
       "    </tr>\n",
       "    <tr>\n",
       "      <th>AUROC</th>\n",
       "      <td>0.650546</td>\n",
       "    </tr>\n",
       "  </tbody>\n",
       "</table>\n",
       "</div>"
      ],
      "text/plain": [
       "          Xgboost_l\n",
       "Accuracy   0.729693\n",
       "F1_score   0.496977\n",
       "Recall     0.464162\n",
       "AUROC      0.650546"
      ]
     },
     "execution_count": 640,
     "metadata": {},
     "output_type": "execute_result"
    }
   ],
   "source": [
    "from xgboost import XGBClassifier\n",
    "\n",
    "model = XGBClassifier()\n",
    "model.fit(X_train, y_train)\n",
    "# make predictions for test data\n",
    "pred_valid = model.predict(X_valid)\n",
    "\n",
    "#Metrics\n",
    "Accuracy = accuracy_score(y_valid, pred_valid)\n",
    "F1_score = f1_score(y_valid, pred_valid)\n",
    "Recall_score = recall_score(y_valid, pred_valid)\n",
    "AUROC = roc_auc_score(y_valid, pred_valid)\n",
    "\n",
    "xg = pd.DataFrame({'Xgboost_l': [Accuracy,F1_score,Recall_score,AUROC]}, \n",
    "                                index=['Accuracy','F1_score','Recall','AUROC'])\n",
    "\n",
    "#print(classification_report(y_valid,pred_valid))\n",
    "xg"
   ]
  },
  {
   "cell_type": "markdown",
   "id": "0eff3ef7",
   "metadata": {},
   "source": [
    "# Feature Selection Using Random forest"
   ]
  },
  {
   "cell_type": "markdown",
   "id": "a45becfb",
   "metadata": {},
   "source": [
    "https://towardsdatascience.com/feature-selection-using-random-forest-26d7b747597f"
   ]
  },
  {
   "cell_type": "code",
   "execution_count": 641,
   "id": "bd8375c6",
   "metadata": {},
   "outputs": [],
   "source": [
    "from sklearn.feature_selection import SelectFromModel"
   ]
  },
  {
   "cell_type": "code",
   "execution_count": 642,
   "id": "83fa7542",
   "metadata": {},
   "outputs": [
    {
     "data": {
      "text/plain": [
       "array([ True,  True,  True,  True,  True,  True,  True,  True,  True,\n",
       "       False,  True,  True, False, False,  True, False,  True, False,\n",
       "       False, False, False, False, False, False, False, False, False,\n",
       "       False, False, False, False, False])"
      ]
     },
     "execution_count": 642,
     "metadata": {},
     "output_type": "execute_result"
    }
   ],
   "source": [
    "sel = SelectFromModel(RandomForestClassifier(n_estimators = 50))\n",
    "sel.fit(X_train_rf, y_train_rf)\n",
    "sel.get_support()"
   ]
  },
  {
   "cell_type": "code",
   "execution_count": 643,
   "id": "b8e0855c",
   "metadata": {},
   "outputs": [
    {
     "data": {
      "text/plain": [
       "13"
      ]
     },
     "execution_count": 643,
     "metadata": {},
     "output_type": "execute_result"
    }
   ],
   "source": [
    "selected_feat= X_train_rf.columns[(sel.get_support())]\n",
    "len(selected_feat)"
   ]
  },
  {
   "cell_type": "code",
   "execution_count": 644,
   "id": "ebbec12b",
   "metadata": {},
   "outputs": [
    {
     "name": "stdout",
     "output_type": "stream",
     "text": [
      "Index(['Current Loan Amount', 'Term', 'Credit Score', 'Years in current job',\n",
      "       'Annual Income', 'Monthly Debt', 'Years of Credit History',\n",
      "       'Months since last delinquent', 'Number of Open Accounts',\n",
      "       'Current Credit Balance', 'Maximum Open Credit',\n",
      "       'Home Ownership_Home Mortgage', 'Home Ownership_Rent'],\n",
      "      dtype='object')\n"
     ]
    }
   ],
   "source": [
    "print(selected_feat)"
   ]
  },
  {
   "cell_type": "code",
   "execution_count": 645,
   "id": "f00b3cb9",
   "metadata": {},
   "outputs": [
    {
     "data": {
      "text/html": [
       "<div>\n",
       "<style scoped>\n",
       "    .dataframe tbody tr th:only-of-type {\n",
       "        vertical-align: middle;\n",
       "    }\n",
       "\n",
       "    .dataframe tbody tr th {\n",
       "        vertical-align: top;\n",
       "    }\n",
       "\n",
       "    .dataframe thead th {\n",
       "        text-align: right;\n",
       "    }\n",
       "</style>\n",
       "<table border=\"1\" class=\"dataframe\">\n",
       "  <thead>\n",
       "    <tr style=\"text-align: right;\">\n",
       "      <th></th>\n",
       "      <th>Current Loan Amount</th>\n",
       "      <th>Term</th>\n",
       "      <th>Credit Score</th>\n",
       "      <th>Years in current job</th>\n",
       "      <th>Annual Income</th>\n",
       "      <th>Monthly Debt</th>\n",
       "      <th>Years of Credit History</th>\n",
       "      <th>Months since last delinquent</th>\n",
       "      <th>Number of Open Accounts</th>\n",
       "      <th>Number of Credit Problems</th>\n",
       "      <th>...</th>\n",
       "      <th>Purpose_Home Improvements</th>\n",
       "      <th>Purpose_Medical Bills</th>\n",
       "      <th>Purpose_Take a Trip</th>\n",
       "      <th>Purpose_major_purchase</th>\n",
       "      <th>Purpose_moving</th>\n",
       "      <th>Purpose_other</th>\n",
       "      <th>Purpose_renewable_energy</th>\n",
       "      <th>Purpose_small_business</th>\n",
       "      <th>Purpose_vacation</th>\n",
       "      <th>Purpose_wedding</th>\n",
       "    </tr>\n",
       "  </thead>\n",
       "  <tbody>\n",
       "    <tr>\n",
       "      <th>0</th>\n",
       "      <td>11484.000000</td>\n",
       "      <td>0.000000</td>\n",
       "      <td>732.000000</td>\n",
       "      <td>4.000000</td>\n",
       "      <td>42126.000000</td>\n",
       "      <td>595.920000</td>\n",
       "      <td>44.600000</td>\n",
       "      <td>6.000000</td>\n",
       "      <td>11.000000</td>\n",
       "      <td>1.000000</td>\n",
       "      <td>...</td>\n",
       "      <td>0</td>\n",
       "      <td>0</td>\n",
       "      <td>0</td>\n",
       "      <td>0</td>\n",
       "      <td>0</td>\n",
       "      <td>0</td>\n",
       "      <td>0</td>\n",
       "      <td>0</td>\n",
       "      <td>0</td>\n",
       "      <td>0</td>\n",
       "    </tr>\n",
       "    <tr>\n",
       "      <th>1</th>\n",
       "      <td>24697.000000</td>\n",
       "      <td>1.000000</td>\n",
       "      <td>646.000000</td>\n",
       "      <td>5.000000</td>\n",
       "      <td>56352.000000</td>\n",
       "      <td>1108.260000</td>\n",
       "      <td>15.000000</td>\n",
       "      <td>27.000000</td>\n",
       "      <td>18.000000</td>\n",
       "      <td>0.000000</td>\n",
       "      <td>...</td>\n",
       "      <td>0</td>\n",
       "      <td>1</td>\n",
       "      <td>0</td>\n",
       "      <td>0</td>\n",
       "      <td>0</td>\n",
       "      <td>0</td>\n",
       "      <td>0</td>\n",
       "      <td>0</td>\n",
       "      <td>0</td>\n",
       "      <td>0</td>\n",
       "    </tr>\n",
       "    <tr>\n",
       "      <th>2</th>\n",
       "      <td>21558.000000</td>\n",
       "      <td>1.000000</td>\n",
       "      <td>705.000000</td>\n",
       "      <td>10.000000</td>\n",
       "      <td>143065.000000</td>\n",
       "      <td>1204.130000</td>\n",
       "      <td>18.500000</td>\n",
       "      <td>79.000000</td>\n",
       "      <td>13.000000</td>\n",
       "      <td>0.000000</td>\n",
       "      <td>...</td>\n",
       "      <td>0</td>\n",
       "      <td>0</td>\n",
       "      <td>0</td>\n",
       "      <td>0</td>\n",
       "      <td>0</td>\n",
       "      <td>0</td>\n",
       "      <td>0</td>\n",
       "      <td>0</td>\n",
       "      <td>0</td>\n",
       "      <td>0</td>\n",
       "    </tr>\n",
       "    <tr>\n",
       "      <th>3</th>\n",
       "      <td>27012.000000</td>\n",
       "      <td>0.000000</td>\n",
       "      <td>735.000000</td>\n",
       "      <td>10.000000</td>\n",
       "      <td>112873.000000</td>\n",
       "      <td>4096.970000</td>\n",
       "      <td>37.800000</td>\n",
       "      <td>53.000000</td>\n",
       "      <td>34.000000</td>\n",
       "      <td>0.000000</td>\n",
       "      <td>...</td>\n",
       "      <td>0</td>\n",
       "      <td>0</td>\n",
       "      <td>0</td>\n",
       "      <td>0</td>\n",
       "      <td>0</td>\n",
       "      <td>0</td>\n",
       "      <td>0</td>\n",
       "      <td>0</td>\n",
       "      <td>0</td>\n",
       "      <td>0</td>\n",
       "    </tr>\n",
       "    <tr>\n",
       "      <th>4</th>\n",
       "      <td>21875.000000</td>\n",
       "      <td>0.000000</td>\n",
       "      <td>747.000000</td>\n",
       "      <td>8.000000</td>\n",
       "      <td>119316.000000</td>\n",
       "      <td>746.720000</td>\n",
       "      <td>16.000000</td>\n",
       "      <td>2.000000</td>\n",
       "      <td>6.000000</td>\n",
       "      <td>0.000000</td>\n",
       "      <td>...</td>\n",
       "      <td>0</td>\n",
       "      <td>0</td>\n",
       "      <td>0</td>\n",
       "      <td>0</td>\n",
       "      <td>0</td>\n",
       "      <td>0</td>\n",
       "      <td>0</td>\n",
       "      <td>0</td>\n",
       "      <td>0</td>\n",
       "      <td>0</td>\n",
       "    </tr>\n",
       "    <tr>\n",
       "      <th>...</th>\n",
       "      <td>...</td>\n",
       "      <td>...</td>\n",
       "      <td>...</td>\n",
       "      <td>...</td>\n",
       "      <td>...</td>\n",
       "      <td>...</td>\n",
       "      <td>...</td>\n",
       "      <td>...</td>\n",
       "      <td>...</td>\n",
       "      <td>...</td>\n",
       "      <td>...</td>\n",
       "      <td>...</td>\n",
       "      <td>...</td>\n",
       "      <td>...</td>\n",
       "      <td>...</td>\n",
       "      <td>...</td>\n",
       "      <td>...</td>\n",
       "      <td>...</td>\n",
       "      <td>...</td>\n",
       "      <td>...</td>\n",
       "      <td>...</td>\n",
       "    </tr>\n",
       "    <tr>\n",
       "      <th>91961</th>\n",
       "      <td>11490.574378</td>\n",
       "      <td>0.655056</td>\n",
       "      <td>703.696641</td>\n",
       "      <td>4.759552</td>\n",
       "      <td>72449.783189</td>\n",
       "      <td>1363.381867</td>\n",
       "      <td>17.151910</td>\n",
       "      <td>46.101120</td>\n",
       "      <td>11.034832</td>\n",
       "      <td>1.310112</td>\n",
       "      <td>...</td>\n",
       "      <td>0</td>\n",
       "      <td>0</td>\n",
       "      <td>0</td>\n",
       "      <td>0</td>\n",
       "      <td>0</td>\n",
       "      <td>0</td>\n",
       "      <td>0</td>\n",
       "      <td>0</td>\n",
       "      <td>0</td>\n",
       "      <td>0</td>\n",
       "    </tr>\n",
       "    <tr>\n",
       "      <th>91962</th>\n",
       "      <td>6596.301402</td>\n",
       "      <td>0.404361</td>\n",
       "      <td>730.256687</td>\n",
       "      <td>5.234884</td>\n",
       "      <td>58910.568691</td>\n",
       "      <td>961.109309</td>\n",
       "      <td>13.675321</td>\n",
       "      <td>32.912789</td>\n",
       "      <td>10.786918</td>\n",
       "      <td>0.000000</td>\n",
       "      <td>...</td>\n",
       "      <td>0</td>\n",
       "      <td>0</td>\n",
       "      <td>0</td>\n",
       "      <td>0</td>\n",
       "      <td>0</td>\n",
       "      <td>0</td>\n",
       "      <td>0</td>\n",
       "      <td>0</td>\n",
       "      <td>0</td>\n",
       "      <td>0</td>\n",
       "    </tr>\n",
       "    <tr>\n",
       "      <th>91963</th>\n",
       "      <td>16876.916023</td>\n",
       "      <td>1.000000</td>\n",
       "      <td>722.256833</td>\n",
       "      <td>10.000000</td>\n",
       "      <td>47634.903723</td>\n",
       "      <td>998.313896</td>\n",
       "      <td>21.599779</td>\n",
       "      <td>38.787983</td>\n",
       "      <td>11.548633</td>\n",
       "      <td>0.000000</td>\n",
       "      <td>...</td>\n",
       "      <td>0</td>\n",
       "      <td>0</td>\n",
       "      <td>0</td>\n",
       "      <td>0</td>\n",
       "      <td>0</td>\n",
       "      <td>0</td>\n",
       "      <td>0</td>\n",
       "      <td>0</td>\n",
       "      <td>0</td>\n",
       "      <td>0</td>\n",
       "    </tr>\n",
       "    <tr>\n",
       "      <th>91964</th>\n",
       "      <td>34803.335373</td>\n",
       "      <td>0.148181</td>\n",
       "      <td>728.553710</td>\n",
       "      <td>10.000000</td>\n",
       "      <td>95849.099453</td>\n",
       "      <td>1406.581389</td>\n",
       "      <td>14.533800</td>\n",
       "      <td>25.480931</td>\n",
       "      <td>18.407278</td>\n",
       "      <td>0.000000</td>\n",
       "      <td>...</td>\n",
       "      <td>0</td>\n",
       "      <td>0</td>\n",
       "      <td>0</td>\n",
       "      <td>0</td>\n",
       "      <td>0</td>\n",
       "      <td>0</td>\n",
       "      <td>0</td>\n",
       "      <td>0</td>\n",
       "      <td>0</td>\n",
       "      <td>0</td>\n",
       "    </tr>\n",
       "    <tr>\n",
       "      <th>91965</th>\n",
       "      <td>11252.564280</td>\n",
       "      <td>0.618782</td>\n",
       "      <td>710.325885</td>\n",
       "      <td>3.812184</td>\n",
       "      <td>50545.279308</td>\n",
       "      <td>755.693880</td>\n",
       "      <td>19.785076</td>\n",
       "      <td>49.237563</td>\n",
       "      <td>6.000000</td>\n",
       "      <td>0.000000</td>\n",
       "      <td>...</td>\n",
       "      <td>0</td>\n",
       "      <td>0</td>\n",
       "      <td>0</td>\n",
       "      <td>0</td>\n",
       "      <td>0</td>\n",
       "      <td>0</td>\n",
       "      <td>0</td>\n",
       "      <td>0</td>\n",
       "      <td>0</td>\n",
       "      <td>0</td>\n",
       "    </tr>\n",
       "  </tbody>\n",
       "</table>\n",
       "<p>91966 rows × 32 columns</p>\n",
       "</div>"
      ],
      "text/plain": [
       "       Current Loan Amount      Term  Credit Score  Years in current job  \\\n",
       "0             11484.000000  0.000000    732.000000              4.000000   \n",
       "1             24697.000000  1.000000    646.000000              5.000000   \n",
       "2             21558.000000  1.000000    705.000000             10.000000   \n",
       "3             27012.000000  0.000000    735.000000             10.000000   \n",
       "4             21875.000000  0.000000    747.000000              8.000000   \n",
       "...                    ...       ...           ...                   ...   \n",
       "91961         11490.574378  0.655056    703.696641              4.759552   \n",
       "91962          6596.301402  0.404361    730.256687              5.234884   \n",
       "91963         16876.916023  1.000000    722.256833             10.000000   \n",
       "91964         34803.335373  0.148181    728.553710             10.000000   \n",
       "91965         11252.564280  0.618782    710.325885              3.812184   \n",
       "\n",
       "       Annual Income  Monthly Debt  Years of Credit History  \\\n",
       "0       42126.000000    595.920000                44.600000   \n",
       "1       56352.000000   1108.260000                15.000000   \n",
       "2      143065.000000   1204.130000                18.500000   \n",
       "3      112873.000000   4096.970000                37.800000   \n",
       "4      119316.000000    746.720000                16.000000   \n",
       "...              ...           ...                      ...   \n",
       "91961   72449.783189   1363.381867                17.151910   \n",
       "91962   58910.568691    961.109309                13.675321   \n",
       "91963   47634.903723    998.313896                21.599779   \n",
       "91964   95849.099453   1406.581389                14.533800   \n",
       "91965   50545.279308    755.693880                19.785076   \n",
       "\n",
       "       Months since last delinquent  Number of Open Accounts  \\\n",
       "0                          6.000000                11.000000   \n",
       "1                         27.000000                18.000000   \n",
       "2                         79.000000                13.000000   \n",
       "3                         53.000000                34.000000   \n",
       "4                          2.000000                 6.000000   \n",
       "...                             ...                      ...   \n",
       "91961                     46.101120                11.034832   \n",
       "91962                     32.912789                10.786918   \n",
       "91963                     38.787983                11.548633   \n",
       "91964                     25.480931                18.407278   \n",
       "91965                     49.237563                 6.000000   \n",
       "\n",
       "       Number of Credit Problems  ...  Purpose_Home Improvements  \\\n",
       "0                       1.000000  ...                          0   \n",
       "1                       0.000000  ...                          0   \n",
       "2                       0.000000  ...                          0   \n",
       "3                       0.000000  ...                          0   \n",
       "4                       0.000000  ...                          0   \n",
       "...                          ...  ...                        ...   \n",
       "91961                   1.310112  ...                          0   \n",
       "91962                   0.000000  ...                          0   \n",
       "91963                   0.000000  ...                          0   \n",
       "91964                   0.000000  ...                          0   \n",
       "91965                   0.000000  ...                          0   \n",
       "\n",
       "       Purpose_Medical Bills  Purpose_Take a Trip  Purpose_major_purchase  \\\n",
       "0                          0                    0                       0   \n",
       "1                          1                    0                       0   \n",
       "2                          0                    0                       0   \n",
       "3                          0                    0                       0   \n",
       "4                          0                    0                       0   \n",
       "...                      ...                  ...                     ...   \n",
       "91961                      0                    0                       0   \n",
       "91962                      0                    0                       0   \n",
       "91963                      0                    0                       0   \n",
       "91964                      0                    0                       0   \n",
       "91965                      0                    0                       0   \n",
       "\n",
       "       Purpose_moving  Purpose_other  Purpose_renewable_energy  \\\n",
       "0                   0              0                         0   \n",
       "1                   0              0                         0   \n",
       "2                   0              0                         0   \n",
       "3                   0              0                         0   \n",
       "4                   0              0                         0   \n",
       "...               ...            ...                       ...   \n",
       "91961               0              0                         0   \n",
       "91962               0              0                         0   \n",
       "91963               0              0                         0   \n",
       "91964               0              0                         0   \n",
       "91965               0              0                         0   \n",
       "\n",
       "       Purpose_small_business  Purpose_vacation  Purpose_wedding  \n",
       "0                           0                 0                0  \n",
       "1                           0                 0                0  \n",
       "2                           0                 0                0  \n",
       "3                           0                 0                0  \n",
       "4                           0                 0                0  \n",
       "...                       ...               ...              ...  \n",
       "91961                       0                 0                0  \n",
       "91962                       0                 0                0  \n",
       "91963                       0                 0                0  \n",
       "91964                       0                 0                0  \n",
       "91965                       0                 0                0  \n",
       "\n",
       "[91966 rows x 32 columns]"
      ]
     },
     "execution_count": 645,
     "metadata": {},
     "output_type": "execute_result"
    }
   ],
   "source": [
    "X_train_rf"
   ]
  },
  {
   "cell_type": "code",
   "execution_count": 646,
   "id": "a9e0b2a6",
   "metadata": {},
   "outputs": [],
   "source": [
    "X_train_rf = X_train_rf[['Current Loan Amount', 'Term', 'Credit Score', 'Years in current job',\n",
    "                           'Annual Income', 'Monthly Debt', 'Years of Credit History',\n",
    "                           'Months since last delinquent', 'Number of Open Accounts',\n",
    "                           'Current Credit Balance', 'Maximum Open Credit']]\n",
    "X_valid_rf = X_valid_rf[['Current Loan Amount', 'Term', 'Credit Score', 'Years in current job',\n",
    "                           'Annual Income', 'Monthly Debt', 'Years of Credit History',\n",
    "                           'Months since last delinquent', 'Number of Open Accounts',\n",
    "                            'Current Credit Balance', 'Maximum Open Credit']]"
   ]
  },
  {
   "cell_type": "code",
   "execution_count": 647,
   "id": "067a6a5a",
   "metadata": {},
   "outputs": [
    {
     "data": {
      "text/html": [
       "<div>\n",
       "<style scoped>\n",
       "    .dataframe tbody tr th:only-of-type {\n",
       "        vertical-align: middle;\n",
       "    }\n",
       "\n",
       "    .dataframe tbody tr th {\n",
       "        vertical-align: top;\n",
       "    }\n",
       "\n",
       "    .dataframe thead th {\n",
       "        text-align: right;\n",
       "    }\n",
       "</style>\n",
       "<table border=\"1\" class=\"dataframe\">\n",
       "  <thead>\n",
       "    <tr style=\"text-align: right;\">\n",
       "      <th></th>\n",
       "      <th>Logistic_Model</th>\n",
       "    </tr>\n",
       "  </thead>\n",
       "  <tbody>\n",
       "    <tr>\n",
       "      <th>Accuracy</th>\n",
       "      <td>0.505374</td>\n",
       "    </tr>\n",
       "    <tr>\n",
       "      <th>F1_score</th>\n",
       "      <td>0.507834</td>\n",
       "    </tr>\n",
       "    <tr>\n",
       "      <th>Recall</th>\n",
       "      <td>0.887055</td>\n",
       "    </tr>\n",
       "    <tr>\n",
       "      <th>AUROC</th>\n",
       "      <td>0.619141</td>\n",
       "    </tr>\n",
       "  </tbody>\n",
       "</table>\n",
       "</div>"
      ],
      "text/plain": [
       "          Logistic_Model\n",
       "Accuracy        0.505374\n",
       "F1_score        0.507834\n",
       "Recall          0.887055\n",
       "AUROC           0.619141"
      ]
     },
     "execution_count": 647,
     "metadata": {},
     "output_type": "execute_result"
    }
   ],
   "source": [
    "#Fitting Logistic Regression Model\n",
    "lr = LogisticRegression()\n",
    "lr.fit(X_train_rf,y_train_rf)\n",
    "\n",
    "#predictions on validation data\n",
    "pred_valid = lr.predict(X_valid_rf)   \n",
    "pred_valid\n",
    "\n",
    "#Metrics\n",
    "Accuracy = accuracy_score(y_valid, pred_valid)\n",
    "F1_score = f1_score(y_valid, pred_valid)\n",
    "Recall_score = recall_score(y_valid, pred_valid)\n",
    "AUROC = roc_auc_score(y_valid, pred_valid)\n",
    "\n",
    "lm1 = pd.DataFrame({'Logistic_Model': [Accuracy,F1_score,Recall_score,AUROC]}, \n",
    "                                index=['Accuracy','F1_score','Recall','AUROC'])\n",
    "\n",
    "#print(classification_report(y_valid,pred_valid))\n",
    "lm1"
   ]
  },
  {
   "cell_type": "markdown",
   "id": "88093127",
   "metadata": {},
   "source": [
    "> **b) Decision Tree**"
   ]
  },
  {
   "cell_type": "code",
   "execution_count": 648,
   "id": "137353a1",
   "metadata": {},
   "outputs": [
    {
     "data": {
      "text/html": [
       "<div>\n",
       "<style scoped>\n",
       "    .dataframe tbody tr th:only-of-type {\n",
       "        vertical-align: middle;\n",
       "    }\n",
       "\n",
       "    .dataframe tbody tr th {\n",
       "        vertical-align: top;\n",
       "    }\n",
       "\n",
       "    .dataframe thead th {\n",
       "        text-align: right;\n",
       "    }\n",
       "</style>\n",
       "<table border=\"1\" class=\"dataframe\">\n",
       "  <thead>\n",
       "    <tr style=\"text-align: right;\">\n",
       "      <th></th>\n",
       "      <th>Decision_Tree</th>\n",
       "    </tr>\n",
       "  </thead>\n",
       "  <tbody>\n",
       "    <tr>\n",
       "      <th>Accuracy</th>\n",
       "      <td>0.666833</td>\n",
       "    </tr>\n",
       "    <tr>\n",
       "      <th>F1_score</th>\n",
       "      <td>0.520158</td>\n",
       "    </tr>\n",
       "    <tr>\n",
       "      <th>Recall</th>\n",
       "      <td>0.627715</td>\n",
       "    </tr>\n",
       "    <tr>\n",
       "      <th>AUROC</th>\n",
       "      <td>0.655173</td>\n",
       "    </tr>\n",
       "  </tbody>\n",
       "</table>\n",
       "</div>"
      ],
      "text/plain": [
       "          Decision_Tree\n",
       "Accuracy       0.666833\n",
       "F1_score       0.520158\n",
       "Recall         0.627715\n",
       "AUROC          0.655173"
      ]
     },
     "execution_count": 648,
     "metadata": {},
     "output_type": "execute_result"
    }
   ],
   "source": [
    "#Fitting Decision tree Model\n",
    "dt = DecisionTreeClassifier(max_depth=6)\n",
    "dt.fit(X_train_rf,y_train_rf)\n",
    "\n",
    "\n",
    "#predictions on validation data\n",
    "pred_valid = dt.predict(X_valid_rf)   \n",
    "pred_valid\n",
    "\n",
    "#Metrics\n",
    "Accuracy = accuracy_score(y_valid, pred_valid)\n",
    "F1_score = f1_score(y_valid, pred_valid)\n",
    "Recall_score = recall_score(y_valid, pred_valid)\n",
    "AUROC = roc_auc_score(y_valid, pred_valid)\n",
    "\n",
    "dt1 = pd.DataFrame({'Decision_Tree': [Accuracy,F1_score,Recall_score,AUROC]}, \n",
    "                                index=['Accuracy','F1_score','Recall','AUROC'])\n",
    "\n",
    "#print(classification_report(y_valid,pred_valid))\n",
    "dt1"
   ]
  },
  {
   "cell_type": "markdown",
   "id": "b57795c5",
   "metadata": {},
   "source": [
    "> **c) Pruned Decision Tree**"
   ]
  },
  {
   "cell_type": "code",
   "execution_count": 649,
   "id": "c7178998",
   "metadata": {},
   "outputs": [],
   "source": [
    "# #pruning-Finding alpha\n",
    "# path = dt.cost_complexity_pruning_path(X_train1CB, y_train1CB)\n",
    "# ccp_alphas = path.ccp_alphas\n",
    "# ccp_alphas\n",
    "\n",
    "# train_accuracy = {}         #Dictionary to store alpha and mae\n",
    "# validation_accuracy = {}\n",
    "\n",
    "# for i in ccp_alphas:\n",
    "#     dt = DecisionTreeClassifier(ccp_alpha=i)\n",
    "#     dt.fit(X_train1CB,y_train1CB)\n",
    "#     pred_valid = dt.predict(X_valid1)\n",
    "#     pred_train = dt.predict(X_train1CB)\n",
    "\n",
    "#     train_accuracy[i] = accuracy_score(y_train1CB,pred_train)\n",
    "#     validation_accuracy[i] = accuracy_score(y_valid1,pred_valid)\n",
    "\n",
    "# opt_ccp = max(validation_accuracy,key = validation_accuracy.get) #Optimum Cost Complexity Parameter\n",
    "# opt_ccp #optimal CCP_alphas "
   ]
  },
  {
   "cell_type": "code",
   "execution_count": 650,
   "id": "a939334f",
   "metadata": {},
   "outputs": [],
   "source": [
    "# #Fitting pruned decision tree model using optimum alpha\n",
    "# prun_dt = DecisionTreeClassifier(ccp_alpha=opt_ccp) \n",
    "\n",
    "# prun_dt.fit(X_train1CB,y_train1CB)\n",
    "\n",
    "# #predictions on validation data\n",
    "# pred_valid = prun_dt.predict(X_valid1)   \n",
    "# pred_valid\n",
    "\n",
    "# #Metrics\n",
    "# Accuracy = accuracy_score(y_valid1, pred_valid)\n",
    "# F1_score = f1_score(y_valid1, pred_valid)\n",
    "# Recall_score = recall_score(y_valid1, pred_valid)\n",
    "# AUROC = roc_auc_score(y_valid1, pred_valid)\n",
    "\n",
    "# pdt1 = pd.DataFrame({'Pruned_Decision_Tree_1': [Accuracy,F1_score,Recall_score,AUROC]}, \n",
    "#                                 index=['Accuracy','F1_score','Recall','AUROC'])\n",
    "\n",
    "# #print(classification_report(y_validCB,pred_valid))\n",
    "# pdt1"
   ]
  },
  {
   "cell_type": "markdown",
   "id": "efb80d3d",
   "metadata": {},
   "source": [
    "> **d) Random Forest**"
   ]
  },
  {
   "cell_type": "code",
   "execution_count": 651,
   "id": "644b687b",
   "metadata": {},
   "outputs": [],
   "source": [
    "# from sklearn.model_selection import GridSearchCV\n",
    "# from sklearn.model_selection import RandomizedSearchCV\n",
    "# import time"
   ]
  },
  {
   "cell_type": "markdown",
   "id": "03822dfd",
   "metadata": {},
   "source": [
    "### Hyper-Parameter Tuning"
   ]
  },
  {
   "cell_type": "code",
   "execution_count": 652,
   "id": "119253e4",
   "metadata": {},
   "outputs": [],
   "source": [
    "# n_estimators = [100, 300, 500, 800, 1200]\n",
    "# max_depth = [5, 8, 15, 25, 30]\n",
    "# min_samples_split = [2, 5, 10, 15, 100]\n",
    "# min_samples_leaf = [1, 2, 5, 10] \n",
    "# rf = RandomForestClassifier()\n",
    "# hyperF = dict(n_estimators = n_estimators, max_depth = max_depth,  \n",
    "#               min_samples_split = min_samples_split, \n",
    "#              min_samples_leaf = min_samples_leaf)\n",
    "\n",
    "# gridF = GridSearchCV(rf, hyperF, cv = 3, verbose = 1, \n",
    "#                       n_jobs = -1)\n",
    "# bestF = gridF.fit(X_train1CB, y_train1CB)\n",
    "# bestF"
   ]
  },
  {
   "cell_type": "code",
   "execution_count": 653,
   "id": "27c539c2",
   "metadata": {},
   "outputs": [
    {
     "data": {
      "text/html": [
       "<div>\n",
       "<style scoped>\n",
       "    .dataframe tbody tr th:only-of-type {\n",
       "        vertical-align: middle;\n",
       "    }\n",
       "\n",
       "    .dataframe tbody tr th {\n",
       "        vertical-align: top;\n",
       "    }\n",
       "\n",
       "    .dataframe thead th {\n",
       "        text-align: right;\n",
       "    }\n",
       "</style>\n",
       "<table border=\"1\" class=\"dataframe\">\n",
       "  <thead>\n",
       "    <tr style=\"text-align: right;\">\n",
       "      <th></th>\n",
       "      <th>Random_Forest</th>\n",
       "    </tr>\n",
       "  </thead>\n",
       "  <tbody>\n",
       "    <tr>\n",
       "      <th>Accuracy</th>\n",
       "      <td>0.740252</td>\n",
       "    </tr>\n",
       "    <tr>\n",
       "      <th>F1_score</th>\n",
       "      <td>0.516572</td>\n",
       "    </tr>\n",
       "    <tr>\n",
       "      <th>Recall</th>\n",
       "      <td>0.482407</td>\n",
       "    </tr>\n",
       "    <tr>\n",
       "      <th>AUROC</th>\n",
       "      <td>0.663396</td>\n",
       "    </tr>\n",
       "  </tbody>\n",
       "</table>\n",
       "</div>"
      ],
      "text/plain": [
       "          Random_Forest\n",
       "Accuracy       0.740252\n",
       "F1_score       0.516572\n",
       "Recall         0.482407\n",
       "AUROC          0.663396"
      ]
     },
     "execution_count": 653,
     "metadata": {},
     "output_type": "execute_result"
    }
   ],
   "source": [
    "#Fitting Random Forest Model\n",
    "rf = RandomForestClassifier()\n",
    "rf.fit(X_train_rf,y_train_rf) \n",
    "\n",
    "#predictions on validation data\n",
    "pred_valid = rf.predict(X_valid_rf)   \n",
    "pred_valid\n",
    "\n",
    "#Metrics\n",
    "Accuracy = accuracy_score(y_valid, pred_valid)\n",
    "F1_score = f1_score(y_valid, pred_valid)\n",
    "Recall_score = recall_score(y_valid, pred_valid)\n",
    "AUROC = roc_auc_score(y_valid, pred_valid)\n",
    "\n",
    "rf1 = pd.DataFrame({'Random_Forest': [Accuracy,F1_score,Recall_score,AUROC]}, \n",
    "                                index=['Accuracy','F1_score','Recall','AUROC'])\n",
    "\n",
    "#print(classification_report(y_valid,pred_valid))\n",
    "rf1"
   ]
  },
  {
   "cell_type": "markdown",
   "id": "75062628",
   "metadata": {},
   "source": [
    "> **e) Adaboost**"
   ]
  },
  {
   "cell_type": "code",
   "execution_count": 654,
   "id": "1e410fbe",
   "metadata": {},
   "outputs": [
    {
     "data": {
      "text/html": [
       "<div>\n",
       "<style scoped>\n",
       "    .dataframe tbody tr th:only-of-type {\n",
       "        vertical-align: middle;\n",
       "    }\n",
       "\n",
       "    .dataframe tbody tr th {\n",
       "        vertical-align: top;\n",
       "    }\n",
       "\n",
       "    .dataframe thead th {\n",
       "        text-align: right;\n",
       "    }\n",
       "</style>\n",
       "<table border=\"1\" class=\"dataframe\">\n",
       "  <thead>\n",
       "    <tr style=\"text-align: right;\">\n",
       "      <th></th>\n",
       "      <th>Adaboost</th>\n",
       "    </tr>\n",
       "  </thead>\n",
       "  <tbody>\n",
       "    <tr>\n",
       "      <th>Accuracy</th>\n",
       "      <td>0.673144</td>\n",
       "    </tr>\n",
       "    <tr>\n",
       "      <th>F1_score</th>\n",
       "      <td>0.520400</td>\n",
       "    </tr>\n",
       "    <tr>\n",
       "      <th>Recall</th>\n",
       "      <td>0.616421</td>\n",
       "    </tr>\n",
       "    <tr>\n",
       "      <th>AUROC</th>\n",
       "      <td>0.656237</td>\n",
       "    </tr>\n",
       "  </tbody>\n",
       "</table>\n",
       "</div>"
      ],
      "text/plain": [
       "          Adaboost\n",
       "Accuracy  0.673144\n",
       "F1_score  0.520400\n",
       "Recall    0.616421\n",
       "AUROC     0.656237"
      ]
     },
     "execution_count": 654,
     "metadata": {},
     "output_type": "execute_result"
    }
   ],
   "source": [
    "#Fitting Adaboost Model\n",
    "ada_boost = AdaBoostClassifier()\n",
    "ada_boost.fit(X_train_rf,y_train_rf) \n",
    "\n",
    "\n",
    "#predictions on validation data\n",
    "pred_valid = ada_boost.predict(X_valid_rf)   \n",
    "pred_valid\n",
    "\n",
    "#Metrics\n",
    "Accuracy = accuracy_score(y_valid, pred_valid)\n",
    "F1_score = f1_score(y_valid, pred_valid)\n",
    "Recall_score = recall_score(y_valid, pred_valid)\n",
    "AUROC = roc_auc_score(y_valid, pred_valid)\n",
    "\n",
    "adb1 = pd.DataFrame({'Adaboost': [Accuracy,F1_score,Recall_score,AUROC]}, \n",
    "                                index=['Accuracy','F1_score','Recall','AUROC'])\n",
    "\n",
    "#print(classification_report(y_valid,pred_valid))\n",
    "adb1"
   ]
  },
  {
   "cell_type": "markdown",
   "id": "58a9ec66",
   "metadata": {},
   "source": [
    "> **f) XG Boost**"
   ]
  },
  {
   "cell_type": "code",
   "execution_count": 655,
   "id": "b3e8007c",
   "metadata": {},
   "outputs": [],
   "source": [
    "#pip install xgboost"
   ]
  },
  {
   "cell_type": "code",
   "execution_count": 656,
   "id": "7a119742",
   "metadata": {},
   "outputs": [
    {
     "data": {
      "text/html": [
       "<div>\n",
       "<style scoped>\n",
       "    .dataframe tbody tr th:only-of-type {\n",
       "        vertical-align: middle;\n",
       "    }\n",
       "\n",
       "    .dataframe tbody tr th {\n",
       "        vertical-align: top;\n",
       "    }\n",
       "\n",
       "    .dataframe thead th {\n",
       "        text-align: right;\n",
       "    }\n",
       "</style>\n",
       "<table border=\"1\" class=\"dataframe\">\n",
       "  <thead>\n",
       "    <tr style=\"text-align: right;\">\n",
       "      <th></th>\n",
       "      <th>Xgboost</th>\n",
       "    </tr>\n",
       "  </thead>\n",
       "  <tbody>\n",
       "    <tr>\n",
       "      <th>Accuracy</th>\n",
       "      <td>0.735504</td>\n",
       "    </tr>\n",
       "    <tr>\n",
       "      <th>F1_score</th>\n",
       "      <td>0.447173</td>\n",
       "    </tr>\n",
       "    <tr>\n",
       "      <th>Recall</th>\n",
       "      <td>0.371851</td>\n",
       "    </tr>\n",
       "    <tr>\n",
       "      <th>AUROC</th>\n",
       "      <td>0.627109</td>\n",
       "    </tr>\n",
       "  </tbody>\n",
       "</table>\n",
       "</div>"
      ],
      "text/plain": [
       "           Xgboost\n",
       "Accuracy  0.735504\n",
       "F1_score  0.447173\n",
       "Recall    0.371851\n",
       "AUROC     0.627109"
      ]
     },
     "execution_count": 656,
     "metadata": {},
     "output_type": "execute_result"
    }
   ],
   "source": [
    "from xgboost import XGBClassifier\n",
    "\n",
    "xg = XGBClassifier()\n",
    "xg.fit(X_train_rf,y_train_rf)\n",
    "# make predictions for test data\n",
    "pred_valid = xg.predict(X_valid_rf)\n",
    "\n",
    "#Metrics\n",
    "Accuracy = accuracy_score(y_valid, pred_valid)\n",
    "F1_score = f1_score(y_valid, pred_valid)\n",
    "Recall_score = recall_score(y_valid, pred_valid)\n",
    "AUROC = roc_auc_score(y_valid, pred_valid)\n",
    "\n",
    "xg1 = pd.DataFrame({'Xgboost': [Accuracy,F1_score,Recall_score,AUROC]}, \n",
    "                                index=['Accuracy','F1_score','Recall','AUROC'])\n",
    "\n",
    "#print(classification_report(y_valid,pred_valid))\n",
    "xg1"
   ]
  },
  {
   "cell_type": "markdown",
   "id": "100e083b",
   "metadata": {},
   "source": [
    "> **g) k-NN Classifier**"
   ]
  },
  {
   "cell_type": "code",
   "execution_count": 657,
   "id": "6ebf411d",
   "metadata": {},
   "outputs": [
    {
     "data": {
      "text/html": [
       "<div>\n",
       "<style scoped>\n",
       "    .dataframe tbody tr th:only-of-type {\n",
       "        vertical-align: middle;\n",
       "    }\n",
       "\n",
       "    .dataframe tbody tr th {\n",
       "        vertical-align: top;\n",
       "    }\n",
       "\n",
       "    .dataframe thead th {\n",
       "        text-align: right;\n",
       "    }\n",
       "</style>\n",
       "<table border=\"1\" class=\"dataframe\">\n",
       "  <thead>\n",
       "    <tr style=\"text-align: right;\">\n",
       "      <th></th>\n",
       "      <th>k-NN</th>\n",
       "    </tr>\n",
       "  </thead>\n",
       "  <tbody>\n",
       "    <tr>\n",
       "      <th>Accuracy</th>\n",
       "      <td>0.596163</td>\n",
       "    </tr>\n",
       "    <tr>\n",
       "      <th>F1_score</th>\n",
       "      <td>0.512042</td>\n",
       "    </tr>\n",
       "    <tr>\n",
       "      <th>Recall</th>\n",
       "      <td>0.736533</td>\n",
       "    </tr>\n",
       "    <tr>\n",
       "      <th>AUROC</th>\n",
       "      <td>0.638004</td>\n",
       "    </tr>\n",
       "  </tbody>\n",
       "</table>\n",
       "</div>"
      ],
      "text/plain": [
       "              k-NN\n",
       "Accuracy  0.596163\n",
       "F1_score  0.512042\n",
       "Recall    0.736533\n",
       "AUROC     0.638004"
      ]
     },
     "execution_count": 657,
     "metadata": {},
     "output_type": "execute_result"
    }
   ],
   "source": [
    "from sklearn.neighbors import KNeighborsClassifier\n",
    "\n",
    "knn = KNeighborsClassifier(n_neighbors=100)\n",
    "knn.fit(X_train_rf,y_train_rf)\n",
    "# make predictions for test data\n",
    "pred_valid = knn.predict(X_valid_rf)\n",
    "\n",
    "#Metrics\n",
    "Accuracy = accuracy_score(y_valid, pred_valid)\n",
    "F1_score = f1_score(y_valid, pred_valid)\n",
    "Recall_score = recall_score(y_valid, pred_valid)\n",
    "AUROC = roc_auc_score(y_valid, pred_valid)\n",
    "\n",
    "knn = pd.DataFrame({'k-NN': [Accuracy,F1_score,Recall_score,AUROC]}, \n",
    "                                index=['Accuracy','F1_score','Recall','AUROC'])\n",
    "\n",
    "#print(classification_report(y_valid,pred_valid))\n",
    "knn"
   ]
  },
  {
   "cell_type": "markdown",
   "id": "5965d71e",
   "metadata": {},
   "source": [
    "--------------------------------------------------------------------------------------------------------------------------------"
   ]
  },
  {
   "cell_type": "code",
   "execution_count": null,
   "id": "399c0f9e",
   "metadata": {},
   "outputs": [],
   "source": []
  }
 ],
 "metadata": {
  "kernelspec": {
   "display_name": "Python 3 (ipykernel)",
   "language": "python",
   "name": "python3"
  },
  "language_info": {
   "codemirror_mode": {
    "name": "ipython",
    "version": 3
   },
   "file_extension": ".py",
   "mimetype": "text/x-python",
   "name": "python",
   "nbconvert_exporter": "python",
   "pygments_lexer": "ipython3",
   "version": "3.9.12"
  }
 },
 "nbformat": 4,
 "nbformat_minor": 5
}
