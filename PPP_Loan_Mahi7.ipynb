{
 "cells": [
  {
   "cell_type": "markdown",
   "id": "0314c33a",
   "metadata": {},
   "source": [
    "# D22027_Loan Status Prediction"
   ]
  },
  {
   "cell_type": "markdown",
   "id": "cebe8010",
   "metadata": {},
   "source": [
    "Submitted by\n",
    "\n",
    "**D22002-Agasthyakrishna Viswanathan Panicker**\n",
    "\n",
    "**D22027-N.Maheshkumar**"
   ]
  },
  {
   "cell_type": "markdown",
   "id": "480b5764",
   "metadata": {},
   "source": [
    "**Problem Statement:** This is a classification problem in which we need to classify whether the loan will be approved or not.This is a Binary Classification problem in which we need to predict our Target label which is “Loan Status”."
   ]
  },
  {
   "cell_type": "markdown",
   "id": "df83f620",
   "metadata": {},
   "source": [
    "# PPP - Loan Data"
   ]
  },
  {
   "cell_type": "code",
   "execution_count": 233,
   "id": "f535ebfc",
   "metadata": {},
   "outputs": [],
   "source": [
    "# Import Required Libraries \n",
    "import pandas as pd\n",
    "import numpy as np\n",
    "import seaborn as sns\n",
    "import matplotlib.pyplot as plt\n",
    "\n",
    "import warnings\n",
    "warnings.filterwarnings(\"ignore\") "
   ]
  },
  {
   "cell_type": "code",
   "execution_count": 234,
   "id": "ba08a435",
   "metadata": {},
   "outputs": [],
   "source": [
    "df = pd.read_csv(\"Loans_Training_Set.csv\")"
   ]
  },
  {
   "cell_type": "code",
   "execution_count": 235,
   "id": "50d46179",
   "metadata": {},
   "outputs": [],
   "source": [
    "data = df.copy()"
   ]
  },
  {
   "cell_type": "code",
   "execution_count": 236,
   "id": "f2645560",
   "metadata": {},
   "outputs": [
    {
     "data": {
      "text/plain": [
       "(111107, 19)"
      ]
     },
     "execution_count": 236,
     "metadata": {},
     "output_type": "execute_result"
    }
   ],
   "source": [
    "#no of rows and columns\n",
    "data.shape"
   ]
  },
  {
   "cell_type": "code",
   "execution_count": 237,
   "id": "fcd4f4b2",
   "metadata": {},
   "outputs": [
    {
     "data": {
      "text/plain": [
       "Loan ID                          object\n",
       "Customer ID                      object\n",
       "Loan Status                      object\n",
       "Current Loan Amount               int64\n",
       "Term                             object\n",
       "Credit Score                    float64\n",
       "Years in current job             object\n",
       "Home Ownership                   object\n",
       "Annual Income                   float64\n",
       "Purpose                          object\n",
       "Monthly Debt                     object\n",
       "Years of Credit History         float64\n",
       "Months since last delinquent    float64\n",
       "Number of Open Accounts           int64\n",
       "Number of Credit Problems         int64\n",
       "Current Credit Balance            int64\n",
       "Maximum Open Credit              object\n",
       "Bankruptcies                    float64\n",
       "Tax Liens                       float64\n",
       "dtype: object"
      ]
     },
     "execution_count": 237,
     "metadata": {},
     "output_type": "execute_result"
    }
   ],
   "source": [
    "#Checking the datatypes\n",
    "data.dtypes"
   ]
  },
  {
   "cell_type": "code",
   "execution_count": 238,
   "id": "7f7d3420",
   "metadata": {},
   "outputs": [
    {
     "data": {
      "text/html": [
       "<div>\n",
       "<style scoped>\n",
       "    .dataframe tbody tr th:only-of-type {\n",
       "        vertical-align: middle;\n",
       "    }\n",
       "\n",
       "    .dataframe tbody tr th {\n",
       "        vertical-align: top;\n",
       "    }\n",
       "\n",
       "    .dataframe thead th {\n",
       "        text-align: right;\n",
       "    }\n",
       "</style>\n",
       "<table border=\"1\" class=\"dataframe\">\n",
       "  <thead>\n",
       "    <tr style=\"text-align: right;\">\n",
       "      <th></th>\n",
       "      <th>Loan ID</th>\n",
       "      <th>Customer ID</th>\n",
       "      <th>Loan Status</th>\n",
       "      <th>Current Loan Amount</th>\n",
       "      <th>Term</th>\n",
       "      <th>Credit Score</th>\n",
       "      <th>Years in current job</th>\n",
       "      <th>Home Ownership</th>\n",
       "      <th>Annual Income</th>\n",
       "      <th>Purpose</th>\n",
       "      <th>Monthly Debt</th>\n",
       "      <th>Years of Credit History</th>\n",
       "      <th>Months since last delinquent</th>\n",
       "      <th>Number of Open Accounts</th>\n",
       "      <th>Number of Credit Problems</th>\n",
       "      <th>Current Credit Balance</th>\n",
       "      <th>Maximum Open Credit</th>\n",
       "      <th>Bankruptcies</th>\n",
       "      <th>Tax Liens</th>\n",
       "    </tr>\n",
       "  </thead>\n",
       "  <tbody>\n",
       "    <tr>\n",
       "      <th>88910</th>\n",
       "      <td>a9382c50-9176-4639-9fa1-6bdf32fe9702</td>\n",
       "      <td>6fdbbbd6-0e34-4039-9f47-c371d352bf40</td>\n",
       "      <td>Fully Paid</td>\n",
       "      <td>20891</td>\n",
       "      <td>Long Term</td>\n",
       "      <td>714.0</td>\n",
       "      <td>10+ years</td>\n",
       "      <td>Home Mortgage</td>\n",
       "      <td>88537.0</td>\n",
       "      <td>Debt Consolidation</td>\n",
       "      <td>1719.09</td>\n",
       "      <td>18.0</td>\n",
       "      <td>NaN</td>\n",
       "      <td>13</td>\n",
       "      <td>0</td>\n",
       "      <td>56708</td>\n",
       "      <td>60456</td>\n",
       "      <td>0.0</td>\n",
       "      <td>0.0</td>\n",
       "    </tr>\n",
       "    <tr>\n",
       "      <th>88911</th>\n",
       "      <td>f73698be-9319-4e6e-b241-658f68e84df8</td>\n",
       "      <td>cc3e7689-746d-4c21-9ed7-0ea3e372d9e0</td>\n",
       "      <td>Fully Paid</td>\n",
       "      <td>24329</td>\n",
       "      <td>Long Term</td>\n",
       "      <td>711.0</td>\n",
       "      <td>3 years</td>\n",
       "      <td>Own Home</td>\n",
       "      <td>71973.0</td>\n",
       "      <td>Debt Consolidation</td>\n",
       "      <td>1547.41</td>\n",
       "      <td>18.7</td>\n",
       "      <td>42.0</td>\n",
       "      <td>12</td>\n",
       "      <td>0</td>\n",
       "      <td>16961</td>\n",
       "      <td>18237</td>\n",
       "      <td>0.0</td>\n",
       "      <td>0.0</td>\n",
       "    </tr>\n",
       "    <tr>\n",
       "      <th>88912</th>\n",
       "      <td>e7569ce9-f3ec-4461-9604-ccefe9164788</td>\n",
       "      <td>b9aefd67-0d4f-4180-805f-6c1870e280c3</td>\n",
       "      <td>Fully Paid</td>\n",
       "      <td>11000</td>\n",
       "      <td>Long Term</td>\n",
       "      <td>707.0</td>\n",
       "      <td>7 years</td>\n",
       "      <td>Rent</td>\n",
       "      <td>52640.0</td>\n",
       "      <td>Debt Consolidation</td>\n",
       "      <td>666.76</td>\n",
       "      <td>8.8</td>\n",
       "      <td>14.0</td>\n",
       "      <td>7</td>\n",
       "      <td>0</td>\n",
       "      <td>1946</td>\n",
       "      <td>11446</td>\n",
       "      <td>0.0</td>\n",
       "      <td>0.0</td>\n",
       "    </tr>\n",
       "    <tr>\n",
       "      <th>88913</th>\n",
       "      <td>96d15e73-541a-44be-8c11-b2e46d73d1b8</td>\n",
       "      <td>78281f18-48b5-40d4-9064-be5d18263d04</td>\n",
       "      <td>Fully Paid</td>\n",
       "      <td>5924</td>\n",
       "      <td>Short Term</td>\n",
       "      <td>716.0</td>\n",
       "      <td>7 years</td>\n",
       "      <td>Rent</td>\n",
       "      <td>97743.0</td>\n",
       "      <td>Debt Consolidation</td>\n",
       "      <td>2248.08</td>\n",
       "      <td>22.0</td>\n",
       "      <td>NaN</td>\n",
       "      <td>5</td>\n",
       "      <td>0</td>\n",
       "      <td>62261</td>\n",
       "      <td>69956</td>\n",
       "      <td>0.0</td>\n",
       "      <td>0.0</td>\n",
       "    </tr>\n",
       "    <tr>\n",
       "      <th>88914</th>\n",
       "      <td>12adaace-17a8-4bbe-a6ce-dc5ffcc46f54</td>\n",
       "      <td>fc4ad10d-b42d-4c44-89fd-ac33c8bdbffe</td>\n",
       "      <td>Fully Paid</td>\n",
       "      <td>11145</td>\n",
       "      <td>Short Term</td>\n",
       "      <td>685.0</td>\n",
       "      <td>2 years</td>\n",
       "      <td>Home Mortgage</td>\n",
       "      <td>61998.0</td>\n",
       "      <td>other</td>\n",
       "      <td>503.74</td>\n",
       "      <td>13.1</td>\n",
       "      <td>28.0</td>\n",
       "      <td>5</td>\n",
       "      <td>0</td>\n",
       "      <td>296</td>\n",
       "      <td>17424</td>\n",
       "      <td>0.0</td>\n",
       "      <td>0.0</td>\n",
       "    </tr>\n",
       "    <tr>\n",
       "      <th>...</th>\n",
       "      <td>...</td>\n",
       "      <td>...</td>\n",
       "      <td>...</td>\n",
       "      <td>...</td>\n",
       "      <td>...</td>\n",
       "      <td>...</td>\n",
       "      <td>...</td>\n",
       "      <td>...</td>\n",
       "      <td>...</td>\n",
       "      <td>...</td>\n",
       "      <td>...</td>\n",
       "      <td>...</td>\n",
       "      <td>...</td>\n",
       "      <td>...</td>\n",
       "      <td>...</td>\n",
       "      <td>...</td>\n",
       "      <td>...</td>\n",
       "      <td>...</td>\n",
       "      <td>...</td>\n",
       "    </tr>\n",
       "    <tr>\n",
       "      <th>111102</th>\n",
       "      <td>503f01e2-c3c4-4b10-886e-f15de57b6f1a</td>\n",
       "      <td>27a17610-1d8c-48a7-b0db-2d81a4fa099a</td>\n",
       "      <td>Fully Paid</td>\n",
       "      <td>15654</td>\n",
       "      <td>Long Term</td>\n",
       "      <td>686.0</td>\n",
       "      <td>10+ years</td>\n",
       "      <td>Rent</td>\n",
       "      <td>43050.0</td>\n",
       "      <td>Debt Consolidation</td>\n",
       "      <td>889.69</td>\n",
       "      <td>14.1</td>\n",
       "      <td>49.0</td>\n",
       "      <td>18</td>\n",
       "      <td>0</td>\n",
       "      <td>14730</td>\n",
       "      <td>29757</td>\n",
       "      <td>0.0</td>\n",
       "      <td>0.0</td>\n",
       "    </tr>\n",
       "    <tr>\n",
       "      <th>111103</th>\n",
       "      <td>8af53bc0-56a4-4801-a960-52a46a90b33f</td>\n",
       "      <td>c124ca71-f42a-47cc-8ec2-236f7e9868a5</td>\n",
       "      <td>Fully Paid</td>\n",
       "      <td>15237</td>\n",
       "      <td>Short Term</td>\n",
       "      <td>706.0</td>\n",
       "      <td>10+ years</td>\n",
       "      <td>Home Mortgage</td>\n",
       "      <td>60948.0</td>\n",
       "      <td>Debt Consolidation</td>\n",
       "      <td>700.9</td>\n",
       "      <td>15.9</td>\n",
       "      <td>48.0</td>\n",
       "      <td>11</td>\n",
       "      <td>0</td>\n",
       "      <td>17733</td>\n",
       "      <td>23060</td>\n",
       "      <td>0.0</td>\n",
       "      <td>0.0</td>\n",
       "    </tr>\n",
       "    <tr>\n",
       "      <th>111104</th>\n",
       "      <td>96efd327-f965-42ae-8b2b-d2555205ce19</td>\n",
       "      <td>7d959a54-8eeb-4df6-b582-046f889e4cff</td>\n",
       "      <td>Fully Paid</td>\n",
       "      <td>10413</td>\n",
       "      <td>Short Term</td>\n",
       "      <td>719.0</td>\n",
       "      <td>5 years</td>\n",
       "      <td>Home Mortgage</td>\n",
       "      <td>66945.0</td>\n",
       "      <td>Debt Consolidation</td>\n",
       "      <td>1210.59</td>\n",
       "      <td>8.7</td>\n",
       "      <td>NaN</td>\n",
       "      <td>11</td>\n",
       "      <td>0</td>\n",
       "      <td>5205</td>\n",
       "      <td>6348</td>\n",
       "      <td>0.0</td>\n",
       "      <td>0.0</td>\n",
       "    </tr>\n",
       "    <tr>\n",
       "      <th>111105</th>\n",
       "      <td>ec19166c-70c5-4d49-adb6-fb3fc15024a2</td>\n",
       "      <td>5723fbf2-1ce8-4752-8bee-1bebf339f278</td>\n",
       "      <td>Fully Paid</td>\n",
       "      <td>34447</td>\n",
       "      <td>Short Term</td>\n",
       "      <td>626.0</td>\n",
       "      <td>10+ years</td>\n",
       "      <td>Home Mortgage</td>\n",
       "      <td>78736.0</td>\n",
       "      <td>Debt Consolidation</td>\n",
       "      <td>1476.3</td>\n",
       "      <td>30.4</td>\n",
       "      <td>9.0</td>\n",
       "      <td>12</td>\n",
       "      <td>0</td>\n",
       "      <td>32318</td>\n",
       "      <td>37580</td>\n",
       "      <td>0.0</td>\n",
       "      <td>0.0</td>\n",
       "    </tr>\n",
       "    <tr>\n",
       "      <th>111106</th>\n",
       "      <td>f83ae0e1-bd30-46c7-9f72-f4f9fe2f36ca</td>\n",
       "      <td>74187e35-39c2-4010-ae0d-8bcd0544189e</td>\n",
       "      <td>Fully Paid</td>\n",
       "      <td>9209</td>\n",
       "      <td>Long Term</td>\n",
       "      <td>708.0</td>\n",
       "      <td>&lt; 1 year</td>\n",
       "      <td>Own Home</td>\n",
       "      <td>123454.0</td>\n",
       "      <td>Debt Consolidation</td>\n",
       "      <td>668.71</td>\n",
       "      <td>20.1</td>\n",
       "      <td>16.0</td>\n",
       "      <td>8</td>\n",
       "      <td>0</td>\n",
       "      <td>6835</td>\n",
       "      <td>9261</td>\n",
       "      <td>0.0</td>\n",
       "      <td>0.0</td>\n",
       "    </tr>\n",
       "  </tbody>\n",
       "</table>\n",
       "<p>22197 rows × 19 columns</p>\n",
       "</div>"
      ],
      "text/plain": [
       "                                     Loan ID  \\\n",
       "88910   a9382c50-9176-4639-9fa1-6bdf32fe9702   \n",
       "88911   f73698be-9319-4e6e-b241-658f68e84df8   \n",
       "88912   e7569ce9-f3ec-4461-9604-ccefe9164788   \n",
       "88913   96d15e73-541a-44be-8c11-b2e46d73d1b8   \n",
       "88914   12adaace-17a8-4bbe-a6ce-dc5ffcc46f54   \n",
       "...                                      ...   \n",
       "111102  503f01e2-c3c4-4b10-886e-f15de57b6f1a   \n",
       "111103  8af53bc0-56a4-4801-a960-52a46a90b33f   \n",
       "111104  96efd327-f965-42ae-8b2b-d2555205ce19   \n",
       "111105  ec19166c-70c5-4d49-adb6-fb3fc15024a2   \n",
       "111106  f83ae0e1-bd30-46c7-9f72-f4f9fe2f36ca   \n",
       "\n",
       "                                 Customer ID Loan Status  Current Loan Amount  \\\n",
       "88910   6fdbbbd6-0e34-4039-9f47-c371d352bf40  Fully Paid                20891   \n",
       "88911   cc3e7689-746d-4c21-9ed7-0ea3e372d9e0  Fully Paid                24329   \n",
       "88912   b9aefd67-0d4f-4180-805f-6c1870e280c3  Fully Paid                11000   \n",
       "88913   78281f18-48b5-40d4-9064-be5d18263d04  Fully Paid                 5924   \n",
       "88914   fc4ad10d-b42d-4c44-89fd-ac33c8bdbffe  Fully Paid                11145   \n",
       "...                                      ...         ...                  ...   \n",
       "111102  27a17610-1d8c-48a7-b0db-2d81a4fa099a  Fully Paid                15654   \n",
       "111103  c124ca71-f42a-47cc-8ec2-236f7e9868a5  Fully Paid                15237   \n",
       "111104  7d959a54-8eeb-4df6-b582-046f889e4cff  Fully Paid                10413   \n",
       "111105  5723fbf2-1ce8-4752-8bee-1bebf339f278  Fully Paid                34447   \n",
       "111106  74187e35-39c2-4010-ae0d-8bcd0544189e  Fully Paid                 9209   \n",
       "\n",
       "              Term  Credit Score Years in current job Home Ownership  \\\n",
       "88910    Long Term         714.0            10+ years  Home Mortgage   \n",
       "88911    Long Term         711.0              3 years       Own Home   \n",
       "88912    Long Term         707.0              7 years           Rent   \n",
       "88913   Short Term         716.0              7 years           Rent   \n",
       "88914   Short Term         685.0              2 years  Home Mortgage   \n",
       "...            ...           ...                  ...            ...   \n",
       "111102   Long Term         686.0            10+ years           Rent   \n",
       "111103  Short Term         706.0            10+ years  Home Mortgage   \n",
       "111104  Short Term         719.0              5 years  Home Mortgage   \n",
       "111105  Short Term         626.0            10+ years  Home Mortgage   \n",
       "111106   Long Term         708.0             < 1 year       Own Home   \n",
       "\n",
       "        Annual Income             Purpose Monthly Debt  \\\n",
       "88910         88537.0  Debt Consolidation      1719.09   \n",
       "88911         71973.0  Debt Consolidation      1547.41   \n",
       "88912         52640.0  Debt Consolidation       666.76   \n",
       "88913         97743.0  Debt Consolidation      2248.08   \n",
       "88914         61998.0               other       503.74   \n",
       "...               ...                 ...          ...   \n",
       "111102        43050.0  Debt Consolidation       889.69   \n",
       "111103        60948.0  Debt Consolidation        700.9   \n",
       "111104        66945.0  Debt Consolidation      1210.59   \n",
       "111105        78736.0  Debt Consolidation       1476.3   \n",
       "111106       123454.0  Debt Consolidation       668.71   \n",
       "\n",
       "        Years of Credit History  Months since last delinquent  \\\n",
       "88910                      18.0                           NaN   \n",
       "88911                      18.7                          42.0   \n",
       "88912                       8.8                          14.0   \n",
       "88913                      22.0                           NaN   \n",
       "88914                      13.1                          28.0   \n",
       "...                         ...                           ...   \n",
       "111102                     14.1                          49.0   \n",
       "111103                     15.9                          48.0   \n",
       "111104                      8.7                           NaN   \n",
       "111105                     30.4                           9.0   \n",
       "111106                     20.1                          16.0   \n",
       "\n",
       "        Number of Open Accounts  Number of Credit Problems  \\\n",
       "88910                        13                          0   \n",
       "88911                        12                          0   \n",
       "88912                         7                          0   \n",
       "88913                         5                          0   \n",
       "88914                         5                          0   \n",
       "...                         ...                        ...   \n",
       "111102                       18                          0   \n",
       "111103                       11                          0   \n",
       "111104                       11                          0   \n",
       "111105                       12                          0   \n",
       "111106                        8                          0   \n",
       "\n",
       "        Current Credit Balance Maximum Open Credit  Bankruptcies  Tax Liens  \n",
       "88910                    56708               60456           0.0        0.0  \n",
       "88911                    16961               18237           0.0        0.0  \n",
       "88912                     1946               11446           0.0        0.0  \n",
       "88913                    62261               69956           0.0        0.0  \n",
       "88914                      296               17424           0.0        0.0  \n",
       "...                        ...                 ...           ...        ...  \n",
       "111102                   14730               29757           0.0        0.0  \n",
       "111103                   17733               23060           0.0        0.0  \n",
       "111104                    5205                6348           0.0        0.0  \n",
       "111105                   32318               37580           0.0        0.0  \n",
       "111106                    6835                9261           0.0        0.0  \n",
       "\n",
       "[22197 rows x 19 columns]"
      ]
     },
     "execution_count": 238,
     "metadata": {},
     "output_type": "execute_result"
    }
   ],
   "source": [
    "#Check For duplicates\n",
    "data[data.duplicated('Customer ID')]"
   ]
  },
  {
   "cell_type": "code",
   "execution_count": 239,
   "id": "1c34dee1",
   "metadata": {},
   "outputs": [],
   "source": [
    "# dropping ALL duplicate values\n",
    "data.drop_duplicates(subset=\"Customer ID\",inplace=True)"
   ]
  },
  {
   "cell_type": "code",
   "execution_count": 240,
   "id": "99006f68",
   "metadata": {},
   "outputs": [
    {
     "data": {
      "text/plain": [
       "88910"
      ]
     },
     "execution_count": 240,
     "metadata": {},
     "output_type": "execute_result"
    }
   ],
   "source": [
    "len(data)"
   ]
  },
  {
   "cell_type": "code",
   "execution_count": 241,
   "id": "4de0b8d2",
   "metadata": {},
   "outputs": [
    {
     "name": "stdout",
     "output_type": "stream",
     "text": [
      "0\n"
     ]
    }
   ],
   "source": [
    "# count duplicate values in courses column\n",
    "df2 = len(data['Loan ID'])-len(data['Loan ID'].drop_duplicates())\n",
    "print(df2)"
   ]
  },
  {
   "cell_type": "code",
   "execution_count": 242,
   "id": "7b468f79",
   "metadata": {},
   "outputs": [
    {
     "data": {
      "text/plain": [
       "Loan ID                             0\n",
       "Customer ID                         0\n",
       "Loan Status                         0\n",
       "Current Loan Amount                 0\n",
       "Term                                0\n",
       "Credit Score                    21338\n",
       "Years in current job             3817\n",
       "Home Ownership                      0\n",
       "Annual Income                   21338\n",
       "Purpose                             0\n",
       "Monthly Debt                        0\n",
       "Years of Credit History             0\n",
       "Months since last delinquent    48506\n",
       "Number of Open Accounts             0\n",
       "Number of Credit Problems           0\n",
       "Current Credit Balance              0\n",
       "Maximum Open Credit                 0\n",
       "Bankruptcies                      192\n",
       "Tax Liens                           8\n",
       "dtype: int64"
      ]
     },
     "execution_count": 242,
     "metadata": {},
     "output_type": "execute_result"
    }
   ],
   "source": [
    "# Checking No of Null values in each feature\n",
    "data.isnull().sum()"
   ]
  },
  {
   "cell_type": "code",
   "execution_count": 243,
   "id": "861a74f3",
   "metadata": {},
   "outputs": [],
   "source": [
    "#Dropping the unnecessary Columns\n",
    "data=data.drop([\"Loan ID\",\"Customer ID\"],axis=1)"
   ]
  },
  {
   "cell_type": "code",
   "execution_count": 244,
   "id": "fcef0007",
   "metadata": {},
   "outputs": [
    {
     "data": {
      "text/html": [
       "<div>\n",
       "<style scoped>\n",
       "    .dataframe tbody tr th:only-of-type {\n",
       "        vertical-align: middle;\n",
       "    }\n",
       "\n",
       "    .dataframe tbody tr th {\n",
       "        vertical-align: top;\n",
       "    }\n",
       "\n",
       "    .dataframe thead th {\n",
       "        text-align: right;\n",
       "    }\n",
       "</style>\n",
       "<table border=\"1\" class=\"dataframe\">\n",
       "  <thead>\n",
       "    <tr style=\"text-align: right;\">\n",
       "      <th></th>\n",
       "      <th>Loan Status</th>\n",
       "      <th>Current Loan Amount</th>\n",
       "      <th>Term</th>\n",
       "      <th>Credit Score</th>\n",
       "      <th>Years in current job</th>\n",
       "      <th>Home Ownership</th>\n",
       "      <th>Annual Income</th>\n",
       "      <th>Purpose</th>\n",
       "      <th>Monthly Debt</th>\n",
       "      <th>Years of Credit History</th>\n",
       "      <th>Months since last delinquent</th>\n",
       "      <th>Number of Open Accounts</th>\n",
       "      <th>Number of Credit Problems</th>\n",
       "      <th>Current Credit Balance</th>\n",
       "      <th>Maximum Open Credit</th>\n",
       "      <th>Bankruptcies</th>\n",
       "      <th>Tax Liens</th>\n",
       "    </tr>\n",
       "  </thead>\n",
       "  <tbody>\n",
       "    <tr>\n",
       "      <th>0</th>\n",
       "      <td>Charged Off</td>\n",
       "      <td>12232</td>\n",
       "      <td>Short Term</td>\n",
       "      <td>7280.0</td>\n",
       "      <td>&lt; 1 year</td>\n",
       "      <td>Rent</td>\n",
       "      <td>46643.0</td>\n",
       "      <td>Debt Consolidation</td>\n",
       "      <td>777.39</td>\n",
       "      <td>18.0</td>\n",
       "      <td>10.0</td>\n",
       "      <td>12</td>\n",
       "      <td>0</td>\n",
       "      <td>6762</td>\n",
       "      <td>7946</td>\n",
       "      <td>0.0</td>\n",
       "      <td>0.0</td>\n",
       "    </tr>\n",
       "    <tr>\n",
       "      <th>1</th>\n",
       "      <td>Charged Off</td>\n",
       "      <td>25014</td>\n",
       "      <td>Long Term</td>\n",
       "      <td>7330.0</td>\n",
       "      <td>10+ years</td>\n",
       "      <td>Home Mortgage</td>\n",
       "      <td>81099.0</td>\n",
       "      <td>Debt Consolidation</td>\n",
       "      <td>892.09</td>\n",
       "      <td>26.7</td>\n",
       "      <td>NaN</td>\n",
       "      <td>14</td>\n",
       "      <td>0</td>\n",
       "      <td>35706</td>\n",
       "      <td>77961</td>\n",
       "      <td>0.0</td>\n",
       "      <td>0.0</td>\n",
       "    </tr>\n",
       "    <tr>\n",
       "      <th>2</th>\n",
       "      <td>Charged Off</td>\n",
       "      <td>16117</td>\n",
       "      <td>Short Term</td>\n",
       "      <td>7240.0</td>\n",
       "      <td>9 years</td>\n",
       "      <td>Home Mortgage</td>\n",
       "      <td>60438.0</td>\n",
       "      <td>Home Improvements</td>\n",
       "      <td>1244.02</td>\n",
       "      <td>16.7</td>\n",
       "      <td>32.0</td>\n",
       "      <td>11</td>\n",
       "      <td>1</td>\n",
       "      <td>11275</td>\n",
       "      <td>14815</td>\n",
       "      <td>1.0</td>\n",
       "      <td>0.0</td>\n",
       "    </tr>\n",
       "    <tr>\n",
       "      <th>3</th>\n",
       "      <td>Charged Off</td>\n",
       "      <td>11716</td>\n",
       "      <td>Short Term</td>\n",
       "      <td>7400.0</td>\n",
       "      <td>3 years</td>\n",
       "      <td>Rent</td>\n",
       "      <td>34171.0</td>\n",
       "      <td>Debt Consolidation</td>\n",
       "      <td>990.94</td>\n",
       "      <td>10.0</td>\n",
       "      <td>NaN</td>\n",
       "      <td>21</td>\n",
       "      <td>0</td>\n",
       "      <td>7009</td>\n",
       "      <td>43533</td>\n",
       "      <td>0.0</td>\n",
       "      <td>0.0</td>\n",
       "    </tr>\n",
       "    <tr>\n",
       "      <th>4</th>\n",
       "      <td>Charged Off</td>\n",
       "      <td>9789</td>\n",
       "      <td>Long Term</td>\n",
       "      <td>6860.0</td>\n",
       "      <td>10+ years</td>\n",
       "      <td>Home Mortgage</td>\n",
       "      <td>47003.0</td>\n",
       "      <td>Home Improvements</td>\n",
       "      <td>503.71</td>\n",
       "      <td>16.7</td>\n",
       "      <td>25.0</td>\n",
       "      <td>13</td>\n",
       "      <td>1</td>\n",
       "      <td>16913</td>\n",
       "      <td>19553</td>\n",
       "      <td>1.0</td>\n",
       "      <td>0.0</td>\n",
       "    </tr>\n",
       "    <tr>\n",
       "      <th>...</th>\n",
       "      <td>...</td>\n",
       "      <td>...</td>\n",
       "      <td>...</td>\n",
       "      <td>...</td>\n",
       "      <td>...</td>\n",
       "      <td>...</td>\n",
       "      <td>...</td>\n",
       "      <td>...</td>\n",
       "      <td>...</td>\n",
       "      <td>...</td>\n",
       "      <td>...</td>\n",
       "      <td>...</td>\n",
       "      <td>...</td>\n",
       "      <td>...</td>\n",
       "      <td>...</td>\n",
       "      <td>...</td>\n",
       "      <td>...</td>\n",
       "    </tr>\n",
       "    <tr>\n",
       "      <th>88905</th>\n",
       "      <td>Fully Paid</td>\n",
       "      <td>10136</td>\n",
       "      <td>Short Term</td>\n",
       "      <td>728.0</td>\n",
       "      <td>10+ years</td>\n",
       "      <td>Rent</td>\n",
       "      <td>35476.0</td>\n",
       "      <td>Debt Consolidation</td>\n",
       "      <td>567.62</td>\n",
       "      <td>21.2</td>\n",
       "      <td>14.0</td>\n",
       "      <td>14</td>\n",
       "      <td>0</td>\n",
       "      <td>15914</td>\n",
       "      <td>28265</td>\n",
       "      <td>0.0</td>\n",
       "      <td>0.0</td>\n",
       "    </tr>\n",
       "    <tr>\n",
       "      <th>88906</th>\n",
       "      <td>Fully Paid</td>\n",
       "      <td>29610</td>\n",
       "      <td>Short Term</td>\n",
       "      <td>710.0</td>\n",
       "      <td>10+ years</td>\n",
       "      <td>Home Mortgage</td>\n",
       "      <td>123375.0</td>\n",
       "      <td>Debt Consolidation</td>\n",
       "      <td>2508.63</td>\n",
       "      <td>15.0</td>\n",
       "      <td>16.0</td>\n",
       "      <td>11</td>\n",
       "      <td>0</td>\n",
       "      <td>17727</td>\n",
       "      <td>32766</td>\n",
       "      <td>0.0</td>\n",
       "      <td>0.0</td>\n",
       "    </tr>\n",
       "    <tr>\n",
       "      <th>88907</th>\n",
       "      <td>Fully Paid</td>\n",
       "      <td>24394</td>\n",
       "      <td>Short Term</td>\n",
       "      <td>746.0</td>\n",
       "      <td>NaN</td>\n",
       "      <td>Home Mortgage</td>\n",
       "      <td>71148.0</td>\n",
       "      <td>Debt Consolidation</td>\n",
       "      <td>818.2</td>\n",
       "      <td>36.4</td>\n",
       "      <td>9.0</td>\n",
       "      <td>8</td>\n",
       "      <td>0</td>\n",
       "      <td>44728</td>\n",
       "      <td>53374</td>\n",
       "      <td>0.0</td>\n",
       "      <td>0.0</td>\n",
       "    </tr>\n",
       "    <tr>\n",
       "      <th>88908</th>\n",
       "      <td>Charged Off</td>\n",
       "      <td>5030</td>\n",
       "      <td>Short Term</td>\n",
       "      <td>722.0</td>\n",
       "      <td>NaN</td>\n",
       "      <td>Rent</td>\n",
       "      <td>25424.0</td>\n",
       "      <td>Debt Consolidation</td>\n",
       "      <td>360.17</td>\n",
       "      <td>19.0</td>\n",
       "      <td>7.0</td>\n",
       "      <td>12</td>\n",
       "      <td>0</td>\n",
       "      <td>6374</td>\n",
       "      <td>18422</td>\n",
       "      <td>0.0</td>\n",
       "      <td>0.0</td>\n",
       "    </tr>\n",
       "    <tr>\n",
       "      <th>88909</th>\n",
       "      <td>Fully Paid</td>\n",
       "      <td>18446</td>\n",
       "      <td>Short Term</td>\n",
       "      <td>718.0</td>\n",
       "      <td>6 years</td>\n",
       "      <td>Rent</td>\n",
       "      <td>44066.0</td>\n",
       "      <td>Debt Consolidation</td>\n",
       "      <td>749.13</td>\n",
       "      <td>10.7</td>\n",
       "      <td>NaN</td>\n",
       "      <td>18</td>\n",
       "      <td>1</td>\n",
       "      <td>6718</td>\n",
       "      <td>21124</td>\n",
       "      <td>0.0</td>\n",
       "      <td>1.0</td>\n",
       "    </tr>\n",
       "  </tbody>\n",
       "</table>\n",
       "<p>88910 rows × 17 columns</p>\n",
       "</div>"
      ],
      "text/plain": [
       "       Loan Status  Current Loan Amount        Term  Credit Score  \\\n",
       "0      Charged Off                12232  Short Term        7280.0   \n",
       "1      Charged Off                25014   Long Term        7330.0   \n",
       "2      Charged Off                16117  Short Term        7240.0   \n",
       "3      Charged Off                11716  Short Term        7400.0   \n",
       "4      Charged Off                 9789   Long Term        6860.0   \n",
       "...            ...                  ...         ...           ...   \n",
       "88905   Fully Paid                10136  Short Term         728.0   \n",
       "88906   Fully Paid                29610  Short Term         710.0   \n",
       "88907   Fully Paid                24394  Short Term         746.0   \n",
       "88908  Charged Off                 5030  Short Term         722.0   \n",
       "88909   Fully Paid                18446  Short Term         718.0   \n",
       "\n",
       "      Years in current job Home Ownership  Annual Income             Purpose  \\\n",
       "0                 < 1 year           Rent        46643.0  Debt Consolidation   \n",
       "1                10+ years  Home Mortgage        81099.0  Debt Consolidation   \n",
       "2                  9 years  Home Mortgage        60438.0   Home Improvements   \n",
       "3                  3 years           Rent        34171.0  Debt Consolidation   \n",
       "4                10+ years  Home Mortgage        47003.0   Home Improvements   \n",
       "...                    ...            ...            ...                 ...   \n",
       "88905            10+ years           Rent        35476.0  Debt Consolidation   \n",
       "88906            10+ years  Home Mortgage       123375.0  Debt Consolidation   \n",
       "88907                  NaN  Home Mortgage        71148.0  Debt Consolidation   \n",
       "88908                  NaN           Rent        25424.0  Debt Consolidation   \n",
       "88909              6 years           Rent        44066.0  Debt Consolidation   \n",
       "\n",
       "      Monthly Debt  Years of Credit History  Months since last delinquent  \\\n",
       "0           777.39                     18.0                          10.0   \n",
       "1           892.09                     26.7                           NaN   \n",
       "2          1244.02                     16.7                          32.0   \n",
       "3           990.94                     10.0                           NaN   \n",
       "4           503.71                     16.7                          25.0   \n",
       "...            ...                      ...                           ...   \n",
       "88905       567.62                     21.2                          14.0   \n",
       "88906      2508.63                     15.0                          16.0   \n",
       "88907        818.2                     36.4                           9.0   \n",
       "88908       360.17                     19.0                           7.0   \n",
       "88909       749.13                     10.7                           NaN   \n",
       "\n",
       "       Number of Open Accounts  Number of Credit Problems  \\\n",
       "0                           12                          0   \n",
       "1                           14                          0   \n",
       "2                           11                          1   \n",
       "3                           21                          0   \n",
       "4                           13                          1   \n",
       "...                        ...                        ...   \n",
       "88905                       14                          0   \n",
       "88906                       11                          0   \n",
       "88907                        8                          0   \n",
       "88908                       12                          0   \n",
       "88909                       18                          1   \n",
       "\n",
       "       Current Credit Balance Maximum Open Credit  Bankruptcies  Tax Liens  \n",
       "0                        6762                7946           0.0        0.0  \n",
       "1                       35706               77961           0.0        0.0  \n",
       "2                       11275               14815           1.0        0.0  \n",
       "3                        7009               43533           0.0        0.0  \n",
       "4                       16913               19553           1.0        0.0  \n",
       "...                       ...                 ...           ...        ...  \n",
       "88905                   15914               28265           0.0        0.0  \n",
       "88906                   17727               32766           0.0        0.0  \n",
       "88907                   44728               53374           0.0        0.0  \n",
       "88908                    6374               18422           0.0        0.0  \n",
       "88909                    6718               21124           0.0        1.0  \n",
       "\n",
       "[88910 rows x 17 columns]"
      ]
     },
     "execution_count": 244,
     "metadata": {},
     "output_type": "execute_result"
    }
   ],
   "source": [
    "data"
   ]
  },
  {
   "cell_type": "code",
   "execution_count": 245,
   "id": "298ed2b2",
   "metadata": {},
   "outputs": [
    {
     "data": {
      "text/html": [
       "<div>\n",
       "<style scoped>\n",
       "    .dataframe tbody tr th:only-of-type {\n",
       "        vertical-align: middle;\n",
       "    }\n",
       "\n",
       "    .dataframe tbody tr th {\n",
       "        vertical-align: top;\n",
       "    }\n",
       "\n",
       "    .dataframe thead th {\n",
       "        text-align: right;\n",
       "    }\n",
       "</style>\n",
       "<table border=\"1\" class=\"dataframe\">\n",
       "  <thead>\n",
       "    <tr style=\"text-align: right;\">\n",
       "      <th></th>\n",
       "      <th>Current Loan Amount</th>\n",
       "      <th>Credit Score</th>\n",
       "      <th>Annual Income</th>\n",
       "      <th>Years of Credit History</th>\n",
       "      <th>Months since last delinquent</th>\n",
       "      <th>Number of Open Accounts</th>\n",
       "      <th>Number of Credit Problems</th>\n",
       "      <th>Current Credit Balance</th>\n",
       "      <th>Bankruptcies</th>\n",
       "      <th>Tax Liens</th>\n",
       "    </tr>\n",
       "  </thead>\n",
       "  <tbody>\n",
       "    <tr>\n",
       "      <th>count</th>\n",
       "      <td>8.891000e+04</td>\n",
       "      <td>67572.000000</td>\n",
       "      <td>6.757200e+04</td>\n",
       "      <td>88910.000000</td>\n",
       "      <td>40404.000000</td>\n",
       "      <td>88910.000000</td>\n",
       "      <td>88910.000000</td>\n",
       "      <td>8.891000e+04</td>\n",
       "      <td>88718.000000</td>\n",
       "      <td>88902.000000</td>\n",
       "    </tr>\n",
       "    <tr>\n",
       "      <th>mean</th>\n",
       "      <td>1.433878e+07</td>\n",
       "      <td>1199.199580</td>\n",
       "      <td>7.234575e+04</td>\n",
       "      <td>18.315313</td>\n",
       "      <td>35.080289</td>\n",
       "      <td>11.110348</td>\n",
       "      <td>0.160477</td>\n",
       "      <td>1.543593e+04</td>\n",
       "      <td>0.112672</td>\n",
       "      <td>0.028222</td>\n",
       "    </tr>\n",
       "    <tr>\n",
       "      <th>std</th>\n",
       "      <td>3.502996e+07</td>\n",
       "      <td>1680.813805</td>\n",
       "      <td>5.836101e+04</td>\n",
       "      <td>7.049175</td>\n",
       "      <td>22.008583</td>\n",
       "      <td>4.978461</td>\n",
       "      <td>0.473746</td>\n",
       "      <td>1.965873e+04</td>\n",
       "      <td>0.343300</td>\n",
       "      <td>0.257533</td>\n",
       "    </tr>\n",
       "    <tr>\n",
       "      <th>min</th>\n",
       "      <td>4.910000e+02</td>\n",
       "      <td>585.000000</td>\n",
       "      <td>4.033000e+03</td>\n",
       "      <td>3.600000</td>\n",
       "      <td>0.000000</td>\n",
       "      <td>0.000000</td>\n",
       "      <td>0.000000</td>\n",
       "      <td>0.000000e+00</td>\n",
       "      <td>0.000000</td>\n",
       "      <td>0.000000</td>\n",
       "    </tr>\n",
       "    <tr>\n",
       "      <th>25%</th>\n",
       "      <td>8.283000e+03</td>\n",
       "      <td>714.000000</td>\n",
       "      <td>4.458600e+04</td>\n",
       "      <td>13.500000</td>\n",
       "      <td>16.000000</td>\n",
       "      <td>8.000000</td>\n",
       "      <td>0.000000</td>\n",
       "      <td>5.949000e+03</td>\n",
       "      <td>0.000000</td>\n",
       "      <td>0.000000</td>\n",
       "    </tr>\n",
       "    <tr>\n",
       "      <th>50%</th>\n",
       "      <td>1.435500e+04</td>\n",
       "      <td>733.000000</td>\n",
       "      <td>6.149400e+04</td>\n",
       "      <td>17.000000</td>\n",
       "      <td>32.000000</td>\n",
       "      <td>10.000000</td>\n",
       "      <td>0.000000</td>\n",
       "      <td>1.103900e+04</td>\n",
       "      <td>0.000000</td>\n",
       "      <td>0.000000</td>\n",
       "    </tr>\n",
       "    <tr>\n",
       "      <th>75%</th>\n",
       "      <td>2.448500e+04</td>\n",
       "      <td>744.000000</td>\n",
       "      <td>8.675025e+04</td>\n",
       "      <td>21.800000</td>\n",
       "      <td>51.000000</td>\n",
       "      <td>14.000000</td>\n",
       "      <td>0.000000</td>\n",
       "      <td>1.930100e+04</td>\n",
       "      <td>0.000000</td>\n",
       "      <td>0.000000</td>\n",
       "    </tr>\n",
       "    <tr>\n",
       "      <th>max</th>\n",
       "      <td>1.000000e+08</td>\n",
       "      <td>7510.000000</td>\n",
       "      <td>8.713547e+06</td>\n",
       "      <td>70.500000</td>\n",
       "      <td>176.000000</td>\n",
       "      <td>76.000000</td>\n",
       "      <td>15.000000</td>\n",
       "      <td>1.730472e+06</td>\n",
       "      <td>7.000000</td>\n",
       "      <td>15.000000</td>\n",
       "    </tr>\n",
       "  </tbody>\n",
       "</table>\n",
       "</div>"
      ],
      "text/plain": [
       "       Current Loan Amount  Credit Score  Annual Income  \\\n",
       "count         8.891000e+04  67572.000000   6.757200e+04   \n",
       "mean          1.433878e+07   1199.199580   7.234575e+04   \n",
       "std           3.502996e+07   1680.813805   5.836101e+04   \n",
       "min           4.910000e+02    585.000000   4.033000e+03   \n",
       "25%           8.283000e+03    714.000000   4.458600e+04   \n",
       "50%           1.435500e+04    733.000000   6.149400e+04   \n",
       "75%           2.448500e+04    744.000000   8.675025e+04   \n",
       "max           1.000000e+08   7510.000000   8.713547e+06   \n",
       "\n",
       "       Years of Credit History  Months since last delinquent  \\\n",
       "count             88910.000000                  40404.000000   \n",
       "mean                 18.315313                     35.080289   \n",
       "std                   7.049175                     22.008583   \n",
       "min                   3.600000                      0.000000   \n",
       "25%                  13.500000                     16.000000   \n",
       "50%                  17.000000                     32.000000   \n",
       "75%                  21.800000                     51.000000   \n",
       "max                  70.500000                    176.000000   \n",
       "\n",
       "       Number of Open Accounts  Number of Credit Problems  \\\n",
       "count             88910.000000               88910.000000   \n",
       "mean                 11.110348                   0.160477   \n",
       "std                   4.978461                   0.473746   \n",
       "min                   0.000000                   0.000000   \n",
       "25%                   8.000000                   0.000000   \n",
       "50%                  10.000000                   0.000000   \n",
       "75%                  14.000000                   0.000000   \n",
       "max                  76.000000                  15.000000   \n",
       "\n",
       "       Current Credit Balance  Bankruptcies     Tax Liens  \n",
       "count            8.891000e+04  88718.000000  88902.000000  \n",
       "mean             1.543593e+04      0.112672      0.028222  \n",
       "std              1.965873e+04      0.343300      0.257533  \n",
       "min              0.000000e+00      0.000000      0.000000  \n",
       "25%              5.949000e+03      0.000000      0.000000  \n",
       "50%              1.103900e+04      0.000000      0.000000  \n",
       "75%              1.930100e+04      0.000000      0.000000  \n",
       "max              1.730472e+06      7.000000     15.000000  "
      ]
     },
     "execution_count": 245,
     "metadata": {},
     "output_type": "execute_result"
    }
   ],
   "source": [
    "data.describe()"
   ]
  },
  {
   "cell_type": "code",
   "execution_count": 246,
   "id": "2389a0ba",
   "metadata": {},
   "outputs": [
    {
     "data": {
      "text/plain": [
       "Loan Status                      0.000000\n",
       "Current Loan Amount              0.000000\n",
       "Term                             0.000000\n",
       "Credit Score                    23.999550\n",
       "Years in current job             4.293105\n",
       "Home Ownership                   0.000000\n",
       "Annual Income                   23.999550\n",
       "Purpose                          0.000000\n",
       "Monthly Debt                     0.000000\n",
       "Years of Credit History          0.000000\n",
       "Months since last delinquent    54.556293\n",
       "Number of Open Accounts          0.000000\n",
       "Number of Credit Problems        0.000000\n",
       "Current Credit Balance           0.000000\n",
       "Maximum Open Credit              0.000000\n",
       "Bankruptcies                     0.215949\n",
       "Tax Liens                        0.008998\n",
       "dtype: float64"
      ]
     },
     "execution_count": 246,
     "metadata": {},
     "output_type": "execute_result"
    }
   ],
   "source": [
    "# Getting the proportion of null values in each column\n",
    "(data.isnull().sum()*100)/len(data)"
   ]
  },
  {
   "cell_type": "code",
   "execution_count": 247,
   "id": "3541df78",
   "metadata": {},
   "outputs": [],
   "source": [
    "def missing_values_table(df):\n",
    "        # Total missing values\n",
    "        mis_val = df.isnull().sum()\n",
    "        \n",
    "        # Percentage of missing values\n",
    "        mis_val_percent = 100 * df.isnull().sum() / len(df)\n",
    "        \n",
    "        # Make a table with the results\n",
    "        mis_val_table = pd.concat([mis_val, mis_val_percent], axis=1)\n",
    "        \n",
    "        # Rename the columns\n",
    "        mis_val_table_ren_columns = mis_val_table.rename(\n",
    "        columns = {0 : 'Missing Values', 1 : '% of Total Values'})\n",
    "        \n",
    "        # Sort the table by percentage of missing descending\n",
    "        mis_val_table_ren_columns = mis_val_table_ren_columns[\n",
    "            mis_val_table_ren_columns.iloc[:,1] != 0].sort_values(\n",
    "        '% of Total Values', ascending=False).round(1)\n",
    "        \n",
    "        # Print some summary information\n",
    "        print (\"Your selected dataframe has \" + str(df.shape[1]) + \" columns.\\n\"      \n",
    "            \"There are \" + str(mis_val_table_ren_columns.shape[0]) +\n",
    "              \" columns that have missing values.\")\n",
    "        \n",
    "        # Return the dataframe with missing information\n",
    "        return mis_val_table_ren_columns"
   ]
  },
  {
   "cell_type": "code",
   "execution_count": 248,
   "id": "fbf75754",
   "metadata": {},
   "outputs": [
    {
     "name": "stdout",
     "output_type": "stream",
     "text": [
      "Your selected dataframe has 17 columns.\n",
      "There are 6 columns that have missing values.\n"
     ]
    },
    {
     "data": {
      "text/html": [
       "<div>\n",
       "<style scoped>\n",
       "    .dataframe tbody tr th:only-of-type {\n",
       "        vertical-align: middle;\n",
       "    }\n",
       "\n",
       "    .dataframe tbody tr th {\n",
       "        vertical-align: top;\n",
       "    }\n",
       "\n",
       "    .dataframe thead th {\n",
       "        text-align: right;\n",
       "    }\n",
       "</style>\n",
       "<table border=\"1\" class=\"dataframe\">\n",
       "  <thead>\n",
       "    <tr style=\"text-align: right;\">\n",
       "      <th></th>\n",
       "      <th>Missing Values</th>\n",
       "      <th>% of Total Values</th>\n",
       "    </tr>\n",
       "  </thead>\n",
       "  <tbody>\n",
       "    <tr>\n",
       "      <th>Months since last delinquent</th>\n",
       "      <td>48506</td>\n",
       "      <td>54.6</td>\n",
       "    </tr>\n",
       "    <tr>\n",
       "      <th>Credit Score</th>\n",
       "      <td>21338</td>\n",
       "      <td>24.0</td>\n",
       "    </tr>\n",
       "    <tr>\n",
       "      <th>Annual Income</th>\n",
       "      <td>21338</td>\n",
       "      <td>24.0</td>\n",
       "    </tr>\n",
       "    <tr>\n",
       "      <th>Years in current job</th>\n",
       "      <td>3817</td>\n",
       "      <td>4.3</td>\n",
       "    </tr>\n",
       "    <tr>\n",
       "      <th>Bankruptcies</th>\n",
       "      <td>192</td>\n",
       "      <td>0.2</td>\n",
       "    </tr>\n",
       "    <tr>\n",
       "      <th>Tax Liens</th>\n",
       "      <td>8</td>\n",
       "      <td>0.0</td>\n",
       "    </tr>\n",
       "  </tbody>\n",
       "</table>\n",
       "</div>"
      ],
      "text/plain": [
       "                              Missing Values  % of Total Values\n",
       "Months since last delinquent           48506               54.6\n",
       "Credit Score                           21338               24.0\n",
       "Annual Income                          21338               24.0\n",
       "Years in current job                    3817                4.3\n",
       "Bankruptcies                             192                0.2\n",
       "Tax Liens                                  8                0.0"
      ]
     },
     "execution_count": 248,
     "metadata": {},
     "output_type": "execute_result"
    }
   ],
   "source": [
    "#Finding Missing Value Percentage\n",
    "missing_values_table(data)"
   ]
  },
  {
   "cell_type": "code",
   "execution_count": 249,
   "id": "bf125692",
   "metadata": {},
   "outputs": [
    {
     "data": {
      "text/plain": [
       "(88910, 17)"
      ]
     },
     "execution_count": 249,
     "metadata": {},
     "output_type": "execute_result"
    }
   ],
   "source": [
    "data.shape #Shape of the data"
   ]
  },
  {
   "cell_type": "markdown",
   "id": "f3a87689",
   "metadata": {},
   "source": [
    "# Data Cleaning & Pre-Processing"
   ]
  },
  {
   "cell_type": "markdown",
   "id": "c905e066",
   "metadata": {},
   "source": [
    "**1. Loan Status** - A categorical variable indicating if the loan was paid back or defaulted."
   ]
  },
  {
   "cell_type": "code",
   "execution_count": 250,
   "id": "87bbc3a4",
   "metadata": {},
   "outputs": [
    {
     "data": {
      "image/png": "[encoded data removed]",
      "text/plain": [
       "<Figure size 432x288 with 1 Axes>"
      ]
     },
     "metadata": {},
     "output_type": "display_data"
    }
   ],
   "source": [
    "plt.pie(data[['Loan Status']].value_counts(),labels =['Fully Paid', 'Charged Off'],explode = (0.2,0))\n",
    "plt.show()"
   ]
  },
  {
   "cell_type": "code",
   "execution_count": 251,
   "id": "1f22ac25",
   "metadata": {},
   "outputs": [
    {
     "data": {
      "text/html": [
       "<div>\n",
       "<style scoped>\n",
       "    .dataframe tbody tr th:only-of-type {\n",
       "        vertical-align: middle;\n",
       "    }\n",
       "\n",
       "    .dataframe tbody tr th {\n",
       "        vertical-align: top;\n",
       "    }\n",
       "\n",
       "    .dataframe thead th {\n",
       "        text-align: right;\n",
       "    }\n",
       "</style>\n",
       "<table border=\"1\" class=\"dataframe\">\n",
       "  <thead>\n",
       "    <tr style=\"text-align: right;\">\n",
       "      <th>col_0</th>\n",
       "      <th>Loan Status</th>\n",
       "      <th>Percentage</th>\n",
       "    </tr>\n",
       "    <tr>\n",
       "      <th>Loan Status</th>\n",
       "      <th></th>\n",
       "      <th></th>\n",
       "    </tr>\n",
       "  </thead>\n",
       "  <tbody>\n",
       "    <tr>\n",
       "      <th>Charged Off</th>\n",
       "      <td>25173</td>\n",
       "      <td>28.312901</td>\n",
       "    </tr>\n",
       "    <tr>\n",
       "      <th>Fully Paid</th>\n",
       "      <td>63737</td>\n",
       "      <td>71.687099</td>\n",
       "    </tr>\n",
       "  </tbody>\n",
       "</table>\n",
       "</div>"
      ],
      "text/plain": [
       "col_0        Loan Status  Percentage\n",
       "Loan Status                         \n",
       "Charged Off        25173   28.312901\n",
       "Fully Paid         63737   71.687099"
      ]
     },
     "execution_count": 251,
     "metadata": {},
     "output_type": "execute_result"
    }
   ],
   "source": [
    "# Frequency Distribution\n",
    "table = pd.crosstab(data[\"Loan Status\"],columns=\"Loan Status\")\n",
    "table[\"Percentage\"] = pd.crosstab(data[\"Loan Status\"],columns=\"Term\",normalize=True)*100\n",
    "table\n",
    "# Observation : Nearly 72% of the observations belongs to target class 'Fully Paid' whereas nearly 28% belongs to 'Charged Off'"
   ]
  },
  {
   "cell_type": "markdown",
   "id": "159c4364",
   "metadata": {},
   "source": [
    "--------------------------------------------------------------------------------------------------------------------------------"
   ]
  },
  {
   "cell_type": "markdown",
   "id": "66132ff7",
   "metadata": {},
   "source": [
    "**2. Current Loan Amount** - This is the loan amount that was either completely paid off, or the amount that was defaulted."
   ]
  },
  {
   "cell_type": "code",
   "execution_count": 252,
   "id": "305452ee",
   "metadata": {},
   "outputs": [
    {
     "data": {
      "text/plain": [
       "<bound method IndexOpsMixin.value_counts of 0        12232\n",
       "1        25014\n",
       "2        16117\n",
       "3        11716\n",
       "4         9789\n",
       "         ...  \n",
       "88905    10136\n",
       "88906    29610\n",
       "88907    24394\n",
       "88908     5030\n",
       "88909    18446\n",
       "Name: Current Loan Amount, Length: 88910, dtype: int64>"
      ]
     },
     "execution_count": 252,
     "metadata": {},
     "output_type": "execute_result"
    }
   ],
   "source": [
    "data[\"Current Loan Amount\"].value_counts"
   ]
  },
  {
   "cell_type": "code",
   "execution_count": 253,
   "id": "5b087c29",
   "metadata": {},
   "outputs": [
    {
     "data": {
      "text/html": [
       "<div>\n",
       "<style scoped>\n",
       "    .dataframe tbody tr th:only-of-type {\n",
       "        vertical-align: middle;\n",
       "    }\n",
       "\n",
       "    .dataframe tbody tr th {\n",
       "        vertical-align: top;\n",
       "    }\n",
       "\n",
       "    .dataframe thead th {\n",
       "        text-align: right;\n",
       "    }\n",
       "</style>\n",
       "<table border=\"1\" class=\"dataframe\">\n",
       "  <thead>\n",
       "    <tr style=\"text-align: right;\">\n",
       "      <th></th>\n",
       "      <th>Loan Status</th>\n",
       "      <th>Current Loan Amount</th>\n",
       "      <th>Term</th>\n",
       "      <th>Credit Score</th>\n",
       "      <th>Years in current job</th>\n",
       "      <th>Home Ownership</th>\n",
       "      <th>Annual Income</th>\n",
       "      <th>Purpose</th>\n",
       "      <th>Monthly Debt</th>\n",
       "      <th>Years of Credit History</th>\n",
       "      <th>Months since last delinquent</th>\n",
       "      <th>Number of Open Accounts</th>\n",
       "      <th>Number of Credit Problems</th>\n",
       "      <th>Current Credit Balance</th>\n",
       "      <th>Maximum Open Credit</th>\n",
       "      <th>Bankruptcies</th>\n",
       "      <th>Tax Liens</th>\n",
       "    </tr>\n",
       "  </thead>\n",
       "  <tbody>\n",
       "    <tr>\n",
       "      <th>5044</th>\n",
       "      <td>Fully Paid</td>\n",
       "      <td>99999999</td>\n",
       "      <td>Short Term</td>\n",
       "      <td>739.0</td>\n",
       "      <td>3 years</td>\n",
       "      <td>Home Mortgage</td>\n",
       "      <td>60012.0</td>\n",
       "      <td>Home Improvements</td>\n",
       "      <td>1295.26</td>\n",
       "      <td>16.6</td>\n",
       "      <td>33.0</td>\n",
       "      <td>16</td>\n",
       "      <td>0</td>\n",
       "      <td>427</td>\n",
       "      <td>8542</td>\n",
       "      <td>0.0</td>\n",
       "      <td>0.0</td>\n",
       "    </tr>\n",
       "    <tr>\n",
       "      <th>5045</th>\n",
       "      <td>Fully Paid</td>\n",
       "      <td>99999999</td>\n",
       "      <td>Short Term</td>\n",
       "      <td>704.0</td>\n",
       "      <td>9 years</td>\n",
       "      <td>Rent</td>\n",
       "      <td>54802.0</td>\n",
       "      <td>Debt Consolidation</td>\n",
       "      <td>1114.31</td>\n",
       "      <td>16.9</td>\n",
       "      <td>30.0</td>\n",
       "      <td>12</td>\n",
       "      <td>0</td>\n",
       "      <td>4716</td>\n",
       "      <td>5822</td>\n",
       "      <td>0.0</td>\n",
       "      <td>0.0</td>\n",
       "    </tr>\n",
       "    <tr>\n",
       "      <th>5046</th>\n",
       "      <td>Fully Paid</td>\n",
       "      <td>99999999</td>\n",
       "      <td>Short Term</td>\n",
       "      <td>751.0</td>\n",
       "      <td>5 years</td>\n",
       "      <td>Rent</td>\n",
       "      <td>35693.0</td>\n",
       "      <td>Debt Consolidation</td>\n",
       "      <td>626.12</td>\n",
       "      <td>11.0</td>\n",
       "      <td>NaN</td>\n",
       "      <td>7</td>\n",
       "      <td>0</td>\n",
       "      <td>742</td>\n",
       "      <td>9166</td>\n",
       "      <td>0.0</td>\n",
       "      <td>0.0</td>\n",
       "    </tr>\n",
       "    <tr>\n",
       "      <th>5047</th>\n",
       "      <td>Fully Paid</td>\n",
       "      <td>99999999</td>\n",
       "      <td>Short Term</td>\n",
       "      <td>735.0</td>\n",
       "      <td>NaN</td>\n",
       "      <td>Home Mortgage</td>\n",
       "      <td>33884.0</td>\n",
       "      <td>Debt Consolidation</td>\n",
       "      <td>683.34</td>\n",
       "      <td>18.9</td>\n",
       "      <td>10.0</td>\n",
       "      <td>12</td>\n",
       "      <td>0</td>\n",
       "      <td>10835</td>\n",
       "      <td>18028</td>\n",
       "      <td>0.0</td>\n",
       "      <td>0.0</td>\n",
       "    </tr>\n",
       "    <tr>\n",
       "      <th>5048</th>\n",
       "      <td>Fully Paid</td>\n",
       "      <td>99999999</td>\n",
       "      <td>Short Term</td>\n",
       "      <td>745.0</td>\n",
       "      <td>3 years</td>\n",
       "      <td>Own Home</td>\n",
       "      <td>103343.0</td>\n",
       "      <td>Debt Consolidation</td>\n",
       "      <td>1300.41</td>\n",
       "      <td>14.1</td>\n",
       "      <td>NaN</td>\n",
       "      <td>14</td>\n",
       "      <td>0</td>\n",
       "      <td>22746</td>\n",
       "      <td>42835</td>\n",
       "      <td>0.0</td>\n",
       "      <td>0.0</td>\n",
       "    </tr>\n",
       "    <tr>\n",
       "      <th>...</th>\n",
       "      <td>...</td>\n",
       "      <td>...</td>\n",
       "      <td>...</td>\n",
       "      <td>...</td>\n",
       "      <td>...</td>\n",
       "      <td>...</td>\n",
       "      <td>...</td>\n",
       "      <td>...</td>\n",
       "      <td>...</td>\n",
       "      <td>...</td>\n",
       "      <td>...</td>\n",
       "      <td>...</td>\n",
       "      <td>...</td>\n",
       "      <td>...</td>\n",
       "      <td>...</td>\n",
       "      <td>...</td>\n",
       "      <td>...</td>\n",
       "    </tr>\n",
       "    <tr>\n",
       "      <th>17777</th>\n",
       "      <td>Fully Paid</td>\n",
       "      <td>99999999</td>\n",
       "      <td>Short Term</td>\n",
       "      <td>714.0</td>\n",
       "      <td>6 years</td>\n",
       "      <td>Rent</td>\n",
       "      <td>52052.0</td>\n",
       "      <td>Debt Consolidation</td>\n",
       "      <td>750.42</td>\n",
       "      <td>16.3</td>\n",
       "      <td>35.0</td>\n",
       "      <td>6</td>\n",
       "      <td>0</td>\n",
       "      <td>5622</td>\n",
       "      <td>5905</td>\n",
       "      <td>0.0</td>\n",
       "      <td>0.0</td>\n",
       "    </tr>\n",
       "    <tr>\n",
       "      <th>17778</th>\n",
       "      <td>Fully Paid</td>\n",
       "      <td>99999999</td>\n",
       "      <td>Long Term</td>\n",
       "      <td>701.0</td>\n",
       "      <td>1 year</td>\n",
       "      <td>Home Mortgage</td>\n",
       "      <td>45604.0</td>\n",
       "      <td>Debt Consolidation</td>\n",
       "      <td>619.46</td>\n",
       "      <td>12.9</td>\n",
       "      <td>NaN</td>\n",
       "      <td>15</td>\n",
       "      <td>0</td>\n",
       "      <td>6889</td>\n",
       "      <td>10900</td>\n",
       "      <td>0.0</td>\n",
       "      <td>0.0</td>\n",
       "    </tr>\n",
       "    <tr>\n",
       "      <th>17779</th>\n",
       "      <td>Fully Paid</td>\n",
       "      <td>99999999</td>\n",
       "      <td>Short Term</td>\n",
       "      <td>743.0</td>\n",
       "      <td>10+ years</td>\n",
       "      <td>Rent</td>\n",
       "      <td>76144.0</td>\n",
       "      <td>Debt Consolidation</td>\n",
       "      <td>666.26</td>\n",
       "      <td>18.3</td>\n",
       "      <td>94.0</td>\n",
       "      <td>11</td>\n",
       "      <td>0</td>\n",
       "      <td>12954</td>\n",
       "      <td>44062</td>\n",
       "      <td>0.0</td>\n",
       "      <td>0.0</td>\n",
       "    </tr>\n",
       "    <tr>\n",
       "      <th>17780</th>\n",
       "      <td>Fully Paid</td>\n",
       "      <td>99999999</td>\n",
       "      <td>Short Term</td>\n",
       "      <td>733.0</td>\n",
       "      <td>&lt; 1 year</td>\n",
       "      <td>Rent</td>\n",
       "      <td>121788.0</td>\n",
       "      <td>Debt Consolidation</td>\n",
       "      <td>864.69</td>\n",
       "      <td>14.9</td>\n",
       "      <td>48.0</td>\n",
       "      <td>8</td>\n",
       "      <td>0</td>\n",
       "      <td>14916</td>\n",
       "      <td>20294</td>\n",
       "      <td>0.0</td>\n",
       "      <td>0.0</td>\n",
       "    </tr>\n",
       "    <tr>\n",
       "      <th>17781</th>\n",
       "      <td>Fully Paid</td>\n",
       "      <td>99999999</td>\n",
       "      <td>Short Term</td>\n",
       "      <td>703.0</td>\n",
       "      <td>&lt; 1 year</td>\n",
       "      <td>Home Mortgage</td>\n",
       "      <td>25393.0</td>\n",
       "      <td>Debt Consolidation</td>\n",
       "      <td>353.38</td>\n",
       "      <td>8.3</td>\n",
       "      <td>NaN</td>\n",
       "      <td>4</td>\n",
       "      <td>0</td>\n",
       "      <td>2415</td>\n",
       "      <td>2845</td>\n",
       "      <td>0.0</td>\n",
       "      <td>0.0</td>\n",
       "    </tr>\n",
       "  </tbody>\n",
       "</table>\n",
       "<p>12738 rows × 17 columns</p>\n",
       "</div>"
      ],
      "text/plain": [
       "      Loan Status  Current Loan Amount        Term  Credit Score  \\\n",
       "5044   Fully Paid             99999999  Short Term         739.0   \n",
       "5045   Fully Paid             99999999  Short Term         704.0   \n",
       "5046   Fully Paid             99999999  Short Term         751.0   \n",
       "5047   Fully Paid             99999999  Short Term         735.0   \n",
       "5048   Fully Paid             99999999  Short Term         745.0   \n",
       "...           ...                  ...         ...           ...   \n",
       "17777  Fully Paid             99999999  Short Term         714.0   \n",
       "17778  Fully Paid             99999999   Long Term         701.0   \n",
       "17779  Fully Paid             99999999  Short Term         743.0   \n",
       "17780  Fully Paid             99999999  Short Term         733.0   \n",
       "17781  Fully Paid             99999999  Short Term         703.0   \n",
       "\n",
       "      Years in current job Home Ownership  Annual Income             Purpose  \\\n",
       "5044               3 years  Home Mortgage        60012.0   Home Improvements   \n",
       "5045               9 years           Rent        54802.0  Debt Consolidation   \n",
       "5046               5 years           Rent        35693.0  Debt Consolidation   \n",
       "5047                   NaN  Home Mortgage        33884.0  Debt Consolidation   \n",
       "5048               3 years       Own Home       103343.0  Debt Consolidation   \n",
       "...                    ...            ...            ...                 ...   \n",
       "17777              6 years           Rent        52052.0  Debt Consolidation   \n",
       "17778               1 year  Home Mortgage        45604.0  Debt Consolidation   \n",
       "17779            10+ years           Rent        76144.0  Debt Consolidation   \n",
       "17780             < 1 year           Rent       121788.0  Debt Consolidation   \n",
       "17781             < 1 year  Home Mortgage        25393.0  Debt Consolidation   \n",
       "\n",
       "      Monthly Debt  Years of Credit History  Months since last delinquent  \\\n",
       "5044       1295.26                     16.6                          33.0   \n",
       "5045       1114.31                     16.9                          30.0   \n",
       "5046        626.12                     11.0                           NaN   \n",
       "5047        683.34                     18.9                          10.0   \n",
       "5048       1300.41                     14.1                           NaN   \n",
       "...            ...                      ...                           ...   \n",
       "17777       750.42                     16.3                          35.0   \n",
       "17778       619.46                     12.9                           NaN   \n",
       "17779       666.26                     18.3                          94.0   \n",
       "17780       864.69                     14.9                          48.0   \n",
       "17781       353.38                      8.3                           NaN   \n",
       "\n",
       "       Number of Open Accounts  Number of Credit Problems  \\\n",
       "5044                        16                          0   \n",
       "5045                        12                          0   \n",
       "5046                         7                          0   \n",
       "5047                        12                          0   \n",
       "5048                        14                          0   \n",
       "...                        ...                        ...   \n",
       "17777                        6                          0   \n",
       "17778                       15                          0   \n",
       "17779                       11                          0   \n",
       "17780                        8                          0   \n",
       "17781                        4                          0   \n",
       "\n",
       "       Current Credit Balance Maximum Open Credit  Bankruptcies  Tax Liens  \n",
       "5044                      427                8542           0.0        0.0  \n",
       "5045                     4716                5822           0.0        0.0  \n",
       "5046                      742                9166           0.0        0.0  \n",
       "5047                    10835               18028           0.0        0.0  \n",
       "5048                    22746               42835           0.0        0.0  \n",
       "...                       ...                 ...           ...        ...  \n",
       "17777                    5622                5905           0.0        0.0  \n",
       "17778                    6889               10900           0.0        0.0  \n",
       "17779                   12954               44062           0.0        0.0  \n",
       "17780                   14916               20294           0.0        0.0  \n",
       "17781                    2415                2845           0.0        0.0  \n",
       "\n",
       "[12738 rows x 17 columns]"
      ]
     },
     "execution_count": 253,
     "metadata": {},
     "output_type": "execute_result"
    }
   ],
   "source": [
    "data[data[\"Current Loan Amount\"] == 99999999]"
   ]
  },
  {
   "cell_type": "code",
   "execution_count": 254,
   "id": "e5cf2dbd",
   "metadata": {},
   "outputs": [],
   "source": [
    "# Replacing every instance of 'HaveMortgage' with 'Home Mortgage'\n",
    "data['Current Loan Amount'] = data['Current Loan Amount'].apply(lambda x: np.nan if x== 99999999 else x)"
   ]
  },
  {
   "cell_type": "code",
   "execution_count": 255,
   "id": "b6743b4c",
   "metadata": {},
   "outputs": [
    {
     "data": {
      "text/plain": [
       "12738"
      ]
     },
     "execution_count": 255,
     "metadata": {},
     "output_type": "execute_result"
    }
   ],
   "source": [
    "data['Current Loan Amount'].isnull().sum()"
   ]
  },
  {
   "cell_type": "code",
   "execution_count": 256,
   "id": "42ff2d34",
   "metadata": {},
   "outputs": [],
   "source": [
    "#The Null values will be imputed with k-NN imputer later"
   ]
  },
  {
   "cell_type": "markdown",
   "id": "5aa491e0",
   "metadata": {},
   "source": [
    "--------------------------------------------------------------------------------------------------------------------------------"
   ]
  },
  {
   "cell_type": "markdown",
   "id": "712d9041",
   "metadata": {},
   "source": [
    "**3. Term** - A categorical variable indicating if it is a short term or long term loan."
   ]
  },
  {
   "cell_type": "code",
   "execution_count": 257,
   "id": "bc464def",
   "metadata": {},
   "outputs": [
    {
     "data": {
      "text/html": [
       "<div>\n",
       "<style scoped>\n",
       "    .dataframe tbody tr th:only-of-type {\n",
       "        vertical-align: middle;\n",
       "    }\n",
       "\n",
       "    .dataframe tbody tr th {\n",
       "        vertical-align: top;\n",
       "    }\n",
       "\n",
       "    .dataframe thead th {\n",
       "        text-align: right;\n",
       "    }\n",
       "</style>\n",
       "<table border=\"1\" class=\"dataframe\">\n",
       "  <thead>\n",
       "    <tr style=\"text-align: right;\">\n",
       "      <th>col_0</th>\n",
       "      <th>Term</th>\n",
       "      <th>Percentage</th>\n",
       "    </tr>\n",
       "    <tr>\n",
       "      <th>Term</th>\n",
       "      <th></th>\n",
       "      <th></th>\n",
       "    </tr>\n",
       "  </thead>\n",
       "  <tbody>\n",
       "    <tr>\n",
       "      <th>Long Term</th>\n",
       "      <td>21978</td>\n",
       "      <td>24.719379</td>\n",
       "    </tr>\n",
       "    <tr>\n",
       "      <th>Short Term</th>\n",
       "      <td>66932</td>\n",
       "      <td>75.280621</td>\n",
       "    </tr>\n",
       "  </tbody>\n",
       "</table>\n",
       "</div>"
      ],
      "text/plain": [
       "col_0        Term  Percentage\n",
       "Term                         \n",
       "Long Term   21978   24.719379\n",
       "Short Term  66932   75.280621"
      ]
     },
     "execution_count": 257,
     "metadata": {},
     "output_type": "execute_result"
    }
   ],
   "source": [
    "# Frequency Distribution\n",
    "table = pd.crosstab(data[\"Term\"],columns=\"Term\")\n",
    "table[\"Percentage\"] = pd.crosstab(data[\"Term\"],columns=\"Term\",normalize=True)*100\n",
    "table"
   ]
  },
  {
   "cell_type": "markdown",
   "id": "3f0a1e3a",
   "metadata": {},
   "source": [
    "--------------------------------------------------------------------------------------------------------------------------------"
   ]
  },
  {
   "cell_type": "markdown",
   "id": "a4a36c41",
   "metadata": {},
   "source": [
    "**4. Credit Score** - A value between 0 and 800 indicating the riskiness of the borrowers credit history."
   ]
  },
  {
   "cell_type": "code",
   "execution_count": 258,
   "id": "5ca5f2b1",
   "metadata": {},
   "outputs": [
    {
     "data": {
      "text/plain": [
       "<bound method IndexOpsMixin.value_counts of 0        7280.0\n",
       "1        7330.0\n",
       "2        7240.0\n",
       "3        7400.0\n",
       "4        6860.0\n",
       "          ...  \n",
       "88905     728.0\n",
       "88906     710.0\n",
       "88907     746.0\n",
       "88908     722.0\n",
       "88909     718.0\n",
       "Name: Credit Score, Length: 88910, dtype: float64>"
      ]
     },
     "execution_count": 258,
     "metadata": {},
     "output_type": "execute_result"
    }
   ],
   "source": [
    "data[\"Credit Score\"].value_counts"
   ]
  },
  {
   "cell_type": "code",
   "execution_count": 259,
   "id": "a4762e73",
   "metadata": {},
   "outputs": [],
   "source": [
    "# The credit score as specified in the data dictionary are in the range of 0 to 800. but some of the values are in range of 7000\n",
    "data['Credit Score'] = data['Credit Score'].apply(lambda x: x/10 if x>800 else x)"
   ]
  },
  {
   "cell_type": "code",
   "execution_count": 260,
   "id": "17f428e0",
   "metadata": {},
   "outputs": [
    {
     "data": {
      "text/plain": [
       "<bound method IndexOpsMixin.value_counts of 0        728.0\n",
       "1        733.0\n",
       "2        724.0\n",
       "3        740.0\n",
       "4        686.0\n",
       "         ...  \n",
       "88905    728.0\n",
       "88906    710.0\n",
       "88907    746.0\n",
       "88908    722.0\n",
       "88909    718.0\n",
       "Name: Credit Score, Length: 88910, dtype: float64>"
      ]
     },
     "execution_count": 260,
     "metadata": {},
     "output_type": "execute_result"
    }
   ],
   "source": [
    "data[\"Credit Score\"].value_counts"
   ]
  },
  {
   "cell_type": "markdown",
   "id": "106c67c9",
   "metadata": {},
   "source": [
    "--------------------------------------------------------------------------------------------------------------------------------"
   ]
  },
  {
   "cell_type": "markdown",
   "id": "5dd4633b",
   "metadata": {},
   "source": [
    "**5.Years in current job** - A categorical variable indicating how many years the customer has been in their current job."
   ]
  },
  {
   "cell_type": "code",
   "execution_count": 261,
   "id": "2a3c6000",
   "metadata": {},
   "outputs": [
    {
     "data": {
      "text/html": [
       "<div>\n",
       "<style scoped>\n",
       "    .dataframe tbody tr th:only-of-type {\n",
       "        vertical-align: middle;\n",
       "    }\n",
       "\n",
       "    .dataframe tbody tr th {\n",
       "        vertical-align: top;\n",
       "    }\n",
       "\n",
       "    .dataframe thead th {\n",
       "        text-align: right;\n",
       "    }\n",
       "</style>\n",
       "<table border=\"1\" class=\"dataframe\">\n",
       "  <thead>\n",
       "    <tr style=\"text-align: right;\">\n",
       "      <th>col_0</th>\n",
       "      <th>Years in current job</th>\n",
       "      <th>Percentage</th>\n",
       "    </tr>\n",
       "    <tr>\n",
       "      <th>Years in current job</th>\n",
       "      <th></th>\n",
       "      <th></th>\n",
       "    </tr>\n",
       "  </thead>\n",
       "  <tbody>\n",
       "    <tr>\n",
       "      <th>1 year</th>\n",
       "      <td>5765</td>\n",
       "      <td>6.774940</td>\n",
       "    </tr>\n",
       "    <tr>\n",
       "      <th>10+ years</th>\n",
       "      <td>27410</td>\n",
       "      <td>32.211815</td>\n",
       "    </tr>\n",
       "    <tr>\n",
       "      <th>2 years</th>\n",
       "      <td>8187</td>\n",
       "      <td>9.621238</td>\n",
       "    </tr>\n",
       "    <tr>\n",
       "      <th>3 years</th>\n",
       "      <td>7263</td>\n",
       "      <td>8.535367</td>\n",
       "    </tr>\n",
       "    <tr>\n",
       "      <th>4 years</th>\n",
       "      <td>5474</td>\n",
       "      <td>6.432962</td>\n",
       "    </tr>\n",
       "    <tr>\n",
       "      <th>5 years</th>\n",
       "      <td>6084</td>\n",
       "      <td>7.149824</td>\n",
       "    </tr>\n",
       "    <tr>\n",
       "      <th>6 years</th>\n",
       "      <td>5095</td>\n",
       "      <td>5.987567</td>\n",
       "    </tr>\n",
       "    <tr>\n",
       "      <th>7 years</th>\n",
       "      <td>4943</td>\n",
       "      <td>5.808938</td>\n",
       "    </tr>\n",
       "    <tr>\n",
       "      <th>8 years</th>\n",
       "      <td>4098</td>\n",
       "      <td>4.815907</td>\n",
       "    </tr>\n",
       "    <tr>\n",
       "      <th>9 years</th>\n",
       "      <td>3462</td>\n",
       "      <td>4.068490</td>\n",
       "    </tr>\n",
       "    <tr>\n",
       "      <th>&lt; 1 year</th>\n",
       "      <td>7312</td>\n",
       "      <td>8.592951</td>\n",
       "    </tr>\n",
       "  </tbody>\n",
       "</table>\n",
       "</div>"
      ],
      "text/plain": [
       "col_0                 Years in current job  Percentage\n",
       "Years in current job                                  \n",
       "1 year                                5765    6.774940\n",
       "10+ years                            27410   32.211815\n",
       "2 years                               8187    9.621238\n",
       "3 years                               7263    8.535367\n",
       "4 years                               5474    6.432962\n",
       "5 years                               6084    7.149824\n",
       "6 years                               5095    5.987567\n",
       "7 years                               4943    5.808938\n",
       "8 years                               4098    4.815907\n",
       "9 years                               3462    4.068490\n",
       "< 1 year                              7312    8.592951"
      ]
     },
     "execution_count": 261,
     "metadata": {},
     "output_type": "execute_result"
    }
   ],
   "source": [
    "# Frequency Distribution\n",
    "table = pd.crosstab(data[\"Years in current job\"],columns=\"Years in current job\")\n",
    "table[\"Percentage\"] = pd.crosstab(data[\"Years in current job\"],columns=\"Years in current job\",normalize=True)*100\n",
    "table"
   ]
  },
  {
   "cell_type": "code",
   "execution_count": 262,
   "id": "5c99a1b2",
   "metadata": {},
   "outputs": [
    {
     "data": {
      "text/plain": [
       "3817"
      ]
     },
     "execution_count": 262,
     "metadata": {},
     "output_type": "execute_result"
    }
   ],
   "source": [
    "data[\"Years in current job\"].isnull().sum()"
   ]
  },
  {
   "cell_type": "code",
   "execution_count": 263,
   "id": "27bca999",
   "metadata": {},
   "outputs": [
    {
     "name": "stdout",
     "output_type": "stream",
     "text": [
      "0    10+ years\n",
      "Name: Years in current job, dtype: object\n",
      "0    10+ years\n",
      "Name: Years in current job, dtype: object\n"
     ]
    }
   ],
   "source": [
    "# Determining the conditional mode for Years in current job column\n",
    "print(data[data['Loan Status']=='Fully Paid']['Years in current job'].mode())\n",
    "print(data[data['Loan Status']=='Charged Off']['Years in current job'].mode())"
   ]
  },
  {
   "cell_type": "code",
   "execution_count": 264,
   "id": "ff3c77f3",
   "metadata": {},
   "outputs": [],
   "source": [
    "# Filling the missing values with the mode since it's a categorical column\n",
    "data['Years in current job'].fillna(value='10+ years',inplace=True)"
   ]
  },
  {
   "cell_type": "code",
   "execution_count": 265,
   "id": "eafe7aae",
   "metadata": {},
   "outputs": [
    {
     "data": {
      "text/plain": [
       "0"
      ]
     },
     "execution_count": 265,
     "metadata": {},
     "output_type": "execute_result"
    }
   ],
   "source": [
    "data[\"Years in current job\"].isnull().sum()"
   ]
  },
  {
   "cell_type": "markdown",
   "id": "b890e7ef",
   "metadata": {},
   "source": [
    "--------------------------------------------------------------------------------------------------------------------------------"
   ]
  },
  {
   "cell_type": "markdown",
   "id": "a86d5da2",
   "metadata": {},
   "source": [
    "**6. Home Ownership** - Categorical variable indicating home ownership. Values are \"Rent\", \"Home Mortgage\",and \"Own\". If the value is OWN, then the customer is a home owner with no mortgage"
   ]
  },
  {
   "cell_type": "code",
   "execution_count": 266,
   "id": "df3cd38d",
   "metadata": {},
   "outputs": [
    {
     "data": {
      "text/html": [
       "<div>\n",
       "<style scoped>\n",
       "    .dataframe tbody tr th:only-of-type {\n",
       "        vertical-align: middle;\n",
       "    }\n",
       "\n",
       "    .dataframe tbody tr th {\n",
       "        vertical-align: top;\n",
       "    }\n",
       "\n",
       "    .dataframe thead th {\n",
       "        text-align: right;\n",
       "    }\n",
       "</style>\n",
       "<table border=\"1\" class=\"dataframe\">\n",
       "  <thead>\n",
       "    <tr style=\"text-align: right;\">\n",
       "      <th>col_0</th>\n",
       "      <th>Home Ownership</th>\n",
       "      <th>Percentage</th>\n",
       "    </tr>\n",
       "    <tr>\n",
       "      <th>Home Ownership</th>\n",
       "      <th></th>\n",
       "      <th></th>\n",
       "    </tr>\n",
       "  </thead>\n",
       "  <tbody>\n",
       "    <tr>\n",
       "      <th>HaveMortgage</th>\n",
       "      <td>170</td>\n",
       "      <td>0.191205</td>\n",
       "    </tr>\n",
       "    <tr>\n",
       "      <th>Home Mortgage</th>\n",
       "      <td>43270</td>\n",
       "      <td>48.667192</td>\n",
       "    </tr>\n",
       "    <tr>\n",
       "      <th>Own Home</th>\n",
       "      <td>8075</td>\n",
       "      <td>9.082218</td>\n",
       "    </tr>\n",
       "    <tr>\n",
       "      <th>Rent</th>\n",
       "      <td>37395</td>\n",
       "      <td>42.059386</td>\n",
       "    </tr>\n",
       "  </tbody>\n",
       "</table>\n",
       "</div>"
      ],
      "text/plain": [
       "col_0           Home Ownership  Percentage\n",
       "Home Ownership                            \n",
       "HaveMortgage               170    0.191205\n",
       "Home Mortgage            43270   48.667192\n",
       "Own Home                  8075    9.082218\n",
       "Rent                     37395   42.059386"
      ]
     },
     "execution_count": 266,
     "metadata": {},
     "output_type": "execute_result"
    }
   ],
   "source": [
    "# Frequency Distribution\n",
    "table = pd.crosstab(data[\"Home Ownership\"],columns=\"Home Ownership\")\n",
    "table[\"Percentage\"] = pd.crosstab(data[\"Home Ownership\"],columns=\"Home Ownership\",normalize=True)*100\n",
    "table"
   ]
  },
  {
   "cell_type": "code",
   "execution_count": 267,
   "id": "39f06aa7",
   "metadata": {},
   "outputs": [],
   "source": [
    "# If You Notice above, there is a Category called 'HaveMortgage' which is not available as per Description, so it must be\n",
    "# Home Mortgage instead of HaveMortgage"
   ]
  },
  {
   "cell_type": "code",
   "execution_count": 268,
   "id": "afe6667b",
   "metadata": {},
   "outputs": [],
   "source": [
    "# Replacing every instance of 'HaveMortgage' with 'Home Mortgage'\n",
    "data['Home Ownership'] = data['Home Ownership'].apply(lambda x: 'Home Mortgage' if x=='HaveMortgage' else x)"
   ]
  },
  {
   "cell_type": "code",
   "execution_count": 269,
   "id": "c2f23a70",
   "metadata": {},
   "outputs": [
    {
     "data": {
      "text/plain": [
       "array(['Rent', 'Home Mortgage', 'Own Home'], dtype=object)"
      ]
     },
     "execution_count": 269,
     "metadata": {},
     "output_type": "execute_result"
    }
   ],
   "source": [
    "# Checking for the number of unique values in the Home Ownership series\n",
    "data['Home Ownership'].unique()"
   ]
  },
  {
   "cell_type": "code",
   "execution_count": 270,
   "id": "7ccf72e1",
   "metadata": {},
   "outputs": [
    {
     "data": {
      "text/plain": [
       "0"
      ]
     },
     "execution_count": 270,
     "metadata": {},
     "output_type": "execute_result"
    }
   ],
   "source": [
    "data['Home Ownership'].isnull().sum()"
   ]
  },
  {
   "cell_type": "markdown",
   "id": "59dc67f3",
   "metadata": {},
   "source": [
    "------------------------------------------------------------------------------------------------------------------------------"
   ]
  },
  {
   "cell_type": "markdown",
   "id": "19fa83e8",
   "metadata": {},
   "source": [
    "**7. Annual Income** - The customer's annual income"
   ]
  },
  {
   "cell_type": "code",
   "execution_count": 271,
   "id": "1399fddb",
   "metadata": {},
   "outputs": [
    {
     "data": {
      "text/plain": [
       "<bound method IndexOpsMixin.value_counts of 0         46643.0\n",
       "1         81099.0\n",
       "2         60438.0\n",
       "3         34171.0\n",
       "4         47003.0\n",
       "           ...   \n",
       "88905     35476.0\n",
       "88906    123375.0\n",
       "88907     71148.0\n",
       "88908     25424.0\n",
       "88909     44066.0\n",
       "Name: Annual Income, Length: 88910, dtype: float64>"
      ]
     },
     "execution_count": 271,
     "metadata": {},
     "output_type": "execute_result"
    }
   ],
   "source": [
    "data[\"Annual Income\"].value_counts"
   ]
  },
  {
   "cell_type": "code",
   "execution_count": 272,
   "id": "a03acde0",
   "metadata": {},
   "outputs": [
    {
     "data": {
      "text/plain": [
       "21338"
      ]
     },
     "execution_count": 272,
     "metadata": {},
     "output_type": "execute_result"
    }
   ],
   "source": [
    "data[\"Annual Income\"].isnull().sum()"
   ]
  },
  {
   "cell_type": "code",
   "execution_count": 273,
   "id": "904ef0f1",
   "metadata": {},
   "outputs": [],
   "source": [
    "#The Null values will be imputed with k-NN imputer later"
   ]
  },
  {
   "cell_type": "markdown",
   "id": "e6b06565",
   "metadata": {},
   "source": [
    "------------------------------------------------------------------------------------------------------------------------------"
   ]
  },
  {
   "cell_type": "markdown",
   "id": "cad43bcd",
   "metadata": {},
   "source": [
    "**8. Purpose** - A description of the purpose of the loan."
   ]
  },
  {
   "cell_type": "code",
   "execution_count": 274,
   "id": "4425963c",
   "metadata": {},
   "outputs": [
    {
     "data": {
      "text/html": [
       "<div>\n",
       "<style scoped>\n",
       "    .dataframe tbody tr th:only-of-type {\n",
       "        vertical-align: middle;\n",
       "    }\n",
       "\n",
       "    .dataframe tbody tr th {\n",
       "        vertical-align: top;\n",
       "    }\n",
       "\n",
       "    .dataframe thead th {\n",
       "        text-align: right;\n",
       "    }\n",
       "</style>\n",
       "<table border=\"1\" class=\"dataframe\">\n",
       "  <thead>\n",
       "    <tr style=\"text-align: right;\">\n",
       "      <th>col_0</th>\n",
       "      <th>Purpose</th>\n",
       "      <th>Percentage</th>\n",
       "    </tr>\n",
       "    <tr>\n",
       "      <th>Purpose</th>\n",
       "      <th></th>\n",
       "      <th></th>\n",
       "    </tr>\n",
       "  </thead>\n",
       "  <tbody>\n",
       "    <tr>\n",
       "      <th>Business Loan</th>\n",
       "      <td>1328</td>\n",
       "      <td>1.493645</td>\n",
       "    </tr>\n",
       "    <tr>\n",
       "      <th>Buy House</th>\n",
       "      <td>559</td>\n",
       "      <td>0.628726</td>\n",
       "    </tr>\n",
       "    <tr>\n",
       "      <th>Buy a Car</th>\n",
       "      <td>1196</td>\n",
       "      <td>1.345181</td>\n",
       "    </tr>\n",
       "    <tr>\n",
       "      <th>Debt Consolidation</th>\n",
       "      <td>70447</td>\n",
       "      <td>79.234057</td>\n",
       "    </tr>\n",
       "    <tr>\n",
       "      <th>Educational Expenses</th>\n",
       "      <td>92</td>\n",
       "      <td>0.103475</td>\n",
       "    </tr>\n",
       "    <tr>\n",
       "      <th>Home Improvements</th>\n",
       "      <td>5206</td>\n",
       "      <td>5.855359</td>\n",
       "    </tr>\n",
       "    <tr>\n",
       "      <th>Medical Bills</th>\n",
       "      <td>955</td>\n",
       "      <td>1.074120</td>\n",
       "    </tr>\n",
       "    <tr>\n",
       "      <th>Other</th>\n",
       "      <td>2850</td>\n",
       "      <td>3.205489</td>\n",
       "    </tr>\n",
       "    <tr>\n",
       "      <th>Take a Trip</th>\n",
       "      <td>454</td>\n",
       "      <td>0.510629</td>\n",
       "    </tr>\n",
       "    <tr>\n",
       "      <th>major_purchase</th>\n",
       "      <td>344</td>\n",
       "      <td>0.386908</td>\n",
       "    </tr>\n",
       "    <tr>\n",
       "      <th>moving</th>\n",
       "      <td>124</td>\n",
       "      <td>0.139467</td>\n",
       "    </tr>\n",
       "    <tr>\n",
       "      <th>other</th>\n",
       "      <td>4917</td>\n",
       "      <td>5.530312</td>\n",
       "    </tr>\n",
       "    <tr>\n",
       "      <th>renewable_energy</th>\n",
       "      <td>9</td>\n",
       "      <td>0.010123</td>\n",
       "    </tr>\n",
       "    <tr>\n",
       "      <th>small_business</th>\n",
       "      <td>248</td>\n",
       "      <td>0.278934</td>\n",
       "    </tr>\n",
       "    <tr>\n",
       "      <th>vacation</th>\n",
       "      <td>82</td>\n",
       "      <td>0.092228</td>\n",
       "    </tr>\n",
       "    <tr>\n",
       "      <th>wedding</th>\n",
       "      <td>99</td>\n",
       "      <td>0.111349</td>\n",
       "    </tr>\n",
       "  </tbody>\n",
       "</table>\n",
       "</div>"
      ],
      "text/plain": [
       "col_0                 Purpose  Percentage\n",
       "Purpose                                  \n",
       "Business Loan            1328    1.493645\n",
       "Buy House                 559    0.628726\n",
       "Buy a Car                1196    1.345181\n",
       "Debt Consolidation      70447   79.234057\n",
       "Educational Expenses       92    0.103475\n",
       "Home Improvements        5206    5.855359\n",
       "Medical Bills             955    1.074120\n",
       "Other                    2850    3.205489\n",
       "Take a Trip               454    0.510629\n",
       "major_purchase            344    0.386908\n",
       "moving                    124    0.139467\n",
       "other                    4917    5.530312\n",
       "renewable_energy            9    0.010123\n",
       "small_business            248    0.278934\n",
       "vacation                   82    0.092228\n",
       "wedding                    99    0.111349"
      ]
     },
     "execution_count": 274,
     "metadata": {},
     "output_type": "execute_result"
    }
   ],
   "source": [
    "# Frequency Distribution\n",
    "table = pd.crosstab(data[\"Purpose\"],columns=\"Purpose\")\n",
    "table[\"Percentage\"] = pd.crosstab(data[\"Purpose\"],columns=\"Purpose\",normalize=True)*100\n",
    "table"
   ]
  },
  {
   "cell_type": "code",
   "execution_count": 275,
   "id": "204b8987",
   "metadata": {},
   "outputs": [
    {
     "data": {
      "text/plain": [
       "16"
      ]
     },
     "execution_count": 275,
     "metadata": {},
     "output_type": "execute_result"
    }
   ],
   "source": [
    "data['Purpose'].nunique()"
   ]
  },
  {
   "cell_type": "code",
   "execution_count": 276,
   "id": "64699a37",
   "metadata": {},
   "outputs": [],
   "source": [
    "# replacing the instances of 'Other' with 'other'\n",
    "data['Purpose'].replace({'Other':'other'},inplace=True)"
   ]
  },
  {
   "cell_type": "code",
   "execution_count": 277,
   "id": "cf6541c3",
   "metadata": {},
   "outputs": [
    {
     "data": {
      "text/plain": [
       "15"
      ]
     },
     "execution_count": 277,
     "metadata": {},
     "output_type": "execute_result"
    }
   ],
   "source": [
    "data['Purpose'].nunique()"
   ]
  },
  {
   "cell_type": "markdown",
   "id": "144ed98b",
   "metadata": {},
   "source": [
    "------------------------------------------------------------------------------------------------------------------------------"
   ]
  },
  {
   "cell_type": "markdown",
   "id": "5a2fc3dc",
   "metadata": {},
   "source": [
    "**9. Monthly Debt** - The customer's monthly payment for their existing loans"
   ]
  },
  {
   "cell_type": "code",
   "execution_count": 278,
   "id": "a3eaf82a",
   "metadata": {},
   "outputs": [
    {
     "data": {
      "text/plain": [
       "<bound method IndexOpsMixin.value_counts of 0         777.39\n",
       "1         892.09\n",
       "2        1244.02\n",
       "3         990.94\n",
       "4         503.71\n",
       "          ...   \n",
       "88905     567.62\n",
       "88906    2508.63\n",
       "88907      818.2\n",
       "88908     360.17\n",
       "88909     749.13\n",
       "Name: Monthly Debt, Length: 88910, dtype: object>"
      ]
     },
     "execution_count": 278,
     "metadata": {},
     "output_type": "execute_result"
    }
   ],
   "source": [
    "data[\"Monthly Debt\"].value_counts"
   ]
  },
  {
   "cell_type": "code",
   "execution_count": 279,
   "id": "2119f118",
   "metadata": {},
   "outputs": [],
   "source": [
    "# The monthly debt column had values of object type. \n",
    "# But when we tried to convert into 'float' type we encounterd an error due to the presence of '\\\\$' symbol. \n",
    "# Hence we are removing every instance containing the '$' symbol with a blank character to enable type conversion into integer."
   ]
  },
  {
   "cell_type": "code",
   "execution_count": 280,
   "id": "68e181fd",
   "metadata": {},
   "outputs": [],
   "source": [
    "#Removing $ sign\n",
    "data[\"Monthly Debt\"]= data[\"Monthly Debt\"].str.replace(\"$\",\"\") #replacing $ with empty\n",
    "\n",
    "# or use \n",
    "# Type conversion into integer\n",
    "# loan['Monthly Debt'].replace({'\\$':''},regex=True,inplace=True)"
   ]
  },
  {
   "cell_type": "code",
   "execution_count": 281,
   "id": "988e1b98",
   "metadata": {},
   "outputs": [
    {
     "data": {
      "text/plain": [
       "'1051.41'"
      ]
     },
     "execution_count": 281,
     "metadata": {},
     "output_type": "execute_result"
    }
   ],
   "source": [
    "data[\"Monthly Debt\"][10] # Dollar Sign Removed"
   ]
  },
  {
   "cell_type": "code",
   "execution_count": 282,
   "id": "caf4d57b",
   "metadata": {},
   "outputs": [
    {
     "data": {
      "text/plain": [
       "dtype('float64')"
      ]
     },
     "execution_count": 282,
     "metadata": {},
     "output_type": "execute_result"
    }
   ],
   "source": [
    "data[\"Monthly Debt\"] = pd.to_numeric(data[\"Monthly Debt\"]) #Converting Object to Numeric\n",
    "data[\"Monthly Debt\"].dtypes"
   ]
  },
  {
   "cell_type": "markdown",
   "id": "ff9863a5",
   "metadata": {},
   "source": [
    "------------------------------------------------------------------------------------------------------------------------------"
   ]
  },
  {
   "cell_type": "markdown",
   "id": "5d0b8e5c",
   "metadata": {},
   "source": [
    "**10. Years of Credit History**- The years since the first entry in the customers credit history"
   ]
  },
  {
   "cell_type": "code",
   "execution_count": 283,
   "id": "74f38382",
   "metadata": {},
   "outputs": [
    {
     "data": {
      "text/plain": [
       "count    88910.000000\n",
       "mean        18.315313\n",
       "std          7.049175\n",
       "min          3.600000\n",
       "25%         13.500000\n",
       "50%         17.000000\n",
       "75%         21.800000\n",
       "max         70.500000\n",
       "Name: Years of Credit History, dtype: float64"
      ]
     },
     "execution_count": 283,
     "metadata": {},
     "output_type": "execute_result"
    }
   ],
   "source": [
    "data[\"Years of Credit History\"].describe()"
   ]
  },
  {
   "cell_type": "code",
   "execution_count": 284,
   "id": "9e7e316a",
   "metadata": {},
   "outputs": [
    {
     "data": {
      "text/plain": [
       "70.5    1\n",
       "65.0    1\n",
       "62.5    1\n",
       "60.5    2\n",
       "59.9    1\n",
       "       ..\n",
       "4.0     5\n",
       "3.9     2\n",
       "3.8     2\n",
       "3.7     1\n",
       "3.6     1\n",
       "Name: Years of Credit History, Length: 508, dtype: int64"
      ]
     },
     "execution_count": 284,
     "metadata": {},
     "output_type": "execute_result"
    }
   ],
   "source": [
    "# Note : There are customers with around 70 years of credit history\n",
    "data['Years of Credit History'].value_counts().sort_index(ascending=False)"
   ]
  },
  {
   "cell_type": "markdown",
   "id": "c1629f07",
   "metadata": {},
   "source": [
    "------------------------------------------------------------------------------------------------------------------------------"
   ]
  },
  {
   "cell_type": "markdown",
   "id": "c14d3184",
   "metadata": {},
   "source": [
    "**11. Months since last delinquent** - Months since the last loan delinquent payment"
   ]
  },
  {
   "cell_type": "code",
   "execution_count": 285,
   "id": "7296f42b",
   "metadata": {},
   "outputs": [
    {
     "data": {
      "text/plain": [
       "13.0     767\n",
       "12.0     762\n",
       "15.0     745\n",
       "9.0      742\n",
       "8.0      731\n",
       "        ... \n",
       "152.0      1\n",
       "139.0      1\n",
       "130.0      1\n",
       "115.0      1\n",
       "143.0      1\n",
       "Name: Months since last delinquent, Length: 116, dtype: int64"
      ]
     },
     "execution_count": 285,
     "metadata": {},
     "output_type": "execute_result"
    }
   ],
   "source": [
    "data['Months since last delinquent'].value_counts()"
   ]
  },
  {
   "cell_type": "markdown",
   "id": "1ebf5fad",
   "metadata": {},
   "source": [
    "------------------------------------------------------------------------------------------------------------------------------"
   ]
  },
  {
   "cell_type": "markdown",
   "id": "a4e2f604",
   "metadata": {},
   "source": [
    "**12. Number of Open Accounts**- The total number of open credit cards"
   ]
  },
  {
   "cell_type": "code",
   "execution_count": 286,
   "id": "69caf37d",
   "metadata": {},
   "outputs": [
    {
     "data": {
      "text/plain": [
       "0        2\n",
       "1       19\n",
       "2      371\n",
       "3     1145\n",
       "4     2491\n",
       "5     4167\n",
       "6     6064\n",
       "7     7324\n",
       "8     7907\n",
       "9     8362\n",
       "10    8085\n",
       "11    7630\n",
       "12    6604\n",
       "13    5532\n",
       "14    4599\n",
       "15    3813\n",
       "16    3101\n",
       "17    2565\n",
       "18    1935\n",
       "19    1666\n",
       "20    1242\n",
       "21     980\n",
       "22     742\n",
       "23     599\n",
       "24     482\n",
       "25     363\n",
       "26     233\n",
       "27     226\n",
       "28     145\n",
       "29     100\n",
       "30      90\n",
       "31      63\n",
       "32      56\n",
       "33      47\n",
       "34      32\n",
       "35      24\n",
       "36      24\n",
       "37      16\n",
       "38      11\n",
       "39       8\n",
       "40       8\n",
       "41       6\n",
       "42       5\n",
       "43       8\n",
       "44       3\n",
       "45       4\n",
       "47       3\n",
       "48       2\n",
       "52       2\n",
       "55       1\n",
       "56       1\n",
       "76       2\n",
       "Name: Number of Open Accounts, dtype: int64"
      ]
     },
     "execution_count": 286,
     "metadata": {},
     "output_type": "execute_result"
    }
   ],
   "source": [
    "data['Number of Open Accounts'].value_counts().sort_index(ascending=True)"
   ]
  },
  {
   "cell_type": "markdown",
   "id": "72ea078c",
   "metadata": {},
   "source": [
    "------------------------------------------------------------------------------------------------------------------------------"
   ]
  },
  {
   "cell_type": "markdown",
   "id": "0adffd32",
   "metadata": {},
   "source": [
    "**13. Number of Credit Problems**-The number of credit problems in the customer records."
   ]
  },
  {
   "cell_type": "code",
   "execution_count": 287,
   "id": "521e7701",
   "metadata": {},
   "outputs": [
    {
     "data": {
      "text/plain": [
       "0     77057\n",
       "1     10271\n",
       "2      1092\n",
       "3       311\n",
       "4       101\n",
       "5        46\n",
       "6        14\n",
       "7         6\n",
       "9         4\n",
       "10        3\n",
       "8         2\n",
       "12        1\n",
       "15        1\n",
       "11        1\n",
       "Name: Number of Credit Problems, dtype: int64"
      ]
     },
     "execution_count": 287,
     "metadata": {},
     "output_type": "execute_result"
    }
   ],
   "source": [
    "data['Number of Credit Problems'].value_counts()"
   ]
  },
  {
   "cell_type": "markdown",
   "id": "227929bd",
   "metadata": {},
   "source": [
    "------------------------------------------------------------------------------------------------------------------------------"
   ]
  },
  {
   "cell_type": "markdown",
   "id": "566c70b7",
   "metadata": {},
   "source": [
    "**14. Maximum Open Credit** - The maximum credit limit for all credit sources."
   ]
  },
  {
   "cell_type": "code",
   "execution_count": 288,
   "id": "8336559a",
   "metadata": {},
   "outputs": [
    {
     "data": {
      "text/html": [
       "<div>\n",
       "<style scoped>\n",
       "    .dataframe tbody tr th:only-of-type {\n",
       "        vertical-align: middle;\n",
       "    }\n",
       "\n",
       "    .dataframe tbody tr th {\n",
       "        vertical-align: top;\n",
       "    }\n",
       "\n",
       "    .dataframe thead th {\n",
       "        text-align: right;\n",
       "    }\n",
       "</style>\n",
       "<table border=\"1\" class=\"dataframe\">\n",
       "  <thead>\n",
       "    <tr style=\"text-align: right;\">\n",
       "      <th></th>\n",
       "      <th>Loan Status</th>\n",
       "      <th>Current Loan Amount</th>\n",
       "      <th>Term</th>\n",
       "      <th>Credit Score</th>\n",
       "      <th>Years in current job</th>\n",
       "      <th>Home Ownership</th>\n",
       "      <th>Annual Income</th>\n",
       "      <th>Purpose</th>\n",
       "      <th>Monthly Debt</th>\n",
       "      <th>Years of Credit History</th>\n",
       "      <th>Months since last delinquent</th>\n",
       "      <th>Number of Open Accounts</th>\n",
       "      <th>Number of Credit Problems</th>\n",
       "      <th>Current Credit Balance</th>\n",
       "      <th>Maximum Open Credit</th>\n",
       "      <th>Bankruptcies</th>\n",
       "      <th>Tax Liens</th>\n",
       "    </tr>\n",
       "  </thead>\n",
       "  <tbody>\n",
       "    <tr>\n",
       "      <th>4930</th>\n",
       "      <td>Charged Off</td>\n",
       "      <td>2052.0</td>\n",
       "      <td>Short Term</td>\n",
       "      <td>703.0</td>\n",
       "      <td>10+ years</td>\n",
       "      <td>Rent</td>\n",
       "      <td>95105.0</td>\n",
       "      <td>Debt Consolidation</td>\n",
       "      <td>1910.02</td>\n",
       "      <td>22.4</td>\n",
       "      <td>37.0</td>\n",
       "      <td>9</td>\n",
       "      <td>0</td>\n",
       "      <td>0</td>\n",
       "      <td>#VALUE!</td>\n",
       "      <td>0.0</td>\n",
       "      <td>0.0</td>\n",
       "    </tr>\n",
       "    <tr>\n",
       "      <th>37357</th>\n",
       "      <td>Charged Off</td>\n",
       "      <td>1470.0</td>\n",
       "      <td>Short Term</td>\n",
       "      <td>NaN</td>\n",
       "      <td>2 years</td>\n",
       "      <td>Rent</td>\n",
       "      <td>NaN</td>\n",
       "      <td>Debt Consolidation</td>\n",
       "      <td>506.34</td>\n",
       "      <td>15.3</td>\n",
       "      <td>26.0</td>\n",
       "      <td>3</td>\n",
       "      <td>0</td>\n",
       "      <td>0</td>\n",
       "      <td>#VALUE!</td>\n",
       "      <td>0.0</td>\n",
       "      <td>0.0</td>\n",
       "    </tr>\n",
       "  </tbody>\n",
       "</table>\n",
       "</div>"
      ],
      "text/plain": [
       "       Loan Status  Current Loan Amount        Term  Credit Score  \\\n",
       "4930   Charged Off               2052.0  Short Term         703.0   \n",
       "37357  Charged Off               1470.0  Short Term           NaN   \n",
       "\n",
       "      Years in current job Home Ownership  Annual Income             Purpose  \\\n",
       "4930             10+ years           Rent        95105.0  Debt Consolidation   \n",
       "37357              2 years           Rent            NaN  Debt Consolidation   \n",
       "\n",
       "       Monthly Debt  Years of Credit History  Months since last delinquent  \\\n",
       "4930        1910.02                     22.4                          37.0   \n",
       "37357        506.34                     15.3                          26.0   \n",
       "\n",
       "       Number of Open Accounts  Number of Credit Problems  \\\n",
       "4930                         9                          0   \n",
       "37357                        3                          0   \n",
       "\n",
       "       Current Credit Balance Maximum Open Credit  Bankruptcies  Tax Liens  \n",
       "4930                        0             #VALUE!           0.0        0.0  \n",
       "37357                       0             #VALUE!           0.0        0.0  "
      ]
     },
     "execution_count": 288,
     "metadata": {},
     "output_type": "execute_result"
    }
   ],
   "source": [
    "entry = data.loc[data['Maximum Open Credit'] == '#VALUE!']  #the rows which are having abnormal Values\n",
    "entry.head()"
   ]
  },
  {
   "cell_type": "code",
   "execution_count": 289,
   "id": "30d44e02",
   "metadata": {},
   "outputs": [],
   "source": [
    "#data = data.drop([4930,37357])   #Dropping the rows with #VALUE! (Better fill with Mean,Median,Mode)"
   ]
  },
  {
   "cell_type": "code",
   "execution_count": 290,
   "id": "3b0f8789",
   "metadata": {},
   "outputs": [
    {
     "data": {
      "text/plain": [
       "dtype('float64')"
      ]
     },
     "execution_count": 290,
     "metadata": {},
     "output_type": "execute_result"
    }
   ],
   "source": [
    "data[\"Maximum Open Credit\"]= pd.to_numeric(data[\"Maximum Open Credit\"],errors = 'coerce') #Converting Object to numeric\n",
    "data[\"Maximum Open Credit\"].dtypes"
   ]
  },
  {
   "cell_type": "code",
   "execution_count": 291,
   "id": "415170a4",
   "metadata": {},
   "outputs": [
    {
     "data": {
      "text/plain": [
       "nan"
      ]
     },
     "execution_count": 291,
     "metadata": {},
     "output_type": "execute_result"
    }
   ],
   "source": [
    "data['Maximum Open Credit'][4930] #errors = coerce automatically removes #VALUE!"
   ]
  },
  {
   "cell_type": "code",
   "execution_count": 292,
   "id": "38684904",
   "metadata": {},
   "outputs": [
    {
     "data": {
      "text/plain": [
       "nan"
      ]
     },
     "execution_count": 292,
     "metadata": {},
     "output_type": "execute_result"
    }
   ],
   "source": [
    "data['Maximum Open Credit'][37357] #errors = coerce automatically removes #VALUE!"
   ]
  },
  {
   "cell_type": "code",
   "execution_count": 293,
   "id": "c16d8581",
   "metadata": {},
   "outputs": [],
   "source": [
    "# #Imputing with Conditional Mean\n",
    "\n",
    "# # Determining the conditional mode for Tax Liens column\n",
    "# print(data[data['Loan Status']=='Fully Paid']['Maximum Open Credit'].median())\n",
    "# print(data[data['Loan Status']=='Charged Off']['Maximum Open Credit'].median())"
   ]
  },
  {
   "cell_type": "code",
   "execution_count": 294,
   "id": "ce1ad5b4",
   "metadata": {},
   "outputs": [],
   "source": [
    "#The Null values will be imputed with k-NN imputer later"
   ]
  },
  {
   "cell_type": "markdown",
   "id": "d18e24d4",
   "metadata": {},
   "source": [
    "------------------------------------------------------------------------------------------------------------------------------"
   ]
  },
  {
   "cell_type": "markdown",
   "id": "68444311",
   "metadata": {},
   "source": [
    "**15. Bankruptcies** - The number of bankruptcies"
   ]
  },
  {
   "cell_type": "code",
   "execution_count": 295,
   "id": "99d31b3f",
   "metadata": {},
   "outputs": [
    {
     "data": {
      "text/plain": [
       "0.0    79323\n",
       "1.0     8936\n",
       "2.0      353\n",
       "3.0       80\n",
       "4.0       19\n",
       "5.0        5\n",
       "7.0        1\n",
       "6.0        1\n",
       "Name: Bankruptcies, dtype: int64"
      ]
     },
     "execution_count": 295,
     "metadata": {},
     "output_type": "execute_result"
    }
   ],
   "source": [
    "data[\"Bankruptcies\"].value_counts()"
   ]
  },
  {
   "cell_type": "code",
   "execution_count": 296,
   "id": "121a9dcc",
   "metadata": {},
   "outputs": [
    {
     "name": "stdout",
     "output_type": "stream",
     "text": [
      "0    0.0\n",
      "Name: Bankruptcies, dtype: float64\n",
      "0    0.0\n",
      "Name: Bankruptcies, dtype: float64\n"
     ]
    }
   ],
   "source": [
    "# Determining the conditional mode for Bankruptcies column\n",
    "print(data[data['Loan Status']=='Fully Paid']['Bankruptcies'].mode())\n",
    "print(data[data['Loan Status']=='Charged Off']['Bankruptcies'].mode())"
   ]
  },
  {
   "cell_type": "code",
   "execution_count": 297,
   "id": "bb93cc35",
   "metadata": {},
   "outputs": [],
   "source": [
    "# Filling the missing values with the mode since it's a categorical column\n",
    "data['Bankruptcies'].fillna(value=0.0,inplace=True)"
   ]
  },
  {
   "cell_type": "markdown",
   "id": "c5216a9a",
   "metadata": {},
   "source": [
    "------------------------------------------------------------------------------------------------------------------------------"
   ]
  },
  {
   "cell_type": "markdown",
   "id": "77cfb323",
   "metadata": {},
   "source": [
    "**16.Tax Liens** - The number of tax liens."
   ]
  },
  {
   "cell_type": "code",
   "execution_count": 298,
   "id": "05c5742a",
   "metadata": {
    "scrolled": true
   },
   "outputs": [
    {
     "data": {
      "text/plain": [
       "0.0     87274\n",
       "1.0      1132\n",
       "2.0       305\n",
       "3.0        99\n",
       "4.0        52\n",
       "5.0        17\n",
       "6.0         9\n",
       "7.0         5\n",
       "9.0         4\n",
       "8.0         2\n",
       "15.0        1\n",
       "10.0        1\n",
       "11.0        1\n",
       "Name: Tax Liens, dtype: int64"
      ]
     },
     "execution_count": 298,
     "metadata": {},
     "output_type": "execute_result"
    }
   ],
   "source": [
    "data['Tax Liens'].value_counts()"
   ]
  },
  {
   "cell_type": "code",
   "execution_count": 299,
   "id": "94c8f01f",
   "metadata": {},
   "outputs": [
    {
     "data": {
      "text/plain": [
       "8"
      ]
     },
     "execution_count": 299,
     "metadata": {},
     "output_type": "execute_result"
    }
   ],
   "source": [
    "data['Tax Liens'].isnull().sum()"
   ]
  },
  {
   "cell_type": "code",
   "execution_count": 300,
   "id": "98a158f9",
   "metadata": {},
   "outputs": [
    {
     "name": "stdout",
     "output_type": "stream",
     "text": [
      "0    0.0\n",
      "Name: Tax Liens, dtype: float64\n",
      "0    0.0\n",
      "Name: Tax Liens, dtype: float64\n"
     ]
    }
   ],
   "source": [
    "# Determining the conditional mode for Tax Liens column\n",
    "print(data[data['Loan Status']=='Fully Paid']['Tax Liens'].mode())\n",
    "print(data[data['Loan Status']=='Charged Off']['Tax Liens'].mode())"
   ]
  },
  {
   "cell_type": "code",
   "execution_count": 301,
   "id": "a0323e1b",
   "metadata": {},
   "outputs": [],
   "source": [
    "# Filling the missing values with the mode since it's a categorical column\n",
    "data['Tax Liens'].fillna(value=0.0,inplace=True)"
   ]
  },
  {
   "cell_type": "code",
   "execution_count": 302,
   "id": "044fe599",
   "metadata": {},
   "outputs": [
    {
     "data": {
      "text/plain": [
       "0"
      ]
     },
     "execution_count": 302,
     "metadata": {},
     "output_type": "execute_result"
    }
   ],
   "source": [
    "data['Tax Liens'].isnull().sum()"
   ]
  },
  {
   "cell_type": "markdown",
   "id": "525258a9",
   "metadata": {},
   "source": [
    "------------------------------------------------------------------------------------------------------------------------------"
   ]
  },
  {
   "cell_type": "markdown",
   "id": "6ca25670",
   "metadata": {},
   "source": [
    "## KNN Imputer to Fill Missing Values of Numeric Variable"
   ]
  },
  {
   "cell_type": "code",
   "execution_count": 303,
   "id": "9a5adc3f",
   "metadata": {},
   "outputs": [
    {
     "data": {
      "text/plain": [
       "Loan Status                      object\n",
       "Current Loan Amount             float64\n",
       "Term                             object\n",
       "Credit Score                    float64\n",
       "Years in current job             object\n",
       "Home Ownership                   object\n",
       "Annual Income                   float64\n",
       "Purpose                          object\n",
       "Monthly Debt                    float64\n",
       "Years of Credit History         float64\n",
       "Months since last delinquent    float64\n",
       "Number of Open Accounts           int64\n",
       "Number of Credit Problems         int64\n",
       "Current Credit Balance            int64\n",
       "Maximum Open Credit             float64\n",
       "Bankruptcies                    float64\n",
       "Tax Liens                       float64\n",
       "dtype: object"
      ]
     },
     "execution_count": 303,
     "metadata": {},
     "output_type": "execute_result"
    }
   ],
   "source": [
    "data.dtypes"
   ]
  },
  {
   "cell_type": "code",
   "execution_count": 304,
   "id": "56876cb6",
   "metadata": {},
   "outputs": [
    {
     "data": {
      "text/plain": [
       "Current Loan Amount             float64\n",
       "Credit Score                    float64\n",
       "Annual Income                   float64\n",
       "Monthly Debt                    float64\n",
       "Years of Credit History         float64\n",
       "Months since last delinquent    float64\n",
       "Number of Open Accounts           int64\n",
       "Number of Credit Problems         int64\n",
       "Current Credit Balance            int64\n",
       "Maximum Open Credit             float64\n",
       "Bankruptcies                    float64\n",
       "Tax Liens                       float64\n",
       "dtype: object"
      ]
     },
     "execution_count": 304,
     "metadata": {},
     "output_type": "execute_result"
    }
   ],
   "source": [
    "#Excluding the Categorical Variable\n",
    "data_before_knn = data.select_dtypes(exclude=['object'])\n",
    "data_before_knn.dtypes"
   ]
  },
  {
   "cell_type": "code",
   "execution_count": 305,
   "id": "f8538046",
   "metadata": {},
   "outputs": [
    {
     "data": {
      "text/html": [
       "<div>\n",
       "<style scoped>\n",
       "    .dataframe tbody tr th:only-of-type {\n",
       "        vertical-align: middle;\n",
       "    }\n",
       "\n",
       "    .dataframe tbody tr th {\n",
       "        vertical-align: top;\n",
       "    }\n",
       "\n",
       "    .dataframe thead th {\n",
       "        text-align: right;\n",
       "    }\n",
       "</style>\n",
       "<table border=\"1\" class=\"dataframe\">\n",
       "  <thead>\n",
       "    <tr style=\"text-align: right;\">\n",
       "      <th></th>\n",
       "      <th>Current Loan Amount</th>\n",
       "      <th>Credit Score</th>\n",
       "      <th>Annual Income</th>\n",
       "      <th>Monthly Debt</th>\n",
       "      <th>Years of Credit History</th>\n",
       "      <th>Months since last delinquent</th>\n",
       "      <th>Number of Open Accounts</th>\n",
       "      <th>Number of Credit Problems</th>\n",
       "      <th>Current Credit Balance</th>\n",
       "      <th>Maximum Open Credit</th>\n",
       "      <th>Bankruptcies</th>\n",
       "      <th>Tax Liens</th>\n",
       "    </tr>\n",
       "  </thead>\n",
       "  <tbody>\n",
       "    <tr>\n",
       "      <th>0</th>\n",
       "      <td>0.331817</td>\n",
       "      <td>0.861446</td>\n",
       "      <td>0.004892</td>\n",
       "      <td>0.064483</td>\n",
       "      <td>0.215247</td>\n",
       "      <td>0.056818</td>\n",
       "      <td>0.157895</td>\n",
       "      <td>0.000000</td>\n",
       "      <td>0.003908</td>\n",
       "      <td>0.000114</td>\n",
       "      <td>0.000000</td>\n",
       "      <td>0.000000</td>\n",
       "    </tr>\n",
       "    <tr>\n",
       "      <th>1</th>\n",
       "      <td>0.693053</td>\n",
       "      <td>0.891566</td>\n",
       "      <td>0.008848</td>\n",
       "      <td>0.073997</td>\n",
       "      <td>0.345291</td>\n",
       "      <td>NaN</td>\n",
       "      <td>0.184211</td>\n",
       "      <td>0.000000</td>\n",
       "      <td>0.020634</td>\n",
       "      <td>0.001114</td>\n",
       "      <td>0.000000</td>\n",
       "      <td>0.000000</td>\n",
       "    </tr>\n",
       "    <tr>\n",
       "      <th>2</th>\n",
       "      <td>0.441612</td>\n",
       "      <td>0.837349</td>\n",
       "      <td>0.006476</td>\n",
       "      <td>0.103190</td>\n",
       "      <td>0.195815</td>\n",
       "      <td>0.181818</td>\n",
       "      <td>0.144737</td>\n",
       "      <td>0.066667</td>\n",
       "      <td>0.006516</td>\n",
       "      <td>0.000212</td>\n",
       "      <td>0.142857</td>\n",
       "      <td>0.000000</td>\n",
       "    </tr>\n",
       "    <tr>\n",
       "      <th>3</th>\n",
       "      <td>0.317234</td>\n",
       "      <td>0.933735</td>\n",
       "      <td>0.003460</td>\n",
       "      <td>0.082197</td>\n",
       "      <td>0.095665</td>\n",
       "      <td>NaN</td>\n",
       "      <td>0.276316</td>\n",
       "      <td>0.000000</td>\n",
       "      <td>0.004050</td>\n",
       "      <td>0.000622</td>\n",
       "      <td>0.000000</td>\n",
       "      <td>0.000000</td>\n",
       "    </tr>\n",
       "    <tr>\n",
       "      <th>4</th>\n",
       "      <td>0.262774</td>\n",
       "      <td>0.608434</td>\n",
       "      <td>0.004934</td>\n",
       "      <td>0.041782</td>\n",
       "      <td>0.195815</td>\n",
       "      <td>0.142045</td>\n",
       "      <td>0.171053</td>\n",
       "      <td>0.066667</td>\n",
       "      <td>0.009774</td>\n",
       "      <td>0.000279</td>\n",
       "      <td>0.142857</td>\n",
       "      <td>0.000000</td>\n",
       "    </tr>\n",
       "    <tr>\n",
       "      <th>...</th>\n",
       "      <td>...</td>\n",
       "      <td>...</td>\n",
       "      <td>...</td>\n",
       "      <td>...</td>\n",
       "      <td>...</td>\n",
       "      <td>...</td>\n",
       "      <td>...</td>\n",
       "      <td>...</td>\n",
       "      <td>...</td>\n",
       "      <td>...</td>\n",
       "      <td>...</td>\n",
       "      <td>...</td>\n",
       "    </tr>\n",
       "    <tr>\n",
       "      <th>88905</th>\n",
       "      <td>0.272581</td>\n",
       "      <td>0.861446</td>\n",
       "      <td>0.003610</td>\n",
       "      <td>NaN</td>\n",
       "      <td>0.263079</td>\n",
       "      <td>0.079545</td>\n",
       "      <td>0.184211</td>\n",
       "      <td>0.000000</td>\n",
       "      <td>0.009196</td>\n",
       "      <td>0.000404</td>\n",
       "      <td>0.000000</td>\n",
       "      <td>0.000000</td>\n",
       "    </tr>\n",
       "    <tr>\n",
       "      <th>88906</th>\n",
       "      <td>0.822943</td>\n",
       "      <td>0.753012</td>\n",
       "      <td>0.013702</td>\n",
       "      <td>NaN</td>\n",
       "      <td>0.170404</td>\n",
       "      <td>0.090909</td>\n",
       "      <td>0.144737</td>\n",
       "      <td>0.000000</td>\n",
       "      <td>0.010244</td>\n",
       "      <td>0.000468</td>\n",
       "      <td>0.000000</td>\n",
       "      <td>0.000000</td>\n",
       "    </tr>\n",
       "    <tr>\n",
       "      <th>88907</th>\n",
       "      <td>0.675531</td>\n",
       "      <td>0.969880</td>\n",
       "      <td>0.007706</td>\n",
       "      <td>NaN</td>\n",
       "      <td>0.490284</td>\n",
       "      <td>0.051136</td>\n",
       "      <td>0.105263</td>\n",
       "      <td>0.000000</td>\n",
       "      <td>0.025847</td>\n",
       "      <td>0.000763</td>\n",
       "      <td>0.000000</td>\n",
       "      <td>0.000000</td>\n",
       "    </tr>\n",
       "    <tr>\n",
       "      <th>88908</th>\n",
       "      <td>0.128278</td>\n",
       "      <td>0.825301</td>\n",
       "      <td>0.002456</td>\n",
       "      <td>NaN</td>\n",
       "      <td>0.230194</td>\n",
       "      <td>0.039773</td>\n",
       "      <td>0.157895</td>\n",
       "      <td>0.000000</td>\n",
       "      <td>0.003683</td>\n",
       "      <td>0.000263</td>\n",
       "      <td>0.000000</td>\n",
       "      <td>0.000000</td>\n",
       "    </tr>\n",
       "    <tr>\n",
       "      <th>88909</th>\n",
       "      <td>0.507433</td>\n",
       "      <td>0.801205</td>\n",
       "      <td>0.004596</td>\n",
       "      <td>NaN</td>\n",
       "      <td>0.106129</td>\n",
       "      <td>NaN</td>\n",
       "      <td>0.236842</td>\n",
       "      <td>0.066667</td>\n",
       "      <td>0.003882</td>\n",
       "      <td>0.000302</td>\n",
       "      <td>0.000000</td>\n",
       "      <td>0.066667</td>\n",
       "    </tr>\n",
       "  </tbody>\n",
       "</table>\n",
       "<p>88910 rows × 12 columns</p>\n",
       "</div>"
      ],
      "text/plain": [
       "       Current Loan Amount  Credit Score  Annual Income  Monthly Debt  \\\n",
       "0                 0.331817      0.861446       0.004892      0.064483   \n",
       "1                 0.693053      0.891566       0.008848      0.073997   \n",
       "2                 0.441612      0.837349       0.006476      0.103190   \n",
       "3                 0.317234      0.933735       0.003460      0.082197   \n",
       "4                 0.262774      0.608434       0.004934      0.041782   \n",
       "...                    ...           ...            ...           ...   \n",
       "88905             0.272581      0.861446       0.003610           NaN   \n",
       "88906             0.822943      0.753012       0.013702           NaN   \n",
       "88907             0.675531      0.969880       0.007706           NaN   \n",
       "88908             0.128278      0.825301       0.002456           NaN   \n",
       "88909             0.507433      0.801205       0.004596           NaN   \n",
       "\n",
       "       Years of Credit History  Months since last delinquent  \\\n",
       "0                     0.215247                      0.056818   \n",
       "1                     0.345291                           NaN   \n",
       "2                     0.195815                      0.181818   \n",
       "3                     0.095665                           NaN   \n",
       "4                     0.195815                      0.142045   \n",
       "...                        ...                           ...   \n",
       "88905                 0.263079                      0.079545   \n",
       "88906                 0.170404                      0.090909   \n",
       "88907                 0.490284                      0.051136   \n",
       "88908                 0.230194                      0.039773   \n",
       "88909                 0.106129                           NaN   \n",
       "\n",
       "       Number of Open Accounts  Number of Credit Problems  \\\n",
       "0                     0.157895                   0.000000   \n",
       "1                     0.184211                   0.000000   \n",
       "2                     0.144737                   0.066667   \n",
       "3                     0.276316                   0.000000   \n",
       "4                     0.171053                   0.066667   \n",
       "...                        ...                        ...   \n",
       "88905                 0.184211                   0.000000   \n",
       "88906                 0.144737                   0.000000   \n",
       "88907                 0.105263                   0.000000   \n",
       "88908                 0.157895                   0.000000   \n",
       "88909                 0.236842                   0.066667   \n",
       "\n",
       "       Current Credit Balance  Maximum Open Credit  Bankruptcies  Tax Liens  \n",
       "0                    0.003908             0.000114      0.000000   0.000000  \n",
       "1                    0.020634             0.001114      0.000000   0.000000  \n",
       "2                    0.006516             0.000212      0.142857   0.000000  \n",
       "3                    0.004050             0.000622      0.000000   0.000000  \n",
       "4                    0.009774             0.000279      0.142857   0.000000  \n",
       "...                       ...                  ...           ...        ...  \n",
       "88905                0.009196             0.000404      0.000000   0.000000  \n",
       "88906                0.010244             0.000468      0.000000   0.000000  \n",
       "88907                0.025847             0.000763      0.000000   0.000000  \n",
       "88908                0.003683             0.000263      0.000000   0.000000  \n",
       "88909                0.003882             0.000302      0.000000   0.066667  \n",
       "\n",
       "[88910 rows x 12 columns]"
      ]
     },
     "execution_count": 305,
     "metadata": {},
     "output_type": "execute_result"
    }
   ],
   "source": [
    "#Standardizing the data using minMax scalar so that KNN cant be biased\n",
    "# import module\n",
    "from sklearn.preprocessing import MinMaxScaler\n",
    "\n",
    "# scale features\n",
    "scaler = MinMaxScaler()\n",
    "model=scaler.fit(data_before_knn)\n",
    "scaled_data=model.transform(data_before_knn)\n",
    " \n",
    "# creating a data frame to put into KNN imputer\n",
    "scaled_before_knn=pd.DataFrame(scaled_data,columns=data_before_knn.columns)\n",
    "scaled_before_knn"
   ]
  },
  {
   "cell_type": "code",
   "execution_count": 306,
   "id": "62baf960",
   "metadata": {},
   "outputs": [],
   "source": [
    "# import the KNNimputer class\n",
    "from sklearn.impute import KNNImputer"
   ]
  },
  {
   "cell_type": "code",
   "execution_count": 307,
   "id": "55f9fd4e",
   "metadata": {},
   "outputs": [],
   "source": [
    "# # create an object for KNNImputer\n",
    "# imputer = KNNImputer(n_neighbors=1)\n",
    "# data_after_imputation = imputer.fit_transform(scaled_before_knn)"
   ]
  },
  {
   "cell_type": "code",
   "execution_count": 308,
   "id": "6969a22e",
   "metadata": {},
   "outputs": [],
   "source": [
    "#Inverse transform of Knn Imputed File\n",
    "#knn_imputed_data=pd.DataFrame(scaler.inverse_transform(data_after_imputation1),columns=data_before_knn.columns)"
   ]
  },
  {
   "cell_type": "code",
   "execution_count": 309,
   "id": "71865d33",
   "metadata": {},
   "outputs": [],
   "source": [
    "#data_after_imputation1  = pd.DataFrame(data_after_imputation)"
   ]
  },
  {
   "cell_type": "code",
   "execution_count": 310,
   "id": "87145756",
   "metadata": {},
   "outputs": [],
   "source": [
    "#data_after_imputation1 .isnull().sum()"
   ]
  },
  {
   "cell_type": "code",
   "execution_count": 311,
   "id": "9393331b",
   "metadata": {},
   "outputs": [],
   "source": [
    "#knn_imputed_data"
   ]
  },
  {
   "cell_type": "code",
   "execution_count": 312,
   "id": "cb45606c",
   "metadata": {},
   "outputs": [],
   "source": [
    "# saving the dataframe\n",
    "#knn_imputed_data.to_csv('knn_imputed_data.csv')"
   ]
  },
  {
   "cell_type": "code",
   "execution_count": 313,
   "id": "636b1d3e",
   "metadata": {},
   "outputs": [],
   "source": [
    "# cat = data.select_dtypes(include='object')\n",
    "# cat"
   ]
  },
  {
   "cell_type": "code",
   "execution_count": 314,
   "id": "d6e300c2",
   "metadata": {},
   "outputs": [],
   "source": [
    "# final_imputed_loanData =pd.concat([cat, knn_imputed_data], axis=1)\n",
    "# final_imputed_loanData"
   ]
  },
  {
   "cell_type": "code",
   "execution_count": 315,
   "id": "b5ba2fe6",
   "metadata": {},
   "outputs": [],
   "source": [
    "# # saving the dataframe\n",
    "# final_imputed_loanData.to_csv('final_imputed_loanData.csv')"
   ]
  },
  {
   "cell_type": "code",
   "execution_count": 316,
   "id": "f9487f8e",
   "metadata": {},
   "outputs": [
    {
     "data": {
      "text/html": [
       "<div>\n",
       "<style scoped>\n",
       "    .dataframe tbody tr th:only-of-type {\n",
       "        vertical-align: middle;\n",
       "    }\n",
       "\n",
       "    .dataframe tbody tr th {\n",
       "        vertical-align: top;\n",
       "    }\n",
       "\n",
       "    .dataframe thead th {\n",
       "        text-align: right;\n",
       "    }\n",
       "</style>\n",
       "<table border=\"1\" class=\"dataframe\">\n",
       "  <thead>\n",
       "    <tr style=\"text-align: right;\">\n",
       "      <th></th>\n",
       "      <th>Loan Status</th>\n",
       "      <th>Term</th>\n",
       "      <th>Years in current job</th>\n",
       "      <th>Home Ownership</th>\n",
       "      <th>Purpose</th>\n",
       "      <th>Current Loan Amount</th>\n",
       "      <th>Credit Score</th>\n",
       "      <th>Annual Income</th>\n",
       "      <th>Monthly Debt</th>\n",
       "      <th>Years of Credit History</th>\n",
       "      <th>Months since last delinquent</th>\n",
       "      <th>Number of Open Accounts</th>\n",
       "      <th>Number of Credit Problems</th>\n",
       "      <th>Current Credit Balance</th>\n",
       "      <th>Maximum Open Credit</th>\n",
       "      <th>Bankruptcies</th>\n",
       "      <th>Tax Liens</th>\n",
       "    </tr>\n",
       "  </thead>\n",
       "  <tbody>\n",
       "    <tr>\n",
       "      <th>0</th>\n",
       "      <td>Charged Off</td>\n",
       "      <td>Short Term</td>\n",
       "      <td>&lt; 1 year</td>\n",
       "      <td>Rent</td>\n",
       "      <td>Debt Consolidation</td>\n",
       "      <td>12232</td>\n",
       "      <td>728</td>\n",
       "      <td>46643</td>\n",
       "      <td>777.39</td>\n",
       "      <td>18.0</td>\n",
       "      <td>10</td>\n",
       "      <td>12</td>\n",
       "      <td>0</td>\n",
       "      <td>6762</td>\n",
       "      <td>7946</td>\n",
       "      <td>0</td>\n",
       "      <td>0</td>\n",
       "    </tr>\n",
       "    <tr>\n",
       "      <th>1</th>\n",
       "      <td>Charged Off</td>\n",
       "      <td>Long Term</td>\n",
       "      <td>10+ years</td>\n",
       "      <td>Home Mortgage</td>\n",
       "      <td>Debt Consolidation</td>\n",
       "      <td>25014</td>\n",
       "      <td>733</td>\n",
       "      <td>81099</td>\n",
       "      <td>892.09</td>\n",
       "      <td>26.7</td>\n",
       "      <td>50</td>\n",
       "      <td>14</td>\n",
       "      <td>0</td>\n",
       "      <td>35706</td>\n",
       "      <td>77961</td>\n",
       "      <td>0</td>\n",
       "      <td>0</td>\n",
       "    </tr>\n",
       "    <tr>\n",
       "      <th>2</th>\n",
       "      <td>Charged Off</td>\n",
       "      <td>Short Term</td>\n",
       "      <td>9 years</td>\n",
       "      <td>Home Mortgage</td>\n",
       "      <td>Home Improvements</td>\n",
       "      <td>16117</td>\n",
       "      <td>724</td>\n",
       "      <td>60438</td>\n",
       "      <td>1244.02</td>\n",
       "      <td>16.7</td>\n",
       "      <td>32</td>\n",
       "      <td>11</td>\n",
       "      <td>1</td>\n",
       "      <td>11275</td>\n",
       "      <td>14815</td>\n",
       "      <td>1</td>\n",
       "      <td>0</td>\n",
       "    </tr>\n",
       "    <tr>\n",
       "      <th>3</th>\n",
       "      <td>Charged Off</td>\n",
       "      <td>Short Term</td>\n",
       "      <td>3 years</td>\n",
       "      <td>Rent</td>\n",
       "      <td>Debt Consolidation</td>\n",
       "      <td>11716</td>\n",
       "      <td>740</td>\n",
       "      <td>34171</td>\n",
       "      <td>990.94</td>\n",
       "      <td>10.0</td>\n",
       "      <td>21</td>\n",
       "      <td>21</td>\n",
       "      <td>0</td>\n",
       "      <td>7009</td>\n",
       "      <td>43533</td>\n",
       "      <td>0</td>\n",
       "      <td>0</td>\n",
       "    </tr>\n",
       "    <tr>\n",
       "      <th>4</th>\n",
       "      <td>Charged Off</td>\n",
       "      <td>Long Term</td>\n",
       "      <td>10+ years</td>\n",
       "      <td>Home Mortgage</td>\n",
       "      <td>Home Improvements</td>\n",
       "      <td>9789</td>\n",
       "      <td>686</td>\n",
       "      <td>47003</td>\n",
       "      <td>503.71</td>\n",
       "      <td>16.7</td>\n",
       "      <td>25</td>\n",
       "      <td>13</td>\n",
       "      <td>1</td>\n",
       "      <td>16913</td>\n",
       "      <td>19553</td>\n",
       "      <td>1</td>\n",
       "      <td>0</td>\n",
       "    </tr>\n",
       "    <tr>\n",
       "      <th>...</th>\n",
       "      <td>...</td>\n",
       "      <td>...</td>\n",
       "      <td>...</td>\n",
       "      <td>...</td>\n",
       "      <td>...</td>\n",
       "      <td>...</td>\n",
       "      <td>...</td>\n",
       "      <td>...</td>\n",
       "      <td>...</td>\n",
       "      <td>...</td>\n",
       "      <td>...</td>\n",
       "      <td>...</td>\n",
       "      <td>...</td>\n",
       "      <td>...</td>\n",
       "      <td>...</td>\n",
       "      <td>...</td>\n",
       "      <td>...</td>\n",
       "    </tr>\n",
       "    <tr>\n",
       "      <th>88905</th>\n",
       "      <td>Fully Paid</td>\n",
       "      <td>Short Term</td>\n",
       "      <td>10+ years</td>\n",
       "      <td>Rent</td>\n",
       "      <td>Debt Consolidation</td>\n",
       "      <td>10136</td>\n",
       "      <td>728</td>\n",
       "      <td>35476</td>\n",
       "      <td>1680.19</td>\n",
       "      <td>21.2</td>\n",
       "      <td>14</td>\n",
       "      <td>14</td>\n",
       "      <td>0</td>\n",
       "      <td>15914</td>\n",
       "      <td>28265</td>\n",
       "      <td>0</td>\n",
       "      <td>0</td>\n",
       "    </tr>\n",
       "    <tr>\n",
       "      <th>88906</th>\n",
       "      <td>Fully Paid</td>\n",
       "      <td>Short Term</td>\n",
       "      <td>10+ years</td>\n",
       "      <td>Home Mortgage</td>\n",
       "      <td>Debt Consolidation</td>\n",
       "      <td>29610</td>\n",
       "      <td>710</td>\n",
       "      <td>123375</td>\n",
       "      <td>934.94</td>\n",
       "      <td>15.0</td>\n",
       "      <td>16</td>\n",
       "      <td>11</td>\n",
       "      <td>0</td>\n",
       "      <td>17727</td>\n",
       "      <td>32766</td>\n",
       "      <td>0</td>\n",
       "      <td>0</td>\n",
       "    </tr>\n",
       "    <tr>\n",
       "      <th>88907</th>\n",
       "      <td>Fully Paid</td>\n",
       "      <td>Short Term</td>\n",
       "      <td>10+ years</td>\n",
       "      <td>Home Mortgage</td>\n",
       "      <td>Debt Consolidation</td>\n",
       "      <td>24394</td>\n",
       "      <td>746</td>\n",
       "      <td>71148</td>\n",
       "      <td>767.87</td>\n",
       "      <td>36.4</td>\n",
       "      <td>9</td>\n",
       "      <td>8</td>\n",
       "      <td>0</td>\n",
       "      <td>44728</td>\n",
       "      <td>53374</td>\n",
       "      <td>0</td>\n",
       "      <td>0</td>\n",
       "    </tr>\n",
       "    <tr>\n",
       "      <th>88908</th>\n",
       "      <td>Charged Off</td>\n",
       "      <td>Short Term</td>\n",
       "      <td>10+ years</td>\n",
       "      <td>Rent</td>\n",
       "      <td>Debt Consolidation</td>\n",
       "      <td>5030</td>\n",
       "      <td>722</td>\n",
       "      <td>25424</td>\n",
       "      <td>596.37</td>\n",
       "      <td>19.0</td>\n",
       "      <td>7</td>\n",
       "      <td>12</td>\n",
       "      <td>0</td>\n",
       "      <td>6374</td>\n",
       "      <td>18422</td>\n",
       "      <td>0</td>\n",
       "      <td>0</td>\n",
       "    </tr>\n",
       "    <tr>\n",
       "      <th>88909</th>\n",
       "      <td>Fully Paid</td>\n",
       "      <td>Short Term</td>\n",
       "      <td>6 years</td>\n",
       "      <td>Rent</td>\n",
       "      <td>Debt Consolidation</td>\n",
       "      <td>18446</td>\n",
       "      <td>718</td>\n",
       "      <td>44066</td>\n",
       "      <td>832.16</td>\n",
       "      <td>10.7</td>\n",
       "      <td>27</td>\n",
       "      <td>18</td>\n",
       "      <td>1</td>\n",
       "      <td>6718</td>\n",
       "      <td>21124</td>\n",
       "      <td>0</td>\n",
       "      <td>1</td>\n",
       "    </tr>\n",
       "  </tbody>\n",
       "</table>\n",
       "<p>88910 rows × 17 columns</p>\n",
       "</div>"
      ],
      "text/plain": [
       "       Loan Status        Term Years in current job Home Ownership  \\\n",
       "0      Charged Off  Short Term             < 1 year           Rent   \n",
       "1      Charged Off   Long Term            10+ years  Home Mortgage   \n",
       "2      Charged Off  Short Term              9 years  Home Mortgage   \n",
       "3      Charged Off  Short Term              3 years           Rent   \n",
       "4      Charged Off   Long Term            10+ years  Home Mortgage   \n",
       "...            ...         ...                  ...            ...   \n",
       "88905   Fully Paid  Short Term            10+ years           Rent   \n",
       "88906   Fully Paid  Short Term            10+ years  Home Mortgage   \n",
       "88907   Fully Paid  Short Term            10+ years  Home Mortgage   \n",
       "88908  Charged Off  Short Term            10+ years           Rent   \n",
       "88909   Fully Paid  Short Term              6 years           Rent   \n",
       "\n",
       "                  Purpose  Current Loan Amount  Credit Score  Annual Income  \\\n",
       "0      Debt Consolidation                12232           728          46643   \n",
       "1      Debt Consolidation                25014           733          81099   \n",
       "2       Home Improvements                16117           724          60438   \n",
       "3      Debt Consolidation                11716           740          34171   \n",
       "4       Home Improvements                 9789           686          47003   \n",
       "...                   ...                  ...           ...            ...   \n",
       "88905  Debt Consolidation                10136           728          35476   \n",
       "88906  Debt Consolidation                29610           710         123375   \n",
       "88907  Debt Consolidation                24394           746          71148   \n",
       "88908  Debt Consolidation                 5030           722          25424   \n",
       "88909  Debt Consolidation                18446           718          44066   \n",
       "\n",
       "       Monthly Debt  Years of Credit History  Months since last delinquent  \\\n",
       "0            777.39                     18.0                            10   \n",
       "1            892.09                     26.7                            50   \n",
       "2           1244.02                     16.7                            32   \n",
       "3            990.94                     10.0                            21   \n",
       "4            503.71                     16.7                            25   \n",
       "...             ...                      ...                           ...   \n",
       "88905       1680.19                     21.2                            14   \n",
       "88906        934.94                     15.0                            16   \n",
       "88907        767.87                     36.4                             9   \n",
       "88908        596.37                     19.0                             7   \n",
       "88909        832.16                     10.7                            27   \n",
       "\n",
       "       Number of Open Accounts  Number of Credit Problems  \\\n",
       "0                           12                          0   \n",
       "1                           14                          0   \n",
       "2                           11                          1   \n",
       "3                           21                          0   \n",
       "4                           13                          1   \n",
       "...                        ...                        ...   \n",
       "88905                       14                          0   \n",
       "88906                       11                          0   \n",
       "88907                        8                          0   \n",
       "88908                       12                          0   \n",
       "88909                       18                          1   \n",
       "\n",
       "       Current Credit Balance  Maximum Open Credit  Bankruptcies  Tax Liens  \n",
       "0                        6762                 7946             0          0  \n",
       "1                       35706                77961             0          0  \n",
       "2                       11275                14815             1          0  \n",
       "3                        7009                43533             0          0  \n",
       "4                       16913                19553             1          0  \n",
       "...                       ...                  ...           ...        ...  \n",
       "88905                   15914                28265             0          0  \n",
       "88906                   17727                32766             0          0  \n",
       "88907                   44728                53374             0          0  \n",
       "88908                    6374                18422             0          0  \n",
       "88909                    6718                21124             0          1  \n",
       "\n",
       "[88910 rows x 17 columns]"
      ]
     },
     "execution_count": 316,
     "metadata": {},
     "output_type": "execute_result"
    }
   ],
   "source": [
    "final_imputed_loanData = pd.read_csv(\"final_imputed_loanData.csv\")\n",
    "final_imputed_loanData"
   ]
  },
  {
   "cell_type": "markdown",
   "id": "2fbf7dc8",
   "metadata": {},
   "source": [
    "# Exploratory Data Analysis"
   ]
  },
  {
   "cell_type": "markdown",
   "id": "3a2ad512",
   "metadata": {},
   "source": [
    "- Uni-variate Analysis of Numerical Variable"
   ]
  },
  {
   "cell_type": "code",
   "execution_count": 317,
   "id": "a26cc66d",
   "metadata": {},
   "outputs": [],
   "source": [
    "num = final_imputed_loanData.select_dtypes(exclude='object')"
   ]
  },
  {
   "cell_type": "code",
   "execution_count": 318,
   "id": "009a2316",
   "metadata": {
    "scrolled": false
   },
   "outputs": [
    {
     "data": {
      "image/png": "[encoded data removed]",
      "text/plain": [
       "<Figure size 720x360 with 1 Axes>"
      ]
     },
     "metadata": {
      "needs_background": "light"
     },
     "output_type": "display_data"
    },
    {
     "data": {
      "image/png": "[encoded data removed]",
      "text/plain": [
       "<Figure size 360x288 with 1 Axes>"
      ]
     },
     "metadata": {
      "needs_background": "light"
     },
     "output_type": "display_data"
    },
    {
     "data": {
      "image/png": "[encoded data removed]",
      "text/plain": [
       "<Figure size 720x360 with 1 Axes>"
      ]
     },
     "metadata": {
      "needs_background": "light"
     },
     "output_type": "display_data"
    },
    {
     "data": {
      "image/png": "[encoded data removed]",
      "text/plain": [
       "<Figure size 360x288 with 1 Axes>"
      ]
     },
     "metadata": {
      "needs_background": "light"
     },
     "output_type": "display_data"
    },
    {
     "data": {
      "image/png": "[encoded data removed]",
      "text/plain": [
       "<Figure size 720x360 with 1 Axes>"
      ]
     },
     "metadata": {
      "needs_background": "light"
     },
     "output_type": "display_data"
    },
    {
     "data": {
      "image/png": "[encoded data removed]",
      "text/plain": [
       "<Figure size 360x288 with 1 Axes>"
      ]
     },
     "metadata": {
      "needs_background": "light"
     },
     "output_type": "display_data"
    },
    {
     "data": {
      "image/png": "[encoded data removed]",
      "text/plain": [
       "<Figure size 720x360 with 1 Axes>"
      ]
     },
     "metadata": {
      "needs_background": "light"
     },
     "output_type": "display_data"
    },
    {
     "data": {
      "image/png": "[encoded data removed]",
      "text/plain": [
       "<Figure size 360x288 with 1 Axes>"
      ]
     },
     "metadata": {
      "needs_background": "light"
     },
     "output_type": "display_data"
    },
    {
     "data": {
      "image/png": "[encoded data removed]",
      "text/plain": [
       "<Figure size 720x360 with 1 Axes>"
      ]
     },
     "metadata": {
      "needs_background": "light"
     },
     "output_type": "display_data"
    },
    {
     "data": {
      "image/png": "[encoded data removed]",
      "text/plain": [
       "<Figure size 360x288 with 1 Axes>"
      ]
     },
     "metadata": {
      "needs_background": "light"
     },
     "output_type": "display_data"
    },
    {
     "data": {
      "image/png": "[encoded data removed]",
      "text/plain": [
       "<Figure size 720x360 with 1 Axes>"
      ]
     },
     "metadata": {
      "needs_background": "light"
     },
     "output_type": "display_data"
    },
    {
     "data": {
      "image/png": "[encoded data removed]",
      "text/plain": [
       "<Figure size 360x288 with 1 Axes>"
      ]
     },
     "metadata": {
      "needs_background": "light"
     },
     "output_type": "display_data"
    },
    {
     "data": {
      "image/png": "[encoded data removed]",
      "text/plain": [
       "<Figure size 720x360 with 1 Axes>"
      ]
     },
     "metadata": {
      "needs_background": "light"
     },
     "output_type": "display_data"
    },
    {
     "data": {
      "image/png": "[encoded data removed]",
      "text/plain": [
       "<Figure size 360x288 with 1 Axes>"
      ]
     },
     "metadata": {
      "needs_background": "light"
     },
     "output_type": "display_data"
    },
    {
     "data": {
      "image/png": "[encoded data removed]",
      "text/plain": [
       "<Figure size 720x360 with 1 Axes>"
      ]
     },
     "metadata": {
      "needs_background": "light"
     },
     "output_type": "display_data"
    },
    {
     "data": {
      "image/png": "[encoded data removed]",
      "text/plain": [
       "<Figure size 360x288 with 1 Axes>"
      ]
     },
     "metadata": {
      "needs_background": "light"
     },
     "output_type": "display_data"
    },
    {
     "data": {
      "image/png": "[encoded data removed]",
      "text/plain": [
       "<Figure size 720x360 with 1 Axes>"
      ]
     },
     "metadata": {
      "needs_background": "light"
     },
     "output_type": "display_data"
    },
    {
     "data": {
      "image/png": "[encoded data removed]",
      "text/plain": [
       "<Figure size 360x288 with 1 Axes>"
      ]
     },
     "metadata": {
      "needs_background": "light"
     },
     "output_type": "display_data"
    },
    {
     "data": {
      "image/png": "[encoded data removed]",
      "text/plain": [
       "<Figure size 720x360 with 1 Axes>"
      ]
     },
     "metadata": {
      "needs_background": "light"
     },
     "output_type": "display_data"
    },
    {
     "data": {
      "image/png": "[encoded data removed]",
      "text/plain": [
       "<Figure size 360x288 with 1 Axes>"
      ]
     },
     "metadata": {
      "needs_background": "light"
     },
     "output_type": "display_data"
    },
    {
     "data": {
      "image/png": "[encoded data removed]",
      "text/plain": [
       "<Figure size 720x360 with 1 Axes>"
      ]
     },
     "metadata": {
      "needs_background": "light"
     },
     "output_type": "display_data"
    },
    {
     "data": {
      "image/png": "[encoded data removed]",
      "text/plain": [
       "<Figure size 360x288 with 1 Axes>"
      ]
     },
     "metadata": {
      "needs_background": "light"
     },
     "output_type": "display_data"
    },
    {
     "data": {
      "image/png": "[encoded data removed]",
      "text/plain": [
       "<Figure size 720x360 with 1 Axes>"
      ]
     },
     "metadata": {
      "needs_background": "light"
     },
     "output_type": "display_data"
    },
    {
     "data": {
      "image/png": "[encoded data removed]",
      "text/plain": [
       "<Figure size 360x288 with 1 Axes>"
      ]
     },
     "metadata": {
      "needs_background": "light"
     },
     "output_type": "display_data"
    }
   ],
   "source": [
    "for col in num.columns:\n",
    "    \n",
    "    #histogram\n",
    "    num.hist(column = col,\n",
    "\n",
    "              grid=False,        #Do not include the grid\n",
    "              figsize=(10,5),\n",
    "             color=\"blue\",\n",
    "             edgecolor=\"White\",\n",
    "             bins=20)     #(Length,Height) of the plot in inches\n",
    "\n",
    "    plt.show()\n",
    "\n",
    "    #boxplot\n",
    "    num.boxplot(column= col,\n",
    "                grid= False,\n",
    "                figsize=(5,4),\n",
    "                notch=True)\n",
    "\n",
    "    plt.show()"
   ]
  },
  {
   "cell_type": "markdown",
   "id": "93d9ee38",
   "metadata": {},
   "source": [
    "- Uni-variate Analysis of Categorical Variable"
   ]
  },
  {
   "cell_type": "code",
   "execution_count": 319,
   "id": "a08e8438",
   "metadata": {},
   "outputs": [],
   "source": [
    "cate = final_imputed_loanData.select_dtypes(include='object')"
   ]
  },
  {
   "cell_type": "code",
   "execution_count": 320,
   "id": "e739d47c",
   "metadata": {},
   "outputs": [
    {
     "data": {
      "image/png": "[encoded data removed]",
      "text/plain": [
       "<Figure size 432x288 with 1 Axes>"
      ]
     },
     "metadata": {
      "needs_background": "light"
     },
     "output_type": "display_data"
    },
    {
     "data": {
      "image/png": "[encoded data removed]",
      "text/plain": [
       "<Figure size 432x288 with 1 Axes>"
      ]
     },
     "metadata": {
      "needs_background": "light"
     },
     "output_type": "display_data"
    },
    {
     "data": {
      "image/png": "[encoded data removed]",
      "text/plain": [
       "<Figure size 432x288 with 1 Axes>"
      ]
     },
     "metadata": {
      "needs_background": "light"
     },
     "output_type": "display_data"
    },
    {
     "data": {
      "image/png": "[encoded data removed]",
      "text/plain": [
       "<Figure size 432x288 with 1 Axes>"
      ]
     },
     "metadata": {
      "needs_background": "light"
     },
     "output_type": "display_data"
    },
    {
     "data": {
      "image/png": "[encoded data removed]",
      "text/plain": [
       "<Figure size 432x288 with 1 Axes>"
      ]
     },
     "metadata": {
      "needs_background": "light"
     },
     "output_type": "display_data"
    }
   ],
   "source": [
    "for col in cate.columns:\n",
    "    #bar_plot\n",
    "    data[col].value_counts().plot( kind='bar', xlabel=col, ylabel='frequency', color=['Grey','Orange','Green'])\n",
    "    plt.show()"
   ]
  },
  {
   "cell_type": "markdown",
   "id": "9742385c",
   "metadata": {},
   "source": [
    "# Encoding of Categorical Variables"
   ]
  },
  {
   "cell_type": "code",
   "execution_count": 321,
   "id": "53a1663f",
   "metadata": {},
   "outputs": [
    {
     "data": {
      "text/html": [
       "<div>\n",
       "<style scoped>\n",
       "    .dataframe tbody tr th:only-of-type {\n",
       "        vertical-align: middle;\n",
       "    }\n",
       "\n",
       "    .dataframe tbody tr th {\n",
       "        vertical-align: top;\n",
       "    }\n",
       "\n",
       "    .dataframe thead th {\n",
       "        text-align: right;\n",
       "    }\n",
       "</style>\n",
       "<table border=\"1\" class=\"dataframe\">\n",
       "  <thead>\n",
       "    <tr style=\"text-align: right;\">\n",
       "      <th></th>\n",
       "      <th>Loan Status</th>\n",
       "      <th>Term</th>\n",
       "      <th>Years in current job</th>\n",
       "      <th>Home Ownership</th>\n",
       "      <th>Purpose</th>\n",
       "      <th>Current Loan Amount</th>\n",
       "      <th>Credit Score</th>\n",
       "      <th>Annual Income</th>\n",
       "      <th>Monthly Debt</th>\n",
       "      <th>Years of Credit History</th>\n",
       "      <th>Months since last delinquent</th>\n",
       "      <th>Number of Open Accounts</th>\n",
       "      <th>Number of Credit Problems</th>\n",
       "      <th>Current Credit Balance</th>\n",
       "      <th>Maximum Open Credit</th>\n",
       "      <th>Bankruptcies</th>\n",
       "      <th>Tax Liens</th>\n",
       "    </tr>\n",
       "  </thead>\n",
       "  <tbody>\n",
       "    <tr>\n",
       "      <th>0</th>\n",
       "      <td>Charged Off</td>\n",
       "      <td>Short Term</td>\n",
       "      <td>&lt; 1 year</td>\n",
       "      <td>Rent</td>\n",
       "      <td>Debt Consolidation</td>\n",
       "      <td>12232</td>\n",
       "      <td>728</td>\n",
       "      <td>46643</td>\n",
       "      <td>777.39</td>\n",
       "      <td>18.0</td>\n",
       "      <td>10</td>\n",
       "      <td>12</td>\n",
       "      <td>0</td>\n",
       "      <td>6762</td>\n",
       "      <td>7946</td>\n",
       "      <td>0</td>\n",
       "      <td>0</td>\n",
       "    </tr>\n",
       "    <tr>\n",
       "      <th>1</th>\n",
       "      <td>Charged Off</td>\n",
       "      <td>Long Term</td>\n",
       "      <td>10+ years</td>\n",
       "      <td>Home Mortgage</td>\n",
       "      <td>Debt Consolidation</td>\n",
       "      <td>25014</td>\n",
       "      <td>733</td>\n",
       "      <td>81099</td>\n",
       "      <td>892.09</td>\n",
       "      <td>26.7</td>\n",
       "      <td>50</td>\n",
       "      <td>14</td>\n",
       "      <td>0</td>\n",
       "      <td>35706</td>\n",
       "      <td>77961</td>\n",
       "      <td>0</td>\n",
       "      <td>0</td>\n",
       "    </tr>\n",
       "    <tr>\n",
       "      <th>2</th>\n",
       "      <td>Charged Off</td>\n",
       "      <td>Short Term</td>\n",
       "      <td>9 years</td>\n",
       "      <td>Home Mortgage</td>\n",
       "      <td>Home Improvements</td>\n",
       "      <td>16117</td>\n",
       "      <td>724</td>\n",
       "      <td>60438</td>\n",
       "      <td>1244.02</td>\n",
       "      <td>16.7</td>\n",
       "      <td>32</td>\n",
       "      <td>11</td>\n",
       "      <td>1</td>\n",
       "      <td>11275</td>\n",
       "      <td>14815</td>\n",
       "      <td>1</td>\n",
       "      <td>0</td>\n",
       "    </tr>\n",
       "    <tr>\n",
       "      <th>3</th>\n",
       "      <td>Charged Off</td>\n",
       "      <td>Short Term</td>\n",
       "      <td>3 years</td>\n",
       "      <td>Rent</td>\n",
       "      <td>Debt Consolidation</td>\n",
       "      <td>11716</td>\n",
       "      <td>740</td>\n",
       "      <td>34171</td>\n",
       "      <td>990.94</td>\n",
       "      <td>10.0</td>\n",
       "      <td>21</td>\n",
       "      <td>21</td>\n",
       "      <td>0</td>\n",
       "      <td>7009</td>\n",
       "      <td>43533</td>\n",
       "      <td>0</td>\n",
       "      <td>0</td>\n",
       "    </tr>\n",
       "    <tr>\n",
       "      <th>4</th>\n",
       "      <td>Charged Off</td>\n",
       "      <td>Long Term</td>\n",
       "      <td>10+ years</td>\n",
       "      <td>Home Mortgage</td>\n",
       "      <td>Home Improvements</td>\n",
       "      <td>9789</td>\n",
       "      <td>686</td>\n",
       "      <td>47003</td>\n",
       "      <td>503.71</td>\n",
       "      <td>16.7</td>\n",
       "      <td>25</td>\n",
       "      <td>13</td>\n",
       "      <td>1</td>\n",
       "      <td>16913</td>\n",
       "      <td>19553</td>\n",
       "      <td>1</td>\n",
       "      <td>0</td>\n",
       "    </tr>\n",
       "    <tr>\n",
       "      <th>...</th>\n",
       "      <td>...</td>\n",
       "      <td>...</td>\n",
       "      <td>...</td>\n",
       "      <td>...</td>\n",
       "      <td>...</td>\n",
       "      <td>...</td>\n",
       "      <td>...</td>\n",
       "      <td>...</td>\n",
       "      <td>...</td>\n",
       "      <td>...</td>\n",
       "      <td>...</td>\n",
       "      <td>...</td>\n",
       "      <td>...</td>\n",
       "      <td>...</td>\n",
       "      <td>...</td>\n",
       "      <td>...</td>\n",
       "      <td>...</td>\n",
       "    </tr>\n",
       "    <tr>\n",
       "      <th>88905</th>\n",
       "      <td>Fully Paid</td>\n",
       "      <td>Short Term</td>\n",
       "      <td>10+ years</td>\n",
       "      <td>Rent</td>\n",
       "      <td>Debt Consolidation</td>\n",
       "      <td>10136</td>\n",
       "      <td>728</td>\n",
       "      <td>35476</td>\n",
       "      <td>1680.19</td>\n",
       "      <td>21.2</td>\n",
       "      <td>14</td>\n",
       "      <td>14</td>\n",
       "      <td>0</td>\n",
       "      <td>15914</td>\n",
       "      <td>28265</td>\n",
       "      <td>0</td>\n",
       "      <td>0</td>\n",
       "    </tr>\n",
       "    <tr>\n",
       "      <th>88906</th>\n",
       "      <td>Fully Paid</td>\n",
       "      <td>Short Term</td>\n",
       "      <td>10+ years</td>\n",
       "      <td>Home Mortgage</td>\n",
       "      <td>Debt Consolidation</td>\n",
       "      <td>29610</td>\n",
       "      <td>710</td>\n",
       "      <td>123375</td>\n",
       "      <td>934.94</td>\n",
       "      <td>15.0</td>\n",
       "      <td>16</td>\n",
       "      <td>11</td>\n",
       "      <td>0</td>\n",
       "      <td>17727</td>\n",
       "      <td>32766</td>\n",
       "      <td>0</td>\n",
       "      <td>0</td>\n",
       "    </tr>\n",
       "    <tr>\n",
       "      <th>88907</th>\n",
       "      <td>Fully Paid</td>\n",
       "      <td>Short Term</td>\n",
       "      <td>10+ years</td>\n",
       "      <td>Home Mortgage</td>\n",
       "      <td>Debt Consolidation</td>\n",
       "      <td>24394</td>\n",
       "      <td>746</td>\n",
       "      <td>71148</td>\n",
       "      <td>767.87</td>\n",
       "      <td>36.4</td>\n",
       "      <td>9</td>\n",
       "      <td>8</td>\n",
       "      <td>0</td>\n",
       "      <td>44728</td>\n",
       "      <td>53374</td>\n",
       "      <td>0</td>\n",
       "      <td>0</td>\n",
       "    </tr>\n",
       "    <tr>\n",
       "      <th>88908</th>\n",
       "      <td>Charged Off</td>\n",
       "      <td>Short Term</td>\n",
       "      <td>10+ years</td>\n",
       "      <td>Rent</td>\n",
       "      <td>Debt Consolidation</td>\n",
       "      <td>5030</td>\n",
       "      <td>722</td>\n",
       "      <td>25424</td>\n",
       "      <td>596.37</td>\n",
       "      <td>19.0</td>\n",
       "      <td>7</td>\n",
       "      <td>12</td>\n",
       "      <td>0</td>\n",
       "      <td>6374</td>\n",
       "      <td>18422</td>\n",
       "      <td>0</td>\n",
       "      <td>0</td>\n",
       "    </tr>\n",
       "    <tr>\n",
       "      <th>88909</th>\n",
       "      <td>Fully Paid</td>\n",
       "      <td>Short Term</td>\n",
       "      <td>6 years</td>\n",
       "      <td>Rent</td>\n",
       "      <td>Debt Consolidation</td>\n",
       "      <td>18446</td>\n",
       "      <td>718</td>\n",
       "      <td>44066</td>\n",
       "      <td>832.16</td>\n",
       "      <td>10.7</td>\n",
       "      <td>27</td>\n",
       "      <td>18</td>\n",
       "      <td>1</td>\n",
       "      <td>6718</td>\n",
       "      <td>21124</td>\n",
       "      <td>0</td>\n",
       "      <td>1</td>\n",
       "    </tr>\n",
       "  </tbody>\n",
       "</table>\n",
       "<p>88910 rows × 17 columns</p>\n",
       "</div>"
      ],
      "text/plain": [
       "       Loan Status        Term Years in current job Home Ownership  \\\n",
       "0      Charged Off  Short Term             < 1 year           Rent   \n",
       "1      Charged Off   Long Term            10+ years  Home Mortgage   \n",
       "2      Charged Off  Short Term              9 years  Home Mortgage   \n",
       "3      Charged Off  Short Term              3 years           Rent   \n",
       "4      Charged Off   Long Term            10+ years  Home Mortgage   \n",
       "...            ...         ...                  ...            ...   \n",
       "88905   Fully Paid  Short Term            10+ years           Rent   \n",
       "88906   Fully Paid  Short Term            10+ years  Home Mortgage   \n",
       "88907   Fully Paid  Short Term            10+ years  Home Mortgage   \n",
       "88908  Charged Off  Short Term            10+ years           Rent   \n",
       "88909   Fully Paid  Short Term              6 years           Rent   \n",
       "\n",
       "                  Purpose  Current Loan Amount  Credit Score  Annual Income  \\\n",
       "0      Debt Consolidation                12232           728          46643   \n",
       "1      Debt Consolidation                25014           733          81099   \n",
       "2       Home Improvements                16117           724          60438   \n",
       "3      Debt Consolidation                11716           740          34171   \n",
       "4       Home Improvements                 9789           686          47003   \n",
       "...                   ...                  ...           ...            ...   \n",
       "88905  Debt Consolidation                10136           728          35476   \n",
       "88906  Debt Consolidation                29610           710         123375   \n",
       "88907  Debt Consolidation                24394           746          71148   \n",
       "88908  Debt Consolidation                 5030           722          25424   \n",
       "88909  Debt Consolidation                18446           718          44066   \n",
       "\n",
       "       Monthly Debt  Years of Credit History  Months since last delinquent  \\\n",
       "0            777.39                     18.0                            10   \n",
       "1            892.09                     26.7                            50   \n",
       "2           1244.02                     16.7                            32   \n",
       "3            990.94                     10.0                            21   \n",
       "4            503.71                     16.7                            25   \n",
       "...             ...                      ...                           ...   \n",
       "88905       1680.19                     21.2                            14   \n",
       "88906        934.94                     15.0                            16   \n",
       "88907        767.87                     36.4                             9   \n",
       "88908        596.37                     19.0                             7   \n",
       "88909        832.16                     10.7                            27   \n",
       "\n",
       "       Number of Open Accounts  Number of Credit Problems  \\\n",
       "0                           12                          0   \n",
       "1                           14                          0   \n",
       "2                           11                          1   \n",
       "3                           21                          0   \n",
       "4                           13                          1   \n",
       "...                        ...                        ...   \n",
       "88905                       14                          0   \n",
       "88906                       11                          0   \n",
       "88907                        8                          0   \n",
       "88908                       12                          0   \n",
       "88909                       18                          1   \n",
       "\n",
       "       Current Credit Balance  Maximum Open Credit  Bankruptcies  Tax Liens  \n",
       "0                        6762                 7946             0          0  \n",
       "1                       35706                77961             0          0  \n",
       "2                       11275                14815             1          0  \n",
       "3                        7009                43533             0          0  \n",
       "4                       16913                19553             1          0  \n",
       "...                       ...                  ...           ...        ...  \n",
       "88905                   15914                28265             0          0  \n",
       "88906                   17727                32766             0          0  \n",
       "88907                   44728                53374             0          0  \n",
       "88908                    6374                18422             0          0  \n",
       "88909                    6718                21124             0          1  \n",
       "\n",
       "[88910 rows x 17 columns]"
      ]
     },
     "execution_count": 321,
     "metadata": {},
     "output_type": "execute_result"
    }
   ],
   "source": [
    "df = final_imputed_loanData.copy()\n",
    "df"
   ]
  },
  {
   "cell_type": "code",
   "execution_count": 322,
   "id": "7cc202c1",
   "metadata": {},
   "outputs": [
    {
     "data": {
      "text/html": [
       "<div>\n",
       "<style scoped>\n",
       "    .dataframe tbody tr th:only-of-type {\n",
       "        vertical-align: middle;\n",
       "    }\n",
       "\n",
       "    .dataframe tbody tr th {\n",
       "        vertical-align: top;\n",
       "    }\n",
       "\n",
       "    .dataframe thead th {\n",
       "        text-align: right;\n",
       "    }\n",
       "</style>\n",
       "<table border=\"1\" class=\"dataframe\">\n",
       "  <thead>\n",
       "    <tr style=\"text-align: right;\">\n",
       "      <th></th>\n",
       "      <th>Loan Status</th>\n",
       "      <th>Term</th>\n",
       "      <th>Years in current job</th>\n",
       "      <th>Home Ownership</th>\n",
       "      <th>Purpose</th>\n",
       "      <th>Current Loan Amount</th>\n",
       "      <th>Credit Score</th>\n",
       "      <th>Annual Income</th>\n",
       "      <th>Monthly Debt</th>\n",
       "      <th>Years of Credit History</th>\n",
       "      <th>Months since last delinquent</th>\n",
       "      <th>Number of Open Accounts</th>\n",
       "      <th>Number of Credit Problems</th>\n",
       "      <th>Current Credit Balance</th>\n",
       "      <th>Maximum Open Credit</th>\n",
       "      <th>Bankruptcies</th>\n",
       "      <th>Tax Liens</th>\n",
       "    </tr>\n",
       "  </thead>\n",
       "  <tbody>\n",
       "    <tr>\n",
       "      <th>0</th>\n",
       "      <td>Charged Off</td>\n",
       "      <td>Short Term</td>\n",
       "      <td>&lt; 1 year</td>\n",
       "      <td>Rent</td>\n",
       "      <td>Debt Consolidation</td>\n",
       "      <td>12232</td>\n",
       "      <td>728</td>\n",
       "      <td>46643</td>\n",
       "      <td>777.39</td>\n",
       "      <td>18.0</td>\n",
       "      <td>10</td>\n",
       "      <td>12</td>\n",
       "      <td>0</td>\n",
       "      <td>6762</td>\n",
       "      <td>7946</td>\n",
       "      <td>0</td>\n",
       "      <td>0</td>\n",
       "    </tr>\n",
       "    <tr>\n",
       "      <th>1</th>\n",
       "      <td>Charged Off</td>\n",
       "      <td>Long Term</td>\n",
       "      <td>10+ years</td>\n",
       "      <td>Home Mortgage</td>\n",
       "      <td>Debt Consolidation</td>\n",
       "      <td>25014</td>\n",
       "      <td>733</td>\n",
       "      <td>81099</td>\n",
       "      <td>892.09</td>\n",
       "      <td>26.7</td>\n",
       "      <td>50</td>\n",
       "      <td>14</td>\n",
       "      <td>0</td>\n",
       "      <td>35706</td>\n",
       "      <td>77961</td>\n",
       "      <td>0</td>\n",
       "      <td>0</td>\n",
       "    </tr>\n",
       "    <tr>\n",
       "      <th>2</th>\n",
       "      <td>Charged Off</td>\n",
       "      <td>Short Term</td>\n",
       "      <td>9 years</td>\n",
       "      <td>Home Mortgage</td>\n",
       "      <td>Home Improvements</td>\n",
       "      <td>16117</td>\n",
       "      <td>724</td>\n",
       "      <td>60438</td>\n",
       "      <td>1244.02</td>\n",
       "      <td>16.7</td>\n",
       "      <td>32</td>\n",
       "      <td>11</td>\n",
       "      <td>1</td>\n",
       "      <td>11275</td>\n",
       "      <td>14815</td>\n",
       "      <td>1</td>\n",
       "      <td>0</td>\n",
       "    </tr>\n",
       "    <tr>\n",
       "      <th>3</th>\n",
       "      <td>Charged Off</td>\n",
       "      <td>Short Term</td>\n",
       "      <td>3 years</td>\n",
       "      <td>Rent</td>\n",
       "      <td>Debt Consolidation</td>\n",
       "      <td>11716</td>\n",
       "      <td>740</td>\n",
       "      <td>34171</td>\n",
       "      <td>990.94</td>\n",
       "      <td>10.0</td>\n",
       "      <td>21</td>\n",
       "      <td>21</td>\n",
       "      <td>0</td>\n",
       "      <td>7009</td>\n",
       "      <td>43533</td>\n",
       "      <td>0</td>\n",
       "      <td>0</td>\n",
       "    </tr>\n",
       "    <tr>\n",
       "      <th>4</th>\n",
       "      <td>Charged Off</td>\n",
       "      <td>Long Term</td>\n",
       "      <td>10+ years</td>\n",
       "      <td>Home Mortgage</td>\n",
       "      <td>Home Improvements</td>\n",
       "      <td>9789</td>\n",
       "      <td>686</td>\n",
       "      <td>47003</td>\n",
       "      <td>503.71</td>\n",
       "      <td>16.7</td>\n",
       "      <td>25</td>\n",
       "      <td>13</td>\n",
       "      <td>1</td>\n",
       "      <td>16913</td>\n",
       "      <td>19553</td>\n",
       "      <td>1</td>\n",
       "      <td>0</td>\n",
       "    </tr>\n",
       "  </tbody>\n",
       "</table>\n",
       "</div>"
      ],
      "text/plain": [
       "   Loan Status        Term Years in current job Home Ownership  \\\n",
       "0  Charged Off  Short Term             < 1 year           Rent   \n",
       "1  Charged Off   Long Term            10+ years  Home Mortgage   \n",
       "2  Charged Off  Short Term              9 years  Home Mortgage   \n",
       "3  Charged Off  Short Term              3 years           Rent   \n",
       "4  Charged Off   Long Term            10+ years  Home Mortgage   \n",
       "\n",
       "              Purpose  Current Loan Amount  Credit Score  Annual Income  \\\n",
       "0  Debt Consolidation                12232           728          46643   \n",
       "1  Debt Consolidation                25014           733          81099   \n",
       "2   Home Improvements                16117           724          60438   \n",
       "3  Debt Consolidation                11716           740          34171   \n",
       "4   Home Improvements                 9789           686          47003   \n",
       "\n",
       "   Monthly Debt  Years of Credit History  Months since last delinquent  \\\n",
       "0        777.39                     18.0                            10   \n",
       "1        892.09                     26.7                            50   \n",
       "2       1244.02                     16.7                            32   \n",
       "3        990.94                     10.0                            21   \n",
       "4        503.71                     16.7                            25   \n",
       "\n",
       "   Number of Open Accounts  Number of Credit Problems  Current Credit Balance  \\\n",
       "0                       12                          0                    6762   \n",
       "1                       14                          0                   35706   \n",
       "2                       11                          1                   11275   \n",
       "3                       21                          0                    7009   \n",
       "4                       13                          1                   16913   \n",
       "\n",
       "   Maximum Open Credit  Bankruptcies  Tax Liens  \n",
       "0                 7946             0          0  \n",
       "1                77961             0          0  \n",
       "2                14815             1          0  \n",
       "3                43533             0          0  \n",
       "4                19553             1          0  "
      ]
     },
     "execution_count": 322,
     "metadata": {},
     "output_type": "execute_result"
    }
   ],
   "source": [
    "df.head()"
   ]
  },
  {
   "cell_type": "code",
   "execution_count": 323,
   "id": "21e3478f",
   "metadata": {},
   "outputs": [],
   "source": [
    "#Mapping 1 to charged Off and 0 to Fully paid\n",
    "df['Loan Status'] = df['Loan Status'].map({'Charged Off':1,'Fully Paid':0})"
   ]
  },
  {
   "cell_type": "code",
   "execution_count": 324,
   "id": "3b54518e",
   "metadata": {},
   "outputs": [
    {
     "data": {
      "text/plain": [
       "0    63737\n",
       "1    25173\n",
       "Name: Loan Status, dtype: int64"
      ]
     },
     "execution_count": 324,
     "metadata": {},
     "output_type": "execute_result"
    }
   ],
   "source": [
    "df['Loan Status'].value_counts()"
   ]
  },
  {
   "cell_type": "code",
   "execution_count": 325,
   "id": "b5e7011e",
   "metadata": {},
   "outputs": [
    {
     "data": {
      "text/html": [
       "<div>\n",
       "<style scoped>\n",
       "    .dataframe tbody tr th:only-of-type {\n",
       "        vertical-align: middle;\n",
       "    }\n",
       "\n",
       "    .dataframe tbody tr th {\n",
       "        vertical-align: top;\n",
       "    }\n",
       "\n",
       "    .dataframe thead th {\n",
       "        text-align: right;\n",
       "    }\n",
       "</style>\n",
       "<table border=\"1\" class=\"dataframe\">\n",
       "  <thead>\n",
       "    <tr style=\"text-align: right;\">\n",
       "      <th></th>\n",
       "      <th>Loan Status</th>\n",
       "      <th>Term</th>\n",
       "      <th>Years in current job</th>\n",
       "      <th>Home Ownership</th>\n",
       "      <th>Purpose</th>\n",
       "      <th>Current Loan Amount</th>\n",
       "      <th>Credit Score</th>\n",
       "      <th>Annual Income</th>\n",
       "      <th>Monthly Debt</th>\n",
       "      <th>Years of Credit History</th>\n",
       "      <th>Months since last delinquent</th>\n",
       "      <th>Number of Open Accounts</th>\n",
       "      <th>Number of Credit Problems</th>\n",
       "      <th>Current Credit Balance</th>\n",
       "      <th>Maximum Open Credit</th>\n",
       "      <th>Bankruptcies</th>\n",
       "      <th>Tax Liens</th>\n",
       "    </tr>\n",
       "  </thead>\n",
       "  <tbody>\n",
       "    <tr>\n",
       "      <th>0</th>\n",
       "      <td>1</td>\n",
       "      <td>Short Term</td>\n",
       "      <td>&lt; 1 year</td>\n",
       "      <td>Rent</td>\n",
       "      <td>Debt Consolidation</td>\n",
       "      <td>12232</td>\n",
       "      <td>728</td>\n",
       "      <td>46643</td>\n",
       "      <td>777.39</td>\n",
       "      <td>18.0</td>\n",
       "      <td>10</td>\n",
       "      <td>12</td>\n",
       "      <td>0</td>\n",
       "      <td>6762</td>\n",
       "      <td>7946</td>\n",
       "      <td>0</td>\n",
       "      <td>0</td>\n",
       "    </tr>\n",
       "    <tr>\n",
       "      <th>1</th>\n",
       "      <td>1</td>\n",
       "      <td>Long Term</td>\n",
       "      <td>10+ years</td>\n",
       "      <td>Home Mortgage</td>\n",
       "      <td>Debt Consolidation</td>\n",
       "      <td>25014</td>\n",
       "      <td>733</td>\n",
       "      <td>81099</td>\n",
       "      <td>892.09</td>\n",
       "      <td>26.7</td>\n",
       "      <td>50</td>\n",
       "      <td>14</td>\n",
       "      <td>0</td>\n",
       "      <td>35706</td>\n",
       "      <td>77961</td>\n",
       "      <td>0</td>\n",
       "      <td>0</td>\n",
       "    </tr>\n",
       "    <tr>\n",
       "      <th>2</th>\n",
       "      <td>1</td>\n",
       "      <td>Short Term</td>\n",
       "      <td>9 years</td>\n",
       "      <td>Home Mortgage</td>\n",
       "      <td>Home Improvements</td>\n",
       "      <td>16117</td>\n",
       "      <td>724</td>\n",
       "      <td>60438</td>\n",
       "      <td>1244.02</td>\n",
       "      <td>16.7</td>\n",
       "      <td>32</td>\n",
       "      <td>11</td>\n",
       "      <td>1</td>\n",
       "      <td>11275</td>\n",
       "      <td>14815</td>\n",
       "      <td>1</td>\n",
       "      <td>0</td>\n",
       "    </tr>\n",
       "    <tr>\n",
       "      <th>3</th>\n",
       "      <td>1</td>\n",
       "      <td>Short Term</td>\n",
       "      <td>3 years</td>\n",
       "      <td>Rent</td>\n",
       "      <td>Debt Consolidation</td>\n",
       "      <td>11716</td>\n",
       "      <td>740</td>\n",
       "      <td>34171</td>\n",
       "      <td>990.94</td>\n",
       "      <td>10.0</td>\n",
       "      <td>21</td>\n",
       "      <td>21</td>\n",
       "      <td>0</td>\n",
       "      <td>7009</td>\n",
       "      <td>43533</td>\n",
       "      <td>0</td>\n",
       "      <td>0</td>\n",
       "    </tr>\n",
       "    <tr>\n",
       "      <th>4</th>\n",
       "      <td>1</td>\n",
       "      <td>Long Term</td>\n",
       "      <td>10+ years</td>\n",
       "      <td>Home Mortgage</td>\n",
       "      <td>Home Improvements</td>\n",
       "      <td>9789</td>\n",
       "      <td>686</td>\n",
       "      <td>47003</td>\n",
       "      <td>503.71</td>\n",
       "      <td>16.7</td>\n",
       "      <td>25</td>\n",
       "      <td>13</td>\n",
       "      <td>1</td>\n",
       "      <td>16913</td>\n",
       "      <td>19553</td>\n",
       "      <td>1</td>\n",
       "      <td>0</td>\n",
       "    </tr>\n",
       "  </tbody>\n",
       "</table>\n",
       "</div>"
      ],
      "text/plain": [
       "   Loan Status        Term Years in current job Home Ownership  \\\n",
       "0            1  Short Term             < 1 year           Rent   \n",
       "1            1   Long Term            10+ years  Home Mortgage   \n",
       "2            1  Short Term              9 years  Home Mortgage   \n",
       "3            1  Short Term              3 years           Rent   \n",
       "4            1   Long Term            10+ years  Home Mortgage   \n",
       "\n",
       "              Purpose  Current Loan Amount  Credit Score  Annual Income  \\\n",
       "0  Debt Consolidation                12232           728          46643   \n",
       "1  Debt Consolidation                25014           733          81099   \n",
       "2   Home Improvements                16117           724          60438   \n",
       "3  Debt Consolidation                11716           740          34171   \n",
       "4   Home Improvements                 9789           686          47003   \n",
       "\n",
       "   Monthly Debt  Years of Credit History  Months since last delinquent  \\\n",
       "0        777.39                     18.0                            10   \n",
       "1        892.09                     26.7                            50   \n",
       "2       1244.02                     16.7                            32   \n",
       "3        990.94                     10.0                            21   \n",
       "4        503.71                     16.7                            25   \n",
       "\n",
       "   Number of Open Accounts  Number of Credit Problems  Current Credit Balance  \\\n",
       "0                       12                          0                    6762   \n",
       "1                       14                          0                   35706   \n",
       "2                       11                          1                   11275   \n",
       "3                       21                          0                    7009   \n",
       "4                       13                          1                   16913   \n",
       "\n",
       "   Maximum Open Credit  Bankruptcies  Tax Liens  \n",
       "0                 7946             0          0  \n",
       "1                77961             0          0  \n",
       "2                14815             1          0  \n",
       "3                43533             0          0  \n",
       "4                19553             1          0  "
      ]
     },
     "execution_count": 325,
     "metadata": {},
     "output_type": "execute_result"
    }
   ],
   "source": [
    "df.head()"
   ]
  },
  {
   "cell_type": "markdown",
   "id": "db9e5cd8",
   "metadata": {},
   "source": [
    "### One-Hot Encoding of Categorical Variables"
   ]
  },
  {
   "cell_type": "code",
   "execution_count": 326,
   "id": "98545443",
   "metadata": {},
   "outputs": [],
   "source": [
    "cat = pd.get_dummies(df[['Term','Years in current job','Home Ownership','Purpose']],prefix=['Term','Years in current job','Home Ownership','Purpose']) "
   ]
  },
  {
   "cell_type": "code",
   "execution_count": 327,
   "id": "2e3e4580",
   "metadata": {},
   "outputs": [
    {
     "data": {
      "text/html": [
       "<div>\n",
       "<style scoped>\n",
       "    .dataframe tbody tr th:only-of-type {\n",
       "        vertical-align: middle;\n",
       "    }\n",
       "\n",
       "    .dataframe tbody tr th {\n",
       "        vertical-align: top;\n",
       "    }\n",
       "\n",
       "    .dataframe thead th {\n",
       "        text-align: right;\n",
       "    }\n",
       "</style>\n",
       "<table border=\"1\" class=\"dataframe\">\n",
       "  <thead>\n",
       "    <tr style=\"text-align: right;\">\n",
       "      <th></th>\n",
       "      <th>Loan Status</th>\n",
       "      <th>Current Loan Amount</th>\n",
       "      <th>Credit Score</th>\n",
       "      <th>Annual Income</th>\n",
       "      <th>Monthly Debt</th>\n",
       "      <th>Years of Credit History</th>\n",
       "      <th>Months since last delinquent</th>\n",
       "      <th>Number of Open Accounts</th>\n",
       "      <th>Number of Credit Problems</th>\n",
       "      <th>Current Credit Balance</th>\n",
       "      <th>Maximum Open Credit</th>\n",
       "      <th>Bankruptcies</th>\n",
       "      <th>Tax Liens</th>\n",
       "    </tr>\n",
       "  </thead>\n",
       "  <tbody>\n",
       "    <tr>\n",
       "      <th>0</th>\n",
       "      <td>1</td>\n",
       "      <td>12232</td>\n",
       "      <td>728</td>\n",
       "      <td>46643</td>\n",
       "      <td>777.39</td>\n",
       "      <td>18.0</td>\n",
       "      <td>10</td>\n",
       "      <td>12</td>\n",
       "      <td>0</td>\n",
       "      <td>6762</td>\n",
       "      <td>7946</td>\n",
       "      <td>0</td>\n",
       "      <td>0</td>\n",
       "    </tr>\n",
       "    <tr>\n",
       "      <th>1</th>\n",
       "      <td>1</td>\n",
       "      <td>25014</td>\n",
       "      <td>733</td>\n",
       "      <td>81099</td>\n",
       "      <td>892.09</td>\n",
       "      <td>26.7</td>\n",
       "      <td>50</td>\n",
       "      <td>14</td>\n",
       "      <td>0</td>\n",
       "      <td>35706</td>\n",
       "      <td>77961</td>\n",
       "      <td>0</td>\n",
       "      <td>0</td>\n",
       "    </tr>\n",
       "    <tr>\n",
       "      <th>2</th>\n",
       "      <td>1</td>\n",
       "      <td>16117</td>\n",
       "      <td>724</td>\n",
       "      <td>60438</td>\n",
       "      <td>1244.02</td>\n",
       "      <td>16.7</td>\n",
       "      <td>32</td>\n",
       "      <td>11</td>\n",
       "      <td>1</td>\n",
       "      <td>11275</td>\n",
       "      <td>14815</td>\n",
       "      <td>1</td>\n",
       "      <td>0</td>\n",
       "    </tr>\n",
       "    <tr>\n",
       "      <th>3</th>\n",
       "      <td>1</td>\n",
       "      <td>11716</td>\n",
       "      <td>740</td>\n",
       "      <td>34171</td>\n",
       "      <td>990.94</td>\n",
       "      <td>10.0</td>\n",
       "      <td>21</td>\n",
       "      <td>21</td>\n",
       "      <td>0</td>\n",
       "      <td>7009</td>\n",
       "      <td>43533</td>\n",
       "      <td>0</td>\n",
       "      <td>0</td>\n",
       "    </tr>\n",
       "    <tr>\n",
       "      <th>4</th>\n",
       "      <td>1</td>\n",
       "      <td>9789</td>\n",
       "      <td>686</td>\n",
       "      <td>47003</td>\n",
       "      <td>503.71</td>\n",
       "      <td>16.7</td>\n",
       "      <td>25</td>\n",
       "      <td>13</td>\n",
       "      <td>1</td>\n",
       "      <td>16913</td>\n",
       "      <td>19553</td>\n",
       "      <td>1</td>\n",
       "      <td>0</td>\n",
       "    </tr>\n",
       "    <tr>\n",
       "      <th>...</th>\n",
       "      <td>...</td>\n",
       "      <td>...</td>\n",
       "      <td>...</td>\n",
       "      <td>...</td>\n",
       "      <td>...</td>\n",
       "      <td>...</td>\n",
       "      <td>...</td>\n",
       "      <td>...</td>\n",
       "      <td>...</td>\n",
       "      <td>...</td>\n",
       "      <td>...</td>\n",
       "      <td>...</td>\n",
       "      <td>...</td>\n",
       "    </tr>\n",
       "    <tr>\n",
       "      <th>88905</th>\n",
       "      <td>0</td>\n",
       "      <td>10136</td>\n",
       "      <td>728</td>\n",
       "      <td>35476</td>\n",
       "      <td>1680.19</td>\n",
       "      <td>21.2</td>\n",
       "      <td>14</td>\n",
       "      <td>14</td>\n",
       "      <td>0</td>\n",
       "      <td>15914</td>\n",
       "      <td>28265</td>\n",
       "      <td>0</td>\n",
       "      <td>0</td>\n",
       "    </tr>\n",
       "    <tr>\n",
       "      <th>88906</th>\n",
       "      <td>0</td>\n",
       "      <td>29610</td>\n",
       "      <td>710</td>\n",
       "      <td>123375</td>\n",
       "      <td>934.94</td>\n",
       "      <td>15.0</td>\n",
       "      <td>16</td>\n",
       "      <td>11</td>\n",
       "      <td>0</td>\n",
       "      <td>17727</td>\n",
       "      <td>32766</td>\n",
       "      <td>0</td>\n",
       "      <td>0</td>\n",
       "    </tr>\n",
       "    <tr>\n",
       "      <th>88907</th>\n",
       "      <td>0</td>\n",
       "      <td>24394</td>\n",
       "      <td>746</td>\n",
       "      <td>71148</td>\n",
       "      <td>767.87</td>\n",
       "      <td>36.4</td>\n",
       "      <td>9</td>\n",
       "      <td>8</td>\n",
       "      <td>0</td>\n",
       "      <td>44728</td>\n",
       "      <td>53374</td>\n",
       "      <td>0</td>\n",
       "      <td>0</td>\n",
       "    </tr>\n",
       "    <tr>\n",
       "      <th>88908</th>\n",
       "      <td>1</td>\n",
       "      <td>5030</td>\n",
       "      <td>722</td>\n",
       "      <td>25424</td>\n",
       "      <td>596.37</td>\n",
       "      <td>19.0</td>\n",
       "      <td>7</td>\n",
       "      <td>12</td>\n",
       "      <td>0</td>\n",
       "      <td>6374</td>\n",
       "      <td>18422</td>\n",
       "      <td>0</td>\n",
       "      <td>0</td>\n",
       "    </tr>\n",
       "    <tr>\n",
       "      <th>88909</th>\n",
       "      <td>0</td>\n",
       "      <td>18446</td>\n",
       "      <td>718</td>\n",
       "      <td>44066</td>\n",
       "      <td>832.16</td>\n",
       "      <td>10.7</td>\n",
       "      <td>27</td>\n",
       "      <td>18</td>\n",
       "      <td>1</td>\n",
       "      <td>6718</td>\n",
       "      <td>21124</td>\n",
       "      <td>0</td>\n",
       "      <td>1</td>\n",
       "    </tr>\n",
       "  </tbody>\n",
       "</table>\n",
       "<p>88910 rows × 13 columns</p>\n",
       "</div>"
      ],
      "text/plain": [
       "       Loan Status  Current Loan Amount  Credit Score  Annual Income  \\\n",
       "0                1                12232           728          46643   \n",
       "1                1                25014           733          81099   \n",
       "2                1                16117           724          60438   \n",
       "3                1                11716           740          34171   \n",
       "4                1                 9789           686          47003   \n",
       "...            ...                  ...           ...            ...   \n",
       "88905            0                10136           728          35476   \n",
       "88906            0                29610           710         123375   \n",
       "88907            0                24394           746          71148   \n",
       "88908            1                 5030           722          25424   \n",
       "88909            0                18446           718          44066   \n",
       "\n",
       "       Monthly Debt  Years of Credit History  Months since last delinquent  \\\n",
       "0            777.39                     18.0                            10   \n",
       "1            892.09                     26.7                            50   \n",
       "2           1244.02                     16.7                            32   \n",
       "3            990.94                     10.0                            21   \n",
       "4            503.71                     16.7                            25   \n",
       "...             ...                      ...                           ...   \n",
       "88905       1680.19                     21.2                            14   \n",
       "88906        934.94                     15.0                            16   \n",
       "88907        767.87                     36.4                             9   \n",
       "88908        596.37                     19.0                             7   \n",
       "88909        832.16                     10.7                            27   \n",
       "\n",
       "       Number of Open Accounts  Number of Credit Problems  \\\n",
       "0                           12                          0   \n",
       "1                           14                          0   \n",
       "2                           11                          1   \n",
       "3                           21                          0   \n",
       "4                           13                          1   \n",
       "...                        ...                        ...   \n",
       "88905                       14                          0   \n",
       "88906                       11                          0   \n",
       "88907                        8                          0   \n",
       "88908                       12                          0   \n",
       "88909                       18                          1   \n",
       "\n",
       "       Current Credit Balance  Maximum Open Credit  Bankruptcies  Tax Liens  \n",
       "0                        6762                 7946             0          0  \n",
       "1                       35706                77961             0          0  \n",
       "2                       11275                14815             1          0  \n",
       "3                        7009                43533             0          0  \n",
       "4                       16913                19553             1          0  \n",
       "...                       ...                  ...           ...        ...  \n",
       "88905                   15914                28265             0          0  \n",
       "88906                   17727                32766             0          0  \n",
       "88907                   44728                53374             0          0  \n",
       "88908                    6374                18422             0          0  \n",
       "88909                    6718                21124             0          1  \n",
       "\n",
       "[88910 rows x 13 columns]"
      ]
     },
     "execution_count": 327,
     "metadata": {},
     "output_type": "execute_result"
    }
   ],
   "source": [
    "num = df.select_dtypes(exclude='object') #exclude cat variables\n",
    "num"
   ]
  },
  {
   "cell_type": "code",
   "execution_count": 328,
   "id": "f958de7f",
   "metadata": {},
   "outputs": [
    {
     "data": {
      "text/plain": [
       "Index(['Loan Status', 'Current Loan Amount', 'Credit Score', 'Annual Income',\n",
       "       'Monthly Debt', 'Years of Credit History',\n",
       "       'Months since last delinquent', 'Number of Open Accounts',\n",
       "       'Number of Credit Problems', 'Current Credit Balance',\n",
       "       'Maximum Open Credit', 'Bankruptcies', 'Tax Liens', 'Term_Long Term',\n",
       "       'Term_Short Term', 'Years in current job_1 year',\n",
       "       'Years in current job_10+ years', 'Years in current job_2 years',\n",
       "       'Years in current job_3 years', 'Years in current job_4 years',\n",
       "       'Years in current job_5 years', 'Years in current job_6 years',\n",
       "       'Years in current job_7 years', 'Years in current job_8 years',\n",
       "       'Years in current job_9 years', 'Years in current job_< 1 year',\n",
       "       'Home Ownership_Home Mortgage', 'Home Ownership_Own Home',\n",
       "       'Home Ownership_Rent', 'Purpose_Business Loan', 'Purpose_Buy House',\n",
       "       'Purpose_Buy a Car', 'Purpose_Debt Consolidation',\n",
       "       'Purpose_Educational Expenses', 'Purpose_Home Improvements',\n",
       "       'Purpose_Medical Bills', 'Purpose_Take a Trip',\n",
       "       'Purpose_major_purchase', 'Purpose_moving', 'Purpose_other',\n",
       "       'Purpose_renewable_energy', 'Purpose_small_business',\n",
       "       'Purpose_vacation', 'Purpose_wedding'],\n",
       "      dtype='object')"
      ]
     },
     "execution_count": 328,
     "metadata": {},
     "output_type": "execute_result"
    }
   ],
   "source": [
    "join= [num,cat] \n",
    "df = pd.concat(join,axis=1,join='inner')  #combing the one hot encoded categorical variable to rest of the predictors\n",
    "df.columns"
   ]
  },
  {
   "cell_type": "code",
   "execution_count": 329,
   "id": "d35eccf3",
   "metadata": {},
   "outputs": [
    {
     "data": {
      "text/html": [
       "<div>\n",
       "<style scoped>\n",
       "    .dataframe tbody tr th:only-of-type {\n",
       "        vertical-align: middle;\n",
       "    }\n",
       "\n",
       "    .dataframe tbody tr th {\n",
       "        vertical-align: top;\n",
       "    }\n",
       "\n",
       "    .dataframe thead th {\n",
       "        text-align: right;\n",
       "    }\n",
       "</style>\n",
       "<table border=\"1\" class=\"dataframe\">\n",
       "  <thead>\n",
       "    <tr style=\"text-align: right;\">\n",
       "      <th></th>\n",
       "      <th>Current Loan Amount</th>\n",
       "      <th>Credit Score</th>\n",
       "      <th>Annual Income</th>\n",
       "      <th>Monthly Debt</th>\n",
       "      <th>Years of Credit History</th>\n",
       "      <th>Months since last delinquent</th>\n",
       "      <th>Number of Open Accounts</th>\n",
       "      <th>Number of Credit Problems</th>\n",
       "      <th>Current Credit Balance</th>\n",
       "      <th>Maximum Open Credit</th>\n",
       "      <th>...</th>\n",
       "      <th>Purpose_Home Improvements</th>\n",
       "      <th>Purpose_Medical Bills</th>\n",
       "      <th>Purpose_Take a Trip</th>\n",
       "      <th>Purpose_major_purchase</th>\n",
       "      <th>Purpose_moving</th>\n",
       "      <th>Purpose_other</th>\n",
       "      <th>Purpose_renewable_energy</th>\n",
       "      <th>Purpose_small_business</th>\n",
       "      <th>Purpose_vacation</th>\n",
       "      <th>Purpose_wedding</th>\n",
       "    </tr>\n",
       "  </thead>\n",
       "  <tbody>\n",
       "    <tr>\n",
       "      <th>0</th>\n",
       "      <td>12232</td>\n",
       "      <td>728</td>\n",
       "      <td>46643</td>\n",
       "      <td>777.39</td>\n",
       "      <td>18.0</td>\n",
       "      <td>10</td>\n",
       "      <td>12</td>\n",
       "      <td>0</td>\n",
       "      <td>6762</td>\n",
       "      <td>7946</td>\n",
       "      <td>...</td>\n",
       "      <td>0</td>\n",
       "      <td>0</td>\n",
       "      <td>0</td>\n",
       "      <td>0</td>\n",
       "      <td>0</td>\n",
       "      <td>0</td>\n",
       "      <td>0</td>\n",
       "      <td>0</td>\n",
       "      <td>0</td>\n",
       "      <td>0</td>\n",
       "    </tr>\n",
       "    <tr>\n",
       "      <th>1</th>\n",
       "      <td>25014</td>\n",
       "      <td>733</td>\n",
       "      <td>81099</td>\n",
       "      <td>892.09</td>\n",
       "      <td>26.7</td>\n",
       "      <td>50</td>\n",
       "      <td>14</td>\n",
       "      <td>0</td>\n",
       "      <td>35706</td>\n",
       "      <td>77961</td>\n",
       "      <td>...</td>\n",
       "      <td>0</td>\n",
       "      <td>0</td>\n",
       "      <td>0</td>\n",
       "      <td>0</td>\n",
       "      <td>0</td>\n",
       "      <td>0</td>\n",
       "      <td>0</td>\n",
       "      <td>0</td>\n",
       "      <td>0</td>\n",
       "      <td>0</td>\n",
       "    </tr>\n",
       "    <tr>\n",
       "      <th>2</th>\n",
       "      <td>16117</td>\n",
       "      <td>724</td>\n",
       "      <td>60438</td>\n",
       "      <td>1244.02</td>\n",
       "      <td>16.7</td>\n",
       "      <td>32</td>\n",
       "      <td>11</td>\n",
       "      <td>1</td>\n",
       "      <td>11275</td>\n",
       "      <td>14815</td>\n",
       "      <td>...</td>\n",
       "      <td>1</td>\n",
       "      <td>0</td>\n",
       "      <td>0</td>\n",
       "      <td>0</td>\n",
       "      <td>0</td>\n",
       "      <td>0</td>\n",
       "      <td>0</td>\n",
       "      <td>0</td>\n",
       "      <td>0</td>\n",
       "      <td>0</td>\n",
       "    </tr>\n",
       "    <tr>\n",
       "      <th>3</th>\n",
       "      <td>11716</td>\n",
       "      <td>740</td>\n",
       "      <td>34171</td>\n",
       "      <td>990.94</td>\n",
       "      <td>10.0</td>\n",
       "      <td>21</td>\n",
       "      <td>21</td>\n",
       "      <td>0</td>\n",
       "      <td>7009</td>\n",
       "      <td>43533</td>\n",
       "      <td>...</td>\n",
       "      <td>0</td>\n",
       "      <td>0</td>\n",
       "      <td>0</td>\n",
       "      <td>0</td>\n",
       "      <td>0</td>\n",
       "      <td>0</td>\n",
       "      <td>0</td>\n",
       "      <td>0</td>\n",
       "      <td>0</td>\n",
       "      <td>0</td>\n",
       "    </tr>\n",
       "    <tr>\n",
       "      <th>4</th>\n",
       "      <td>9789</td>\n",
       "      <td>686</td>\n",
       "      <td>47003</td>\n",
       "      <td>503.71</td>\n",
       "      <td>16.7</td>\n",
       "      <td>25</td>\n",
       "      <td>13</td>\n",
       "      <td>1</td>\n",
       "      <td>16913</td>\n",
       "      <td>19553</td>\n",
       "      <td>...</td>\n",
       "      <td>1</td>\n",
       "      <td>0</td>\n",
       "      <td>0</td>\n",
       "      <td>0</td>\n",
       "      <td>0</td>\n",
       "      <td>0</td>\n",
       "      <td>0</td>\n",
       "      <td>0</td>\n",
       "      <td>0</td>\n",
       "      <td>0</td>\n",
       "    </tr>\n",
       "  </tbody>\n",
       "</table>\n",
       "<p>5 rows × 43 columns</p>\n",
       "</div>"
      ],
      "text/plain": [
       "   Current Loan Amount  Credit Score  Annual Income  Monthly Debt  \\\n",
       "0                12232           728          46643        777.39   \n",
       "1                25014           733          81099        892.09   \n",
       "2                16117           724          60438       1244.02   \n",
       "3                11716           740          34171        990.94   \n",
       "4                 9789           686          47003        503.71   \n",
       "\n",
       "   Years of Credit History  Months since last delinquent  \\\n",
       "0                     18.0                            10   \n",
       "1                     26.7                            50   \n",
       "2                     16.7                            32   \n",
       "3                     10.0                            21   \n",
       "4                     16.7                            25   \n",
       "\n",
       "   Number of Open Accounts  Number of Credit Problems  Current Credit Balance  \\\n",
       "0                       12                          0                    6762   \n",
       "1                       14                          0                   35706   \n",
       "2                       11                          1                   11275   \n",
       "3                       21                          0                    7009   \n",
       "4                       13                          1                   16913   \n",
       "\n",
       "   Maximum Open Credit  ...  Purpose_Home Improvements  Purpose_Medical Bills  \\\n",
       "0                 7946  ...                          0                      0   \n",
       "1                77961  ...                          0                      0   \n",
       "2                14815  ...                          1                      0   \n",
       "3                43533  ...                          0                      0   \n",
       "4                19553  ...                          1                      0   \n",
       "\n",
       "   Purpose_Take a Trip  Purpose_major_purchase  Purpose_moving  Purpose_other  \\\n",
       "0                    0                       0               0              0   \n",
       "1                    0                       0               0              0   \n",
       "2                    0                       0               0              0   \n",
       "3                    0                       0               0              0   \n",
       "4                    0                       0               0              0   \n",
       "\n",
       "   Purpose_renewable_energy  Purpose_small_business  Purpose_vacation  \\\n",
       "0                         0                       0                 0   \n",
       "1                         0                       0                 0   \n",
       "2                         0                       0                 0   \n",
       "3                         0                       0                 0   \n",
       "4                         0                       0                 0   \n",
       "\n",
       "   Purpose_wedding  \n",
       "0                0  \n",
       "1                0  \n",
       "2                0  \n",
       "3                0  \n",
       "4                0  \n",
       "\n",
       "[5 rows x 43 columns]"
      ]
     },
     "execution_count": 329,
     "metadata": {},
     "output_type": "execute_result"
    }
   ],
   "source": [
    "X = df.drop([\"Loan Status\"],axis=1)  #predictors, dropping house column (Target) to drop column axis=1\n",
    "y = df[\"Loan Status\"]\n",
    "X.head()"
   ]
  },
  {
   "cell_type": "markdown",
   "id": "f6ec20af",
   "metadata": {},
   "source": [
    "# Train-Validation-Test Split"
   ]
  },
  {
   "cell_type": "code",
   "execution_count": 330,
   "id": "12c86274",
   "metadata": {},
   "outputs": [],
   "source": [
    "#For train-test split\n",
    "from sklearn.model_selection import train_test_split   #import train_test_split function\n",
    "\n",
    "X_train, X_test, y_train, y_test = train_test_split(X, y, test_size = 0.20)  # X-predictors, y-target\n",
    "\n",
    "#Train-Validation Split\n",
    "X_train, X_valid, y_train, y_valid = train_test_split(X_train, y_train, test_size = 0.10)"
   ]
  },
  {
   "cell_type": "markdown",
   "id": "34db5509",
   "metadata": {},
   "source": [
    "# Import Libraraies"
   ]
  },
  {
   "cell_type": "code",
   "execution_count": 331,
   "id": "fdb3af55",
   "metadata": {},
   "outputs": [],
   "source": [
    "#import LogisticRegression from Sklearn\n",
    "from sklearn.linear_model import LogisticRegression\n",
    "import sklearn.ensemble as ensemble #import ensemble for bagging\n",
    "from sklearn.ensemble import RandomForestClassifier #import randomforest Classifier\n",
    "from sklearn.ensemble import AdaBoostClassifier #import adaboostclassifer\n",
    "from sklearn.tree import DecisionTreeClassifier #import Decision tree\n",
    "#Area under ROC curve\n",
    "from sklearn.metrics import roc_auc_score\n",
    "from sklearn.metrics import accuracy_score,recall_score,f1_score,classification_report #import Scoring metric"
   ]
  },
  {
   "cell_type": "markdown",
   "id": "94b056f0",
   "metadata": {},
   "source": [
    "## MODEL1: BaseLine Model - using all variables on class imbalanced data"
   ]
  },
  {
   "cell_type": "markdown",
   "id": "a7546449",
   "metadata": {},
   "source": [
    "> **a) Logistic Regression**"
   ]
  },
  {
   "cell_type": "code",
   "execution_count": 332,
   "id": "28336fa5",
   "metadata": {},
   "outputs": [
    {
     "data": {
      "text/html": [
       "<div>\n",
       "<style scoped>\n",
       "    .dataframe tbody tr th:only-of-type {\n",
       "        vertical-align: middle;\n",
       "    }\n",
       "\n",
       "    .dataframe tbody tr th {\n",
       "        vertical-align: top;\n",
       "    }\n",
       "\n",
       "    .dataframe thead th {\n",
       "        text-align: right;\n",
       "    }\n",
       "</style>\n",
       "<table border=\"1\" class=\"dataframe\">\n",
       "  <thead>\n",
       "    <tr style=\"text-align: right;\">\n",
       "      <th></th>\n",
       "      <th>Logistic_Model_1</th>\n",
       "    </tr>\n",
       "  </thead>\n",
       "  <tbody>\n",
       "    <tr>\n",
       "      <th>Accuracy</th>\n",
       "      <td>0.728666</td>\n",
       "    </tr>\n",
       "    <tr>\n",
       "      <th>F1_score</th>\n",
       "      <td>0.000000</td>\n",
       "    </tr>\n",
       "    <tr>\n",
       "      <th>Recall</th>\n",
       "      <td>0.000000</td>\n",
       "    </tr>\n",
       "    <tr>\n",
       "      <th>AUROC</th>\n",
       "      <td>0.500000</td>\n",
       "    </tr>\n",
       "  </tbody>\n",
       "</table>\n",
       "</div>"
      ],
      "text/plain": [
       "          Logistic_Model_1\n",
       "Accuracy          0.728666\n",
       "F1_score          0.000000\n",
       "Recall            0.000000\n",
       "AUROC             0.500000"
      ]
     },
     "execution_count": 332,
     "metadata": {},
     "output_type": "execute_result"
    }
   ],
   "source": [
    "#Fitting Logistic Regression Model\n",
    "model = LogisticRegression()\n",
    "model.fit(X_train,y_train)\n",
    "\n",
    "#predictions on validation data\n",
    "pred_valid = model.predict(X_valid)   \n",
    "pred_valid\n",
    "\n",
    "#Metrics\n",
    "Accuracy = accuracy_score(y_valid, pred_valid)\n",
    "F1_score = f1_score(y_valid, pred_valid)\n",
    "Recall_score = recall_score(y_valid, pred_valid)\n",
    "AUROC = roc_auc_score(y_valid, pred_valid)\n",
    "\n",
    "lm1 = pd.DataFrame({'Logistic_Model_1': [Accuracy,F1_score,Recall_score,AUROC]}, \n",
    "                                index=['Accuracy','F1_score','Recall','AUROC'])\n",
    "\n",
    "#print(classification_report(y_valid,pred_valid))\n",
    "lm1"
   ]
  },
  {
   "cell_type": "markdown",
   "id": "93691a1e",
   "metadata": {},
   "source": [
    "> **b) Decision Tree**"
   ]
  },
  {
   "cell_type": "code",
   "execution_count": 333,
   "id": "76e5f138",
   "metadata": {},
   "outputs": [],
   "source": [
    "# #Fitting Decision tree Model\n",
    "# dt = DecisionTreeClassifier(max_depth=6)\n",
    "# dt.fit(X_train,y_train)\n",
    "# pred = dt.predict(X_valid)\n",
    "\n",
    "# #predictions on validation data\n",
    "# pred_valid = model.predict(X_valid)   \n",
    "# pred_valid\n",
    "\n",
    "# #Metrics\n",
    "# Accuracy = accuracy_score(y_valid, pred_valid)\n",
    "# F1_score = f1_score(y_valid, pred_valid)\n",
    "# Recall_score = recall_score(y_valid, pred_valid)\n",
    "# AUROC = roc_auc_score(y_valid, pred_valid)\n",
    "\n",
    "# dt1 = pd.DataFrame({'Decision_Tree_1': [Accuracy,F1_score,Recall_score,AUROC]}, \n",
    "#                                 index=['Accuracy','F1_score','Recall','AUROC'])\n",
    "\n",
    "# #print(classification_report(y_valid,pred_valid))\n",
    "# dt1"
   ]
  },
  {
   "cell_type": "markdown",
   "id": "a7885d82",
   "metadata": {},
   "source": [
    "> **c) Pruned Decision Tree**"
   ]
  },
  {
   "cell_type": "code",
   "execution_count": 334,
   "id": "57e2c8c5",
   "metadata": {},
   "outputs": [],
   "source": [
    "# #pruning-Finding alpha\n",
    "# path = dt.cost_complexity_pruning_path(X_train, y_train)\n",
    "# ccp_alphas = path.ccp_alphas\n",
    "# ccp_alphas\n",
    "\n",
    "# train_accuracy = {}         #Dictionary to store alpha and mae\n",
    "# validation_accuracy = {}\n",
    "\n",
    "# for i in ccp_alphas:\n",
    "#     dt = DecisionTreeClassifier(ccp_alpha=i)\n",
    "#     dt.fit(X_train,y_train)\n",
    "#     pred_valid = dt.predict(X_valid)\n",
    "#     pred_train = dt.predict(X_train)\n",
    "\n",
    "#     train_accuracy[i] = accuracy_score(y_train,pred_train)\n",
    "#     validation_accuracy[i] = accuracy_score(y_valid,pred_valid)\n",
    "\n",
    "# opt_ccp = max(validation_accuracy,key = validation_accuracy.get) #Optimum Cost Complexity Parameter\n",
    "# opt_ccp #optimal CCP_alphas "
   ]
  },
  {
   "cell_type": "code",
   "execution_count": 335,
   "id": "0551cd20",
   "metadata": {},
   "outputs": [],
   "source": [
    "# #Fitting pruned decision tree model using optimum alpha\n",
    "# prun_dt = DecisionTreeClassifier(ccp_alpha=opt_ccp) \n",
    "\n",
    "# prun_dt.fit(X_train,y_train)\n",
    "# pred = prun_dt.predict(X_valid)\n",
    "\n",
    "# #predictions on validation data\n",
    "# pred_valid = model.predict(X_valid)   \n",
    "# pred_valid\n",
    "\n",
    "# #Metrics\n",
    "# Accuracy = accuracy_score(y_valid, pred_valid)\n",
    "# F1_score = f1_score(y_valid, pred_valid)\n",
    "# Recall_score = recall_score(y_valid, pred_valid)\n",
    "# AUROC = roc_auc_score(y_valid, pred_valid)\n",
    "\n",
    "# pdt1 = pd.DataFrame({'Pruned_Decision_Tree_1': [Accuracy,F1_score,Recall_score,AUROC]}, \n",
    "#                                 index=['Accuracy','F1_score','Recall','AUROC'])\n",
    "\n",
    "# #print(classification_report(y_valid,pred_valid))\n",
    "# pdt1"
   ]
  },
  {
   "cell_type": "markdown",
   "id": "18d65290",
   "metadata": {},
   "source": [
    "> **d) Random Forest**"
   ]
  },
  {
   "cell_type": "code",
   "execution_count": 336,
   "id": "cb87e87d",
   "metadata": {},
   "outputs": [],
   "source": [
    "# #Fitting Random Forest Model\n",
    "# rf = RandomForestClassifier()\n",
    "# rf.fit(X_train, y_train) \n",
    "# pred = rf.predict(X_valid)\n",
    "\n",
    "# #predictions on validation data\n",
    "# pred_valid = model.predict(X_valid)   \n",
    "# pred_valid\n",
    "\n",
    "# #Metrics\n",
    "# Accuracy = accuracy_score(y_valid, pred_valid)\n",
    "# F1_score = f1_score(y_valid, pred_valid)\n",
    "# Recall_score = recall_score(y_valid, pred_valid)\n",
    "# AUROC = roc_auc_score(y_valid, pred_valid)\n",
    "\n",
    "# rf1 = pd.DataFrame({'Random_Forest_1': [Accuracy,F1_score,Recall_score,AUROC]}, \n",
    "#                                 index=['Accuracy','F1_score','Recall','AUROC'])\n",
    "\n",
    "# #print(classification_report(y_valid,pred_valid))\n",
    "# rf1"
   ]
  },
  {
   "cell_type": "markdown",
   "id": "dce3d218",
   "metadata": {},
   "source": [
    "> **e) Adaboost**"
   ]
  },
  {
   "cell_type": "code",
   "execution_count": 337,
   "id": "be7b8c2d",
   "metadata": {},
   "outputs": [],
   "source": [
    "# #Fitting Adaboost Model\n",
    "# ada_boost = AdaBoostClassifier()\n",
    "# ada_boost.fit(X_train, y_train) \n",
    "# pred = ada_boost.predict(X_valid)\n",
    "\n",
    "# #predictions on validation data\n",
    "# pred_valid = model.predict(X_valid)   \n",
    "# pred_valid\n",
    "\n",
    "# #Metrics\n",
    "# Accuracy = accuracy_score(y_valid, pred_valid)\n",
    "# F1_score = f1_score(y_valid, pred_valid)\n",
    "# Recall_score = recall_score(y_valid, pred_valid)\n",
    "# AUROC = roc_auc_score(y_valid, pred_valid)\n",
    "\n",
    "# adb1 = pd.DataFrame({'Adaboost_1': [Accuracy,F1_score,Recall_score,AUROC]}, \n",
    "#                                 index=['Accuracy','F1_score','Recall','AUROC'])\n",
    "\n",
    "# #print(classification_report(y_valid,pred_valid))\n",
    "# adb1"
   ]
  },
  {
   "cell_type": "code",
   "execution_count": null,
   "id": "217117b4",
   "metadata": {},
   "outputs": [],
   "source": []
  },
  {
   "cell_type": "code",
   "execution_count": null,
   "id": "1120e654",
   "metadata": {},
   "outputs": [],
   "source": []
  },
  {
   "cell_type": "markdown",
   "id": "0e956698",
   "metadata": {},
   "source": [
    "## MODEL2: Model on Class-Balanced data using SMOTE"
   ]
  },
  {
   "cell_type": "code",
   "execution_count": 338,
   "id": "19e61f53",
   "metadata": {},
   "outputs": [],
   "source": [
    "#pip install imblearn"
   ]
  },
  {
   "cell_type": "code",
   "execution_count": 339,
   "id": "8710e84a",
   "metadata": {},
   "outputs": [],
   "source": [
    "#import SMOTE module from imblearn library\n",
    "#pip install imblearn #(if you don't have imblearn in your system)\n",
    "from imblearn.over_sampling import SMOTE\n",
    "sm = SMOTE(random_state = 2)\n",
    "X_train_res, y_train_res = sm.fit_resample(X_train, y_train.ravel())"
   ]
  },
  {
   "cell_type": "code",
   "execution_count": 340,
   "id": "2715a62c",
   "metadata": {},
   "outputs": [
    {
     "data": {
      "text/plain": [
       "0    45974\n",
       "1    18041\n",
       "Name: Loan Status, dtype: int64"
      ]
     },
     "execution_count": 340,
     "metadata": {},
     "output_type": "execute_result"
    }
   ],
   "source": [
    "y_train.value_counts() #Class imbalanced data"
   ]
  },
  {
   "cell_type": "code",
   "execution_count": 341,
   "id": "a6928637",
   "metadata": {},
   "outputs": [],
   "source": [
    "y_train = pd.DataFrame(y_train_res)\n",
    "X_train = pd.DataFrame(X_train_res)"
   ]
  },
  {
   "cell_type": "code",
   "execution_count": 342,
   "id": "5a47620a",
   "metadata": {},
   "outputs": [
    {
     "data": {
      "text/plain": [
       "0    45974\n",
       "1    45974\n",
       "dtype: int64"
      ]
     },
     "execution_count": 342,
     "metadata": {},
     "output_type": "execute_result"
    }
   ],
   "source": [
    "y_train.value_counts() #Oversampling using smote balanced the class"
   ]
  },
  {
   "cell_type": "markdown",
   "id": "9ce5f699",
   "metadata": {},
   "source": [
    "### Using Information Value to Choose Variables"
   ]
  },
  {
   "cell_type": "code",
   "execution_count": 343,
   "id": "5115931c",
   "metadata": {},
   "outputs": [],
   "source": [
    "def iv_woe(data, target, bins=10, show_woe=False):\n",
    "    \n",
    "    #Empty Dataframe\n",
    "    newDF,woeDF = pd.DataFrame(), pd.DataFrame()\n",
    "    \n",
    "    #Extract Column Names\n",
    "    cols = data.columns\n",
    "    \n",
    "    #Run WOE and IV on all the independent variables\n",
    "    for ivars in cols[~cols.isin([target])]:\n",
    "        if (data[ivars].dtype.kind in 'bifc') and (len(np.unique(data[ivars]))>10):\n",
    "            binned_x = pd.qcut(data[ivars], bins,  duplicates='drop')\n",
    "            d0 = pd.DataFrame({'x': binned_x, 'y': data[target]})\n",
    "        else:\n",
    "            d0 = pd.DataFrame({'x': data[ivars], 'y': data[target]})\n",
    "\n",
    "        \n",
    "        # Calculate the number of events in each group (bin)\n",
    "        d = d0.groupby(\"x\", as_index=False).agg({\"y\": [\"count\", \"sum\"]})\n",
    "        d.columns = ['Cutoff', 'N', 'Events']\n",
    "        \n",
    "        # Calculate % of events in each group.\n",
    "        d['% of Events'] = np.maximum(d['Events'], 0.5) / d['Events'].sum()\n",
    "\n",
    "        # Calculate the non events in each group.\n",
    "        d['Non-Events'] = d['N'] - d['Events']\n",
    "        # Calculate % of non events in each group.\n",
    "        d['% of Non-Events'] = np.maximum(d['Non-Events'], 0.5) / d['Non-Events'].sum()\n",
    "\n",
    "        # Calculate WOE by taking natural log of division of % of non-events and % of events\n",
    "        d['WoE'] = np.log(d['% of Events']/d['% of Non-Events'])\n",
    "        d['IV'] = d['WoE'] * (d['% of Events'] - d['% of Non-Events'])\n",
    "        d.insert(loc=0, column='Variable', value=ivars)\n",
    "        print(\"Information value of \" + ivars + \" is \" + str(round(d['IV'].sum(),6)))\n",
    "        temp =pd.DataFrame({\"Variable\" : [ivars], \"IV\" : [d['IV'].sum()]}, columns = [\"Variable\", \"IV\"])\n",
    "        newDF=pd.concat([newDF,temp], axis=0)\n",
    "        woeDF=pd.concat([woeDF,d], axis=0)\n",
    "\n",
    "        #Show WOE Table\n",
    "        if show_woe == True:\n",
    "            print(d)\n",
    "    return newDF, woeDF"
   ]
  },
  {
   "cell_type": "code",
   "execution_count": 344,
   "id": "c66b18b7",
   "metadata": {
    "scrolled": false
   },
   "outputs": [
    {
     "name": "stdout",
     "output_type": "stream",
     "text": [
      "Information value of Current Loan Amount is 0.023709\n",
      "Information value of Credit Score is 0.22192\n",
      "Information value of Annual Income is 0.031996\n",
      "Information value of Monthly Debt is 0.003314\n",
      "Information value of Years of Credit History is 0.012882\n",
      "Information value of Months since last delinquent is 0.001596\n",
      "Information value of Number of Open Accounts is 0.001901\n",
      "Information value of Number of Credit Problems is 0.000516\n",
      "Information value of Current Credit Balance is 0.003387\n",
      "Information value of Maximum Open Credit is 0.024533\n",
      "Information value of Bankruptcies is 6.4e-05\n",
      "Information value of Tax Liens is 0.0\n",
      "Information value of Term_Long Term is 0.143059\n",
      "Information value of Term_Short Term is 0.143059\n",
      "Information value of Years in current job_1 year is 6.1e-05\n",
      "Information value of Years in current job_10+ years is 2e-06\n",
      "Information value of Years in current job_2 years is 0.000357\n",
      "Information value of Years in current job_3 years is 0.000338\n",
      "Information value of Years in current job_4 years is 0.0\n",
      "Information value of Years in current job_5 years is 1.3e-05\n",
      "Information value of Years in current job_6 years is 2.9e-05\n",
      "Information value of Years in current job_7 years is 7.3e-05\n",
      "Information value of Years in current job_8 years is 2.2e-05\n",
      "Information value of Years in current job_9 years is 0.000234\n",
      "Information value of Years in current job_< 1 year is 4.1e-05\n",
      "Information value of Home Ownership_Home Mortgage is 0.018728\n",
      "Information value of Home Ownership_Own Home is 9.5e-05\n",
      "Information value of Home Ownership_Rent is 0.017467\n",
      "Information value of Purpose_Business Loan is 0.004681\n",
      "Information value of Purpose_Buy House is 0.0\n",
      "Information value of Purpose_Buy a Car is 0.002844\n",
      "Information value of Purpose_Debt Consolidation is 1.4e-05\n",
      "Information value of Purpose_Educational Expenses is 8.1e-05\n",
      "Information value of Purpose_Home Improvements is 0.001832\n",
      "Information value of Purpose_Medical Bills is 0.000458\n",
      "Information value of Purpose_Take a Trip is 1.9e-05\n",
      "Information value of Purpose_major_purchase is 2e-06\n",
      "Information value of Purpose_moving is 0.000388\n",
      "Information value of Purpose_other is 6.1e-05\n",
      "Information value of Purpose_renewable_energy is 5.7e-05\n",
      "Information value of Purpose_small_business is 0.003521\n",
      "Information value of Purpose_vacation is 0.000143\n",
      "Information value of Purpose_wedding is 1.2e-05\n"
     ]
    }
   ],
   "source": [
    "iv = iv_woe(df,\"Loan Status\",bins=10,show_woe=False)"
   ]
  },
  {
   "cell_type": "code",
   "execution_count": null,
   "id": "8628d176",
   "metadata": {},
   "outputs": [],
   "source": []
  }
 ],
 "metadata": {
  "kernelspec": {
   "display_name": "Python 3 (ipykernel)",
   "language": "python",
   "name": "python3"
  },
  "language_info": {
   "codemirror_mode": {
    "name": "ipython",
    "version": 3
   },
   "file_extension": ".py",
   "mimetype": "text/x-python",
   "name": "python",
   "nbconvert_exporter": "python",
   "pygments_lexer": "ipython3",
   "version": "3.9.12"
  }
 },
 "nbformat": 4,
 "nbformat_minor": 5
}
